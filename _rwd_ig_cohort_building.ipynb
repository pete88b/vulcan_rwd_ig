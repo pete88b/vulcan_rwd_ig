{
 "cells": [
  {
   "cell_type": "markdown",
   "id": "1aafcdaa",
   "metadata": {},
   "source": [
    "# Cohort Building: Acute Coronary Syndrome Study\n",
    "\n",
    "The goal of this notebook is to show how we can build a cohort by running [queries](http://build.fhir.org/ig/HL7/vulcan-rwd/acs.html) using data created and hosted by [InterSystems](https://www.intersystems.com).\n",
    "\n",
    "We'll also show how we can extract an [IPS](https://hl7.org/fhir/uv/ips/) like bundle of data for patients that meet the inclusion criteria.\n",
    "\n",
    "See:\n",
    "- Inclusion critera based on [REWINDER](https://clinicaltrials.gov/ct2/show/NCT02190123)\n",
    "- If you'd like to try other FHIR servers, the [public test servers wiki](https://confluence.hl7.org/display/FHIR/Public+Test+Servers) might help\n",
    "- [rough notes we worked on during the connectathon](https://github.com/pete88b/vulcan_rwd_ig/blob/main/_getting_started.ipynb)\n",
    "\n",
    "[![Open In Colab](https://colab.research.google.com/assets/colab-badge.svg)](https://colab.research.google.com/github/pete88b/vulcan_rwd_ig/blob/main/_rwd_ig_cohort_building.ipynb)"
   ]
  },
  {
   "cell_type": "markdown",
   "id": "3109b78b",
   "metadata": {},
   "source": [
    "# Utils\n",
    "\n",
    "The first part of this notebook defines classes and functions that hopefully make the cohort building code easy to read. Feel free to [skip to the next section](#Cohort-building)."
   ]
  },
  {
   "cell_type": "code",
   "execution_count": null,
   "id": "3cbc72b4",
   "metadata": {},
   "outputs": [],
   "source": [
    "import requests, json, datetime, collections, typing\n",
    "from IPython import display\n",
    "from pathlib import Path"
   ]
  },
  {
   "cell_type": "code",
   "execution_count": null,
   "id": "a9794d52",
   "metadata": {},
   "outputs": [],
   "source": [
    "class DotPathDict(collections.UserDict):\n",
    "    \"Wraps a `dict` to allow simple dot notation search of nested `dict`s\"\n",
    "    \n",
    "    def __getitem__(self, dot_paths):\n",
    "        \"Allows dot search via subscript\"\n",
    "        for dot_path in dot_paths.split(' OR '):\n",
    "            data, found, path_parts = self.data, True, []\n",
    "            for path_part in dot_path.split('.'):\n",
    "                if not isinstance(data, (dict, DotPathDict)):\n",
    "                    path_parts = '.'.join(path_parts)\n",
    "                    raise Exception(f'Expected \"{path_parts}\" to be a `dict` but found {type(data)} {data}')\n",
    "                path_parts.append(path_part)\n",
    "                if not path_part in data:\n",
    "                    found = False\n",
    "                    break # try the next dot_path, if we have one\n",
    "                data = data[path_part]\n",
    "                if isinstance(data, list) and data:\n",
    "                    data = data[0] # TODO: is it OK to just pull the 1st item from the list?\n",
    "            if found:\n",
    "                return DotPathDict(data) if isinstance(data, dict) else data"
   ]
  },
  {
   "cell_type": "code",
   "execution_count": null,
   "id": "0fc67fca",
   "metadata": {},
   "outputs": [],
   "source": [
    "test_resource = DotPathDict({\n",
    "    'resource': {\n",
    "        'resourceType': 'TestResource', \n",
    "        'meta': {\n",
    "            'versionId': '1', \n",
    "            'source': '#dswfkjei2k3'\n",
    "        }}})"
   ]
  },
  {
   "cell_type": "code",
   "execution_count": null,
   "id": "2d57d870",
   "metadata": {},
   "outputs": [
    {
     "data": {
      "text/plain": [
       "('TestResource', None)"
      ]
     },
     "execution_count": null,
     "metadata": {},
     "output_type": "execute_result"
    }
   ],
   "source": [
    "test_resource['resource.resourceType'], test_resource['resource.id']"
   ]
  },
  {
   "cell_type": "code",
   "execution_count": null,
   "id": "c9beef3c",
   "metadata": {},
   "outputs": [
    {
     "data": {
      "text/plain": [
       "'TestResource'"
      ]
     },
     "execution_count": null,
     "metadata": {},
     "output_type": "execute_result"
    }
   ],
   "source": [
    "test_resource['resource.id OR resource.resourceType']"
   ]
  },
  {
   "cell_type": "code",
   "execution_count": null,
   "id": "afca4b13",
   "metadata": {},
   "outputs": [
    {
     "data": {
      "text/plain": [
       "'#dswfkjei2k3'"
      ]
     },
     "execution_count": null,
     "metadata": {},
     "output_type": "execute_result"
    }
   ],
   "source": [
    "test_resource_meta = test_resource['resource.meta']\n",
    "test_resource_meta['source']"
   ]
  },
  {
   "cell_type": "code",
   "execution_count": null,
   "id": "2ec061ea",
   "metadata": {},
   "outputs": [],
   "source": [
    "class FhirClient:\n",
    "    \"Helps to GET FHIR resources\"\n",
    "    def __init__(self, api_base:str, x_api_key:str=None):\n",
    "        self.api_base = api_base\n",
    "        self.request_headers = {}\n",
    "        if x_api_key is not None:\n",
    "            self.request_headers['x-api-key'] = x_api_key\n",
    "        self.default_params = {}\n",
    "    \n",
    "    def get_as_response(self, resource_type:str, params:dict=None) -> requests.Response:\n",
    "        \"GET FHIR resources of `resource_type` and return python `Reponse`\"\n",
    "        url = f'{self.api_base}/{resource_type}'\n",
    "        params = self.default_params if params is None else params\n",
    "        response = requests.get(url, params, headers=self.request_headers)\n",
    "        print('GET', response.url, 'Status', response.status_code)\n",
    "        return response\n",
    "    \n",
    "    def get_as_raw_json(self, resource_type:str, params:dict=None) -> dict: # TODO: rename to get and wrap results\n",
    "        \"GET FHIR resources of `resource_type` in JSON format\"\n",
    "        return self.get_as_response(resource_type, params).json()\n",
    "    \n",
    "    def get_next_as_raw_json(self, json_response:dict) -> dict:\n",
    "        \"GET the next set of results\"\n",
    "        for link in json_response['link']:\n",
    "            if link['relation'] == 'next':\n",
    "                url = link['url']\n",
    "                response = requests.get(url, headers=self.request_headers)\n",
    "                print('GET', url, 'Status', response.status_code)\n",
    "                return response.json()\n",
    "\n",
    "    def get_all_entries(self, resource_type:str, params:dict=None, page_limit:int=100) -> typing.List[DotPathDict]:\n",
    "        \"Return a list of entries of `resource_type` in JSON format while taking care of bundle pageing\"\n",
    "        page_count, result = 0, []\n",
    "        bundle = self.get_as_raw_json(resource_type, params)\n",
    "        total = bundle.get('total', 'Unknown')\n",
    "        if total == 0:\n",
    "            print('Returning', len(result), 'entries')\n",
    "            return result\n",
    "        while bundle is not None:\n",
    "            if bundle.get('resourceType', None) != 'Bundle':\n",
    "                raise Exception(f'Expected a bundle but found', bundle) # might be {'resourceType': 'OperationOutcome' ... \n",
    "            result.extend(bundle['entry']) # todo check for OperationOutcome etc in `entry`\n",
    "            page_count += 1\n",
    "            if page_count > page_limit:\n",
    "                print('Stopping early. Will return', len(result), 'entries out of total', total)\n",
    "                break\n",
    "            bundle = client.get_next_as_raw_json(bundle)\n",
    "        def _expected_resource_type(resource):\n",
    "            actual_resource_type = resource.get('resource', {}).get('resourceType', None)\n",
    "            if actual_resource_type != resource_type:\n",
    "                print('Removing resource. Expected', resource_type, 'but found', actual_resource_type)\n",
    "                return False\n",
    "            return True\n",
    "        result = [r for r in result if _expected_resource_type(r)]\n",
    "        result = [DotPathDict(r) for r in result]\n",
    "        print('Returning', len(result), 'entries')\n",
    "        return result\n",
    "    \n",
    "    def get_all_resources(self, resource_type:str, params:dict=None, page_limit:int=100):\n",
    "        \"Return a list of resources of `resource_type` in JSON format\"\n",
    "        result = self.get_all_entries(resource_type, params, page_limit)\n",
    "        result = [r['resource'] for r in result]\n",
    "        return result\n",
    "    \n",
    "    def get_by_reference(self, reference:str):\n",
    "        \"Return a resource read from a FHIR server by reference, as a list containg a single bundle entry\"\n",
    "        if reference.startswith(self.api_base):\n",
    "            reference = reference[len(self.api_base):].strip('/')\n",
    "        if reference.startswith('http'):\n",
    "            print(f'WARNING: Found reference {reference} that does not start with {api_base}')\n",
    "            return []\n",
    "        resource_type, id = reference.split('/')\n",
    "        single_resource = self.get_as_raw_json(resource_type, id)\n",
    "        return [dict(fullUrl = f'{self.api_base}/{resource_type}/{id}', resource = single_resource)]"
   ]
  },
  {
   "cell_type": "code",
   "execution_count": null,
   "id": "6145c73e",
   "metadata": {},
   "outputs": [
    {
     "name": "stdout",
     "output_type": "stream",
     "text": [
      "GET https://ips.health/fhir/Patient Status 200\n",
      "GET https://ips.health/fhir?_getpages=14c3fb2a-591e-423f-9e9f-96846bf061a6&_getpagesoffset=20&_count=20&_pretty=true&_bundletype=searchset Status 200\n",
      "GET https://ips.health/fhir?_getpages=14c3fb2a-591e-423f-9e9f-96846bf061a6&_getpagesoffset=40&_count=20&_pretty=true&_bundletype=searchset Status 200\n",
      "Stopping early. Will return 60 entries out of total 189\n",
      "Returning 60 entries\n"
     ]
    },
    {
     "data": {
      "text/html": [
       "<div xmlns=\"http://www.w3.org/1999/xhtml\"><p><b>Generated Narrative</b></p><div style=\"display: inline-block; background-color: #d9e0e7; padding: 6px; margin: 4px; border: 1px solid #8da1b4; border-radius: 5px; line-height: 60%\"><p style=\"margin-bottom: 0px\">Resource &quot;2b90dd2b-2dab-4c75-9bb9-a355e07401e8&quot; </p></div><p><b>identifier</b>: id: 574687583</p><p><b>active</b>: true</p><p><b>name</b>: Martha DeLarosa </p><p><b>telecom</b>: <a href=\"tel:+31788700800\">+31788700800</a></p><p><b>gender</b>: female</p><p><b>birthDate</b>: 1972-05-01</p><p><b>address</b>: Laan Van Europa 1600 Dordrecht 3317 DB NL </p><h3>Contacts</h3><table class=\"grid\"><tr><td>-</td><td><b>Relationship</b></td><td><b>Name</b></td><td><b>Telecom</b></td><td><b>Address</b></td></tr><tr><td>*</td><td>mother <span style=\"background: LightGoldenRodYellow; margin: 4px; border: 1px solid khaki\"> (<a href=\"http://terminology.hl7.org/3.0.0/CodeSystem-v3-RoleCode.html\">RoleCode</a>#MTH)</span></td><td>Martha Mum </td><td><a href=\"tel:+33-555-20036\">+33-555-20036</a></td><td>Promenade des Anglais 111 Lyon 69001 FR </td></tr></table></div>"
      ],
      "text/plain": [
       "<IPython.core.display.HTML object>"
      ]
     },
     "execution_count": null,
     "metadata": {},
     "output_type": "execute_result"
    }
   ],
   "source": [
    "client = FhirClient('https://ips.health/fhir')\n",
    "patient_resources = client.get_all_resources('Patient', page_limit=2)\n",
    "patient_resource = patient_resources[0]    # grab a patient from the list\n",
    "display.HTML(patient_resource['text.div']) # display its generated narrative"
   ]
  },
  {
   "cell_type": "code",
   "execution_count": null,
   "id": "5c229908",
   "metadata": {},
   "outputs": [],
   "source": [
    "def extract_patient_ids(resources):\n",
    "    \"Return a list relative references of all patients found in a `resources`\"\n",
    "    # Note: no checks are made that the bundle contains resources of the same type etc\n",
    "    result = []\n",
    "    for resource in resources:\n",
    "        if resource['resourceType'] == 'OperationOutcome':\n",
    "            continue # e.g. \"Unrecognized parameter 'dischargeDisposition'. exp\"\n",
    "        if resource['resourceType'] == 'Patient':\n",
    "            result.append('Patient/' + resource['id'])\n",
    "        else:\n",
    "            result.append(resource['subject']['reference'])\n",
    "    return result"
   ]
  },
  {
   "cell_type": "code",
   "execution_count": null,
   "id": "84b9c6da",
   "metadata": {},
   "outputs": [],
   "source": [
    "def intersection_patient_ids(*resource_lists):\n",
    "    \"Returns a list of references for all patients found in all resource lists\"\n",
    "    all_patient_ids = []\n",
    "    for resource_list in resource_lists:\n",
    "        all_patient_ids.append(extract_patient_ids(resource_list))\n",
    "    all_patient_ids = [set(ids) for ids in all_patient_ids]\n",
    "    result = all_patient_ids[0]\n",
    "    for ids in all_patient_ids[1:]:\n",
    "        result = result & ids\n",
    "    return list(result)"
   ]
  },
  {
   "cell_type": "code",
   "execution_count": null,
   "id": "dadc1341",
   "metadata": {},
   "outputs": [],
   "source": [
    "def extract_resources_by_patient_id(resource_list, patient_reference):\n",
    "    \"Return a list of resources pulled from `resource_list` that belong to `patient_reference`\"\n",
    "    result = []\n",
    "    for resource in resource_list:\n",
    "        if resource['resourceType'] == 'OperationOutcome':\n",
    "            continue # e.g. \"Unrecognized parameter 'dischargeDisposition'. exp\"\n",
    "        if resource['resourceType'] == 'Patient':\n",
    "            if resource['id'] == patient_reference.split('/')[1]:\n",
    "                result.append(resource)\n",
    "        else:\n",
    "            if resource['subject']['reference'] == patient_reference:\n",
    "                result.append(resource)\n",
    "    return result"
   ]
  },
  {
   "cell_type": "markdown",
   "id": "8eee3c5e",
   "metadata": {},
   "source": [
    "<a name=\"Cohort-building\" id=\"Cohort-building\"></a>\n",
    "# Cohort building\n",
    "\n",
    "The patients for this study would have the following criteria: \n",
    "- female or male aged 18 years or older\n",
    "- have a Encounter record representing a hospitalization with an initial diagnosis of Acute Coronary Syndrome where the patient was discharged alive some time between September 2020 to September 2021 :\n",
    "    - ACS is represented for this scenario one of these ICD 10 codes (I21 Acute myocardial infarction; I20-I25 Ischemic heart diseases; I24 Other acute ischemic heart diseases)\n",
    "    - the Encounter diagnosis will point to a Condition with one of those codes\n",
    "    - the Encounter will have hospitalization information included\n",
    "    - the Encounter hospitalization discharge disposition code is not ‘exp’ (expired)\n",
    "- have been given one of ticagrelor, prasugrel or clopidogrel after the date of diagnosis of ACS (as represented by the Condition or Encounter record found above)\n",
    "\n",
    "| Drug Name    | Brand Name  | RxNorm CUI            |\n",
    "|--------------|-------------|-----------------------|\n",
    "| ticagrelor   | brilinta    | 1116632               |\n",
    "| prasurgrel   | effient     | 613391                |\n",
    "| clopidogrel  | plavix      | 32968, 687667, 153658 |\n",
    "\n",
    "These criteria would be represented by the following queries:\n",
    "\n",
    "```\n",
    "/Patient?birthdate=le2002-09-01&gender=male,female\n",
    "\n",
    "/Encounter?reason-code:below=I20,I21,I22,I23,I24,I25&date=ge2020-09-01&date=le2021-09-31&status=finished&dischargeDisposition:not=exp\n",
    "\n",
    "/MedicationAdministration?status=completed&effective-time=ge[Encounter-Start-Date]&\n",
    "  code=http://www.nlm.nih.gov/research/umls/rxnorm|1116632,http://www.nlm.nih.gov/research/umls/rxnorm|613391,http://www.nlm.nih.gov/research/umls/rxnorm|32968,http://www.nlm.nih.gov/research/umls/rxnorm|687667,http://www.nlm.nih.gov/research/umls/rxnorm|153658\n",
    "```\n",
    "\n",
    "Please note: We subtract 6 years from all dates in the inclusion criteria - just to match the data we have"
   ]
  },
  {
   "cell_type": "markdown",
   "id": "38edd584",
   "metadata": {},
   "source": [
    "# Create a client to get data from a FHIR server\n",
    "\n",
    "We worked with the following FHIR servers during the connectathon;\n",
    "- RWD https://fhir.ggyxlz8lbozu.workload-prod-fhiraas.isccloud.io (preferred)\n",
    "    - Contains `Encounter`s with `dischargeDisposition`\n",
    "    - `dischargeDisposition` search parameter enabled\n",
    "        Note: the `not` modifier is not supported - so `dischargeDisposition:not=exp` won't work\n",
    "- PRD https://fhir.rykpjsvemdtg.workload-prod-fhiraas.isccloud.io"
   ]
  },
  {
   "cell_type": "code",
   "execution_count": null,
   "id": "70b59294",
   "metadata": {},
   "outputs": [],
   "source": [
    "client = FhirClient('https://fhir.ggyxlz8lbozu.workload-prod-fhiraas.isccloud.io')"
   ]
  },
  {
   "cell_type": "markdown",
   "id": "0d225a1b",
   "metadata": {},
   "source": [
    "feel free to change the FHIR server URL &uarr;"
   ]
  },
  {
   "cell_type": "markdown",
   "id": "47eab93e",
   "metadata": {},
   "source": [
    "# Get patient, encounter and medication administration resources"
   ]
  },
  {
   "cell_type": "code",
   "execution_count": null,
   "id": "18f34abc",
   "metadata": {},
   "outputs": [
    {
     "name": "stdout",
     "output_type": "stream",
     "text": [
      "GET https://fhir.ggyxlz8lbozu.workload-prod-fhiraas.isccloud.io/Patient?birthdate=le1996-09-01&gender=male%2Cfemale Status 200\n",
      "Returning 29 entries\n"
     ]
    }
   ],
   "source": [
    "patient_resources = client.get_all_resources('Patient', {\n",
    "    'birthdate': 'le1996-09-01',\n",
    "    'gender': 'male,female'\n",
    "})"
   ]
  },
  {
   "cell_type": "code",
   "execution_count": null,
   "id": "6378051b",
   "metadata": {},
   "outputs": [
    {
     "name": "stdout",
     "output_type": "stream",
     "text": [
      "GET https://fhir.ggyxlz8lbozu.workload-prod-fhiraas.isccloud.io/Encounter?reason-code=I20%2CI21%2CI22%2CI23%2CI24%2CI25&date=ge2014-09-01&date=le2015-09-30&status=finished Status 200\n",
      "Returning 63 entries\n"
     ]
    }
   ],
   "source": [
    "encounter_resources = client.get_all_resources('Encounter', {\n",
    "        'reason-code': 'I20,I21,I22,I23,I24,I25', # TODO: not using below for now 'reason-code:below': 'I20,I21,I22,I23,I24,I25',\n",
    "        'date': ['ge2014-09-01', 'le2015-09-30'], # TODO: Not sure this is filtering as we want ...\n",
    "        'status': 'finished',\n",
    "#         'dischargeDisposition:not':'exp' # TODO: Do this client side for now\n",
    "})"
   ]
  },
  {
   "cell_type": "code",
   "execution_count": null,
   "id": "a5fec924",
   "metadata": {},
   "outputs": [
    {
     "name": "stdout",
     "output_type": "stream",
     "text": [
      "GET https://fhir.ggyxlz8lbozu.workload-prod-fhiraas.isccloud.io/MedicationAdministration?status=completed&code=http%3A%2F%2Fwww.nlm.nih.gov%2Fresearch%2Fumls%2Frxnorm%7C1116632%2Chttp%3A%2F%2Fwww.nlm.nih.gov%2Fresearch%2Fumls%2Frxnorm%7C613391%2Chttp%3A%2F%2Fwww.nlm.nih.gov%2Fresearch%2Fumls%2Frxnorm%7C32968%2Chttp%3A%2F%2Fwww.nlm.nih.gov%2Fresearch%2Fumls%2Frxnorm%7C687667%2Chttp%3A%2F%2Fwww.nlm.nih.gov%2Fresearch%2Fumls%2Frxnorm%7C153658 Status 200\n",
      "GET https://fhir.ggyxlz8lbozu.workload-prod-fhiraas.isccloud.io/MedicationAdministration?page=2&queryId=88c4d5e8-3d86-11ed-a787-02f861e3f62a Status 200\n",
      "GET https://fhir.ggyxlz8lbozu.workload-prod-fhiraas.isccloud.io/MedicationAdministration?page=3&queryId=88c4d5e8-3d86-11ed-a787-02f861e3f62a Status 200\n",
      "GET https://fhir.ggyxlz8lbozu.workload-prod-fhiraas.isccloud.io/MedicationAdministration?page=4&queryId=88c4d5e8-3d86-11ed-a787-02f861e3f62a Status 200\n",
      "GET https://fhir.ggyxlz8lbozu.workload-prod-fhiraas.isccloud.io/MedicationAdministration?page=5&queryId=88c4d5e8-3d86-11ed-a787-02f861e3f62a Status 200\n",
      "GET https://fhir.ggyxlz8lbozu.workload-prod-fhiraas.isccloud.io/MedicationAdministration?page=6&queryId=88c4d5e8-3d86-11ed-a787-02f861e3f62a Status 200\n",
      "GET https://fhir.ggyxlz8lbozu.workload-prod-fhiraas.isccloud.io/MedicationAdministration?page=7&queryId=88c4d5e8-3d86-11ed-a787-02f861e3f62a Status 200\n",
      "GET https://fhir.ggyxlz8lbozu.workload-prod-fhiraas.isccloud.io/MedicationAdministration?page=8&queryId=88c4d5e8-3d86-11ed-a787-02f861e3f62a Status 200\n",
      "GET https://fhir.ggyxlz8lbozu.workload-prod-fhiraas.isccloud.io/MedicationAdministration?page=9&queryId=88c4d5e8-3d86-11ed-a787-02f861e3f62a Status 200\n",
      "GET https://fhir.ggyxlz8lbozu.workload-prod-fhiraas.isccloud.io/MedicationAdministration?page=10&queryId=88c4d5e8-3d86-11ed-a787-02f861e3f62a Status 200\n",
      "GET https://fhir.ggyxlz8lbozu.workload-prod-fhiraas.isccloud.io/MedicationAdministration?page=11&queryId=88c4d5e8-3d86-11ed-a787-02f861e3f62a Status 200\n",
      "Returning 1038 entries\n"
     ]
    }
   ],
   "source": [
    "medication_administration_resources = client.get_all_resources('MedicationAdministration', {\n",
    "        'status': 'completed',\n",
    "#         'effective-time': 'ge[Encounter-Start-Date]', # TODO: don't think this is possible via FHIR query\n",
    "        'code': 'http://www.nlm.nih.gov/research/umls/rxnorm|1116632,'\n",
    "                'http://www.nlm.nih.gov/research/umls/rxnorm|613391,'\n",
    "                'http://www.nlm.nih.gov/research/umls/rxnorm|32968,'\n",
    "                'http://www.nlm.nih.gov/research/umls/rxnorm|687667,'\n",
    "                'http://www.nlm.nih.gov/research/umls/rxnorm|153658'})"
   ]
  },
  {
   "cell_type": "markdown",
   "id": "785a3f1b",
   "metadata": {},
   "source": [
    "## Find which patients have all 3 resources"
   ]
  },
  {
   "cell_type": "code",
   "execution_count": null,
   "id": "4f2ec6dc",
   "metadata": {},
   "outputs": [
    {
     "data": {
      "text/plain": [
       "['Patient/1bbc2bc53ed277ac09507e6893743410',\n",
       " 'Patient/00d7dde9ae58163184c3836f01deff61',\n",
       " 'Patient/f7f2e775f7ae3f7a095146cb4deaa497',\n",
       " 'Patient/6863ac983b0b55455da78f1fdd1288ff',\n",
       " 'Patient/a3f4f0ffc5c2fb1a4708452a485d1442',\n",
       " 'Patient/ff7c22942a1e16167f1b9c44f12aae05',\n",
       " 'Patient/ceba63b6dcbda783668cf3efeea1d3dd',\n",
       " 'Patient/51ff4d27ccf78c1d2ff6438175b541c7',\n",
       " 'Patient/897dfe86f0b710793927d8034e568ee4',\n",
       " 'Patient/e4c9f85f8b2b9a85b32f7d9a67ea1046']"
      ]
     },
     "execution_count": null,
     "metadata": {},
     "output_type": "execute_result"
    }
   ],
   "source": [
    "patient_ids = intersection_patient_ids(patient_resources, encounter_resources, medication_administration_resources)\n",
    "patient_ids"
   ]
  },
  {
   "cell_type": "code",
   "execution_count": null,
   "id": "2b4caf01",
   "metadata": {},
   "outputs": [],
   "source": [
    "def get_encounter_date(resource_list, patient_id):\n",
    "    \"Returns the earliest encounter date for a patient\"\n",
    "    encounters = extract_resources_by_patient_id(resource_list, patient_id)\n",
    "    dates = []\n",
    "    for encounter in encounters:\n",
    "        dates.append(datetime.date.fromisoformat(encounter['period.start']))\n",
    "    return min(dates)"
   ]
  },
  {
   "cell_type": "code",
   "execution_count": null,
   "id": "b250f839",
   "metadata": {},
   "outputs": [
    {
     "data": {
      "text/plain": [
       "datetime.date(2014, 3, 25)"
      ]
     },
     "execution_count": null,
     "metadata": {},
     "output_type": "execute_result"
    }
   ],
   "source": [
    "get_encounter_date(encounter_resources, 'Patient/ff7c22942a1e16167f1b9c44f12aae05')"
   ]
  },
  {
   "cell_type": "markdown",
   "id": "29aa7744",
   "metadata": {},
   "source": [
    "# Apply \"after the date of diagnosis of ACS\" criteria to medication bundle\n",
    "\n",
    "Encounter start date is the date of diagnosis of ACS - which we calculate with `get_encounter_date`.\n",
    "\n",
    "Quick EDA &darr; shows us that all patients have a medication that meets this criteria"
   ]
  },
  {
   "cell_type": "code",
   "execution_count": null,
   "id": "39ebf005",
   "metadata": {},
   "outputs": [
    {
     "name": "stdout",
     "output_type": "stream",
     "text": [
      "Patient/1bbc2bc53ed277ac09507e6893743410 2013-01-22\n",
      "This patient would be included 2013-07-11 is after 2013-01-22\n",
      "Patient/00d7dde9ae58163184c3836f01deff61 2013-07-31\n",
      "This patient would be included 2013-07-31 is after 2013-07-31\n",
      "Patient/f7f2e775f7ae3f7a095146cb4deaa497 2012-07-22\n",
      "This patient would be included 2012-07-22 is after 2012-07-22\n",
      "Patient/6863ac983b0b55455da78f1fdd1288ff 2012-12-13\n",
      "This patient would be included 2013-07-11 is after 2012-12-13\n",
      "Patient/a3f4f0ffc5c2fb1a4708452a485d1442 2014-06-29\n",
      "This patient would be included 2014-07-01 is after 2014-06-29\n",
      "Patient/ff7c22942a1e16167f1b9c44f12aae05 2014-03-25\n",
      "This patient would be included 2014-07-01 is after 2014-03-25\n",
      "Patient/ceba63b6dcbda783668cf3efeea1d3dd 2013-12-23\n",
      "This patient would be included 2014-01-07 is after 2013-12-23\n",
      "Patient/51ff4d27ccf78c1d2ff6438175b541c7 2012-09-05\n",
      "This patient would be included 2013-07-11 is after 2012-09-05\n",
      "Patient/897dfe86f0b710793927d8034e568ee4 2013-12-26\n",
      "This patient would be included 2014-01-07 is after 2013-12-26\n",
      "Patient/e4c9f85f8b2b9a85b32f7d9a67ea1046 2014-03-10\n",
      "This patient would be included 2014-07-01 is after 2014-03-10\n"
     ]
    }
   ],
   "source": [
    "for patient_id in patient_ids:    \n",
    "    encounter_date = get_encounter_date(encounter_resources, patient_id)\n",
    "    print(patient_id, encounter_date)\n",
    "    for medication_administration in medication_administration_resources:\n",
    "        edt = medication_administration['effectiveDateTime OR effectivePeriod.start']\n",
    "        if edt is not None:\n",
    "            edt = datetime.datetime.fromisoformat(edt).date() # Note: we're dropping time part for this comparison\n",
    "            if edt >= encounter_date:\n",
    "                print('This patient would be included', edt, 'is after', encounter_date)\n",
    "                break"
   ]
  },
  {
   "cell_type": "code",
   "execution_count": null,
   "id": "df69d71c",
   "metadata": {},
   "outputs": [],
   "source": [
    "def has_med_after_diagnosis(patient_id):\n",
    "    \"Return `True` if `patient_id` has a medication record after the encounter, `False` if they don't\"\n",
    "    encounter_date = get_encounter_date(encounter_resources, patient_id)\n",
    "    for medication_administration in medication_administration_resources:\n",
    "        edt = medication_administration['effectiveDateTime OR effectivePeriod.start']\n",
    "        if edt is not None:\n",
    "            edt = datetime.datetime.fromisoformat(edt).date() # Note: we're dropping time part for this comparison\n",
    "            if edt >= encounter_date:\n",
    "                return True\n",
    "    return False"
   ]
  },
  {
   "cell_type": "code",
   "execution_count": null,
   "id": "50d7c547",
   "metadata": {},
   "outputs": [
    {
     "name": "stdout",
     "output_type": "stream",
     "text": [
      "Starting with 10 patients ...\n",
      "... 10 patients have a medication record after the ACS diagnosis\n"
     ]
    }
   ],
   "source": [
    "print('Starting with', len(patient_ids), 'patients ...')\n",
    "patient_ids = [patient_id for patient_id in patient_ids if has_med_after_diagnosis(patient_id)]\n",
    "print('...', len(patient_ids), 'patients have a medication record after the ACS diagnosis')"
   ]
  },
  {
   "cell_type": "markdown",
   "id": "b0f4d407",
   "metadata": {},
   "source": [
    "### So ... we have 10 patients that meet all inclusion critieria"
   ]
  },
  {
   "cell_type": "markdown",
   "id": "6f5185a2",
   "metadata": {},
   "source": [
    "# Create an IPS like per-patient bundle\n",
    "\n",
    "This is just a quick example of how we could create per-patient bundles\n",
    "- using code borrowed from https://github.com/pete88b/vulcan_medication_bundle\n",
    "- adding some of the resource that [IPS](http://build.fhir.org/ig/HL7/fhir-ips/StructureDefinition-Composition-uv-ips.html) would include"
   ]
  },
  {
   "cell_type": "code",
   "execution_count": null,
   "id": "94cd4f56",
   "metadata": {},
   "outputs": [],
   "source": [
    "from uuid import uuid4\n",
    "\n",
    "def extract_references_from_resource(resource, field_name):\n",
    "    \"Return a list of references extracted from a single resource and field\"\n",
    "    result = []\n",
    "    if field_name in resource:\n",
    "        references = resource[field_name]\n",
    "        if not isinstance(references, list): references = [references]\n",
    "        for reference in references:\n",
    "            _reference = reference.get('reference')\n",
    "            if _reference is None: \n",
    "                continue\n",
    "            if _reference.startswith('#'): \n",
    "                continue\n",
    "            # TODO: check that we have a relative reference or handle other kinds too\n",
    "            result.append(_reference)\n",
    "    return result\n",
    "\n",
    "def extract_references(entries, field_names):\n",
    "    \"Return a list of relative references e.g. `['Condition/1ddef4ad-fb76-46d6-9f1d-8ed58b173ee8']`\"\n",
    "    result = []\n",
    "    for entry in entries:\n",
    "        resource = entry['resource']\n",
    "        for f in field_names:\n",
    "            result.extend(extract_references_from_resource(resource, f))\n",
    "    return list(set(result)) # de-duplicate but still return a list\n",
    "\n",
    "def timestamp_now():\n",
    "    return datetime.datetime.utcnow().strftime('%Y-%m-%dT%H:%M:%SZ')\n",
    "\n",
    "def new_bundle(bundle_type='collection'):\n",
    "    return dict(resourceType='Bundle', \n",
    "                id=str(uuid4()),\n",
    "                type=bundle_type, \n",
    "                timestamp=timestamp_now(),\n",
    "                entry=[])\n",
    "\n",
    "def create_single_patient_bundle(patient_id):\n",
    "    \"Return a Bundle containing one Patient and ... when we don't have IPS available\"\n",
    "    result = new_bundle()\n",
    "    references = []\n",
    "    for resource_type, params in [\n",
    "            ['Patient', dict(_id=patient_id)],\n",
    "            ['AllergyIntolerance', dict(patient=patient_id)],\n",
    "            ['Condition', dict(patient=patient_id)],\n",
    "            ['Procedure', dict(patient=patient_id)],\n",
    "            ['MedicationRequest', dict(subject=f'Patient/{patient_id}')],\n",
    "            ['MedicationDispense', dict(subject=f'Patient/{patient_id}')],\n",
    "            ['MedicationAdministration', dict(subject=f'Patient/{patient_id}')],\n",
    "            ['MedicationStatement', dict(subject=f'Patient/{patient_id}')]]:\n",
    "        single_resource_entries = client.get_all_entries(resource_type, params)\n",
    "        result['entry'].extend(single_resource_entries)\n",
    "        references.extend(extract_references(single_resource_entries, ['medicationReference', 'reasonReference']))\n",
    "        \n",
    "    for reference in set(references):\n",
    "        try:\n",
    "            result['entry'].extend(client.get_by_reference(reference))\n",
    "        except Exception as ex:\n",
    "            print(f'Failed to reference {reference} from {client.api_base}\\n{ex}')\n",
    "    return result"
   ]
  },
  {
   "cell_type": "code",
   "execution_count": null,
   "id": "2abe6584",
   "metadata": {},
   "outputs": [
    {
     "name": "stdout",
     "output_type": "stream",
     "text": [
      "GET https://fhir.ggyxlz8lbozu.workload-prod-fhiraas.isccloud.io/Patient?_id=897dfe86f0b710793927d8034e568ee4 Status 200\n",
      "Returning 1 entries\n",
      "GET https://fhir.ggyxlz8lbozu.workload-prod-fhiraas.isccloud.io/AllergyIntolerance?patient=897dfe86f0b710793927d8034e568ee4 Status 200\n",
      "Returning 0 entries\n",
      "GET https://fhir.ggyxlz8lbozu.workload-prod-fhiraas.isccloud.io/Condition?patient=897dfe86f0b710793927d8034e568ee4 Status 200\n",
      "Returning 11 entries\n",
      "GET https://fhir.ggyxlz8lbozu.workload-prod-fhiraas.isccloud.io/Procedure?patient=897dfe86f0b710793927d8034e568ee4 Status 200\n",
      "Returning 0 entries\n",
      "GET https://fhir.ggyxlz8lbozu.workload-prod-fhiraas.isccloud.io/MedicationRequest?subject=Patient%2F897dfe86f0b710793927d8034e568ee4 Status 200\n",
      "Returning 1 entries\n",
      "GET https://fhir.ggyxlz8lbozu.workload-prod-fhiraas.isccloud.io/MedicationDispense?subject=Patient%2F897dfe86f0b710793927d8034e568ee4 Status 200\n",
      "Returning 0 entries\n",
      "GET https://fhir.ggyxlz8lbozu.workload-prod-fhiraas.isccloud.io/MedicationAdministration?subject=Patient%2F897dfe86f0b710793927d8034e568ee4 Status 200\n",
      "GET https://fhir.ggyxlz8lbozu.workload-prod-fhiraas.isccloud.io/MedicationAdministration?page=2&queryId=f74e52ba-3d85-11ed-87d0-02f861e3f62a Status 200\n",
      "Returning 180 entries\n",
      "GET https://fhir.ggyxlz8lbozu.workload-prod-fhiraas.isccloud.io/MedicationStatement?subject=Patient%2F897dfe86f0b710793927d8034e568ee4 Status 200\n",
      "Returning 66 entries\n"
     ]
    }
   ],
   "source": [
    "patient_id = patient_ids[8]\n",
    "if patient_id.startswith('Patient/'):\n",
    "    patient_id = patient_id[8:]\n",
    "bundle = create_single_patient_bundle(patient_id)"
   ]
  },
  {
   "cell_type": "markdown",
   "id": "0cbdbe86",
   "metadata": {},
   "source": [
    "Write the patient medication bundle we jsut created to file &darr;"
   ]
  },
  {
   "cell_type": "code",
   "execution_count": null,
   "id": "bd55d0e1",
   "metadata": {},
   "outputs": [
    {
     "name": "stdout",
     "output_type": "stream",
     "text": [
      "Bundle saved to data/patient_bundle_897dfe86f0b710793927d8034e568ee4.json\n"
     ]
    }
   ],
   "source": [
    "output_path='data'\n",
    "Path(output_path).mkdir(exist_ok=True)\n",
    "f_name = f'{output_path}/patient_bundle_{patient_id}.json'\n",
    "with open(f_name, 'w') as f:\n",
    "    json.dump(bundle, f, indent=2, default=dict)\n",
    "print('Bundle saved to', f_name)"
   ]
  },
  {
   "cell_type": "markdown",
   "id": "780ca1ca",
   "metadata": {},
   "source": [
    "Note: we use `default=dict` when writing JSON &uarr; because `UserDict` is not supported by [JSONEncoder](https://github.com/python/cpython/blob/main/Lib/json/encoder.py).\n",
    "\n",
    "If you'd like to explore the bundle programatically &darr; we can wrap it in a `DotPathDict` ..."
   ]
  },
  {
   "cell_type": "code",
   "execution_count": null,
   "id": "48f5e616",
   "metadata": {},
   "outputs": [
    {
     "data": {
      "text/plain": [
       "{'extension': [{'url': 'detailed', 'valueCoding': {'system': 'urn:oid:2.16.840.1.113883.6.238', 'code': '2106-3', 'display': 'White'}}], 'url': 'https://hl7.org/fhir/us/core/StructureDefinition/us-core-race'}"
      ]
     },
     "execution_count": null,
     "metadata": {},
     "output_type": "execute_result"
    }
   ],
   "source": [
    "bundle = DotPathDict(bundle)\n",
    "bundle['entry.resource.extension']"
   ]
  }
 ],
 "metadata": {
  "kernelspec": {
   "display_name": "Python 3 (ipykernel)",
   "language": "python",
   "name": "python3"
  }
 },
 "nbformat": 4,
 "nbformat_minor": 5
}
