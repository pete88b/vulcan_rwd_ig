{
 "cells": [
  {
   "cell_type": "markdown",
   "metadata": {},
   "source": [
    "# Vulcan RWD IG\n",
    "\n",
    "> Retreiver implementation of the RWD IG http://build.fhir.org/ig/HL7/vulcan-rwd/."
   ]
  },
  {
   "cell_type": "markdown",
   "metadata": {},
   "source": [
    "## Quick project overview\n",
    "\n",
    "- `_rwd_ig_cohort_building.ipynb`\n",
    "    - Show how we can build a cohort by running FHIR queries with minimal client side processing\n",
    "- `00_core.ipynb`\n",
    "    - TODO"
   ]
  },
  {
   "cell_type": "markdown",
   "metadata": {},
   "source": [
    "# Running locally\n",
    "\n",
    "Note: See conda setup below\n",
    "\n",
    "The easiest way to get started is to run the app from the command line.\n",
    "\n",
    "```\n",
    "conda activate vulcan_rwd_ig\n",
    "cd github\\pete88b\\vulcan_rwd_ig\n",
    "uvicorn app:app --reload\n",
    "```\n",
    "\n",
    "Hit [the docs page](http://127.0.0.1:8000/docs) or [the index page](http://127.0.0.1:8000/static/index.html) and try it out"
   ]
  },
  {
   "cell_type": "markdown",
   "metadata": {},
   "source": [
    "# Deployment\n",
    "\n",
    "The app is currently available at; https://vulcan-rwd-ig.azurewebsites.net\n",
    "- https://vulcan-rwd-ig.azurewebsites.net/docs\n",
    "- https://vulcan-rwd-ig.azurewebsites.net/static/index.html\n",
    "\n",
    "See https://fastapi.tiangolo.com/deployment/server-workers/ if you're interested in startup command options."
   ]
  },
  {
   "cell_type": "markdown",
   "metadata": {},
   "source": [
    "## Deploy with `az webapp up` (using powershell)\n",
    "\n",
    "This kind of az deploy needs;\n",
    "- `requirements.txt` lists required packages [see App Service docs](https://docs.microsoft.com/en-us/azure/app-service/configure-language-python)\n",
    "- `app.py` to create the FastAPI app.\n",
    "\n",
    "Note: If you change anything in requirements.txt, you'll probably have to delete the app service and recreate with `az webapp up`.\n",
    "\n",
    "`.azure/config` provides config details for deploying via the az command line tool (we don't push this file to github).\n",
    "\n",
    "### `az` command setup\n",
    "\n",
    "I installed the azure cli via msi: https://docs.microsoft.com/en-us/cli/azure/install-azure-cli-windows?tabs=azure-cli\n",
    "\n",
    "### Login\n",
    "`az login`\n",
    "\n",
    "### Set your default subscription\n",
    "\n",
    "you might already have this as your default - see: `az account list`\n",
    "\n",
    "`az account set --name ???`\n",
    "\n",
    "### deply the app \n",
    "`az webapp up`\n",
    "\n",
    "### Configure the startup command\n",
    "\n",
    "In the azure portal;\n",
    "- select the app service\n",
    "- Configuration\n",
    "- General settings\n",
    "- Startup command\n",
    "    - set to `gunicorn app:app --workers 4 --worker-class uvicorn.workers.UvicornWorker --bind 0.0.0.0`\n",
    "\n",
    "### turn on logging - this is a good idea after creating the app service\n",
    "`az webapp log config --docker-container-logging filesystem`\n",
    "\n",
    "### check logs\n",
    "`az webapp log tail`"
   ]
  },
  {
   "cell_type": "markdown",
   "metadata": {},
   "source": [
    "# Developers\n",
    "\n",
    "## Conda set-up\n",
    "\n",
    "`conda env create -f environment.yaml`"
   ]
  }
 ],
 "metadata": {
  "kernelspec": {
   "display_name": "Python 3 (ipykernel)",
   "language": "python",
   "name": "python3"
  }
 },
 "nbformat": 4,
 "nbformat_minor": 2
}
