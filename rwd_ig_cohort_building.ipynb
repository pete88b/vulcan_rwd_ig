{
 "cells": [
  {
   "cell_type": "markdown",
   "id": "2dbd0f3c",
   "metadata": {},
   "source": [
    "# Acute Coronary Syndrome Study\n",
    "\n",
    "Lets see if we can run [the queries](http://build.fhir.org/ig/HL7/vulcan-rwd/acs.html) for cohort criteria.\n",
    "\n",
    "See:\n",
    "- https://clinicaltrials.gov/ct2/show/NCT02190123\n",
    "- https://confluence.hl7.org/display/FHIR/Public+Test+Servers"
   ]
  }
 ],
 "metadata": {
  "kernelspec": {
   "display_name": "Python 3 (ipykernel)",
   "language": "python",
   "name": "python3"
  }
 },
 "nbformat": 4,
 "nbformat_minor": 5
}
