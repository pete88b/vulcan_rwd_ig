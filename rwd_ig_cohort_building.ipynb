{
 "cells": [
  {
   "cell_type": "markdown",
   "id": "69bdde10",
   "metadata": {},
   "source": [
    "# Acute Coronary Syndrome Study\n",
    "\n",
    "Lets see if we can run [the queries](http://build.fhir.org/ig/HL7/vulcan-rwd/acs.html) for cohort criteria.\n",
    "\n",
    "See:\n",
    "- https://clinicaltrials.gov/ct2/show/NCT02190123\n",
    "- https://confluence.hl7.org/display/FHIR/Public+Test+Servers\n",
    "\n",
    "[![Open In Colab](https://colab.research.google.com/assets/colab-badge.svg)](https://colab.research.google.com/github/pete88b/vulcan_rwd_ig/blob/main/rwd_ig_cohort_building.ipynb)"
   ]
  },
  {
   "cell_type": "markdown",
   "id": "29433783",
   "metadata": {},
   "source": [
    "## Please note\n",
    "\n",
    "This notebook is a work in progress\n",
    "\n",
    "For the rough notes we worked on during the connectathon, please see\n",
    "https://github.com/pete88b/vulcan_rwd_ig/blob/main/getting_started.ipynb"
   ]
  }
 ],
 "metadata": {
  "kernelspec": {
   "display_name": "Python 3 (ipykernel)",
   "language": "python",
   "name": "python3"
  }
 },
 "nbformat": 4,
 "nbformat_minor": 5
}
