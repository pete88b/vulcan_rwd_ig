{
 "cells": [
  {
   "cell_type": "markdown",
   "id": "3146f6bb",
   "metadata": {},
   "source": [
    "# Acute Coronary Syndrome Study\n",
    "\n",
    "Lets see if we can run [the queries](http://build.fhir.org/ig/HL7/vulcan-rwd/acs.html) for cohort criteria.\n",
    "\n",
    "See:\n",
    "- https://clinicaltrials.gov/ct2/show/NCT02190123\n",
    "- https://confluence.hl7.org/display/FHIR/Public+Test+Servers\n",
    "\n",
    "[![Open In Colab](https://colab.research.google.com/assets/colab-badge.svg)](https://colab.research.google.com/github/pete88b/vulcan_rwd_ig/blob/main/rwd_ig_cohort_building.ipynb)"
   ]
  },
  {
   "cell_type": "markdown",
   "id": "d849eecc",
   "metadata": {},
   "source": [
    "## Please note\n",
    "\n",
    "This notebook is a work in progress\n",
    "\n",
    "For the rough notes we worked on during the connectathon, please see\n",
    "https://github.com/pete88b/vulcan_rwd_ig/blob/main/getting_started.ipynb"
   ]
  },
  {
   "cell_type": "code",
   "execution_count": null,
   "id": "845ccd9b",
   "metadata": {},
   "outputs": [],
   "source": [
    "import requests, json, datetime, collections"
   ]
  },
  {
   "cell_type": "code",
   "execution_count": null,
   "id": "0d3a6faf",
   "metadata": {},
   "outputs": [],
   "source": [
    "class FhirPathDict(collections.UserDict):\n",
    "    \"Wraps a `dict` to allow dot search of nested values\"\n",
    "    def __getitem__(self, key):\n",
    "        \"Allows dot search via subscription\"\n",
    "        for _attr_path in key.split(' OR '):\n",
    "            r, found, _attrs = self.data, True, []\n",
    "            for _attr in _attr_path.split('.'):\n",
    "                if not isinstance(r, dict):\n",
    "                    raise Exception(f'''Expected \"{'.'.join(_attrs)}\" to be a `dict` but found {r}''')\n",
    "                _attrs.append(_attr)\n",
    "                if not _attr in r:\n",
    "                    found = False\n",
    "                    break\n",
    "                r = r[_attr]\n",
    "                if isinstance(r, list) and r:\n",
    "                    r = r[0] # TODO: is it OK to just pull the 1st item from the list?\n",
    "            if found:\n",
    "                return FhirPathDict(r) if isinstance(r, dict) else r"
   ]
  },
  {
   "cell_type": "code",
   "execution_count": null,
   "id": "bc7a145b",
   "metadata": {},
   "outputs": [
    {
     "data": {
      "text/plain": [
       "('TestResource', None, 'TestResource')"
      ]
     },
     "execution_count": null,
     "metadata": {},
     "output_type": "execute_result"
    }
   ],
   "source": [
    "d = FhirPathDict({'resource': {'resourceType': 'TestResource', 'Other-Key': 'Other-Value'}})\n",
    "d['resource.resourceType'], d['resource.id'], d['resource.id OR resource.resourceType']"
   ]
  },
  {
   "cell_type": "code",
   "execution_count": null,
   "id": "7eaaf40b",
   "metadata": {},
   "outputs": [],
   "source": [
    "class FhirClient:\n",
    "    \"Helps to GET FHIR resources\"\n",
    "    def __init__(self, api_base, x_api_key=None):\n",
    "        self.api_base = api_base\n",
    "        self.request_headers = {}\n",
    "        if x_api_key is not None:\n",
    "            self.request_headers['x-api-key'] = x_api_key\n",
    "        self.default_params = {}\n",
    "    \n",
    "    def get_as_response(self, resource_type, params=None):\n",
    "        \"GET FHIR resources of `resource_type` and return python `reponse`\"\n",
    "        url = f'{self.api_base}/{resource_type}'\n",
    "        params = self.default_params if params is None else params\n",
    "        response = requests.get(url, params, headers=self.request_headers)\n",
    "        print('GET', response.url, response.status_code)\n",
    "        return response\n",
    "    \n",
    "    def get_as_raw_json(self, resource_type, id_or_params=None): # TODO: rename to get and wrap results\n",
    "        \"GET FHIR resources of `resource_type` in JSON format\"\n",
    "        return self.get_as_response(resource_type, id_or_params).json()\n",
    "    \n",
    "    def get_next_as_raw_json(self, json_response):\n",
    "        \"GET the next set of results\"\n",
    "        for link in json_response['link']:\n",
    "            if link['relation'] == 'next':\n",
    "                url = link['url']\n",
    "                print('GET', url)\n",
    "                return requests.get(url, headers=self.request_headers).json()\n",
    "\n",
    "    def get_all_entries_as_raw_json(self, resource_type, params=None, page_limit=100):\n",
    "        \"Return a list of entries of `resource_type` in JSON format\"\n",
    "        page_count, result = 0, []\n",
    "        bundle = self.get_as_raw_json(resource_type, params)\n",
    "        total = bundle.get('total', 'Unknown')\n",
    "        while bundle is not None:\n",
    "            if 'entry' not in bundle:\n",
    "                raise Exception(f'Expected a bundle but found', bundle) # might be {'resourceType': 'OperationOutcome' ... \n",
    "            result.extend(bundle['entry']) # todo check for OperationOutcome etc in `entry`\n",
    "            page_count += 1\n",
    "            if page_count > page_limit:\n",
    "                print('Stopping early. Will return', len(result), 'entries out of total', total)\n",
    "                break\n",
    "            bundle = client.get_next_as_raw_json(bundle)\n",
    "        def _expected_resource_type(resource):\n",
    "            _type = resource.get('resource', {}).get('resourceType', None)\n",
    "            if _type != resource_type:\n",
    "                print('Removing resource. Expected', resource_type, 'but found', _type)\n",
    "                return False\n",
    "            return True\n",
    "        result = [r for r in result if _expected_resource_type(r)]\n",
    "        result = [FhirPathDict(r) for r in result]\n",
    "        print('Returning', len(result), 'entries')\n",
    "        return result\n",
    "    \n",
    "    def get_all_resources_as_raw_json(self, resource_type, params=None, page_limit=100):\n",
    "        \"Return a list of resources of `resource_type` in JSON format\"\n",
    "        result = self.get_all_entries_as_raw_json(resource_type, params, page_limit)\n",
    "        result = [r['resource'] for r in result]\n",
    "        return result\n",
    "    \n",
    "    def get_by_reference(self, reference):\n",
    "        \"Return a resource read from a FHIR server by reference, as a list containg a single bundle entry\"\n",
    "        if reference.startswith(self.api_base):\n",
    "            reference = reference[len(self.api_base):].strip('/')\n",
    "        if reference.startswith('http'):\n",
    "            print(f'WARNING: Found reference {reference} that does not start with {api_base}')\n",
    "            return []\n",
    "        resource_type, id = reference.split('/')\n",
    "        single_resource = self.get_as_raw_json(resource_type, id)\n",
    "        return [dict(fullUrl = f'{self.api_base}/{resource_type}/{id}', resource = single_resource)]"
   ]
  },
  {
   "cell_type": "code",
   "execution_count": null,
   "id": "f50b8557",
   "metadata": {},
   "outputs": [
    {
     "name": "stdout",
     "output_type": "stream",
     "text": [
      "GET https://ips.health/fhir/Patient 200\n",
      "GET https://ips.health/fhir?_getpages=3ee79441-d4f6-4b68-b0f5-eb101055fbfe&_getpagesoffset=20&_count=20&_pretty=true&_bundletype=searchset\n",
      "GET https://ips.health/fhir?_getpages=3ee79441-d4f6-4b68-b0f5-eb101055fbfe&_getpagesoffset=40&_count=20&_pretty=true&_bundletype=searchset\n",
      "Stopping early. Will return 60 entries out of total 187\n",
      "Returning 60 entries\n"
     ]
    }
   ],
   "source": [
    "client = FhirClient('https://ips.health/fhir')\n",
    "# client = FhirClient('https://fhir.rykpjsvemdtg.workload-prod-fhiraas.isccloud.io')\n",
    "# patient_entries = client.get_all_entries_as_raw_json('Patient')\n",
    "patient_entries = client.get_all_resources_as_raw_json('Patient', page_limit=2)\n",
    "# patient_entries = client.get_all_entries_as_raw_json('Patient', {'birthdate': 'le2002-09-01', 'gender:missing': 'false'})\n",
    "# patient_entries"
   ]
  },
  {
   "cell_type": "code",
   "execution_count": null,
   "id": "0dd1306e",
   "metadata": {},
   "outputs": [],
   "source": [
    "# patient_entries[0].data"
   ]
  },
  {
   "cell_type": "markdown",
   "id": "60a00420",
   "metadata": {},
   "source": [
    "show &darr; that it's possible to dot search\n",
    "- on the results of `get_all_resources_as_raw_json` e.g. `'contact.relationship.coding.system'` and\n",
    "- on the results returned by dot search\n",
    "\n",
    "TODO: xxx explain this better"
   ]
  },
  {
   "cell_type": "code",
   "execution_count": null,
   "id": "e88595dc",
   "metadata": {},
   "outputs": [
    {
     "data": {
      "text/plain": [
       "('http://terminology.hl7.org/CodeSystem/v2-0131', 'C')"
      ]
     },
     "execution_count": null,
     "metadata": {},
     "output_type": "execute_result"
    }
   ],
   "source": [
    "_r = patient_entries[0]['contact.relationship']\n",
    "patient_entries[0]['contact.relationship.coding.system'], _r['coding.code']"
   ]
  },
  {
   "cell_type": "code",
   "execution_count": null,
   "id": "ad28c55c",
   "metadata": {},
   "outputs": [
    {
     "name": "stdout",
     "output_type": "stream",
     "text": [
      "GET https://ips.health/fhir/Patient 200\n"
     ]
    }
   ],
   "source": [
    "client = FhirClient('https://ips.health/fhir')\n",
    "r = client.get_as_raw_json('Patient')"
   ]
  },
  {
   "cell_type": "code",
   "execution_count": null,
   "id": "72dc4b9b",
   "metadata": {},
   "outputs": [
    {
     "data": {
      "text/plain": [
       "20"
      ]
     },
     "execution_count": null,
     "metadata": {},
     "output_type": "execute_result"
    }
   ],
   "source": [
    "len(r['entry'])"
   ]
  },
  {
   "cell_type": "code",
   "execution_count": null,
   "id": "9567d1bc",
   "metadata": {},
   "outputs": [
    {
     "name": "stdout",
     "output_type": "stream",
     "text": [
      "GET https://ips.health/fhir?_getpages=3ee79441-d4f6-4b68-b0f5-eb101055fbfe&_getpagesoffset=20&_count=20&_pretty=true&_bundletype=searchset\n"
     ]
    },
    {
     "data": {
      "text/plain": [
       "20"
      ]
     },
     "execution_count": null,
     "metadata": {},
     "output_type": "execute_result"
    }
   ],
   "source": [
    "len(client.get_next_as_raw_json(r)['entry'])"
   ]
  },
  {
   "cell_type": "markdown",
   "id": "f80a1f92",
   "metadata": {},
   "source": [
    "The patients for this study would have the following criteria:\n",
    "- female or male aged 18 years or older\n",
    "- have a Encounter record representing a hospitalization with an initial diagnosis of Acute Coronary Syndrome where the patient was discharged alive some time between September 2020 to September 2021 :\n",
    "    - ACS is represented for this scenario one of these ICD 10 codes (I21 Acute myocardial infarction; I20-I25 Ischemic heart diseases; I24 Other acute ischemic heart diseases)\n",
    "    - the Encounter diagnosis will point to a Condition with one of those codes\n",
    "    - the Encounter will have hospitalization information included\n",
    "    - the Encounter hospitalization discharge disposition code is not ‘exp’ (expired)\n",
    "- have been given one of ticagrelor, prasugrel or clopidogrel after the date of diagnosis of ACS (as represented by the Condition or Encounter record found above)\n",
    "\n",
    "| Drug Name    | Brand Name  | RxNorm CUI            |\n",
    "|--------------|-------------|-----------------------|\n",
    "| ticagrelor   | brilinta    | 1116632               |\n",
    "| prasurgrel   | effient     | 613391                |\n",
    "| clopidogrel  | plavix      | 32968, 687667, 153658 |\n",
    "\n",
    "These criteria would be represented by the following queries:\n",
    "\n",
    "```\n",
    "/Patient?birthdate=le2002-09-01&gender=male,female\n",
    "\n",
    "/Encounter?reason-code:below=I20,I21,I22,I23,I24,I25&date=ge2020-09-01&date=le2021-09-31&status=finished&dischargeDisposition:not=exp\n",
    "\n",
    "/MedicationAdministration?status=completed&effective-time=ge[Encounter-Start-Date]&\n",
    "  code=http://www.nlm.nih.gov/research/umls/rxnorm|1116632,http://www.nlm.nih.gov/research/umls/rxnorm|613391,http://www.nlm.nih.gov/research/umls/rxnorm|32968,http://www.nlm.nih.gov/research/umls/rxnorm|687667,http://www.nlm.nih.gov/research/umls/rxnorm|153658\n",
    "```"
   ]
  },
  {
   "cell_type": "code",
   "execution_count": null,
   "id": "93d4ceca",
   "metadata": {},
   "outputs": [
    {
     "data": {
      "text/plain": [
       "(1996, 2014, 2015)"
      ]
     },
     "execution_count": null,
     "metadata": {},
     "output_type": "execute_result"
    }
   ],
   "source": [
    "adjust = 6\n",
    "2002-adjust, 2020-adjust, 2021-adjust"
   ]
  },
  {
   "cell_type": "markdown",
   "id": "fa62f521",
   "metadata": {},
   "source": [
    "# TODO: explain -16 years\n",
    "\n",
    "# Patient"
   ]
  },
  {
   "cell_type": "code",
   "execution_count": null,
   "id": "1ca0e50a",
   "metadata": {},
   "outputs": [
    {
     "name": "stdout",
     "output_type": "stream",
     "text": [
      "GET https://fhir.rykpjsvemdtg.workload-prod-fhiraas.isccloud.io/Patient?birthdate=le1996-09-01&gender=male%2Cfemale 200\n",
      "GET https://fhir.rykpjsvemdtg.workload-prod-fhiraas.isccloud.io/Patient?page=2&queryId=981a78cc-3854-11ed-a214-02a7b1c59300\n",
      "Returning 1151 entries\n"
     ]
    }
   ],
   "source": [
    "client = FhirClient('https://fhir.rykpjsvemdtg.workload-prod-fhiraas.isccloud.io')\n",
    "patients = client.get_all_resources_as_raw_json('Patient', dict(birthdate='le1996-09-01', gender='male,female'))"
   ]
  },
  {
   "cell_type": "code",
   "execution_count": null,
   "id": "7f208e16",
   "metadata": {},
   "outputs": [
    {
     "name": "stdout",
     "output_type": "stream",
     "text": [
      "GET https://fhir.rykpjsvemdtg.workload-prod-fhiraas.isccloud.io/Encounter?reason-code=I20%2CI21%2CI22%2CI23%2CI24%2CI25&date=ge2014-09-01&date=le2015-09-30&status=finished 200\n",
      "Returning 59 entries\n"
     ]
    }
   ],
   "source": [
    "encounters = client.get_all_resources_as_raw_json('Encounter', {\n",
    "        'reason-code': 'I20,I21,I22,I23,I24,I25', # TODO: not using below for now 'reason-code:below': 'I20,I21,I22,I23,I24,I25',\n",
    "        'date': ['ge2014-09-01', 'le2015-09-30'], # TODO: Not sure this is filtering as we want ...\n",
    "        'status': 'finished',\n",
    "#         'dischargeDisposition:not':'exp' # TODO: Do this client side for now\n",
    "})"
   ]
  },
  {
   "cell_type": "code",
   "execution_count": null,
   "id": "5b95a646",
   "metadata": {},
   "outputs": [],
   "source": [
    "# for e in encounters:\n",
    "#     print(e['period'])"
   ]
  },
  {
   "cell_type": "code",
   "execution_count": null,
   "id": "7f3e9241",
   "metadata": {},
   "outputs": [
    {
     "name": "stdout",
     "output_type": "stream",
     "text": [
      "GET https://fhir.rykpjsvemdtg.workload-prod-fhiraas.isccloud.io/MedicationAdministration?status=completed&code=http%3A%2F%2Fwww.nlm.nih.gov%2Fresearch%2Fumls%2Frxnorm%7C1116632%2Chttp%3A%2F%2Fwww.nlm.nih.gov%2Fresearch%2Fumls%2Frxnorm%7C613391%2Chttp%3A%2F%2Fwww.nlm.nih.gov%2Fresearch%2Fumls%2Frxnorm%7C32968%2Chttp%3A%2F%2Fwww.nlm.nih.gov%2Fresearch%2Fumls%2Frxnorm%7C687667%2Chttp%3A%2F%2Fwww.nlm.nih.gov%2Fresearch%2Fumls%2Frxnorm%7C153658 200\n",
      "GET https://fhir.rykpjsvemdtg.workload-prod-fhiraas.isccloud.io/MedicationAdministration?page=2&queryId=2dd23b02-3855-11ed-b2c2-02a7b1c59300\n",
      "Returning 1031 entries\n"
     ]
    }
   ],
   "source": [
    "medication_administrations = client.get_all_resources_as_raw_json('MedicationAdministration', {\n",
    "        'status': 'completed',\n",
    "#         'effective-time': 'ge[Encounter-Start-Date]', # TODO: don't think this is possible via FHIR query\n",
    "        'code': 'http://www.nlm.nih.gov/research/umls/rxnorm|1116632,'\n",
    "                'http://www.nlm.nih.gov/research/umls/rxnorm|613391,'\n",
    "                'http://www.nlm.nih.gov/research/umls/rxnorm|32968,'\n",
    "                'http://www.nlm.nih.gov/research/umls/rxnorm|687667,'\n",
    "                'http://www.nlm.nih.gov/research/umls/rxnorm|153658'})"
   ]
  },
  {
   "cell_type": "code",
   "execution_count": null,
   "id": "41a195a5",
   "metadata": {},
   "outputs": [],
   "source": [
    "def extract_patient_ids(resources):\n",
    "    \"Return a list relative references of all patients found in a `resources`\"\n",
    "    # Note: no checks are made that the bundle contains resources of the same type etc\n",
    "    result = []\n",
    "    for resource in resources:\n",
    "        if resource['resourceType'] == 'OperationOutcome':\n",
    "            continue # e.g. \"Unrecognized parameter 'dischargeDisposition'. exp\"\n",
    "        if resource['resourceType'] == 'Patient':\n",
    "            result.append('Patient/' + resource['id'])\n",
    "        else:\n",
    "            result.append(resource['subject']['reference'])\n",
    "    return result"
   ]
  },
  {
   "cell_type": "code",
   "execution_count": null,
   "id": "c71a50f0",
   "metadata": {},
   "outputs": [],
   "source": [
    "def intersection_patient_ids(*resource_lists):\n",
    "    \"Returns a list of references for all patients found in all resource lists\"\n",
    "    all_patient_ids = []\n",
    "    for resource_list in resource_lists:\n",
    "        all_patient_ids.append(extract_patient_ids(resource_list))\n",
    "    all_patient_ids = [set(ids) for ids in all_patient_ids]\n",
    "    result = all_patient_ids[0]\n",
    "    for ids in all_patient_ids[1:]:\n",
    "        result = result & ids\n",
    "    return list(result)"
   ]
  },
  {
   "cell_type": "code",
   "execution_count": null,
   "id": "3e626342",
   "metadata": {},
   "outputs": [
    {
     "data": {
      "text/plain": [
       "['Patient/1bbc2bc53ed277ac09507e6893743410',\n",
       " 'Patient/e4c9f85f8b2b9a85b32f7d9a67ea1046',\n",
       " 'Patient/a3f4f0ffc5c2fb1a4708452a485d1442',\n",
       " 'Patient/ff7c22942a1e16167f1b9c44f12aae05',\n",
       " 'Patient/00d7dde9ae58163184c3836f01deff61',\n",
       " 'Patient/51ff4d27ccf78c1d2ff6438175b541c7',\n",
       " 'Patient/897dfe86f0b710793927d8034e568ee4',\n",
       " 'Patient/ceba63b6dcbda783668cf3efeea1d3dd',\n",
       " 'Patient/f7f2e775f7ae3f7a095146cb4deaa497',\n",
       " 'Patient/6863ac983b0b55455da78f1fdd1288ff']"
      ]
     },
     "execution_count": null,
     "metadata": {},
     "output_type": "execute_result"
    }
   ],
   "source": [
    "patient_ids = intersection_patient_ids(patients, encounters, medication_administrations)\n",
    "patient_ids"
   ]
  },
  {
   "cell_type": "markdown",
   "id": "216578ad",
   "metadata": {},
   "source": [
    "# TODO: resources *OR* resource_list"
   ]
  },
  {
   "cell_type": "code",
   "execution_count": null,
   "id": "acbc9e3a",
   "metadata": {},
   "outputs": [],
   "source": [
    "def extract_resources_by_patient_id(resource_list, patient_reference):\n",
    "    \"Return a list of resources pulled from `resource_list` that belong to `patient_reference`\"\n",
    "    result = []\n",
    "    for resource in resource_list:\n",
    "        if resource['resourceType'] == 'OperationOutcome':\n",
    "            continue # e.g. \"Unrecognized parameter 'dischargeDisposition'. exp\"\n",
    "        if resource['resourceType'] == 'Patient':\n",
    "            if resource['id'] == patient_reference.split('/')[1]:\n",
    "                result.append(resource)\n",
    "        else:\n",
    "            if resource['subject']['reference'] == patient_reference:\n",
    "                result.append(resource)\n",
    "    return result"
   ]
  },
  {
   "cell_type": "code",
   "execution_count": null,
   "id": "ddbf214c",
   "metadata": {},
   "outputs": [],
   "source": [
    "def get_encounter_date(resource_list, patient_id):\n",
    "    encounters = extract_resources_by_patient_id(resource_list, patient_id)\n",
    "    dates = []\n",
    "    for encounter in encounters:\n",
    "        dates.append(datetime.date.fromisoformat(encounter['period.start']))\n",
    "    return min(dates)"
   ]
  },
  {
   "cell_type": "code",
   "execution_count": null,
   "id": "ceef07b3",
   "metadata": {},
   "outputs": [
    {
     "data": {
      "text/plain": [
       "datetime.date(2014, 3, 26)"
      ]
     },
     "execution_count": null,
     "metadata": {},
     "output_type": "execute_result"
    }
   ],
   "source": [
    "get_encounter_date(encounters, 'Patient/ff7c22942a1e16167f1b9c44f12aae05')"
   ]
  },
  {
   "cell_type": "markdown",
   "id": "a3515468",
   "metadata": {},
   "source": [
    "# Apply \"after the date of diagnosis of ACS\" criteria to medication bundle\n",
    "\n",
    "Encounter start date is the date of diagnosis of ACS"
   ]
  },
  {
   "cell_type": "code",
   "execution_count": null,
   "id": "1b710ef9",
   "metadata": {},
   "outputs": [],
   "source": [
    "mock_encounter_start_date = datetime.date.fromisoformat('1999-09-24')\n",
    "for entry in medication_administration_bundle['entry']:\n",
    "    resource = entry['resource']\n",
    "    print(pull_attr(resource, 'subject.reference'), \n",
    "          pull_attr(resource, 'effectiveDateTime'),\n",
    "          pull_attr(resource, 'context'))\n",
    "    edt = pull_attr(resource, 'effectiveDateTime')\n",
    "    if edt is not None:\n",
    "        edt = datetime.datetime.fromisoformat(edt).date() # Note: we're dropping time part for this comparison\n",
    "        if edt >= mock_encounter_start_date:\n",
    "            print('This one would be included', edt, 'is after', mock_encounter_start_date)\n",
    "        else:\n",
    "            print('EXCLUDE this one as', edt, 'is before', mock_encounter_start_date)a"
   ]
  },
  {
   "cell_type": "code",
   "execution_count": null,
   "id": "99cb67ed",
   "metadata": {},
   "outputs": [],
   "source": []
  }
 ],
 "metadata": {
  "kernelspec": {
   "display_name": "Python 3 (ipykernel)",
   "language": "python",
   "name": "python3"
  }
 },
 "nbformat": 4,
 "nbformat_minor": 5
}
