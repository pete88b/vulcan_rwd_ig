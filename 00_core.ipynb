{
 "cells": [
  {
   "cell_type": "code",
   "execution_count": null,
   "metadata": {},
   "outputs": [],
   "source": [
    "# default_exp core"
   ]
  },
  {
   "cell_type": "markdown",
   "metadata": {},
   "source": [
    "# Core\n",
    "\n",
    "> Helper functions and utilities."
   ]
  },
  {
   "cell_type": "code",
   "execution_count": null,
   "metadata": {},
   "outputs": [],
   "source": [
    "#export\n",
    "import requests, json, datetime, collections, typing, urllib\n",
    "from pathlib import Path\n",
    "from fastcore.basics import patch_to"
   ]
  },
  {
   "cell_type": "code",
   "execution_count": null,
   "metadata": {},
   "outputs": [],
   "source": [
    "#export\n",
    "class DotPathDict(collections.UserDict):\n",
    "    \"Wraps a `dict` to allow simple dot notation search of nested `dict`s\"\n",
    "    \n",
    "    def __getitem__(self, dot_paths):\n",
    "        \"Allows dot search via subscript\"\n",
    "        for dot_path in dot_paths.split(' OR '):\n",
    "            data, found, path_parts = self.data, True, []\n",
    "            for path_part in dot_path.split('.'):\n",
    "                if not isinstance(data, (dict, DotPathDict)):\n",
    "                    path_parts = '.'.join(path_parts)\n",
    "                    raise Exception(f'Expected \"{path_parts}\" to be a `dict` but found {type(data)} {data}')\n",
    "                path_parts.append(path_part)\n",
    "                if not path_part in data:\n",
    "                    found = False\n",
    "                    break # try the next dot_path, if we have one\n",
    "                data = data[path_part]\n",
    "                if isinstance(data, list) and data:\n",
    "                    data = data[0] # TODO: is it OK to just pull the 1st item from the list?\n",
    "            if found:\n",
    "                return DotPathDict(data) if isinstance(data, dict) else data"
   ]
  },
  {
   "cell_type": "code",
   "execution_count": null,
   "metadata": {},
   "outputs": [],
   "source": [
    "test_resource = DotPathDict({\n",
    "    'resource': {\n",
    "        'resourceType': 'TestResource', \n",
    "        'meta': {\n",
    "            'versionId': '1', \n",
    "            'source': '#dswfkjei2k3'\n",
    "        }}})"
   ]
  },
  {
   "cell_type": "code",
   "execution_count": null,
   "metadata": {},
   "outputs": [],
   "source": [
    "assert 'TestResource' == test_resource['resource.resourceType']\n",
    "assert None is test_resource['resource.id']\n",
    "assert 'TestResource' == test_resource['resource.id OR resource.resourceType']\n",
    "test_resource_meta = test_resource['resource.meta']\n",
    "assert '#dswfkjei2k3' == test_resource_meta['source']"
   ]
  },
  {
   "cell_type": "code",
   "execution_count": null,
   "metadata": {},
   "outputs": [],
   "source": [
    "#export\n",
    "class FhirClient:\n",
    "    \"Helps to GET FHIR resources\"\n",
    "    def __init__(self, api_base:str, x_api_key:str=None, use_local_cache=True):\n",
    "        self.api_base = api_base\n",
    "        self.use_local_cache = use_local_cache\n",
    "        self.request_headers = {}\n",
    "        if x_api_key is not None:\n",
    "            self.request_headers['x-api-key'] = x_api_key\n",
    "        self.default_params = {}    "
   ]
  },
  {
   "cell_type": "code",
   "execution_count": null,
   "metadata": {},
   "outputs": [],
   "source": [
    "#export\n",
    "def request_to_cache_file(url, params):\n",
    "    parsed_url = urllib.parse.urlparse(url)\n",
    "    cache_folder = Path('data/cache/')/parsed_url.netloc\n",
    "    cache_index = {}\n",
    "    if (cache_folder/'index.json').is_file():\n",
    "        with open(cache_folder/'index.json') as f:\n",
    "            cache_index = json.load(f)\n",
    "    cache_key = url if params is None else f'{url}?{urllib.parse.urlencode(params)}'\n",
    "    if cache_key in cache_index:\n",
    "        return cache_folder/cache_index[cache_key]\n",
    "    cache_index[cache_key] = f'''{parsed_url.path.replace('/', '')}-{len(cache_index)}'''\n",
    "    cache_folder.mkdir(parents=True, exist_ok=True)\n",
    "    with open(cache_folder/'index.json', 'w') as f:\n",
    "        json.dump(cache_index, f, indent=2)\n",
    "    return cache_folder/cache_index[cache_key]"
   ]
  },
  {
   "cell_type": "code",
   "execution_count": null,
   "metadata": {},
   "outputs": [],
   "source": [
    "f = request_to_cache_file('http://ips.health/fhir/Patient', dict(_id='fakeId'))\n",
    "assert f.name.startswith('fhirPatient-')\n",
    "assert ('data', 'cache', 'ips.health') == f.parent.parts\n",
    "assert Path('data/cache/ips.health/index.json').is_file()"
   ]
  },
  {
   "cell_type": "code",
   "execution_count": null,
   "metadata": {},
   "outputs": [],
   "source": [
    "#export\n",
    "class CachedResponse:\n",
    "    def __init__(self, cache_file):\n",
    "        self.status_code = 200\n",
    "        with open(cache_file) as f:\n",
    "            self.text = f.read()\n",
    "    def json(self):\n",
    "        return json.loads(self.text)"
   ]
  },
  {
   "cell_type": "code",
   "execution_count": null,
   "metadata": {},
   "outputs": [],
   "source": [
    "r = CachedResponse('test/data/Patient_bundle.json')\n",
    "assert '607d0e75-a3b9-4382-a19e-ffac65b1a521' == r.json()['id']\n",
    "assert 200 == r.status_code"
   ]
  },
  {
   "cell_type": "code",
   "execution_count": null,
   "metadata": {},
   "outputs": [],
   "source": [
    "#export\n",
    "def requests_get(url, params, headers=None, use_local_cache=True):\n",
    "    if use_local_cache:\n",
    "        cache_file = request_to_cache_file(url, params)\n",
    "        if cache_file.is_file():\n",
    "            print('GET', cache_file, 'from local cache')\n",
    "            return CachedResponse(cache_file)\n",
    "    # HTTP GET from the real FHIR server\n",
    "    response = requests.get(url, params, headers=headers)\n",
    "    print('GET', response.url, 'Status', response.status_code)\n",
    "    # cache the result returned by the real FHIR server\n",
    "    if use_local_cache and response.status_code == 200:\n",
    "        cache_file.parent.mkdir(parents=True, exist_ok=True)\n",
    "        with open(cache_file, 'w') as f:\n",
    "            f.write(response.text)\n",
    "    return response"
   ]
  },
  {
   "cell_type": "code",
   "execution_count": null,
   "metadata": {},
   "outputs": [],
   "source": [
    "#export\n",
    "@patch_to(FhirClient)\n",
    "def get_as_raw_json(self, resource_type:str, params:dict=None) -> dict: # TODO: rename to get and wrap results\n",
    "    \"GET FHIR resources of `resource_type` in JSON format\"\n",
    "    url = f'{self.api_base}/{resource_type}'\n",
    "    params = self.default_params if params is None else params\n",
    "    return requests_get(url, params, headers=self.request_headers).json()"
   ]
  },
  {
   "cell_type": "code",
   "execution_count": null,
   "metadata": {},
   "outputs": [
    {
     "name": "stdout",
     "output_type": "stream",
     "text": [
      "GET data\\cache\\ips.health\\fhirPatient-1 from local cache\n"
     ]
    }
   ],
   "source": [
    "client = FhirClient('https://ips.health/fhir')\n",
    "response = client.get_as_raw_json('Patient', dict(_id='fakeId'))\n",
    "assert isinstance(response, dict)"
   ]
  },
  {
   "cell_type": "code",
   "execution_count": null,
   "metadata": {},
   "outputs": [],
   "source": [
    "#export\n",
    "@patch_to(FhirClient)\n",
    "def get_next_as_raw_json(self, json_response:dict) -> dict:\n",
    "    \"GET the next set of results\"\n",
    "    for link in json_response['link']:\n",
    "        if link['relation'] == 'next':\n",
    "            url = link['url']\n",
    "            response = requests_get(url, None, self.request_headers, self.use_local_cache)\n",
    "            print('GET', url, 'Status', response.status_code)\n",
    "            return response.json()\n",
    "\n",
    "@patch_to(FhirClient)\n",
    "def get_all_entries(self, resource_type:str, params:dict=None, page_limit:int=100) -> typing.List[DotPathDict]:\n",
    "    \"Return a list of entries of `resource_type` in JSON format while taking care of bundle pageing\"\n",
    "    page_count, result = 0, []\n",
    "    bundle = self.get_as_raw_json(resource_type, params)\n",
    "    total = bundle.get('total', 'Unknown')\n",
    "    if total == 0:\n",
    "        print('Returning', len(result), 'entries')\n",
    "        return result\n",
    "    while bundle is not None:\n",
    "        if bundle.get('resourceType', None) != 'Bundle':\n",
    "            raise Exception(f'Expected a bundle but found', bundle) # might be {'resourceType': 'OperationOutcome' ... \n",
    "        result.extend(bundle['entry']) # todo check for OperationOutcome etc in `entry`\n",
    "        page_count += 1\n",
    "        if page_count > page_limit:\n",
    "            print('Stopping early. Will return', len(result), 'entries out of total', total)\n",
    "            break\n",
    "        bundle = client.get_next_as_raw_json(bundle)\n",
    "    def _expected_resource_type(resource):\n",
    "        actual_resource_type = resource.get('resource', {}).get('resourceType', None)\n",
    "        if actual_resource_type != resource_type:\n",
    "            print('Removing resource. Expected', resource_type, 'but found', actual_resource_type)\n",
    "            return False\n",
    "        return True\n",
    "    result = [r for r in result if _expected_resource_type(r)]\n",
    "    result = [DotPathDict(r) for r in result]\n",
    "    print('Returning', len(result), 'entries')\n",
    "    return result\n",
    "\n",
    "@patch_to(FhirClient)\n",
    "def get_all_resources(self, resource_type:str, params:dict=None, page_limit:int=100):\n",
    "    \"Return a list of resources of `resource_type` in JSON format\"\n",
    "    result = self.get_all_entries(resource_type, params, page_limit)\n",
    "    result = [r['resource'] for r in result]\n",
    "    return result\n",
    "\n",
    "@patch_to(FhirClient)\n",
    "def get_by_reference(self, reference:str):\n",
    "    \"Return a resource read from a FHIR server by reference, as a list containg a single bundle entry\"\n",
    "    if reference.startswith(self.api_base):\n",
    "        reference = reference[len(self.api_base):].strip('/')\n",
    "    if reference.startswith('http'):\n",
    "        print(f'WARNING: Found reference {reference} that does not start with {api_base}')\n",
    "        return []\n",
    "    resource_type, id = reference.split('/')\n",
    "    single_resource = self.get_as_raw_json(resource_type, id)\n",
    "    return [dict(fullUrl = f'{self.api_base}/{resource_type}/{id}', resource = single_resource)]"
   ]
  },
  {
   "cell_type": "markdown",
   "metadata": {},
   "source": [
    "## Now we can run lots of queries (like &darr;) to load up our local cache\n",
    "```\n",
    "client = FhirClient('https://fhir.ggyxlz8lbozu.workload-prod-fhiraas.isccloud.io')\n",
    "\n",
    "patient_resources = client.get_all_resources('Patient', {\n",
    "    'birthdate': 'le1996-09-01',\n",
    "    'gender': 'male,female'\n",
    "})\n",
    "```\n",
    "... so that subsequent calls will use cached results"
   ]
  },
  {
   "cell_type": "code",
   "execution_count": null,
   "metadata": {},
   "outputs": [
    {
     "name": "stdout",
     "output_type": "stream",
     "text": [
      "GET https://ips.health/fhir/Patient?birthdate=le1996-09-01&gender=male%2Cfemale Status 200\n",
      "Returning 0 entries\n"
     ]
    }
   ],
   "source": [
    "patient_resources = client.get_all_resources('Patient', {\n",
    "    'birthdate': 'le1996-09-01',\n",
    "    'gender': 'male,female'\n",
    "})"
   ]
  },
  {
   "cell_type": "code",
   "execution_count": null,
   "metadata": {},
   "outputs": [
    {
     "name": "stdout",
     "output_type": "stream",
     "text": [
      "Converted 00_core.ipynb.\n"
     ]
    }
   ],
   "source": [
    "#hide\n",
    "from nbdev.export import notebook2script\n",
    "notebook2script('00_core.ipynb')"
   ]
  }
 ],
 "metadata": {
  "kernelspec": {
   "display_name": "Python 3 (ipykernel)",
   "language": "python",
   "name": "python3"
  }
 },
 "nbformat": 4,
 "nbformat_minor": 2
}
