{
 "cells": [
  {
   "cell_type": "code",
   "execution_count": null,
   "id": "ed961453",
   "metadata": {},
   "outputs": [],
   "source": [
    "from IPython.display import display, HTML\n",
    "from vulcan_rwd_ig.core import *"
   ]
  },
  {
   "cell_type": "markdown",
   "id": "48f8f81d",
   "metadata": {},
   "source": [
    "# Overview\n",
    "\n",
    "The goal of this notebook is to build a notional cohort using data available in the ips.health server - so that we can look at IPS data from the perspective of ansering research questions.\n",
    "\n",
    "# Inclusion/Exclusion\n",
    "\n",
    "The patients for this study would have the following criteria (Inclusion):\n",
    "- been vaccinated with mRNA SARS-COV-2 vaccine\n",
    "- been given prednisone after vaccination\n",
    "- observed monocytes in blood 0.2 to 0.4 × 10\\*9 per liter after taking prednisone\n",
    "\n",
    "The patients for this study would not have the following criteria (Exclusion):\n",
    "- any [allergies](https://build.fhir.org/allergyintolerance.html)\n",
    "    - Rebecca reminded us of the Sagan quote; Absence of Evidence does not mean Evidence of Absence\n",
    "    - TODO: how can we access `List.emptyReason`"
   ]
  },
  {
   "cell_type": "code",
   "execution_count": null,
   "id": "eb7da871",
   "metadata": {},
   "outputs": [],
   "source": [
    "client = FhirClient('http://ips.health:8080/fhir')"
   ]
  },
  {
   "cell_type": "code",
   "execution_count": null,
   "id": "4fc9c193",
   "metadata": {},
   "outputs": [
    {
     "name": "stdout",
     "output_type": "stream",
     "text": [
      "GET data\\cache\\ips.health-8080\\fhirImmunization-30 from local cache\n",
      "Returning 4 entries\n"
     ]
    }
   ],
   "source": [
    "# http://ips.health:8080/fhir/Immunization?vaccine-code=208&_pretty=true\n",
    "immunizations = client.get_all_resources('Immunization', {\n",
    "    'status': 'completed',\n",
    "    'vaccine-code': '208'\n",
    "})"
   ]
  },
  {
   "cell_type": "code",
   "execution_count": null,
   "id": "154d13e6",
   "metadata": {},
   "outputs": [
    {
     "name": "stdout",
     "output_type": "stream",
     "text": [
      "GET data\\cache\\ips.health-8080\\fhirObservation-33 from local cache\n",
      "Returning 4 entries\n"
     ]
    }
   ],
   "source": [
    "# http://ips.health:8080/fhir/Observation?code=http://loinc.org|26484-6&_pretty=true\n",
    "observations = client.get_all_resources('Observation', {\n",
    "    'code': 'http://loinc.org|26484-6'\n",
    "})"
   ]
  },
  {
   "cell_type": "code",
   "execution_count": null,
   "id": "6105fb52",
   "metadata": {},
   "outputs": [
    {
     "data": {
      "text/plain": [
       "['Patient/f15d2419-fbff-464a-826d-0afe8f095771']"
      ]
     },
     "execution_count": null,
     "metadata": {},
     "output_type": "execute_result"
    }
   ],
   "source": [
    "patient_ids = intersection_patient_ids(immunizations, observations)\n",
    "patient_ids"
   ]
  },
  {
   "cell_type": "code",
   "execution_count": null,
   "id": "0e99a138",
   "metadata": {},
   "outputs": [
    {
     "name": "stdout",
     "output_type": "stream",
     "text": [
      "GET data\\cache\\ips.health-8080\\fhirPatientf15d2419-fbff-464a-826d-0afe8f095771$summary-6 from local cache\n"
     ]
    }
   ],
   "source": [
    "patient_id = patient_ids[0]\n",
    "patient_summary = client.get_as_raw_json(f'{patient_id}/$summary')"
   ]
  },
  {
   "cell_type": "markdown",
   "id": "7065c1c7",
   "metadata": {},
   "source": [
    "The following data points (shown in the summary below) show all inclusion/exclusion criteria are met\n",
    "\n",
    "- no allergies\n",
    "- vaccinated 2021-08-05 and 2022-08-27\n",
    "- prednisone 2021-12-17\n",
    "- Monocytes 0.3 2021-12-21"
   ]
  },
  {
   "cell_type": "code",
   "execution_count": null,
   "id": "5513153d",
   "metadata": {},
   "outputs": [
    {
     "data": {
      "text/html": [
       "<h1>Patient ID: Patient/f15d2419-fbff-464a-826d-0afe8f095771</h1>"
      ],
      "text/plain": [
       "<IPython.core.display.HTML object>"
      ]
     },
     "metadata": {},
     "output_type": "display_data"
    },
    {
     "data": {
      "text/html": [
       "<div xmlns=\"http://www.w3.org/1999/xhtml\"><table class=\"hapiPropertyTable\"><caption>Allergies And Intolerances</caption><thead><tr><th>Allergen</th><th>Status</th><th>Category</th><th>Reaction</th><th>Severity</th><th>Comments</th><th>Onset</th></tr></thead><tbody><tr id=\"AllergiesAndIntolerances-e287952b-cbf1-43a3-a8dd-0bfc2a0ce833\"><td> No information about allergies </td><td> active </td><td/><td/><td/><td/><td/></tr></tbody></table></div>"
      ],
      "text/plain": [
       "<IPython.core.display.HTML object>"
      ]
     },
     "metadata": {},
     "output_type": "display_data"
    },
    {
     "data": {
      "text/html": [
       "<div xmlns=\"http://www.w3.org/1999/xhtml\"><table class=\"hapiPropertyTable\"><caption>Medication Summary: Medication Requests</caption><thead><tr><th>Medication</th><th>Status</th><th>Route</th><th>Sig</th><th>Comments</th><th>Authored Date</th></tr></thead><tbody/></table><table class=\"hapiPropertyTable\"><caption>Medication Summary: Medication Statements</caption><thead><tr><th>Medication</th><th>Status</th><th>Route</th><th>Sig</th><th>Date</th></tr></thead><tbody><tr id=\"MedicationSummary-1368a5ba-644d-44cd-8a5b-eae138d7047a\"><td> prednisone 1 mg tablet <br/> Product containing prednisone (medicinal product) </td><td>Active</td><td> Swallow, oral </td><td> Take 4mg daily for 1/12 then reduce by 1mg by 1 month </td><td> Fri Dec 17 00:00:00 UTC 2021 </td></tr><tr id=\"MedicationSummary-c8d965fb-209d-4f5b-b507-1066311e7846\"><td> cilazapril 500 microgram tablet, 90 <br/> Product containing cilazapril (medicinal product) </td><td>Active</td><td/><td> Take 1 daily </td><td> Fri Aug 26 00:00:00 UTC 2022 </td></tr></tbody></table></div>"
      ],
      "text/plain": [
       "<IPython.core.display.HTML object>"
      ]
     },
     "metadata": {},
     "output_type": "display_data"
    },
    {
     "data": {
      "text/html": [
       "<div xmlns=\"http://www.w3.org/1999/xhtml\"><table class=\"hapiPropertyTable\"><caption>Problem List</caption><thead><tr><th>Medical Problems</th><th>Status</th><th>Comments</th><th>Onset Date</th></tr></thead><tbody/></table></div>"
      ],
      "text/plain": [
       "<IPython.core.display.HTML object>"
      ]
     },
     "metadata": {},
     "output_type": "display_data"
    },
    {
     "data": {
      "text/html": [
       "<div xmlns=\"http://www.w3.org/1999/xhtml\"><table class=\"hapiPropertyTable\"><caption>Immunizations</caption><thead><tr><th>Immunization</th><th>Status</th><th>Dose Number</th><th>Manufacturer</th><th>Lot Number</th><th>Comments</th><th>Date</th></tr></thead><tbody><tr id=\"Immunizations-97fd2b09-19c6-4004-8f2d-0f74c7a61dd9\"><td> Influenza, seasonal, injectable </td><td>COMPLETED</td><td/><td/><td>P100320654</td><td/><td> Mon May 31 00:00:00 UTC 2021 </td></tr><tr id=\"Immunizations-87b42853-8718-4196-9e0f-5d63cde0d7d4\"><td> SARS-COV-2 (COVID-19) vaccine, mRNA, spike protein, LNP, preservative free, 30 mcg/0.3mL dose </td><td>COMPLETED</td><td/><td/><td>FF8871-001</td><td/><td> Thu Aug 05 00:00:00 UTC 2021 </td></tr><tr id=\"Immunizations-a3b8980f-9cb3-462a-a06c-a6e0c18e3577\"><td> SARS-COV-2 (COVID-19) vaccine, mRNA, spike protein, LNP, preservative free, 30 mcg/0.3mL dose </td><td>COMPLETED</td><td/><td/><td>FE8163-007</td><td/><td> Fri Aug 27 00:00:00 UTC 2021 </td></tr><tr id=\"Immunizations-39f6ff12-55fb-42ff-9125-b1e4a80f64f3\"><td> SARS-COV-2 (COVID-19) vaccine, mRNA, spike protein, LNP, preservative free, 30 mcg/0.3mL dose </td><td>COMPLETED</td><td/><td/><td>FL1072-025</td><td/><td> Thu Jan 13 00:00:00 UTC 2022 </td></tr><tr id=\"Immunizations-d5f36923-cb1f-4688-8de8-cb6477fd53d4\"><td> Influenza, seasonal, injectable </td><td>COMPLETED</td><td/><td/><td>P100421221</td><td/><td> Wed Jun 01 00:00:00 UTC 2022 </td></tr><tr id=\"Immunizations-07665a98-7573-4a63-8533-e61267c9640f\"><td> zoster vaccine, live </td><td>COMPLETED</td><td/><td/><td>U021248</td><td/><td> Wed Jul 13 00:00:00 UTC 2022 </td></tr><tr id=\"Immunizations-b0b87d8a-ddc8-4e6c-b189-cadb432e9cb1\"><td> SARS-COV-2 (COVID-19) vaccine, mRNA, spike protein, LNP, preservative free, 30 mcg/0.3mL dose </td><td>COMPLETED</td><td/><td/><td>PCB0008-07</td><td/><td> Mon Aug 01 00:00:00 UTC 2022 </td></tr></tbody></table></div>"
      ],
      "text/plain": [
       "<IPython.core.display.HTML object>"
      ]
     },
     "metadata": {},
     "output_type": "display_data"
    },
    {
     "data": {
      "text/html": [
       "<div xmlns=\"http://www.w3.org/1999/xhtml\"><table class=\"hapiPropertyTable\"><caption>Diagnostic Results: Observations</caption><thead><tr><th>Code</th><th>Result</th><th>Unit</th><th>Interpretation</th><th>Reference Range</th><th>Comments</th><th>Date</th></tr></thead><tbody><tr id=\"DiagnosticResults-8527ff60-c278-4e2a-8572-1a6d23a5bf23\"><td> SCL-70 extractable nuclear Ab [Presence] in Serum </td><td> Negative </td><td/><td/><td> NA </td><td/><td> Mon Jul 19 15:35:00 UTC 2021 </td></tr><tr id=\"DiagnosticResults-41cf6482-49e0-4eb7-875b-1e164347a73e\"><td> Ribonucleoprotein extractable nuclear Ab [Presence] in Serum </td><td> Negative </td><td/><td/><td> NA </td><td/><td> Mon Jul 19 15:35:00 UTC 2021 </td></tr><tr id=\"DiagnosticResults-a58fbaa0-5f41-4e9f-af6c-e3b22a1f0e49\"><td> Smith extractable nuclear Ab [Presence] in Serum </td><td> Negative </td><td/><td/><td> NA </td><td/><td> Mon Jul 19 15:35:00 UTC 2021 </td></tr><tr id=\"DiagnosticResults-c23260ef-d28d-45a1-83c7-98ff59421236\"><td> Sjogrens syndrome-A extractable nuclear Ab [Presence] in Serum </td><td> Negative </td><td/><td/><td> NA </td><td/><td> Mon Jul 19 15:35:00 UTC 2021 </td></tr><tr id=\"DiagnosticResults-5e98208d-69e1-45c7-b624-49bdf3400741\"><td> Jo-1 extractable nuclear Ab [Presence] in Serum </td><td> Negative </td><td/><td/><td> NA </td><td/><td> Mon Jul 19 15:35:00 UTC 2021 </td></tr><tr id=\"DiagnosticResults-b65b8641-2259-495a-9f0c-557507c72679\"><td> Sjogrens syndrome-B extractable nuclear Ab [Presence] in Serum </td><td> Negative </td><td/><td/><td> NA </td><td/><td> Mon Jul 19 15:35:00 UTC 2021 </td></tr><tr id=\"DiagnosticResults-fb5a3512-7c75-4f0c-8f4f-151270c1c84c\"><td> 5250 (Tissue Autoantibody Screen) </td><td> Gastric Parietal Cell Not detectedbr Mitochondrial Not detected 20br Smooth Muscle Not detected 20 </td><td/><td/><td> NA </td><td/><td> Mon Jul 12 15:05:00 UTC 2021 </td></tr><tr id=\"DiagnosticResults-b9250bbb-aa3b-4bb5-9165-b06462772da1\"><td> C reactive protein [Mass/volume] in Serum or Plasma </td><td> 2.8 </td><td> mg/L </td><td/><td> 0-8 </td><td/><td> Fri Jul 09 19:06:00 UTC 2021 </td></tr><tr id=\"DiagnosticResults-260240a6-b754-4976-8af5-7552621a48d4\"><td> 3712 (Screening FIT) </td><td> Negative </td><td/><td/><td> NA </td><td> This is a result from the National Bowel Screening Programme. <br/> L </td><td> Fri Dec 10 21:00:00 UTC 2021 </td></tr><tr id=\"DiagnosticResults-d4000d8c-7c09-4dff-937f-51de8e66ddeb\"><td> Hematocrit [Volume Fraction] of Blood </td><td> 0.4 </td><td> L/L </td><td/><td> 0.40-0.52 </td><td/><td> Mon Jan 10 16:05:00 UTC 2022 </td></tr><tr id=\"DiagnosticResults-bb072250-d66c-4223-a0d6-c05b683b62f0\"><td> Platelets [#/volume] in Blood </td><td> 214 </td><td> 10*9/L </td><td/><td> 150-400 </td><td/><td> Mon Jan 10 16:05:00 UTC 2022 </td></tr><tr id=\"DiagnosticResults-9567b2ee-7fcb-4061-a1af-a56635ea1e48\"><td> Hemoglobin [Mass/volume] in Blood </td><td> 137 </td><td> g/L </td><td/><td> 130-175 </td><td/><td> Mon Jan 10 16:05:00 UTC 2022 </td></tr><tr id=\"DiagnosticResults-7857e6be-6f6c-4868-b426-7f8fa10af987\"><td> Basophils [#/volume] in Blood </td><td> 0.1 </td><td> 10*9/L </td><td/><td> 0-0.2 </td><td/><td> Mon Jan 10 16:05:00 UTC 2022 </td></tr><tr id=\"DiagnosticResults-c76734fe-d253-46f0-9065-37069d1ac2af\"><td> Leukocytes [#/volume] in Blood </td><td> 7.9 </td><td> 10*9/L </td><td/><td> 4.0-11.0 </td><td/><td> Mon Jan 10 16:05:00 UTC 2022 </td></tr><tr id=\"DiagnosticResults-10085b4e-70dc-466b-a06e-292c34c18809\"><td> Lymphocytes [#/volume] in Blood </td><td> 1.1 </td><td> 10*9/L </td><td/><td> 1.0-4.0 </td><td/><td> Mon Jan 10 16:05:00 UTC 2022 </td></tr><tr id=\"DiagnosticResults-fe325ea0-ff1d-4e28-a7a4-49fdbca8d43b\"><td> MCV [Entitic volume] </td><td> 91 </td><td> fL </td><td/><td> 80-99 </td><td/><td> Mon Jan 10 16:05:00 UTC 2022 </td></tr><tr id=\"DiagnosticResults-c677c2ac-b49a-4ae0-a8d2-8daa525adc78\"><td> MCH [Entitic mass] </td><td> 31 </td><td> pg </td><td/><td> 27-33 </td><td/><td> Mon Jan 10 16:05:00 UTC 2022 </td></tr><tr id=\"DiagnosticResults-14fa14cc-cda9-4156-937f-a65f21237c19\"><td> Neutrophils.hypersegmented [#/volume] in Blood </td><td> 6.3 </td><td> 10*9/L </td><td/><td> 1.9-7.5 </td><td/><td> Mon Jan 10 16:05:00 UTC 2022 </td></tr><tr id=\"DiagnosticResults-68f3d5b4-a96b-4cf8-921a-3e72e851c0e4\"><td> Eosinophils [#/volume] in Blood </td><td> 0.1 </td><td> 10*9/L </td><td/><td> 0.0-0.5 </td><td/><td> Mon Jan 10 16:05:00 UTC 2022 </td></tr><tr id=\"DiagnosticResults-1d2d074a-236a-4440-bd92-3cec51e1553e\"><td> Monocytes [#/volume] in Blood </td><td> 0.4 </td><td> 10*9/L </td><td/><td> 0.2-1.0 </td><td/><td> Mon Jan 10 16:05:00 UTC 2022 </td></tr><tr id=\"DiagnosticResults-fcf4456b-9fb9-4855-9de1-5ec7e46d3818\"><td> 4070 (ESR) </td><td> 10 </td><td> mm/h </td><td/><td> 0-15 </td><td/><td> Mon Jan 10 16:05:00 UTC 2022 </td></tr><tr id=\"DiagnosticResults-5b2fa42d-6249-4d72-b159-8b1983555272\"><td> Creatine kinase [Enzymatic activity/volume] in Serum or Plasma </td><td> 37 </td><td> U/L </td><td/><td> 0-220 </td><td/><td> Fri Jul 09 19:06:00 UTC 2021 </td></tr><tr id=\"DiagnosticResults-68b2b9e6-f17d-443f-84b8-9c379489f862\"><td> Urate [Moles/volume] in Serum or Plasma </td><td> 0.39 </td><td> mmol/L </td><td/><td> 0.23-0.42 </td><td> The urate target level for gout management is &lt;0.36 mmol/L <br/> L </td><td> Tue Dec 21 18:06:00 UTC 2021 </td></tr><tr id=\"DiagnosticResults-524cfa36-6836-4636-a9b9-52c39bd2b5f8\"><td> Hematocrit [Volume Fraction] of Blood </td><td> 0.42 </td><td> L/L </td><td/><td> 0.40-0.52 </td><td/><td> Fri Jul 09 19:06:00 UTC 2021 </td></tr><tr id=\"DiagnosticResults-ead938fd-6d66-42bb-ad07-0c7746539c1d\"><td> Hemoglobin [Mass/volume] in Blood </td><td> 142 </td><td> g/L </td><td/><td> 130-175 </td><td/><td> Fri Jul 09 19:06:00 UTC 2021 </td></tr><tr id=\"DiagnosticResults-f96ea5ae-c352-4f95-af35-e05401a9609d\"><td> Neutrophils.hypersegmented [#/volume] in Blood </td><td> 8.6 </td><td> 10*9/L </td><td> High </td><td> 1.9-7.5 </td><td/><td> Fri Jul 09 19:06:00 UTC 2021 </td></tr><tr id=\"DiagnosticResults-70d81147-e56d-4d04-bd16-23d182b19a9c\"><td> 4070 (ESR) </td><td> 22 </td><td> mm/h </td><td> High </td><td> 0-15 </td><td/><td> Fri Jul 09 19:06:00 UTC 2021 </td></tr><tr id=\"DiagnosticResults-5105719f-faf9-4d24-a316-d2b07cfb0c3a\"><td> MCH [Entitic mass] </td><td> 31 </td><td> pg </td><td/><td> 27-33 </td><td/><td> Fri Jul 09 19:06:00 UTC 2021 </td></tr><tr id=\"DiagnosticResults-a1c8cfdb-833d-48c3-b5b0-626e9ed60788\"><td> Basophils [#/volume] in Blood </td><td> 0.1 </td><td> 10*9/L </td><td/><td> 0-0.2 </td><td/><td> Fri Jul 09 19:06:00 UTC 2021 </td></tr><tr id=\"DiagnosticResults-2b327d60-a6ea-4444-b2a0-8d95bd7c72af\"><td> Monocytes [#/volume] in Blood </td><td> 0.3 </td><td> 10*9/L </td><td/><td> 0.2-1.0 </td><td/><td> Fri Jul 09 19:06:00 UTC 2021 </td></tr><tr id=\"DiagnosticResults-eebf7882-8255-4639-91df-6c597b519a70\"><td> Platelets [#/volume] in Blood </td><td> 240 </td><td> 10*9/L </td><td/><td> 150-400 </td><td/><td> Fri Jul 09 19:06:00 UTC 2021 </td></tr><tr id=\"DiagnosticResults-9ada9330-1547-46d3-8d04-5daf81963929\"><td> Lymphocytes [#/volume] in Blood </td><td> 0.9 </td><td> 10*9/L </td><td> Low </td><td> 1.0-4.0 </td><td/><td> Fri Jul 09 19:06:00 UTC 2021 </td></tr><tr id=\"DiagnosticResults-f4e07397-c03d-4069-984b-992b2e24bb05\"><td> Eosinophils [#/volume] in Blood </td><td> 0.1 </td><td> 10*9/L </td><td/><td> 0.0-0.5 </td><td/><td> Fri Jul 09 19:06:00 UTC 2021 </td></tr><tr id=\"DiagnosticResults-fb42d91d-219d-45c6-ba68-2c02837b6655\"><td> MCV [Entitic volume] </td><td> 91 </td><td> fL </td><td/><td> 80-99 </td><td/><td> Fri Jul 09 19:06:00 UTC 2021 </td></tr><tr id=\"DiagnosticResults-fbf52f98-72b3-4e4f-b425-19948b01958c\"><td> Leukocytes [#/volume] in Blood </td><td> 9.9 </td><td> 10*9/L </td><td/><td> 4.0-11.0 </td><td/><td> Fri Jul 09 19:06:00 UTC 2021 </td></tr><tr id=\"DiagnosticResults-62c5742b-ddfe-430c-a3b3-9f49eca6c2dc\"><td> Sodium [Moles/volume] in Serum or Plasma </td><td> 140 </td><td> mmol/L </td><td/><td> 135-145 </td><td/><td> Fri Jul 09 19:06:00 UTC 2021 </td></tr><tr id=\"DiagnosticResults-8d4abbab-ee55-4004-994e-cecb00624be5\"><td> Glomerular filtration rate/1.73 sq M.predicted [Volume Rate/Area] in Serum, Plasma or Blood by Creatinine-based formula (CKD-EPI) </td><td> 90 </td><td> mL/min </td><td/><td> &gt;60 </td><td/><td> Fri Jul 09 19:06:00 UTC 2021 </td></tr><tr id=\"DiagnosticResults-60e52764-49ae-454e-84a8-480e171c5cf4\"><td> Potassium [Moles/volume] in Serum or Plasma </td><td> 4.5 </td><td> mmol/L </td><td/><td> 3.5-5.2 </td><td/><td> Fri Jul 09 19:06:00 UTC 2021 </td></tr><tr id=\"DiagnosticResults-080806f2-a4c4-47bb-9871-df38dee2f3df\"><td> Urate [Moles/volume] in Serum or Plasma </td><td> 0.41 </td><td> mmol/L </td><td/><td> 0.23-0.42 </td><td/><td> Fri Jul 09 19:06:00 UTC 2021 </td></tr><tr id=\"DiagnosticResults-80b2838a-4057-4fd1-a25a-b5230d445790\"><td> Creatinine [Moles/volume] in Serum or Plasma </td><td> 77 </td><td> umol/L </td><td/><td> 60-105 </td><td/><td> Fri Jul 09 19:06:00 UTC 2021 </td></tr><tr id=\"DiagnosticResults-522f8427-6d91-4bb4-be75-fbd79402e69b\"><td> C reactive protein [Mass/volume] in Serum or Plasma </td><td> 0.6 </td><td> mg/L </td><td/><td> 0-8 </td><td/><td> Mon Dec 06 16:06:00 UTC 2021 </td></tr><tr id=\"DiagnosticResults-63311efa-020e-4759-b6a8-14a669d6cf7e\"><td> 5796 (ANA COMMENT) </td><td> SPECKLED This pattern may be associated with connective tissue disease but also other non-specific chronic inflammatory conditions. Recommend interpretation in conjunction with ENA and dsDNA. This comment was added by TH (BMLS). </td><td/><td/><td> NA </td><td/><td> Tue Jul 13 15:05:00 UTC 2021 </td></tr><tr id=\"DiagnosticResults-5eb0c3cb-6b4c-4ad4-9fd4-a110e7e5705c\"><td> Nuclear Ab [Titer] in Serum </td><td> Staining patternbr Speckled 1 in 320 </td><td/><td/><td> NA </td><td/><td> Tue Jul 13 15:05:00 UTC 2021 </td></tr><tr id=\"DiagnosticResults-22da9738-0abc-4736-8c1b-8b42c325bf8c\"><td> Nuclear Ab [Presence] in Serum </td><td> Positive </td><td/><td/><td> NA </td><td/><td> Tue Jul 13 15:05:00 UTC 2021 </td></tr><tr id=\"DiagnosticResults-c7f388c6-4b7b-4520-9272-3365c48f6290\"><td> Urate [Moles/volume] in Serum or Plasma </td><td> 0.47 </td><td> mmol/L </td><td> High </td><td> 0.23-0.42 </td><td> The urate target level for gout management is &lt;0.36 mmol/L <br/> L </td><td> Mon Dec 06 16:06:00 UTC 2021 </td></tr><tr id=\"DiagnosticResults-1f22f339-f87e-4654-8eef-a264c7609a1c\"><td> C reactive protein [Mass/volume] in Serum or Plasma </td><td> 0.3 </td><td> mg/L </td><td/><td> 0-8 </td><td/><td> Tue Dec 21 18:06:00 UTC 2021 </td></tr><tr id=\"DiagnosticResults-ff5beb44-95df-4a60-84fe-d3c48eea5811\"><td> Platelets [#/volume] in Blood </td><td> 209 </td><td> 10*9/L </td><td/><td> 150-400 </td><td/><td> Tue Dec 21 19:06:00 UTC 2021 </td></tr><tr id=\"DiagnosticResults-6892eef3-e54c-40d9-9c34-19432d24bedd\"><td> Leukocytes [#/volume] in Blood </td><td> 8.5 </td><td> 10*9/L </td><td/><td> 4.0-11.0 </td><td/><td> Tue Dec 21 19:06:00 UTC 2021 </td></tr><tr id=\"DiagnosticResults-d0099d09-f869-4e18-b3c6-c6b12d722304\"><td> Eosinophils [#/volume] in Blood </td><td> 0.1 </td><td> 10*9/L </td><td/><td> 0.0-0.5 </td><td/><td> Tue Dec 21 19:06:00 UTC 2021 </td></tr><tr id=\"DiagnosticResults-79b4f543-9ac1-4ae9-b6e5-9e3f0c8e677a\"><td> Hematocrit [Volume Fraction] of Blood </td><td> 0.42 </td><td> L/L </td><td/><td> 0.40-0.52 </td><td/><td> Tue Dec 21 19:06:00 UTC 2021 </td></tr><tr id=\"DiagnosticResults-4916e97a-5718-4f9c-b857-1f8900a26226\"><td> 4070 (ESR) </td><td> 7 </td><td> mm/h </td><td/><td> 0-15 </td><td/><td> Tue Dec 21 19:06:00 UTC 2021 </td></tr><tr id=\"DiagnosticResults-863c789c-d902-41f9-be50-021a67096e7c\"><td> Monocytes [#/volume] in Blood </td><td> 0.3 </td><td> 10*9/L </td><td/><td> 0.2-1.0 </td><td/><td> Tue Dec 21 19:06:00 UTC 2021 </td></tr><tr id=\"DiagnosticResults-6af95cb3-5100-461a-8a49-a1e9e3696e8e\"><td> Basophils [#/volume] in Blood </td><td> 0.1 </td><td> 10*9/L </td><td/><td> 0-0.2 </td><td/><td> Tue Dec 21 19:06:00 UTC 2021 </td></tr><tr id=\"DiagnosticResults-2535a81e-a70f-4b3c-ae64-06a45bb85f96\"><td> MCV [Entitic volume] </td><td> 92 </td><td> fL </td><td/><td> 80-99 </td><td/><td> Tue Dec 21 19:06:00 UTC 2021 </td></tr><tr id=\"DiagnosticResults-a20c656a-4db0-4a2c-8322-74fda0d014fc\"><td> Lymphocytes [#/volume] in Blood </td><td> 1.3 </td><td> 10*9/L </td><td/><td> 1.0-4.0 </td><td/><td> Tue Dec 21 19:06:00 UTC 2021 </td></tr><tr id=\"DiagnosticResults-309f95d5-d3c3-4d5f-837f-7a02246c06f1\"><td> Neutrophils.hypersegmented [#/volume] in Blood </td><td> 6.8 </td><td> 10*9/L </td><td/><td> 1.9-7.5 </td><td/><td> Tue Dec 21 19:06:00 UTC 2021 </td></tr><tr id=\"DiagnosticResults-d3aae350-6699-4e9a-a954-ee2f4d69fcc1\"><td> Hemoglobin [Mass/volume] in Blood </td><td> 141 </td><td> g/L </td><td/><td> 130-175 </td><td/><td> Tue Dec 21 19:06:00 UTC 2021 </td></tr><tr id=\"DiagnosticResults-066974c4-4221-4608-9d3d-8aabb988fea8\"><td> MCH [Entitic mass] </td><td> 31 </td><td> pg </td><td/><td> 27-33 </td><td/><td> Tue Dec 21 19:06:00 UTC 2021 </td></tr><tr id=\"DiagnosticResults-dd1f7d36-7176-40ea-a461-658d61c38afb\"><td> DNA double strand Ab [Presence] in Serum </td><td> Negative </td><td/><td/><td> NA </td><td/><td> Mon Jul 19 13:35:00 UTC 2021 </td></tr><tr id=\"DiagnosticResults-9b077511-b8a0-48b5-9b6f-8d90f513b5db\"><td> DNA double strand Ab [Units/volume] in Serum by Immunoassay </td><td> 1 </td><td> m[IU]/mL </td><td/><td> &lt;10.0 </td><td/><td> Mon Jul 19 13:35:00 UTC 2021 </td></tr><tr id=\"DiagnosticResults-4386701a-18e3-40c1-9579-564981330b24\"><td> 5806 (ds-DNA Comment) </td><td> ds-DNA antibodies are specific for SLE but must be interpreted in conjunction with the clinical picture. Low level results (15) are less specific. </td><td/><td/><td> NA </td><td/><td> Mon Jul 19 13:35:00 UTC 2021 </td></tr><tr id=\"DiagnosticResults-84709870-dc96-433c-be6c-6bc3a933555a\"><td> Urate [Moles/volume] in Serum or Plasma </td><td> 0.39 </td><td> mmol/L </td><td/><td> 0.23-0.42 </td><td> The urate target level for gout management is &lt;0.36 mmol/L <br/> L </td><td> Mon Jan 10 15:36:00 UTC 2022 </td></tr><tr id=\"DiagnosticResults-2304123d-0651-421d-bce6-e78fa373b0b0\"><td> Leukocytes [#/volume] in Blood </td><td> 7.2 </td><td> 10*9/L </td><td/><td> 4.0-11.0 </td><td/><td> Mon Dec 06 16:35:00 UTC 2021 </td></tr><tr id=\"DiagnosticResults-e2019bc5-808b-4df4-8d86-32e090e05a78\"><td> MCH [Entitic mass] </td><td> 31 </td><td> pg </td><td/><td> 27-33 </td><td/><td> Mon Dec 06 16:35:00 UTC 2021 </td></tr><tr id=\"DiagnosticResults-06240c8b-2a90-4fb5-88a8-7ec447e67d8f\"><td> Platelets [#/volume] in Blood </td><td> 228 </td><td> 10*9/L </td><td/><td> 150-400 </td><td/><td> Mon Dec 06 16:35:00 UTC 2021 </td></tr><tr id=\"DiagnosticResults-437d675f-12a1-4531-8df2-ee346f2e60aa\"><td> MCV [Entitic volume] </td><td> 91 </td><td> fL </td><td/><td> 80-99 </td><td/><td> Mon Dec 06 16:35:00 UTC 2021 </td></tr><tr id=\"DiagnosticResults-1d79cc7b-df7e-4cfb-a2ab-d7a053ec245c\"><td> Neutrophils.hypersegmented [#/volume] in Blood </td><td> 5.5 </td><td> 10*9/L </td><td/><td> 1.9-7.5 </td><td/><td> Mon Dec 06 16:35:00 UTC 2021 </td></tr><tr id=\"DiagnosticResults-f8d56f70-8a40-4767-bbde-3456896ec8cb\"><td> Basophils [#/volume] in Blood </td><td> 0.1 </td><td> 10*9/L </td><td/><td> 0-0.2 </td><td/><td> Mon Dec 06 16:35:00 UTC 2021 </td></tr><tr id=\"DiagnosticResults-92231d6a-fad5-4e48-81d6-deab1772af4b\"><td> Monocytes [#/volume] in Blood </td><td> 0.4 </td><td> 10*9/L </td><td/><td> 0.2-1.0 </td><td/><td> Mon Dec 06 16:35:00 UTC 2021 </td></tr><tr id=\"DiagnosticResults-a976d048-d993-4ba8-a1e9-23b8de32ec66\"><td> 4070 (ESR) </td><td> 10 </td><td> mm/h </td><td/><td> 0-15 </td><td/><td> Mon Dec 06 16:35:00 UTC 2021 </td></tr><tr id=\"DiagnosticResults-8b0cc73a-f9b3-461a-b0be-499a419f6995\"><td> Hematocrit [Volume Fraction] of Blood </td><td> 0.41 </td><td> L/L </td><td/><td> 0.40-0.52 </td><td/><td> Mon Dec 06 16:35:00 UTC 2021 </td></tr><tr id=\"DiagnosticResults-90b6c318-b536-4aea-ae47-eed3ce78b02c\"><td> Lymphocytes [#/volume] in Blood </td><td> 1.3 </td><td> 10*9/L </td><td/><td> 1.0-4.0 </td><td/><td> Mon Dec 06 16:35:00 UTC 2021 </td></tr><tr id=\"DiagnosticResults-1e40491f-b4b0-48cf-8d9b-76e1aa553dd9\"><td> Hemoglobin [Mass/volume] in Blood </td><td> 139 </td><td> g/L </td><td/><td> 130-175 </td><td/><td> Mon Dec 06 16:35:00 UTC 2021 </td></tr><tr id=\"DiagnosticResults-5e21987a-eb48-46c1-a018-be78ec21a251\"><td> Eosinophils [#/volume] in Blood </td><td> 0.1 </td><td> 10*9/L </td><td/><td> 0.0-0.5 </td><td/><td> Mon Dec 06 16:35:00 UTC 2021 </td></tr><tr id=\"DiagnosticResults-554c0d99-8ee5-47ee-94e1-bde0cfe81a76\"><td> C reactive protein [Mass/volume] in Serum or Plasma </td><td> 0.4 </td><td> mg/L </td><td/><td> 0-8 </td><td/><td> Mon Jan 10 15:36:00 UTC 2022 </td></tr><tr id=\"DiagnosticResults-19b23db8-8723-4508-8975-e2f9e09fe833\"><td> SARS-CoV-2 (COVID-19) RNA [Presence] in Respiratory specimen by NAA with probe detection </td><td> Not detected </td><td/><td/><td> NA </td><td/><td> Sat Jul 24 14:12:00 UTC 2021 </td></tr><tr id=\"DiagnosticResults-6fa7b364-c090-4d4d-a805-0302b9463542\"><td> $MOLSPEC (Specimen type (ID molecular)) </td><td> Swab. Nasophar. </td><td/><td/><td> NA </td><td/><td> Sat Jul 24 14:12:00 UTC 2021 </td></tr><tr id=\"DiagnosticResults-9266adef-a533-4606-8b4e-f28bb6edf440\"><td> $SYMP (Symptomatic) </td><td> Symptomatic </td><td/><td/><td> NA </td><td/><td> Sat Jul 24 14:12:00 UTC 2021 </td></tr></tbody></table><table class=\"hapiPropertyTable\"><caption>Diagnostic Results: Diagnostic Reports</caption><thead><tr><th>Code</th><th>Date</th></tr></thead><tbody><tr id=\"DiagnosticResults-4bd9eefa-5eee-4b6b-86d2-15db09537b9b\"><td> 5329 (Extractable Nuclear Antibody) </td><td> Mon Jul 19 15:35:00 UTC 2021 </td></tr><tr id=\"DiagnosticResults-a2154246-b5ea-42fa-a388-4189cfc801aa\"><td> 5250 (Tissue Autoantibody Screen) </td><td> Mon Jul 12 15:05:00 UTC 2021 </td></tr><tr id=\"DiagnosticResults-c81c7b46-5f59-4b89-9560-6a1448de00c3\"><td> RADXR (Radiology X-RAY) </td><td> Mon Jul 26 14:32:00 UTC 2021 </td></tr><tr id=\"DiagnosticResults-45072ba5-49af-403b-9b3a-558bb4af1e64\"><td> 5780 (CRP) </td><td> Fri Jul 09 19:06:00 UTC 2021 </td></tr><tr id=\"DiagnosticResults-fd3c6ca9-ac83-4143-9eae-f6f7f08fb3f8\"><td> 3711 (Screening FIT) </td><td> Fri Dec 10 21:00:00 UTC 2021 </td></tr><tr id=\"DiagnosticResults-2e519aed-e089-4e10-8dc1-5362ef90570b\"><td> 4014 (CBC) </td><td> Mon Jan 10 16:05:00 UTC 2022 </td></tr><tr id=\"DiagnosticResults-5047877c-b029-4dc0-bbb0-1ce07570d297\"><td> 1630 (Cardiac Enzymes) </td><td> Fri Jul 09 19:06:00 UTC 2021 </td></tr><tr id=\"DiagnosticResults-4ba794a0-a1fe-42c2-add3-8752db888f08\"><td> 0055 (GENERAL CHEM....) </td><td> Tue Dec 21 18:06:00 UTC 2021 </td></tr><tr id=\"DiagnosticResults-a9611be1-a0a2-4941-addd-4f2b1c5f47f4\"><td> 4014 (CBC) </td><td> Fri Jul 09 19:06:00 UTC 2021 </td></tr><tr id=\"DiagnosticResults-d0cf4649-3067-4e03-b9ff-fbb36244da00\"><td> 0055 (GENERAL CHEM....) </td><td> Fri Jul 09 19:06:00 UTC 2021 </td></tr><tr id=\"DiagnosticResults-888a0d8f-3491-4907-8a6e-cb95bb9d1830\"><td> 5780 (CRP) </td><td> Mon Dec 06 16:06:00 UTC 2021 </td></tr><tr id=\"DiagnosticResults-c7e7932f-22f0-4286-a70c-f7dfd38dd461\"><td> 5789 (ANA GROUP) </td><td> Tue Jul 13 15:05:00 UTC 2021 </td></tr><tr id=\"DiagnosticResults-43982c06-3a81-4447-a3a1-f419b7716c8e\"><td> 0055 (GENERAL CHEM....) </td><td> Mon Dec 06 16:06:00 UTC 2021 </td></tr><tr id=\"DiagnosticResults-43a65ef2-887a-40cd-ba78-98e60a771a19\"><td> 5780 (CRP) </td><td> Tue Dec 21 18:06:00 UTC 2021 </td></tr><tr id=\"DiagnosticResults-a8d5f749-097b-491f-b941-220355aa7d8d\"><td> 4014 (CBC) </td><td> Tue Dec 21 19:06:00 UTC 2021 </td></tr><tr id=\"DiagnosticResults-94947458-dbbe-4a56-9538-93f79ec5b63e\"><td> 5803 (ds-DNA Ab Group) </td><td> Mon Jul 19 13:35:00 UTC 2021 </td></tr><tr id=\"DiagnosticResults-39828724-95fd-41b3-a83e-12023ccee184\"><td> RADXR (Radiology X-RAY) </td><td> Wed Dec 29 12:37:00 UTC 2021 </td></tr><tr id=\"DiagnosticResults-21bde69b-3581-4c62-a8f2-fab7d21c20e2\"><td> 0055 (GENERAL CHEM....) </td><td> Mon Jan 10 15:36:00 UTC 2022 </td></tr><tr id=\"DiagnosticResults-74c86554-3296-4441-a1e6-3e846d7f1ae4\"><td> 4014 (CBC) </td><td> Mon Dec 06 16:35:00 UTC 2021 </td></tr><tr id=\"DiagnosticResults-b75c77dc-dc73-4a8e-bed6-fd1afe09c376\"><td> 5780 (CRP) </td><td> Mon Jan 10 15:36:00 UTC 2022 </td></tr><tr id=\"DiagnosticResults-a5a08139-8165-4da5-8ec7-a2efc0706a01\"><td> $INFMO (I.D.: Molecular biology) </td><td> Sat Jul 24 14:12:00 UTC 2021 </td></tr></tbody></table></div>"
      ],
      "text/plain": [
       "<IPython.core.display.HTML object>"
      ]
     },
     "metadata": {},
     "output_type": "display_data"
    },
    {
     "data": {
      "text/html": [
       "<div xml:lang=\"en-NZ\" xmlns=\"http://www.w3.org/1999/xhtml\">Name: PETER KEITH JONES</div>"
      ],
      "text/plain": [
       "<IPython.core.display.HTML object>"
      ]
     },
     "metadata": {},
     "output_type": "display_data"
    },
    {
     "data": {
      "text/html": [
       "<div xmlns=\"http://www.w3.org/1999/xhtml\"><div class=\"hapiHeaderText\"> 5329 (Extractable Nuclear Antibody) </div><table class=\"hapiPropertyTable\"><tbody><tr><td>Status</td><td>FINAL</td></tr></tbody></table></div>"
      ],
      "text/plain": [
       "<IPython.core.display.HTML object>"
      ]
     },
     "metadata": {},
     "output_type": "display_data"
    },
    {
     "data": {
      "text/html": [
       "<div xmlns=\"http://www.w3.org/1999/xhtml\"><div class=\"hapiHeaderText\"> 5250 (Tissue Autoantibody Screen) </div><table class=\"hapiPropertyTable\"><tbody><tr><td>Status</td><td>FINAL</td></tr></tbody></table></div>"
      ],
      "text/plain": [
       "<IPython.core.display.HTML object>"
      ]
     },
     "metadata": {},
     "output_type": "display_data"
    },
    {
     "data": {
      "text/html": [
       "<div xmlns=\"http://www.w3.org/1999/xhtml\"><div class=\"hapiHeaderText\"> RADXR (Radiology X-RAY) </div><table class=\"hapiPropertyTable\"><tbody><tr><td>Status</td><td>FINAL</td></tr></tbody></table></div>"
      ],
      "text/plain": [
       "<IPython.core.display.HTML object>"
      ]
     },
     "metadata": {},
     "output_type": "display_data"
    },
    {
     "data": {
      "text/html": [
       "<div xmlns=\"http://www.w3.org/1999/xhtml\"><div class=\"hapiHeaderText\"> 5780 (CRP) </div><table class=\"hapiPropertyTable\"><tbody><tr><td>Status</td><td>FINAL</td></tr></tbody></table></div>"
      ],
      "text/plain": [
       "<IPython.core.display.HTML object>"
      ]
     },
     "metadata": {},
     "output_type": "display_data"
    },
    {
     "data": {
      "text/html": [
       "<div xmlns=\"http://www.w3.org/1999/xhtml\"><div class=\"hapiHeaderText\"> 3711 (Screening FIT) </div><table class=\"hapiPropertyTable\"><tbody><tr><td>Status</td><td>FINAL</td></tr></tbody></table></div>"
      ],
      "text/plain": [
       "<IPython.core.display.HTML object>"
      ]
     },
     "metadata": {},
     "output_type": "display_data"
    },
    {
     "data": {
      "text/html": [
       "<div xmlns=\"http://www.w3.org/1999/xhtml\"><div class=\"hapiHeaderText\"> 4014 (CBC) </div><table class=\"hapiPropertyTable\"><tbody><tr><td>Status</td><td>FINAL</td></tr></tbody></table></div>"
      ],
      "text/plain": [
       "<IPython.core.display.HTML object>"
      ]
     },
     "metadata": {},
     "output_type": "display_data"
    },
    {
     "data": {
      "text/html": [
       "<div xmlns=\"http://www.w3.org/1999/xhtml\"><div class=\"hapiHeaderText\"> 1630 (Cardiac Enzymes) </div><table class=\"hapiPropertyTable\"><tbody><tr><td>Status</td><td>FINAL</td></tr></tbody></table></div>"
      ],
      "text/plain": [
       "<IPython.core.display.HTML object>"
      ]
     },
     "metadata": {},
     "output_type": "display_data"
    },
    {
     "data": {
      "text/html": [
       "<div xmlns=\"http://www.w3.org/1999/xhtml\"><div class=\"hapiHeaderText\"> 0055 (GENERAL CHEM....) </div><table class=\"hapiPropertyTable\"><tbody><tr><td>Status</td><td>FINAL</td></tr></tbody></table></div>"
      ],
      "text/plain": [
       "<IPython.core.display.HTML object>"
      ]
     },
     "metadata": {},
     "output_type": "display_data"
    },
    {
     "data": {
      "text/html": [
       "<div xmlns=\"http://www.w3.org/1999/xhtml\"><div class=\"hapiHeaderText\"> 4014 (CBC) </div><table class=\"hapiPropertyTable\"><tbody><tr><td>Status</td><td>FINAL</td></tr></tbody></table></div>"
      ],
      "text/plain": [
       "<IPython.core.display.HTML object>"
      ]
     },
     "metadata": {},
     "output_type": "display_data"
    },
    {
     "data": {
      "text/html": [
       "<div xmlns=\"http://www.w3.org/1999/xhtml\"><div class=\"hapiHeaderText\"> 0055 (GENERAL CHEM....) </div><table class=\"hapiPropertyTable\"><tbody><tr><td>Status</td><td>FINAL</td></tr></tbody></table></div>"
      ],
      "text/plain": [
       "<IPython.core.display.HTML object>"
      ]
     },
     "metadata": {},
     "output_type": "display_data"
    },
    {
     "data": {
      "text/html": [
       "<div xmlns=\"http://www.w3.org/1999/xhtml\"><div class=\"hapiHeaderText\"> 5780 (CRP) </div><table class=\"hapiPropertyTable\"><tbody><tr><td>Status</td><td>FINAL</td></tr></tbody></table></div>"
      ],
      "text/plain": [
       "<IPython.core.display.HTML object>"
      ]
     },
     "metadata": {},
     "output_type": "display_data"
    },
    {
     "data": {
      "text/html": [
       "<div xmlns=\"http://www.w3.org/1999/xhtml\"><div class=\"hapiHeaderText\"> 5789 (ANA GROUP) </div><table class=\"hapiPropertyTable\"><tbody><tr><td>Status</td><td>FINAL</td></tr></tbody></table></div>"
      ],
      "text/plain": [
       "<IPython.core.display.HTML object>"
      ]
     },
     "metadata": {},
     "output_type": "display_data"
    },
    {
     "data": {
      "text/html": [
       "<div xmlns=\"http://www.w3.org/1999/xhtml\"><div class=\"hapiHeaderText\"> 0055 (GENERAL CHEM....) </div><table class=\"hapiPropertyTable\"><tbody><tr><td>Status</td><td>FINAL</td></tr></tbody></table></div>"
      ],
      "text/plain": [
       "<IPython.core.display.HTML object>"
      ]
     },
     "metadata": {},
     "output_type": "display_data"
    },
    {
     "data": {
      "text/html": [
       "<div xmlns=\"http://www.w3.org/1999/xhtml\"><div class=\"hapiHeaderText\"> 5780 (CRP) </div><table class=\"hapiPropertyTable\"><tbody><tr><td>Status</td><td>FINAL</td></tr></tbody></table></div>"
      ],
      "text/plain": [
       "<IPython.core.display.HTML object>"
      ]
     },
     "metadata": {},
     "output_type": "display_data"
    },
    {
     "data": {
      "text/html": [
       "<div xmlns=\"http://www.w3.org/1999/xhtml\"><div class=\"hapiHeaderText\"> 4014 (CBC) </div><table class=\"hapiPropertyTable\"><tbody><tr><td>Status</td><td>FINAL</td></tr></tbody></table></div>"
      ],
      "text/plain": [
       "<IPython.core.display.HTML object>"
      ]
     },
     "metadata": {},
     "output_type": "display_data"
    },
    {
     "data": {
      "text/html": [
       "<div xmlns=\"http://www.w3.org/1999/xhtml\"><div class=\"hapiHeaderText\"> 5803 (ds-DNA Ab Group) </div><table class=\"hapiPropertyTable\"><tbody><tr><td>Status</td><td>FINAL</td></tr></tbody></table></div>"
      ],
      "text/plain": [
       "<IPython.core.display.HTML object>"
      ]
     },
     "metadata": {},
     "output_type": "display_data"
    },
    {
     "data": {
      "text/html": [
       "<div xmlns=\"http://www.w3.org/1999/xhtml\"><div class=\"hapiHeaderText\"> RADXR (Radiology X-RAY) </div><table class=\"hapiPropertyTable\"><tbody><tr><td>Status</td><td>FINAL</td></tr></tbody></table></div>"
      ],
      "text/plain": [
       "<IPython.core.display.HTML object>"
      ]
     },
     "metadata": {},
     "output_type": "display_data"
    },
    {
     "data": {
      "text/html": [
       "<div xmlns=\"http://www.w3.org/1999/xhtml\"><div class=\"hapiHeaderText\"> 0055 (GENERAL CHEM....) </div><table class=\"hapiPropertyTable\"><tbody><tr><td>Status</td><td>FINAL</td></tr></tbody></table></div>"
      ],
      "text/plain": [
       "<IPython.core.display.HTML object>"
      ]
     },
     "metadata": {},
     "output_type": "display_data"
    },
    {
     "data": {
      "text/html": [
       "<div xmlns=\"http://www.w3.org/1999/xhtml\"><div class=\"hapiHeaderText\"> 4014 (CBC) </div><table class=\"hapiPropertyTable\"><tbody><tr><td>Status</td><td>FINAL</td></tr></tbody></table></div>"
      ],
      "text/plain": [
       "<IPython.core.display.HTML object>"
      ]
     },
     "metadata": {},
     "output_type": "display_data"
    },
    {
     "data": {
      "text/html": [
       "<div xmlns=\"http://www.w3.org/1999/xhtml\"><div class=\"hapiHeaderText\"> 5780 (CRP) </div><table class=\"hapiPropertyTable\"><tbody><tr><td>Status</td><td>FINAL</td></tr></tbody></table></div>"
      ],
      "text/plain": [
       "<IPython.core.display.HTML object>"
      ]
     },
     "metadata": {},
     "output_type": "display_data"
    },
    {
     "data": {
      "text/html": [
       "<div xmlns=\"http://www.w3.org/1999/xhtml\"><div class=\"hapiHeaderText\"> $INFMO (I.D.: Molecular biology) </div><table class=\"hapiPropertyTable\"><tbody><tr><td>Status</td><td>FINAL</td></tr></tbody></table></div>"
      ],
      "text/plain": [
       "<IPython.core.display.HTML object>"
      ]
     },
     "metadata": {},
     "output_type": "display_data"
    },
    {
     "data": {
      "text/html": [
       "<div xmlns=\"http://www.w3.org/1999/xhtml\"><div class=\"hapiHeaderText\"> prednisone 1 mg tablet </div></div>"
      ],
      "text/plain": [
       "<IPython.core.display.HTML object>"
      ]
     },
     "metadata": {},
     "output_type": "display_data"
    },
    {
     "data": {
      "text/html": [
       "<div xmlns=\"http://www.w3.org/1999/xhtml\"><div class=\"hapiHeaderText\"> cilazapril 500 microgram tablet, 90 </div></div>"
      ],
      "text/plain": [
       "<IPython.core.display.HTML object>"
      ]
     },
     "metadata": {},
     "output_type": "display_data"
    }
   ],
   "source": [
    "display(HTML(f'<h1>Patient ID: {patient_id}</h1>'))\n",
    "for div in find_by_key(patient_summary, 'div'):\n",
    "    display(HTML(div))"
   ]
  },
  {
   "cell_type": "markdown",
   "id": "966215d1",
   "metadata": {},
   "source": [
    "# medications can be hard to search for ..."
   ]
  },
  {
   "cell_type": "code",
   "execution_count": null,
   "id": "8b3ccbdb",
   "metadata": {},
   "outputs": [
    {
     "name": "stdout",
     "output_type": "stream",
     "text": [
      "GET data\\cache\\ips.health-8080\\fhirMedicationStatement-44 from local cache\n"
     ]
    },
    {
     "data": {
      "text/plain": [
       "{'resourceType': 'Bundle',\n",
       " 'id': '8aa019e2-a75a-4966-a1eb-fcda6809cb41',\n",
       " 'meta': {'lastUpdated': '2022-11-08T15:33:09.047+00:00'},\n",
       " 'type': 'searchset',\n",
       " 'total': 1,\n",
       " 'link': [{'relation': 'self',\n",
       "   'url': 'http://ips.health:8080/fhir/MedicationStatement?medication.code=http%3A%2F%2Fnzmt.org.nz%7C10060441000116103'}],\n",
       " 'entry': [{'fullUrl': 'http://ips.health:8080/fhir/MedicationStatement/1368a5ba-644d-44cd-8a5b-eae138d7047a',\n",
       "   'resource': {'resourceType': 'MedicationStatement',\n",
       "    'id': '1368a5ba-644d-44cd-8a5b-eae138d7047a',\n",
       "    'meta': {'versionId': '1',\n",
       "     'lastUpdated': '2022-09-27T15:22:47.372+00:00',\n",
       "     'source': '#0GPrPkmJ1EEG3ziH'},\n",
       "    'status': 'active',\n",
       "    'medicationReference': {'reference': 'Medication/8d85a90a-833e-4869-b4a7-b7b26c35880c'},\n",
       "    'subject': {'reference': 'Patient/f15d2419-fbff-464a-826d-0afe8f095771'},\n",
       "    'effectiveDateTime': '2021-12-17',\n",
       "    'informationSource': {'reference': 'Organization/90862041-4bfd-45d4-b51a-beaedcd5a012'},\n",
       "    'dosage': [{'text': 'Take 4mg daily for 1/12 then reduce by 1mg by 1 month',\n",
       "      'route': {'coding': [{'system': 'http://terminology.hl7.org/CodeSystem/v3-RouteOfAdministration',\n",
       "         'code': 'PO',\n",
       "         'display': 'Swallow, oral'}]},\n",
       "      'doseAndRate': [{'type': {'coding': [{'system': 'http://terminology.hl7.org/CodeSystem/dose-rate-type',\n",
       "           'code': 'ordered',\n",
       "           'display': 'Ordered'}]},\n",
       "        'doseQuantity': {'value': 1,\n",
       "         'unit': 'tablet',\n",
       "         'system': 'http://snomed.info/sct',\n",
       "         'code': '385055001'}}]}]},\n",
       "   'search': {'mode': 'match'}}]}"
      ]
     },
     "execution_count": null,
     "metadata": {},
     "output_type": "execute_result"
    }
   ],
   "source": [
    "# http://ips.health:8080/fhir/MedicationStatement?medication.code=10060441000116103&_pretty=true\n",
    "client.get_as_raw_json('MedicationStatement', {\n",
    "#     'status': 'completed', # the medication we want is active\n",
    "#     '_include': 'Medication:medicationReference', # _include and _revinclude can only be specified for defined resource search parameters\n",
    "    'medication.code': 'http://nzmt.org.nz|10060441000116103'})"
   ]
  },
  {
   "cell_type": "code",
   "execution_count": null,
   "id": "8aa7d5ca",
   "metadata": {},
   "outputs": [
    {
     "name": "stdout",
     "output_type": "stream",
     "text": [
      "GET data\\cache\\ips.health-8080\\fhirMedicationStatement-22 from local cache\n",
      "Returning 2 entries\n",
      "GET data\\cache\\ips.health-8080\\fhirMedication8d85a90a-833e-4869-b4a7-b7b26c35880c-36 from local cache\n",
      "GET data\\cache\\ips.health-8080\\fhirMedication9ad9c51a-af38-46b5-b22c-23aa92818e58-35 from local cache\n"
     ]
    },
    {
     "data": {
      "text/plain": [
       "{'resourceType': 'MedicationStatement', 'id': '1368a5ba-644d-44cd-8a5b-eae138d7047a', 'meta': {'versionId': '1', 'lastUpdated': '2022-09-27T15:22:47.372+00:00', 'source': '#0GPrPkmJ1EEG3ziH'}, 'status': 'active', 'medicationReference': {'resourceType': 'Medication', 'id': '8d85a90a-833e-4869-b4a7-b7b26c35880c', 'meta': {'versionId': '1', 'lastUpdated': '2022-09-27T15:22:14.437+00:00', 'source': '#7wxneUdRW82ITIFy'}, 'text': {'status': 'generated', 'div': '<div xmlns=\"http://www.w3.org/1999/xhtml\"><div class=\"hapiHeaderText\"> prednisone 1 mg tablet </div></div>'}, 'code': {'coding': [{'system': 'http://nzmt.org.nz', 'code': '10060441000116103', 'display': 'prednisone 1 mg tablet'}, {'system': 'http://snomed.info/sct', 'code': '10312003', 'display': 'Product containing prednisone (medicinal product)'}]}, 'form': {'coding': [{'system': 'http://snomed.info/sct', 'code': '385055001', 'display': 'tablet'}]}}, 'subject': {'reference': 'Patient/f15d2419-fbff-464a-826d-0afe8f095771'}, 'effectiveDateTime': '2021-12-17', 'informationSource': {'reference': 'Organization/90862041-4bfd-45d4-b51a-beaedcd5a012'}, 'dosage': [{'text': 'Take 4mg daily for 1/12 then reduce by 1mg by 1 month', 'route': {'coding': [{'system': 'http://terminology.hl7.org/CodeSystem/v3-RouteOfAdministration', 'code': 'PO', 'display': 'Swallow, oral'}]}, 'doseAndRate': [{'type': {'coding': [{'system': 'http://terminology.hl7.org/CodeSystem/dose-rate-type', 'code': 'ordered', 'display': 'Ordered'}]}, 'doseQuantity': {'value': 1, 'unit': 'tablet', 'system': 'http://snomed.info/sct', 'code': '385055001'}}]}], '_medicationReference': {'reference': 'Medication/8d85a90a-833e-4869-b4a7-b7b26c35880c'}}"
      ]
     },
     "execution_count": null,
     "metadata": {},
     "output_type": "execute_result"
    }
   ],
   "source": [
    "medication_statements = client.get_all_resources('MedicationStatement', dict(patient=patient_id))\n",
    "for medication_statement in medication_statements:\n",
    "    medication_statement['_medicationReference'] = medication_statement['medicationReference']\n",
    "    medication_statement['medicationReference'] = client.get_as_raw_json(medication_statement['medicationReference.reference'])\n",
    "medication_statements[0]"
   ]
  },
  {
   "cell_type": "markdown",
   "id": "c814f78f",
   "metadata": {},
   "source": [
    "# patient or subject ..."
   ]
  },
  {
   "cell_type": "code",
   "execution_count": null,
   "id": "22a2c654",
   "metadata": {},
   "outputs": [
    {
     "data": {
      "text/plain": [
       "{'reference': 'Patient/f15d2419-fbff-464a-826d-0afe8f095771'}"
      ]
     },
     "execution_count": null,
     "metadata": {},
     "output_type": "execute_result"
    }
   ],
   "source": [
    "immunizations[0]['patient']"
   ]
  },
  {
   "cell_type": "code",
   "execution_count": null,
   "id": "d4923537",
   "metadata": {},
   "outputs": [
    {
     "data": {
      "text/plain": [
       "{'reference': 'Patient/f15d2419-fbff-464a-826d-0afe8f095771'}"
      ]
     },
     "execution_count": null,
     "metadata": {},
     "output_type": "execute_result"
    }
   ],
   "source": [
    "observations[0]['subject']"
   ]
  },
  {
   "cell_type": "markdown",
   "id": "8011a121",
   "metadata": {},
   "source": [
    "# TODO: compare `$summary` with `$everything`"
   ]
  },
  {
   "cell_type": "markdown",
   "id": "59d7ac5b",
   "metadata": {},
   "source": [
    "# What if we just want to look at lots of patient summaries?"
   ]
  },
  {
   "cell_type": "code",
   "execution_count": null,
   "id": "bbaf7ad6",
   "metadata": {},
   "outputs": [
    {
     "name": "stdout",
     "output_type": "stream",
     "text": [
      "GET data\\cache\\ips.health-8080\\fhirPatient-0 from local cache\n",
      "Returning 13 entries\n"
     ]
    }
   ],
   "source": [
    "client = FhirClient('http://ips.health:8080/fhir')\n",
    "patient_resources = client.get_all_resources('Patient', {})"
   ]
  },
  {
   "cell_type": "code",
   "execution_count": null,
   "id": "13870121",
   "metadata": {},
   "outputs": [
    {
     "name": "stdout",
     "output_type": "stream",
     "text": [
      "GET data\\cache\\ips.health-8080\\fhirPatient98549f1a-e0d5-4454-849c-f5b97d3ed299$summary-1 from local cache\n",
      "GET data\\cache\\ips.health-8080\\fhirPatient6c968ec2-5e95-4d4b-87f9-0c2b9ac99a24$summary-2 from local cache\n",
      "GET data\\cache\\ips.health-8080\\fhirPatient274261ba-23d0-4822-a5f9-9d4b9296eea3$summary-3 from local cache\n",
      "GET data\\cache\\ips.health-8080\\fhirPatiente1efb218-12c3-4b51-80fb-3f4cdc81e11d$summary-4 from local cache\n",
      "GET data\\cache\\ips.health-8080\\fhirPatient6a670b6a-e334-4ec6-a684-0c5ce66a1554$summary-5 from local cache\n",
      "GET data\\cache\\ips.health-8080\\fhirPatientf15d2419-fbff-464a-826d-0afe8f095771$summary-6 from local cache\n",
      "GET data\\cache\\ips.health-8080\\fhirPatient1b509aba-6d71-47b5-bb5d-bd38786a3163$summary-7 from local cache\n",
      "GET data\\cache\\ips.health-8080\\fhirPatientd58dd75b-cf09-4a1c-b913-c9e867f27616$summary-8 from local cache\n",
      "GET data\\cache\\ips.health-8080\\fhirPatient46cbbd6a-0b2d-4be1-bdab-d9fda1a0d3e7$summary-9 from local cache\n",
      "GET data\\cache\\ips.health-8080\\fhirPatient11f4887b-41a0-41d1-b04c-90fcdaf1203d$summary-10 from local cache\n",
      "GET data\\cache\\ips.health-8080\\fhirPatient7c4d9b3b-8836-406a-8ef5-3cb1478b62be$summary-11 from local cache\n",
      "GET data\\cache\\ips.health-8080\\fhirPatient7be37ca3-bdba-4c0f-87bb-926102f65949$summary-12 from local cache\n",
      "GET data\\cache\\ips.health-8080\\fhirPatientexample-r4$summary-13 from local cache\n"
     ]
    }
   ],
   "source": [
    "patient_summaries = {}\n",
    "for patient_resource in patient_resources:\n",
    "    patient_id = patient_resource['id']\n",
    "    patient_summaries[patient_id] = client.get_as_raw_json(f'Patient/{patient_id}/$summary')"
   ]
  },
  {
   "cell_type": "code",
   "execution_count": null,
   "id": "e83453b3",
   "metadata": {},
   "outputs": [
    {
     "data": {
      "text/html": [
       "<h1>Patient ID: 98549f1a-e0d5-4454-849c-f5b97d3ed299</h1>"
      ],
      "text/plain": [
       "<IPython.core.display.HTML object>"
      ]
     },
     "metadata": {},
     "output_type": "display_data"
    },
    {
     "data": {
      "text/html": [
       "<div xmlns=\"http://www.w3.org/1999/xhtml\"><table class=\"hapiPropertyTable\"><caption>Allergies And Intolerances</caption><thead><tr><th>Allergen</th><th>Status</th><th>Category</th><th>Reaction</th><th>Severity</th><th>Comments</th><th>Onset</th></tr></thead><tbody><tr id=\"AllergiesAndIntolerances-urn:uuid:30124884-fa50-4df2-a8d1-b40a73ba03b7\"><td> No information about allergies </td><td> active </td><td/><td/><td/><td/><td/></tr></tbody></table></div>"
      ],
      "text/plain": [
       "<IPython.core.display.HTML object>"
      ]
     },
     "metadata": {},
     "output_type": "display_data"
    },
    {
     "data": {
      "text/html": [
       "<div xmlns=\"http://www.w3.org/1999/xhtml\"><table class=\"hapiPropertyTable\"><caption>Medication Summary: Medication Requests</caption><thead><tr><th>Medication</th><th>Status</th><th>Route</th><th>Sig</th><th>Comments</th><th>Authored Date</th></tr></thead><tbody/></table><table class=\"hapiPropertyTable\"><caption>Medication Summary: Medication Statements</caption><thead><tr><th>Medication</th><th>Status</th><th>Route</th><th>Sig</th><th>Date</th></tr></thead><tbody><tr id=\"MedicationSummary-d41ac499-c7e8-45fa-9246-69028bae178f\"><td/><td>Active</td><td> Nasal use </td><td/><td/></tr><tr id=\"MedicationSummary-c8b1d1d0-6654-4e55-a1f4-a832f463cf94\"><td/><td>Active</td><td> Oral use </td><td/><td/></tr><tr id=\"MedicationSummary-345da5a7-872a-4d10-83e3-08ad9feec597\"><td/><td>Active</td><td> Oral use </td><td/><td/></tr></tbody></table></div>"
      ],
      "text/plain": [
       "<IPython.core.display.HTML object>"
      ]
     },
     "metadata": {},
     "output_type": "display_data"
    },
    {
     "data": {
      "text/html": [
       "<div xmlns=\"http://www.w3.org/1999/xhtml\"><table class=\"hapiPropertyTable\"><caption>Problem List</caption><thead><tr><th>Medical Problems</th><th>Status</th><th>Comments</th><th>Onset Date</th></tr></thead><tbody/></table></div>"
      ],
      "text/plain": [
       "<IPython.core.display.HTML object>"
      ]
     },
     "metadata": {},
     "output_type": "display_data"
    },
    {
     "data": {
      "text/html": [
       "<div xmlns=\"http://www.w3.org/1999/xhtml\"><div class=\"hapiHeaderText\">Maria <b>GRAVITATE </b></div><table class=\"hapiPropertyTable\"><tbody><tr><td>Identifier</td><td>maria-1</td></tr><tr><td>Date of birth</td><td><span>05 May 1946</span></td></tr></tbody></table></div>"
      ],
      "text/plain": [
       "<IPython.core.display.HTML object>"
      ]
     },
     "metadata": {},
     "output_type": "display_data"
    },
    {
     "data": {
      "text/html": [
       "<h1>Patient ID: 6c968ec2-5e95-4d4b-87f9-0c2b9ac99a24</h1>"
      ],
      "text/plain": [
       "<IPython.core.display.HTML object>"
      ]
     },
     "metadata": {},
     "output_type": "display_data"
    },
    {
     "data": {
      "text/html": [
       "<div xmlns=\"http://www.w3.org/1999/xhtml\"><table class=\"hapiPropertyTable\"><caption>Allergies And Intolerances</caption><thead><tr><th>Allergen</th><th>Status</th><th>Category</th><th>Reaction</th><th>Severity</th><th>Comments</th><th>Onset</th></tr></thead><tbody><tr id=\"AllergiesAndIntolerances-183c6ff2-512d-48b2-b7da-7e6353d562f7\"><td/><td> active </td><td/><td/><td/><td/><td/></tr><tr id=\"AllergiesAndIntolerances-07b6ba95-af6e-4ebd-8af9-59129d2991ab\"><td> Substance with penicillin structure and antibacterial mechanism of action (substance) </td><td> active </td><td> MEDICATION </td><td/><td/><td/><td>Fri Jan 01 00:00:00 UTC 2010</td></tr></tbody></table></div>"
      ],
      "text/plain": [
       "<IPython.core.display.HTML object>"
      ]
     },
     "metadata": {},
     "output_type": "display_data"
    },
    {
     "data": {
      "text/html": [
       "<div xmlns=\"http://www.w3.org/1999/xhtml\"><table class=\"hapiPropertyTable\"><caption>Medication Summary: Medication Requests</caption><thead><tr><th>Medication</th><th>Status</th><th>Route</th><th>Sig</th><th>Comments</th><th>Authored Date</th></tr></thead><tbody><tr id=\"MedicationSummary-1025b66b-5389-4b49-9679-1771774b410a\"><td> atorvastatin 40mg Oral Tablet </td><td>Active</td><td/><td> 40 mg/day </td><td/><td/></tr></tbody></table><table class=\"hapiPropertyTable\"><caption>Medication Summary: Medication Statements</caption><thead><tr><th>Medication</th><th>Status</th><th>Route</th><th>Sig</th><th>Date</th></tr></thead><tbody><tr id=\"MedicationSummary-b000ded6-53fd-41a6-9a19-cc228d349ce8\"><td> Product containing anastrozole (medicinal product) <br/> ANASTROZOL 1MG TABLET <br/> ANASTROZOL CF TABLET FILMOMHULD 1MG <br/> anastrozole </td><td>Active</td><td> Oral use </td><td/><td> Sun Mar 01 00:00:00 UTC 2015 </td></tr><tr id=\"MedicationSummary-88c491d7-c635-4c5a-a752-659592a7bbe7\"><td> Black Cohosh Extract herbal supplement </td><td>Active</td><td> Oral use </td><td/><td> Fri Jan 01 00:00:00 UTC 2016 </td></tr></tbody></table></div>"
      ],
      "text/plain": [
       "<IPython.core.display.HTML object>"
      ]
     },
     "metadata": {},
     "output_type": "display_data"
    },
    {
     "data": {
      "text/html": [
       "<div xmlns=\"http://www.w3.org/1999/xhtml\"><table class=\"hapiPropertyTable\"><caption>Problem List</caption><thead><tr><th>Medical Problems</th><th>Status</th><th>Comments</th><th>Onset Date</th></tr></thead><tbody/></table></div>"
      ],
      "text/plain": [
       "<IPython.core.display.HTML object>"
      ]
     },
     "metadata": {},
     "output_type": "display_data"
    },
    {
     "data": {
      "text/html": [
       "<div xmlns=\"http://www.w3.org/1999/xhtml\"><table class=\"hapiPropertyTable\"><caption>Diagnostic Results: Observations</caption><thead><tr><th>Code</th><th>Result</th><th>Unit</th><th>Interpretation</th><th>Reference Range</th><th>Comments</th><th>Date</th></tr></thead><tbody><tr id=\"DiagnosticResults-6f3de8a5-70fd-43fe-8847-a0a87b917f81\"><td> Hemoglobin A1c/Hemoglobin.total in Blood by HPLC </td><td> 7.5 </td><td> % </td><td/><td/><td> Above stated goal of 7.0 % </td><td> Fri Nov 10 07:20:00 UTC 2017 </td></tr><tr id=\"DiagnosticResults-0b0982b4-80b5-4dd7-b76b-dde6e4ad4ca7\"><td> E Ab [Presence] in Serum or Plasma </td><td> Positive </td><td/><td/><td/><td/><td> Sat Oct 10 08:35:00 UTC 2015 </td></tr><tr id=\"DiagnosticResults-037230ec-4a4f-464a-846c-ca6bc7683f3a\"><td> ABO and Rh group [Type] in Blood </td><td> Blood group A Rh(D) positive </td><td/><td/><td/><td/><td> Sat Oct 10 08:15:00 UTC 2015 </td></tr><tr id=\"DiagnosticResults-b2fad9e8-a21f-439e-bde1-a4206c6ea7f5\"><td> little c Ab [Presence] in Serum or Plasma </td><td> Negative </td><td/><td/><td/><td/><td> Sat Oct 10 08:35:00 UTC 2015 </td></tr><tr id=\"DiagnosticResults-28849558-f772-4aae-a653-acb72ceb3861\"><td> C Ab [Presence] in Serum or Plasma </td><td> Positive </td><td/><td/><td/><td/><td> Sat Oct 10 08:35:00 UTC 2015 </td></tr><tr id=\"DiagnosticResults-b8d39267-ad17-4d7b-92d2-66bea9858830\"><td> Bacteria identified in Isolate </td><td> Methicillin resistant Staphylococcus aureus </td><td/><td/><td/><td> Healthy carrier of MRSA </td><td> Sun Dec 10 07:20:00 UTC 2017 </td></tr><tr id=\"DiagnosticResults-4e3c83db-9ff4-47d3-af07-432691cfcb0f\"><td> Blood typing </td><td/><td/><td/><td/><td/><td> Sat Oct 10 00:00:00 UTC 2015 </td></tr></tbody></table><table class=\"hapiPropertyTable\"><caption>Diagnostic Results: Diagnostic Reports</caption><thead><tr><th>Code</th><th>Date</th></tr></thead><tbody/></table></div>"
      ],
      "text/plain": [
       "<IPython.core.display.HTML object>"
      ]
     },
     "metadata": {},
     "output_type": "display_data"
    },
    {
     "data": {
      "text/html": [
       "<div xmlns=\"http://www.w3.org/1999/xhtml\"><table class=\"hapiPropertyTable\"><caption>Past History of Illnesses</caption><thead><tr><th>Medical Problems</th><th>Status</th><th>Comments</th><th>Date</th></tr></thead><tbody><tr id=\"PastHistoryOfIllnesses-ba7fb01f-8d75-4333-881a-f065b4e757b4\"><td> Menopausal flushing (finding) <br/> Menopausal and female climacteric states </td><td> active </td><td/><td> Thu Jan 01 00:00:00 UTC 2015 </td></tr><tr id=\"PastHistoryOfIllnesses-5dd4100a-7657-4e0d-b18b-d1e0a9f55a5f\"><td> Malignant tumor of breast <br/> Infiltrating duct carcinoma, NOS </td><td> remission </td><td/><td> Thu Jan 01 00:00:00 UTC 2015 </td></tr></tbody></table></div>"
      ],
      "text/plain": [
       "<IPython.core.display.HTML object>"
      ]
     },
     "metadata": {},
     "output_type": "display_data"
    },
    {
     "data": {
      "text/html": [
       "<div xmlns=\"http://www.w3.org/1999/xhtml\"><table class=\"hapiPropertyTable\"><caption>Pregnancy</caption><thead><tr><th>Code</th><th>Result</th><th>Comments</th><th>Date</th></tr></thead><tbody><tr id=\"Pregnancy-5ea87412-7eb5-4bd9-a23e-e67f83e51801\"><td> Pregnancy status </td><td> Pregnant </td><td/><td> Fri Jan 10 00:00:00 UTC 2020 </td></tr></tbody></table></div>"
      ],
      "text/plain": [
       "<IPython.core.display.HTML object>"
      ]
     },
     "metadata": {},
     "output_type": "display_data"
    },
    {
     "data": {
      "text/html": [
       "<div xmlns=\"http://www.w3.org/1999/xhtml\"><table class=\"hapiPropertyTable\"><caption>Social History</caption><thead><tr><th>Code</th><th>Result</th><th>Unit</th><th>Comments</th><th>Date</th></tr></thead><tbody><tr id=\"SocialHistory-1da8de06-22be-48e0-b742-ca1bc57a05bc\"><td> Tobacco smoking status </td><td> Former smoker </td><td/><td/><td> Mon Jul 15 00:00:00 UTC 2019 </td></tr><tr id=\"SocialHistory-bc970c05-d45b-4301-9ab9-d1dab38f2d80\"><td> Alcoholic drinks per day </td><td> 2 </td><td/><td/><td> Mon Jul 15 00:00:00 UTC 2019 </td></tr></tbody></table></div>"
      ],
      "text/plain": [
       "<IPython.core.display.HTML object>"
      ]
     },
     "metadata": {},
     "output_type": "display_data"
    },
    {
     "data": {
      "text/html": [
       "<div xmlns=\"http://www.w3.org/1999/xhtml\"><p><b>Generated Narrative</b></p><div style=\"display: inline-block; background-color: #d9e0e7; padding: 6px; margin: 4px; border: 1px solid #8da1b4; border-radius: 5px; line-height: 60%\"><p style=\"margin-bottom: 0px\">Resource &quot;2b90dd2b-2dab-4c75-9bb9-a355e07401e8&quot; </p></div><p><b>identifier</b>: id: 574687583</p><p><b>active</b>: true</p><p><b>name</b>: Martha DeLarosa </p><p><b>telecom</b>: <a href=\"tel:+31788700800\">+31788700800</a></p><p><b>gender</b>: female</p><p><b>birthDate</b>: 1972-05-01</p><p><b>address</b>: Laan Van Europa 1600 Dordrecht 3317 DB NL </p><h3>Contacts</h3><table class=\"grid\"><tr><td>-</td><td><b>Relationship</b></td><td><b>Name</b></td><td><b>Telecom</b></td><td><b>Address</b></td></tr><tr><td>*</td><td>mother <span style=\"background: LightGoldenRodYellow; margin: 4px; border: 1px solid khaki\"> (<a href=\"http://terminology.hl7.org/3.0.0/CodeSystem-v3-RoleCode.html\">RoleCode</a>#MTH)</span></td><td>Martha Mum </td><td><a href=\"tel:+33-555-20036\">+33-555-20036</a></td><td>Promenade des Anglais 111 Lyon 69001 FR </td></tr></table></div>"
      ],
      "text/plain": [
       "<IPython.core.display.HTML object>"
      ]
     },
     "metadata": {},
     "output_type": "display_data"
    },
    {
     "data": {
      "text/html": [
       "<div xmlns=\"http://www.w3.org/1999/xhtml\"><p><b>Generated Narrative</b></p><div style=\"display: inline-block; background-color: #d9e0e7; padding: 6px; margin: 4px; border: 1px solid #8da1b4; border-radius: 5px; line-height: 60%\"><p style=\"margin-bottom: 0px\">Resource &quot;c7781f44-6df8-4a8b-9e06-0b34263a47c5&quot; </p></div><p><b>clinicalStatus</b>: Active <span style=\"background: LightGoldenRodYellow; margin: 4px; border: 1px solid khaki\"> (<a href=\"http://terminology.hl7.org/3.0.0/CodeSystem-allergyintolerance-clinical.html\">AllergyIntolerance Clinical Status Codes</a>#active)</span></p><p><b>code</b>: No known food allergies <span style=\"background: LightGoldenRodYellow; margin: 4px; border: 1px solid khaki\"> (<a href=\"CodeSystem-absent-unknown-uv-ips.html\">Absent and Unknown Data - IPS</a>#no-known-food-allergies)</span></p><p><b>patient</b>: <a href=\"#Patient_2b90dd2b-2dab-4c75-9bb9-a355e07401e8\">See above (Patient/2b90dd2b-2dab-4c75-9bb9-a355e07401e8)</a></p></div>"
      ],
      "text/plain": [
       "<IPython.core.display.HTML object>"
      ]
     },
     "metadata": {},
     "output_type": "display_data"
    },
    {
     "data": {
      "text/html": [
       "<div xmlns=\"http://www.w3.org/1999/xhtml\"><p><b>Generated Narrative</b></p><div style=\"display: inline-block; background-color: #d9e0e7; padding: 6px; margin: 4px; border: 1px solid #8da1b4; border-radius: 5px; line-height: 60%\"><p style=\"margin-bottom: 0px\">Resource &quot;72884cad-ebe6-4f43-a51a-2f978275f132&quot; </p></div><p><b>identifier</b>: id: 3a462598-009c-484a-965c-d6b24a821424</p><p><b>clinicalStatus</b>: Active <span style=\"background: LightGoldenRodYellow; margin: 4px; border: 1px solid khaki\"> (<a href=\"http://terminology.hl7.org/3.0.0/CodeSystem-allergyintolerance-clinical.html\">AllergyIntolerance Clinical Status Codes</a>#active)</span></p><p><b>verificationStatus</b>: Confirmed <span style=\"background: LightGoldenRodYellow; margin: 4px; border: 1px solid khaki\"> (<a href=\"http://terminology.hl7.org/3.0.0/CodeSystem-allergyintolerance-verification.html\">AllergyIntolerance Verification Status</a>#confirmed)</span></p><p><b>type</b>: allergy</p><p><b>category</b>: medication</p><p><b>criticality</b>: high</p><p><b>code</b>: Substance with penicillin structure and antibacterial mechanism of action (substance) <span style=\"background: LightGoldenRodYellow; margin: 4px; border: 1px solid khaki\"> (<a href=\"https://browser.ihtsdotools.org/\">SNOMED CT</a>#373270004)</span></p><p><b>patient</b>: <a href=\"#Patient_2b90dd2b-2dab-4c75-9bb9-a355e07401e8\">See above (Patient/2b90dd2b-2dab-4c75-9bb9-a355e07401e8)</a></p><p><b>onset</b>: 2010-01-01</p></div>"
      ],
      "text/plain": [
       "<IPython.core.display.HTML object>"
      ]
     },
     "metadata": {},
     "output_type": "display_data"
    },
    {
     "data": {
      "text/html": [
       "<div xmlns=\"http://www.w3.org/1999/xhtml\"><p><b>Generated Narrative</b></p><div style=\"display: inline-block; background-color: #d9e0e7; padding: 6px; margin: 4px; border: 1px solid #8da1b4; border-radius: 5px; line-height: 60%\"><p style=\"margin-bottom: 0px\">Resource &quot;c64139e7-f02d-409c-bf34-75e8bf23bc80&quot; </p></div><p><b>identifier</b>: id: c87bf51c-e53c-4bfe-b8b7-aa62bdd93002</p><p><b>clinicalStatus</b>: Active <span style=\"background: LightGoldenRodYellow; margin: 4px; border: 1px solid khaki\"> (<a href=\"http://terminology.hl7.org/3.0.0/CodeSystem-condition-clinical.html\">Condition Clinical Status Codes</a>#active)</span></p><p><b>verificationStatus</b>: Confirmed <span style=\"background: LightGoldenRodYellow; margin: 4px; border: 1px solid khaki\"> (<a href=\"http://terminology.hl7.org/3.0.0/CodeSystem-condition-ver-status.html\">ConditionVerificationStatus</a>#confirmed)</span></p><p><b>category</b>: Problem <span style=\"background: LightGoldenRodYellow; margin: 4px; border: 1px solid khaki\"> (<a href=\"https://loinc.org/\">LOINC</a>#75326-9)</span></p><p><b>severity</b>: Moderate <span style=\"background: LightGoldenRodYellow; margin: 4px; border: 1px solid khaki\"> (<a href=\"https://loinc.org/\">LOINC</a>#LA6751-7)</span></p><p><b>code</b>: Menopausal flushing (finding) <span style=\"background: LightGoldenRodYellow; margin: 4px; border: 1px solid khaki\"> (<a href=\"https://browser.ihtsdotools.org/\">SNOMED CT</a>#198436008; <a href=\"http://terminology.hl7.org/3.0.0/CodeSystem-icd10.html\">ICD-10</a>#N95.1 &quot;Menopausal and female climacteric states&quot;)</span></p><p><b>subject</b>: <a href=\"#Patient_2b90dd2b-2dab-4c75-9bb9-a355e07401e8\">See above (Patient/2b90dd2b-2dab-4c75-9bb9-a355e07401e8)</a></p><p><b>onset</b>: 2015-01-01</p><p><b>recordedDate</b>: 2016-10-01</p></div>"
      ],
      "text/plain": [
       "<IPython.core.display.HTML object>"
      ]
     },
     "metadata": {},
     "output_type": "display_data"
    },
    {
     "data": {
      "text/html": [
       "<div xmlns=\"http://www.w3.org/1999/xhtml\"><p><b>Generated Narrative</b></p><div style=\"display: inline-block; background-color: #d9e0e7; padding: 6px; margin: 4px; border: 1px solid #8da1b4; border-radius: 5px; line-height: 60%\"><p style=\"margin-bottom: 0px\">Resource &quot;c4597aa2-688a-401b-a658-70acc6de28c6&quot; </p></div><p><b>identifier</b>: id: 66d4a8c7-9081-43e0-a63f-489c2ae6edd6</p><p><b>clinicalStatus</b>: Remission <span style=\"background: LightGoldenRodYellow; margin: 4px; border: 1px solid khaki\"> (<a href=\"http://terminology.hl7.org/3.0.0/CodeSystem-condition-clinical.html\">Condition Clinical Status Codes</a>#remission)</span></p><p><b>verificationStatus</b>: Confirmed <span style=\"background: LightGoldenRodYellow; margin: 4px; border: 1px solid khaki\"> (<a href=\"http://terminology.hl7.org/3.0.0/CodeSystem-condition-ver-status.html\">ConditionVerificationStatus</a>#confirmed)</span></p><p><b>category</b>: Problem <span style=\"background: LightGoldenRodYellow; margin: 4px; border: 1px solid khaki\"> (<a href=\"https://loinc.org/\">LOINC</a>#75326-9)</span></p><p><b>severity</b>: Severe <span style=\"background: LightGoldenRodYellow; margin: 4px; border: 1px solid khaki\"> (<a href=\"https://loinc.org/\">LOINC</a>#LA6750-9)</span></p><p><b>code</b>: Malignant tumor of breast <span style=\"background: LightGoldenRodYellow; margin: 4px; border: 1px solid khaki\"> (<a href=\"https://browser.ihtsdotools.org/\">SNOMED CT</a>#254837009; unknown#8500/3 &quot;Infiltrating duct carcinoma, NOS&quot;)</span></p><p><b>subject</b>: <a href=\"#Patient_2b90dd2b-2dab-4c75-9bb9-a355e07401e8\">See above (Patient/2b90dd2b-2dab-4c75-9bb9-a355e07401e8)</a></p><p><b>onset</b>: 2015-01-01</p><p><b>abatement</b>: 2015-03-01</p></div>"
      ],
      "text/plain": [
       "<IPython.core.display.HTML object>"
      ]
     },
     "metadata": {},
     "output_type": "display_data"
    },
    {
     "data": {
      "text/html": [
       "<div xmlns=\"http://www.w3.org/1999/xhtml\"><p><b>Generated Narrative: Observation</b><a name=\"tobacco-use-example\"> </a></p><div style=\"display: inline-block; background-color: #d9e0e7; padding: 6px; margin: 4px; border: 1px solid #8da1b4; border-radius: 5px; line-height: 60%\"><p style=\"margin-bottom: 0px\">Resource Observation &quot;tobacco-use-example&quot; </p></div><p><b>status</b>: final</p><p><b>code</b>: Tobacco smoking status <span style=\"background: LightGoldenRodYellow; margin: 4px; border: 1px solid khaki\"> (<a href=\"https://loinc.org/\">LOINC</a>#72166-2)</span></p><p><b>subject</b>: <a href=\"Patient-patient-example-female.html\">Patient/patient-example-female</a> &quot; DELAROSA&quot;</p><p><b>effective</b>: 2019-07-15</p><p><b>value</b>: Former smoker <span style=\"background: LightGoldenRodYellow; margin: 4px; border: 1px solid khaki\"> (<a href=\"https://loinc.org/\">LOINC</a>#LA15920-4)</span></p></div>"
      ],
      "text/plain": [
       "<IPython.core.display.HTML object>"
      ]
     },
     "metadata": {},
     "output_type": "display_data"
    },
    {
     "data": {
      "text/html": [
       "<div xmlns=\"http://www.w3.org/1999/xhtml\"><p><b>Generated Narrative: Observation</b><a name=\"alcohol-use-example\"> </a></p><div style=\"display: inline-block; background-color: #d9e0e7; padding: 6px; margin: 4px; border: 1px solid #8da1b4; border-radius: 5px; line-height: 60%\"><p style=\"margin-bottom: 0px\">Resource Observation &quot;alcohol-use-example&quot; </p></div><p><b>status</b>: final</p><p><b>code</b>: Alcoholic drinks per day <span style=\"background: LightGoldenRodYellow; margin: 4px; border: 1px solid khaki\"> (<a href=\"https://loinc.org/\">LOINC</a>#74013-4)</span></p><p><b>subject</b>: <a href=\"Patient-patient-example-female.html\">Patient/patient-example-female</a> &quot; DELAROSA&quot;</p><p><b>effective</b>: 2019-07-15</p><p><b>value</b>: 2 {wine glasses}/d<span style=\"background: LightGoldenRodYellow\"> (Details: UCUM code {wine glasses}/d = '{wine glasses}/d')</span></p></div>"
      ],
      "text/plain": [
       "<IPython.core.display.HTML object>"
      ]
     },
     "metadata": {},
     "output_type": "display_data"
    },
    {
     "data": {
      "text/html": [
       "<div xmlns=\"http://www.w3.org/1999/xhtml\"><p><b>Generated Narrative: Observation</b><a name=\"pregnancy-status-example\"> </a></p><div style=\"display: inline-block; background-color: #d9e0e7; padding: 6px; margin: 4px; border: 1px solid #8da1b4; border-radius: 5px; line-height: 60%\"><p style=\"margin-bottom: 0px\">Resource Observation &quot;pregnancy-status-example&quot; </p></div><p><b>status</b>: final</p><p><b>code</b>: Pregnancy status <span style=\"background: LightGoldenRodYellow; margin: 4px; border: 1px solid khaki\"> (<a href=\"https://loinc.org/\">LOINC</a>#82810-3)</span></p><p><b>subject</b>: <a href=\"Patient-patient-example-female.html\">Patient/patient-example-female</a> &quot; DELAROSA&quot;</p><p><b>effective</b>: 2020-01-10</p><p><b>value</b>: Pregnant <span style=\"background: LightGoldenRodYellow; margin: 4px; border: 1px solid khaki\"> (<a href=\"https://loinc.org/\">LOINC</a>#LA15173-0)</span></p><p><b>hasMember</b>: <a href=\"Observation-pregnancy-edd-example.html\">Observation/pregnancy-edd-example</a></p></div>"
      ],
      "text/plain": [
       "<IPython.core.display.HTML object>"
      ]
     },
     "metadata": {},
     "output_type": "display_data"
    },
    {
     "data": {
      "text/html": [
       "<div xmlns=\"http://www.w3.org/1999/xhtml\"><p><b>Generated Narrative</b></p><div style=\"display: inline-block; background-color: #d9e0e7; padding: 6px; margin: 4px; border: 1px solid #8da1b4; border-radius: 5px; line-height: 60%\"><p style=\"margin-bottom: 0px\">Resource &quot;cc354e00-a419-47ea-8b6c-1768b2a01646&quot; </p></div><p><b>status</b>: final</p><p><b>category</b>: Laboratory <span style=\"background: LightGoldenRodYellow; margin: 4px; border: 1px solid khaki\"> (<a href=\"http://terminology.hl7.org/3.0.0/CodeSystem-observation-category.html\">Observation Category Codes</a>#laboratory)</span></p><p><b>code</b>: Hemoglobin A1c/Hemoglobin.total in Blood by HPLC <span style=\"background: LightGoldenRodYellow; margin: 4px; border: 1px solid khaki\"> (<a href=\"https://loinc.org/\">LOINC</a>#17856-6)</span></p><p><b>subject</b>: <a href=\"#Patient_2b90dd2b-2dab-4c75-9bb9-a355e07401e8\">See above (Patient/2b90dd2b-2dab-4c75-9bb9-a355e07401e8)</a></p><p><b>effective</b>: 2017-11-10T08:20:00+01:00</p><p><b>performer</b>: <a href=\"#Organization_45a5c5b1-4ec1-4d60-b4b2-ff5a84a41fd7\">See above (Organization/45a5c5b1-4ec1-4d60-b4b2-ff5a84a41fd7)</a></p><p><b>value</b>: 7.5 %<span style=\"background: LightGoldenRodYellow\"> (Details: UCUM code % = '%')</span></p><p><b>note</b>: Above stated goal of 7.0 %</p></div>"
      ],
      "text/plain": [
       "<IPython.core.display.HTML object>"
      ]
     },
     "metadata": {},
     "output_type": "display_data"
    },
    {
     "data": {
      "text/html": [
       "<div xmlns=\"http://www.w3.org/1999/xhtml\"><p><b>Generated Narrative</b></p><div style=\"display: inline-block; background-color: #d9e0e7; padding: 6px; margin: 4px; border: 1px solid #8da1b4; border-radius: 5px; line-height: 60%\"><p style=\"margin-bottom: 0px\">Resource &quot;b4916505-a06b-460c-9be8-011609282457&quot; </p></div><p><b>status</b>: final</p><p><b>category</b>: Laboratory <span style=\"background: LightGoldenRodYellow; margin: 4px; border: 1px solid khaki\"> (<a href=\"http://terminology.hl7.org/3.0.0/CodeSystem-observation-category.html\">Observation Category Codes</a>#laboratory)</span></p><p><b>code</b>: E Ab [Presence] in Serum or Plasma <span style=\"background: LightGoldenRodYellow; margin: 4px; border: 1px solid khaki\"> (<a href=\"https://loinc.org/\">LOINC</a>#1018-1)</span></p><p><b>subject</b>: <a href=\"#Patient_2b90dd2b-2dab-4c75-9bb9-a355e07401e8\">See above (Patient/2b90dd2b-2dab-4c75-9bb9-a355e07401e8)</a></p><p><b>effective</b>: 2015-10-10T09:35:00+01:00</p><p><b>performer</b>: <a href=\"#Organization_45a5c5b1-4ec1-4d60-b4b2-ff5a84a41fd7\">See above (Organization/45a5c5b1-4ec1-4d60-b4b2-ff5a84a41fd7)</a></p><p><b>value</b>: Positive <span style=\"background: LightGoldenRodYellow; margin: 4px; border: 1px solid khaki\"> (<a href=\"https://browser.ihtsdotools.org/\">SNOMED CT</a>#10828004)</span></p></div>"
      ],
      "text/plain": [
       "<IPython.core.display.HTML object>"
      ]
     },
     "metadata": {},
     "output_type": "display_data"
    },
    {
     "data": {
      "text/html": [
       "<div xmlns=\"http://www.w3.org/1999/xhtml\"><p><b>Generated Narrative</b></p><div style=\"display: inline-block; background-color: #d9e0e7; padding: 6px; margin: 4px; border: 1px solid #8da1b4; border-radius: 5px; line-height: 60%\"><p style=\"margin-bottom: 0px\">Resource &quot;aa11a2be-3e36-4be7-b58a-6fc3dace2741&quot; </p></div><p><b>status</b>: final</p><p><b>category</b>: Laboratory <span style=\"background: LightGoldenRodYellow; margin: 4px; border: 1px solid khaki\"> (<a href=\"http://terminology.hl7.org/3.0.0/CodeSystem-observation-category.html\">Observation Category Codes</a>#laboratory)</span></p><p><b>code</b>: ABO and Rh group [Type] in Blood <span style=\"background: LightGoldenRodYellow; margin: 4px; border: 1px solid khaki\"> (<a href=\"https://loinc.org/\">LOINC</a>#882-1)</span></p><p><b>subject</b>: <a href=\"#Patient_2b90dd2b-2dab-4c75-9bb9-a355e07401e8\">See above (Patient/2b90dd2b-2dab-4c75-9bb9-a355e07401e8)</a></p><p><b>effective</b>: 2015-10-10T09:15:00+01:00</p><p><b>performer</b>: <a href=\"#Organization_45a5c5b1-4ec1-4d60-b4b2-ff5a84a41fd7\">See above (Organization/45a5c5b1-4ec1-4d60-b4b2-ff5a84a41fd7)</a></p><p><b>value</b>: Blood group A Rh(D) positive <span style=\"background: LightGoldenRodYellow; margin: 4px; border: 1px solid khaki\"> (<a href=\"https://browser.ihtsdotools.org/\">SNOMED CT</a>#278149003)</span></p></div>"
      ],
      "text/plain": [
       "<IPython.core.display.HTML object>"
      ]
     },
     "metadata": {},
     "output_type": "display_data"
    },
    {
     "data": {
      "text/html": [
       "<div xmlns=\"http://www.w3.org/1999/xhtml\"><p><b>Generated Narrative</b></p><div style=\"display: inline-block; background-color: #d9e0e7; padding: 6px; margin: 4px; border: 1px solid #8da1b4; border-radius: 5px; line-height: 60%\"><p style=\"margin-bottom: 0px\">Resource &quot;a6a5a1d5-c896-4c7e-b922-888fcc7e6ae4&quot; </p></div><p><b>status</b>: final</p><p><b>category</b>: Laboratory <span style=\"background: LightGoldenRodYellow; margin: 4px; border: 1px solid khaki\"> (<a href=\"http://terminology.hl7.org/3.0.0/CodeSystem-observation-category.html\">Observation Category Codes</a>#laboratory)</span></p><p><b>code</b>: little c Ab [Presence] in Serum or Plasma <span style=\"background: LightGoldenRodYellow; margin: 4px; border: 1px solid khaki\"> (<a href=\"https://loinc.org/\">LOINC</a>#1156-9)</span></p><p><b>subject</b>: <a href=\"#Patient_2b90dd2b-2dab-4c75-9bb9-a355e07401e8\">See above (Patient/2b90dd2b-2dab-4c75-9bb9-a355e07401e8)</a></p><p><b>effective</b>: 2015-10-10T09:35:00+01:00</p><p><b>performer</b>: <a href=\"#Organization_45a5c5b1-4ec1-4d60-b4b2-ff5a84a41fd7\">See above (Organization/45a5c5b1-4ec1-4d60-b4b2-ff5a84a41fd7)</a></p><p><b>value</b>: Negative <span style=\"background: LightGoldenRodYellow; margin: 4px; border: 1px solid khaki\"> (<a href=\"https://browser.ihtsdotools.org/\">SNOMED CT</a>#260385009)</span></p></div>"
      ],
      "text/plain": [
       "<IPython.core.display.HTML object>"
      ]
     },
     "metadata": {},
     "output_type": "display_data"
    },
    {
     "data": {
      "text/html": [
       "<div xmlns=\"http://www.w3.org/1999/xhtml\"><p><b>Generated Narrative</b></p><div style=\"display: inline-block; background-color: #d9e0e7; padding: 6px; margin: 4px; border: 1px solid #8da1b4; border-radius: 5px; line-height: 60%\"><p style=\"margin-bottom: 0px\">Resource &quot;6e39ccf3-f997-4a2b-8f28-b4b71c778c70&quot; </p></div><p><b>status</b>: final</p><p><b>category</b>: Laboratory <span style=\"background: LightGoldenRodYellow; margin: 4px; border: 1px solid khaki\"> (<a href=\"http://terminology.hl7.org/3.0.0/CodeSystem-observation-category.html\">Observation Category Codes</a>#laboratory)</span></p><p><b>code</b>: C Ab [Presence] in Serum or Plasma <span style=\"background: LightGoldenRodYellow; margin: 4px; border: 1px solid khaki\"> (<a href=\"https://loinc.org/\">LOINC</a>#945-6)</span></p><p><b>subject</b>: <a href=\"#Patient_2b90dd2b-2dab-4c75-9bb9-a355e07401e8\">See above (Patient/2b90dd2b-2dab-4c75-9bb9-a355e07401e8)</a></p><p><b>effective</b>: 2015-10-10T09:35:00+01:00</p><p><b>performer</b>: <a href=\"#Organization_45a5c5b1-4ec1-4d60-b4b2-ff5a84a41fd7\">See above (Organization/45a5c5b1-4ec1-4d60-b4b2-ff5a84a41fd7)</a></p><p><b>value</b>: Positive <span style=\"background: LightGoldenRodYellow; margin: 4px; border: 1px solid khaki\"> (<a href=\"https://browser.ihtsdotools.org/\">SNOMED CT</a>#10828004)</span></p></div>"
      ],
      "text/plain": [
       "<IPython.core.display.HTML object>"
      ]
     },
     "metadata": {},
     "output_type": "display_data"
    },
    {
     "data": {
      "text/html": [
       "<div xmlns=\"http://www.w3.org/1999/xhtml\"><p><b>Generated Narrative</b></p><div style=\"display: inline-block; background-color: #d9e0e7; padding: 6px; margin: 4px; border: 1px solid #8da1b4; border-radius: 5px; line-height: 60%\"><p style=\"margin-bottom: 0px\">Resource &quot;26bee0a9-5997-4557-ab9d-c6adbb05b572&quot; </p></div><p><b>status</b>: final</p><p><b>category</b>: Laboratory <span style=\"background: LightGoldenRodYellow; margin: 4px; border: 1px solid khaki\"> (<a href=\"http://terminology.hl7.org/3.0.0/CodeSystem-observation-category.html\">Observation Category Codes</a>#laboratory)</span></p><p><b>code</b>: Bacteria identified in Isolate <span style=\"background: LightGoldenRodYellow; margin: 4px; border: 1px solid khaki\"> (<a href=\"https://loinc.org/\">LOINC</a>#42803-7)</span></p><p><b>subject</b>: <a href=\"#Patient_2b90dd2b-2dab-4c75-9bb9-a355e07401e8\">See above (Patient/2b90dd2b-2dab-4c75-9bb9-a355e07401e8)</a></p><p><b>effective</b>: 2017-12-10T08:20:00+01:00</p><p><b>performer</b>: <a href=\"#Organization_45a5c5b1-4ec1-4d60-b4b2-ff5a84a41fd7\">See above (Organization/45a5c5b1-4ec1-4d60-b4b2-ff5a84a41fd7)</a></p><p><b>value</b>: Methicillin resistant Staphylococcus aureus <span style=\"background: LightGoldenRodYellow; margin: 4px; border: 1px solid khaki\"> (<a href=\"https://browser.ihtsdotools.org/\">SNOMED CT</a>#115329001)</span></p><p><b>note</b>: Healthy carrier of MRSA</p></div>"
      ],
      "text/plain": [
       "<IPython.core.display.HTML object>"
      ]
     },
     "metadata": {},
     "output_type": "display_data"
    },
    {
     "data": {
      "text/html": [
       "<div xmlns=\"http://www.w3.org/1999/xhtml\"><p><b>Generated Narrative</b></p><div style=\"display: inline-block; background-color: #d9e0e7; padding: 6px; margin: 4px; border: 1px solid #8da1b4; border-radius: 5px; line-height: 60%\"><p style=\"margin-bottom: 0px\">Resource &quot;2639657a-c19a-48e2-82cc-471e13b8ad94&quot; </p></div><p><b>status</b>: final</p><p><b>category</b>: Laboratory <span style=\"background: LightGoldenRodYellow; margin: 4px; border: 1px solid khaki\"> (<a href=\"http://terminology.hl7.org/3.0.0/CodeSystem-observation-category.html\">Observation Category Codes</a>#laboratory)</span></p><p><b>code</b>: Blood typing <span style=\"background: LightGoldenRodYellow; margin: 4px; border: 1px solid khaki\"> ()</span></p><p><b>subject</b>: <a href=\"#Patient_2b90dd2b-2dab-4c75-9bb9-a355e07401e8\">See above (Patient/2b90dd2b-2dab-4c75-9bb9-a355e07401e8)</a></p><p><b>effective</b>: 2015-10-10</p><p><b>performer</b>: <a href=\"#Organization_45a5c5b1-4ec1-4d60-b4b2-ff5a84a41fd7\">See above (Organization/45a5c5b1-4ec1-4d60-b4b2-ff5a84a41fd7)</a></p><p><b>hasMember</b>: </p><ul><li><a href=\"#Observation_aa11a2be-3e36-4be7-b58a-6fc3dace2741\">See above (Observation/aa11a2be-3e36-4be7-b58a-6fc3dace2741)</a></li><li><a href=\"#Observation_6e39ccf3-f997-4a2b-8f28-b4b71c778c70\">See above (Observation/6e39ccf3-f997-4a2b-8f28-b4b71c778c70)</a></li><li><a href=\"#Observation_b4916505-a06b-460c-9be8-011609282457\">See above (Observation/b4916505-a06b-460c-9be8-011609282457)</a></li><li><a href=\"#Observation_a6a5a1d5-c896-4c7e-b922-888fcc7e6ae4\">See above (Observation/a6a5a1d5-c896-4c7e-b922-888fcc7e6ae4)</a></li></ul></div>"
      ],
      "text/plain": [
       "<IPython.core.display.HTML object>"
      ]
     },
     "metadata": {},
     "output_type": "display_data"
    },
    {
     "data": {
      "text/html": [
       "<div xmlns=\"http://www.w3.org/1999/xhtml\"><p><b>Generated Narrative</b></p><div style=\"display: inline-block; background-color: #d9e0e7; padding: 6px; margin: 4px; border: 1px solid #8da1b4; border-radius: 5px; line-height: 60%\"><p style=\"margin-bottom: 0px\">Resource &quot;c220e36c-eb67-4fc4-9ba1-2fabc52acec6&quot; </p></div><p><b>identifier</b>: id: b75f92cb-61d4-469a-9387-df5ef70d25f0</p><p><b>status</b>: active</p><p><b>medication</b>: <a href=\"#Medication_976d0804-cae0-45ae-afe3-a19f3ceba6bc\">See above (Medication/976d0804-cae0-45ae-afe3-a19f3ceba6bc)</a></p><p><b>subject</b>: <a href=\"#Patient_2b90dd2b-2dab-4c75-9bb9-a355e07401e8\">See above (Patient/2b90dd2b-2dab-4c75-9bb9-a355e07401e8)</a></p><p><b>effective</b>: 2015-03-01 --&gt; (ongoing)</p></div>"
      ],
      "text/plain": [
       "<IPython.core.display.HTML object>"
      ]
     },
     "metadata": {},
     "output_type": "display_data"
    },
    {
     "data": {
      "text/html": [
       "<div xmlns=\"http://www.w3.org/1999/xhtml\"><p><b>Generated Narrative</b></p><div style=\"display: inline-block; background-color: #d9e0e7; padding: 6px; margin: 4px; border: 1px solid #8da1b4; border-radius: 5px; line-height: 60%\"><p style=\"margin-bottom: 0px\">Resource &quot;47524493-846a-4a26-bae2-4ab03e60f02e&quot; </p></div><p><b>identifier</b>: id: 9e312d6b-c6b6-439a-a730-6efaa5dcf8bc</p><p><b>status</b>: active</p><p><b>medication</b>: <a href=\"#Medication_8adc0999-9468-4ac9-9557-680fa133d626\">See above (Medication/8adc0999-9468-4ac9-9557-680fa133d626)</a></p><p><b>subject</b>: <a href=\"#Patient_2b90dd2b-2dab-4c75-9bb9-a355e07401e8\">See above (Patient/2b90dd2b-2dab-4c75-9bb9-a355e07401e8)</a></p><p><b>effective</b>: 2016-01-01 --&gt; (ongoing)</p></div>"
      ],
      "text/plain": [
       "<IPython.core.display.HTML object>"
      ]
     },
     "metadata": {},
     "output_type": "display_data"
    },
    {
     "data": {
      "text/html": [
       "<div xmlns=\"http://www.w3.org/1999/xhtml\"><p><b>Generated Narrative</b></p><div style=\"display: inline-block; background-color: #d9e0e7; padding: 6px; margin: 4px; border: 1px solid #8da1b4; border-radius: 5px; line-height: 60%\"><p style=\"margin-bottom: 0px\">Resource &quot;976d0804-cae0-45ae-afe3-a19f3ceba6bc&quot; </p></div><p><b>code</b>: Product containing anastrozole (medicinal product) <span style=\"background: LightGoldenRodYellow; margin: 4px; border: 1px solid khaki\"> (<a href=\"https://browser.ihtsdotools.org/\">SNOMED CT</a>#108774000; unknown#99872 &quot;ANASTROZOL 1MG TABLET&quot;; unknown#2076667 &quot;ANASTROZOL CF TABLET FILMOMHULD 1MG&quot;; <a href=\"http://terminology.hl7.org/3.0.0/CodeSystem-atc.html\">WHO ATC</a>#L02BG03 &quot;anastrozole&quot;)</span></p></div>"
      ],
      "text/plain": [
       "<IPython.core.display.HTML object>"
      ]
     },
     "metadata": {},
     "output_type": "display_data"
    },
    {
     "data": {
      "text/html": [
       "<div xmlns=\"http://www.w3.org/1999/xhtml\"><p><b>Generated Narrative</b></p><div style=\"display: inline-block; background-color: #d9e0e7; padding: 6px; margin: 4px; border: 1px solid #8da1b4; border-radius: 5px; line-height: 60%\"><p style=\"margin-bottom: 0px\">Resource &quot;8adc0999-9468-4ac9-9557-680fa133d626&quot; </p></div><p><b>code</b>: Black Cohosh Extract herbal supplement <span style=\"background: LightGoldenRodYellow; margin: 4px; border: 1px solid khaki\"> (<a href=\"https://browser.ihtsdotools.org/\">SNOMED CT</a>#412588001 &quot;Cimicifuga racemosa extract (substance)&quot;; <a href=\"http://terminology.hl7.org/3.0.0/CodeSystem-atc.html\">WHO ATC</a>#G02CX04 &quot;Cimicifugae rhizoma&quot;)</span></p></div>"
      ],
      "text/plain": [
       "<IPython.core.display.HTML object>"
      ]
     },
     "metadata": {},
     "output_type": "display_data"
    },
    {
     "data": {
      "text/html": [
       "<div xmlns=\"http://www.w3.org/1999/xhtml\"><p><b>Generated Narrative</b></p><div style=\"display: inline-block; background-color: #d9e0e7; padding: 6px; margin: 4px; border: 1px solid #8da1b4; border-radius: 5px; line-height: 60%\"><p style=\"margin-bottom: 0px\">Resource &quot;45a5c5b1-4ec1-4d60-b4b2-ff5a84a41fd7&quot; </p></div><p><b>active</b>: true</p><p><b>type</b>: Other <span style=\"background: LightGoldenRodYellow; margin: 4px; border: 1px solid khaki\"> (<a href=\"http://terminology.hl7.org/3.0.0/CodeSystem-organization-type.html\">Organization type</a>#other)</span></p><p><b>name</b>: Laboratoire de charme</p></div>"
      ],
      "text/plain": [
       "<IPython.core.display.HTML object>"
      ]
     },
     "metadata": {},
     "output_type": "display_data"
    },
    {
     "data": {
      "text/html": [
       "<h1>Patient ID: 274261ba-23d0-4822-a5f9-9d4b9296eea3</h1>"
      ],
      "text/plain": [
       "<IPython.core.display.HTML object>"
      ]
     },
     "metadata": {},
     "output_type": "display_data"
    },
    {
     "data": {
      "text/html": [
       "<div xmlns=\"http://www.w3.org/1999/xhtml\"><table class=\"hapiPropertyTable\"><caption>Allergies And Intolerances</caption><thead><tr><th>Allergen</th><th>Status</th><th>Category</th><th>Reaction</th><th>Severity</th><th>Comments</th><th>Onset</th></tr></thead><tbody><tr id=\"AllergiesAndIntolerances-urn:uuid:fdb07f82-1a8a-497c-b6ed-8f318f47d52a\"><td> No information about allergies </td><td> active </td><td/><td/><td/><td/><td/></tr></tbody></table></div>"
      ],
      "text/plain": [
       "<IPython.core.display.HTML object>"
      ]
     },
     "metadata": {},
     "output_type": "display_data"
    },
    {
     "data": {
      "text/html": [
       "<div xmlns=\"http://www.w3.org/1999/xhtml\"><table class=\"hapiPropertyTable\"><caption>Medication Summary: Medication Requests</caption><thead><tr><th>Medication</th><th>Status</th><th>Route</th><th>Sig</th><th>Comments</th><th>Authored Date</th></tr></thead><tbody/></table><table class=\"hapiPropertyTable\"><caption>Medication Summary: Medication Statements</caption><thead><tr><th>Medication</th><th>Status</th><th>Route</th><th>Sig</th><th>Date</th></tr></thead><tbody><tr id=\"MedicationSummary-urn:uuid:8d8795d3-184a-46be-b72d-a7ffbd99fc10\"><td> No information about medications </td><td>Unknown</td><td/><td/><td/></tr></tbody></table></div>"
      ],
      "text/plain": [
       "<IPython.core.display.HTML object>"
      ]
     },
     "metadata": {},
     "output_type": "display_data"
    },
    {
     "data": {
      "text/html": [
       "<div xmlns=\"http://www.w3.org/1999/xhtml\"><table class=\"hapiPropertyTable\"><caption>Problem List</caption><thead><tr><th>Medical Problems</th><th>Status</th><th>Comments</th><th>Onset Date</th></tr></thead><tbody/></table></div>"
      ],
      "text/plain": [
       "<IPython.core.display.HTML object>"
      ]
     },
     "metadata": {},
     "output_type": "display_data"
    },
    {
     "data": {
      "text/html": [
       "<div xmlns=\"http://www.w3.org/1999/xhtml\"><p><b>Generated Narrative</b></p><div style=\"display: inline-block; background-color: #d9e0e7; padding: 6px; margin: 4px; border: 1px solid #8da1b4; border-radius: 5px; line-height: 60%\"><p style=\"margin-bottom: 0px\">Resource &quot;2b90dd2b-2dab-4c75-9bb9-a355e07401e8&quot; </p></div><p><b>identifier</b>: id: 574687583</p><p><b>active</b>: true</p><p><b>name</b>: Martha DeLarosa </p><p><b>telecom</b>: <a href=\"tel:+31788700800\">+31788700800</a></p><p><b>gender</b>: female</p><p><b>birthDate</b>: 1972-05-01</p><p><b>address</b>: Laan Van Europa 1600 Dordrecht 3317 DB NL </p><h3>Contacts</h3><table class=\"grid\"><tr><td>-</td><td><b>Relationship</b></td><td><b>Name</b></td><td><b>Telecom</b></td><td><b>Address</b></td></tr><tr><td>*</td><td>mother <span style=\"background: LightGoldenRodYellow; margin: 4px; border: 1px solid khaki\"> (<a href=\"http://terminology.hl7.org/3.0.0/CodeSystem-v3-RoleCode.html\">RoleCode</a>#MTH)</span></td><td>Martha Mum </td><td><a href=\"tel:+33-555-20036\">+33-555-20036</a></td><td>Promenade des Anglais 111 Lyon 69001 FR </td></tr></table></div>"
      ],
      "text/plain": [
       "<IPython.core.display.HTML object>"
      ]
     },
     "metadata": {},
     "output_type": "display_data"
    },
    {
     "data": {
      "text/html": [
       "<h1>Patient ID: e1efb218-12c3-4b51-80fb-3f4cdc81e11d</h1>"
      ],
      "text/plain": [
       "<IPython.core.display.HTML object>"
      ]
     },
     "metadata": {},
     "output_type": "display_data"
    },
    {
     "data": {
      "text/html": [
       "<div xmlns=\"http://www.w3.org/1999/xhtml\"><table class=\"hapiPropertyTable\"><caption>Allergies And Intolerances</caption><thead><tr><th>Allergen</th><th>Status</th><th>Category</th><th>Reaction</th><th>Severity</th><th>Comments</th><th>Onset</th></tr></thead><tbody><tr id=\"AllergiesAndIntolerances-48237a50-c5a3-49b6-bd11-ec5ecf39b324\"><td> No known allergies </td><td> active </td><td/><td/><td/><td/><td/></tr></tbody></table></div>"
      ],
      "text/plain": [
       "<IPython.core.display.HTML object>"
      ]
     },
     "metadata": {},
     "output_type": "display_data"
    },
    {
     "data": {
      "text/html": [
       "<div xmlns=\"http://www.w3.org/1999/xhtml\"><table class=\"hapiPropertyTable\"><caption>Medication Summary: Medication Requests</caption><thead><tr><th>Medication</th><th>Status</th><th>Route</th><th>Sig</th><th>Comments</th><th>Authored Date</th></tr></thead><tbody/></table><table class=\"hapiPropertyTable\"><caption>Medication Summary: Medication Statements</caption><thead><tr><th>Medication</th><th>Status</th><th>Route</th><th>Sig</th><th>Date</th></tr></thead><tbody><tr id=\"MedicationSummary-01cd3136-a14b-49ca-9425-14c4e6c18db7\"><td> No known medications </td><td>Unknown</td><td/><td/><td/></tr></tbody></table></div>"
      ],
      "text/plain": [
       "<IPython.core.display.HTML object>"
      ]
     },
     "metadata": {},
     "output_type": "display_data"
    },
    {
     "data": {
      "text/html": [
       "<div xmlns=\"http://www.w3.org/1999/xhtml\"><table class=\"hapiPropertyTable\"><caption>Problem List</caption><thead><tr><th>Medical Problems</th><th>Status</th><th>Comments</th><th>Onset Date</th></tr></thead><tbody/></table></div>"
      ],
      "text/plain": [
       "<IPython.core.display.HTML object>"
      ]
     },
     "metadata": {},
     "output_type": "display_data"
    },
    {
     "data": {
      "text/html": [
       "<div xmlns=\"http://www.w3.org/1999/xhtml\"><table class=\"hapiPropertyTable\"><caption>Immunizations</caption><thead><tr><th>Immunization</th><th>Status</th><th>Dose Number</th><th>Manufacturer</th><th>Lot Number</th><th>Comments</th><th>Date</th></tr></thead><tbody><tr id=\"Immunizations-14e7ccfc-b4a7-4c27-a9a2-0b5ab405ba47\"><td> Influenza, seasonal, injectable </td><td>COMPLETED</td><td/><td/><td>B52</td><td/><td> Mon Jun 03 00:00:00 UTC 2019 </td></tr><tr id=\"Immunizations-6690a881-a7d4-4a70-a695-686172af4c2b\"><td> Influenza, seasonal, injectable </td><td>COMPLETED</td><td/><td/><td>B52b</td><td/><td> Fri Jul 03 00:00:00 UTC 2020 </td></tr></tbody></table></div>"
      ],
      "text/plain": [
       "<IPython.core.display.HTML object>"
      ]
     },
     "metadata": {},
     "output_type": "display_data"
    },
    {
     "data": {
      "text/html": [
       "<div xml:lang=\"en-NZ\" xmlns=\"http://www.w3.org/1999/xhtml\">Name: James Summerfield</div>"
      ],
      "text/plain": [
       "<IPython.core.display.HTML object>"
      ]
     },
     "metadata": {},
     "output_type": "display_data"
    },
    {
     "data": {
      "text/html": [
       "<h1>Patient ID: 6a670b6a-e334-4ec6-a684-0c5ce66a1554</h1>"
      ],
      "text/plain": [
       "<IPython.core.display.HTML object>"
      ]
     },
     "metadata": {},
     "output_type": "display_data"
    },
    {
     "data": {
      "text/html": [
       "<div xmlns=\"http://www.w3.org/1999/xhtml\"><table class=\"hapiPropertyTable\"><caption>Allergies And Intolerances</caption><thead><tr><th>Allergen</th><th>Status</th><th>Category</th><th>Reaction</th><th>Severity</th><th>Comments</th><th>Onset</th></tr></thead><tbody><tr id=\"AllergiesAndIntolerances-ab2d7518-d16b-44a5-8930-0fa791ccca75\"><td> Barbituraten </td><td> active </td><td> MEDICATION </td><td/><td/><td> erg duizelig en misselijkheid </td><td>Fri May 08 00:00:00 UTC 2020</td></tr><tr id=\"AllergiesAndIntolerances-3d6425d3-6feb-4ea0-822a-aef7bb8d7b62\"><td> PARACETAMOL </td><td> active </td><td> BIOLOGIC </td><td/><td/><td/><td>Tue May 18 00:00:00 UTC 2021</td></tr></tbody></table></div>"
      ],
      "text/plain": [
       "<IPython.core.display.HTML object>"
      ]
     },
     "metadata": {},
     "output_type": "display_data"
    },
    {
     "data": {
      "text/html": [
       "<div xmlns=\"http://www.w3.org/1999/xhtml\"><table class=\"hapiPropertyTable\"><caption>Medication Summary: Medication Requests</caption><thead><tr><th>Medication</th><th>Status</th><th>Route</th><th>Sig</th><th>Comments</th><th>Authored Date</th></tr></thead><tbody><tr id=\"MedicationSummary-446b0011-adf1-4a34-a193-b2870f475a9b\"><td/><td>Active</td><td> ORAAL </td><td> 3 maal per dag 1 tablet. </td><td/><td>Thu May 07 22:00:00 UTC 2020</td></tr><tr id=\"MedicationSummary-5f525db4-1048-426c-9b2b-880a16cfbbbb\"><td/><td>Active</td><td/><td> Influenzavaccin (niet gespecificeerd) wwsp 0,5ml , aan de huisarts afgeven (IMM) </td><td/><td>Fri Nov 06 23:00:00 UTC 2020</td></tr></tbody></table><table class=\"hapiPropertyTable\"><caption>Medication Summary: Medication Statements</caption><thead><tr><th>Medication</th><th>Status</th><th>Route</th><th>Sig</th><th>Date</th></tr></thead><tbody/></table></div>"
      ],
      "text/plain": [
       "<IPython.core.display.HTML object>"
      ]
     },
     "metadata": {},
     "output_type": "display_data"
    },
    {
     "data": {
      "text/html": [
       "<div xmlns=\"http://www.w3.org/1999/xhtml\"><table class=\"hapiPropertyTable\"><caption>Problem List</caption><thead><tr><th>Medical Problems</th><th>Status</th><th>Comments</th><th>Onset Date</th></tr></thead><tbody/></table></div>"
      ],
      "text/plain": [
       "<IPython.core.display.HTML object>"
      ]
     },
     "metadata": {},
     "output_type": "display_data"
    },
    {
     "data": {
      "text/html": [
       "<div xmlns=\"http://www.w3.org/1999/xhtml\"><div>Id <i>afgeschermd (ontbrekend gegeven)</i> (BSN), OG O.O. Persoon1, Man, 1 januari 1954</div><div>Lomanstraat 1, 1075PW Amsterdam</div></div>"
      ],
      "text/plain": [
       "<IPython.core.display.HTML object>"
      ]
     },
     "metadata": {},
     "output_type": "display_data"
    },
    {
     "data": {
      "text/html": [
       "<div xmlns=\"http://www.w3.org/1999/xhtml\"><table><caption>Allergie/intolerantie. PatiÃ«nt: OG O.O. Persoon1. Id: ef61e1263243ef3276f06dde345eee32 (urn:oid:2.16.528.1.1007.3.3.90000382.418.3), Categorie: <span title=\"neiging tot ongewenste reactie op geneesmiddel (419511003 - SNOMED CT)\">neiging tot ongewenste reactie op geneesmiddel</span>, Status: actief / <i>onbekend (ontbrekend gegeven)</i></caption><tfoot><tr><td colspan=\"2\">erg duizelig en misselijkheid</td></tr></tfoot><tbody><tr><th>Code</th><td><span title=\"Barbituraten (6 - G-Standaard Tabel 122)\">Barbituraten</span></td></tr><tr><th>Eerste symptomen</th><td>8 mei 2020</td></tr></tbody></table></div>"
      ],
      "text/plain": [
       "<IPython.core.display.HTML object>"
      ]
     },
     "metadata": {},
     "output_type": "display_data"
    },
    {
     "data": {
      "text/html": [
       "<div xmlns=\"http://www.w3.org/1999/xhtml\"><table><caption>Allergie/intolerantie. PatiÃ«nt: H. HenÃ§ MÃ©ldÃ«rs. Id: 1343 (urn:oid:2.16.528.1.1007.3.3.90000384.231.1), Categorie: <span title=\"allergie voor substantie (419199007 - SNOMED CT)\">allergie voor substantie</span>, Status: actief / <i>onbekend (ontbrekend gegeven)</i></caption><tbody><tr><th>Code</th><td><span title=\"PARACETAMOL (906 - G-Standaard Bestand 750)\">PARACETAMOL</span></td></tr><tr><th>Eerste symptomen</th><td>18 mei 2021</td></tr></tbody></table></div>"
      ],
      "text/plain": [
       "<IPython.core.display.HTML object>"
      ]
     },
     "metadata": {},
     "output_type": "display_data"
    },
    {
     "data": {
      "text/html": [
       "<div xmlns=\"http://www.w3.org/1999/xhtml\"><table><caption>Aandoening. Subject: H. HenÃ§ MÃ©ldÃ«rs. Status: <i>onbekend (ontbrekend gegeven)</i></caption><tbody><tr><th>Code</th><td><span title=\"Emfyseem/COPD (R95 - sid/icpc-1-nl)\">Emfyseem/COPD</span></td></tr></tbody></table></div>"
      ],
      "text/plain": [
       "<IPython.core.display.HTML object>"
      ]
     },
     "metadata": {},
     "output_type": "display_data"
    },
    {
     "data": {
      "text/html": [
       "<div xmlns=\"http://www.w3.org/1999/xhtml\"><table><caption>Aandoening. Subject: H. HenÃ§ MÃ©ldÃ«rs. Status: <i>onbekend (ontbrekend gegeven)</i></caption><tbody><tr><th>Code</th><td><span title=\"Diabetes mellitus type 2 (T90.02 - sid/icpc-1-nl)\">Diabetes mellitus type 2</span></td></tr></tbody></table></div>"
      ],
      "text/plain": [
       "<IPython.core.display.HTML object>"
      ]
     },
     "metadata": {},
     "output_type": "display_data"
    },
    {
     "data": {
      "text/html": [
       "<div xmlns=\"http://www.w3.org/1999/xhtml\"><table><caption>Aandoening. Subject: OG O.O. Persoon1. Categorie: <span title=\"Diagnosis (282291009 - SNOMED CT)\">Diagnosis</span>, Status: actief</caption><tbody><tr><th>Code</th><td><span title=\"Cystitis/blaasontsteking (U71 - sid/icpc-1-nl)\">Cystitis/blaasontsteking</span></td></tr><tr><th>Eerste symptomen</th><td>Vanaf 14 mei 2021</td></tr></tbody></table></div>"
      ],
      "text/plain": [
       "<IPython.core.display.HTML object>"
      ]
     },
     "metadata": {},
     "output_type": "display_data"
    },
    {
     "data": {
      "text/html": [
       "<div xmlns=\"http://www.w3.org/1999/xhtml\"><table><caption>Medicatieafspraak. Subject: H. HenÃ§ MÃ©ldÃ«rs. Id: 110964 (urn:oid:2.16.528.1.1007.3.3.90000384.220.1), Categorie: <span title=\"Prescription (procedure) (16076005 - SNOMED CT)\">Prescription (procedure)</span>, <span style=\"display: block;\">Intentie: aanvraag</span><span style=\"display: block;\">Aangevraagd door: Dr. Bernard || Apotheekhoudende huisarts || Promedico ICT B.V. TÃ©stzorginstelling 01</span></caption><tbody><tr><th>Medicamenteuze behandel-id</th><td>110964 (urn:oid:2.16.528.1.1007.3.3.90000384.220.1)</td></tr><tr><th>Context</th><td><ul><li>Episode ID: 337 2.16.528.1.1007.3.3.90000384.145.1 (Id: 337 (urn:oid:2.16.528.1.1007.3.3.90000384.145.1))</li><li>Contact ID: 748 2.16.528.1.1007.3.3.90000384.201.1 (Id: 748 (urn:oid:2.16.528.1.1007.3.3.90000384.201.1))</li></ul></td></tr><tr><th>Medicatie</th><td>METFORMINE 1000MG TABLET</td></tr><tr><th>Gemaakt</th><td>00:00:00, 8 mei 2020</td></tr><tr><th>Reden</th><td>Diabetes mellitus type 2</td></tr><tr><th>Gebruiksduur</th><td><ul><li>Vanaf 00:00:00, 8 mei 2020</li><li>835 dag</li></ul></td></tr><tr><th>Doseerinstructie</th><td><div>Volgnummer: 0</div><div>Tekst: 3 maal per dag 1 tablet.</div><div>Timing: <div>834 dag, 3 maal per dag</div></div><div>Toedieningsweg: <span title=\"ORAAL (9 - G-Standaard thesaurus subtabel 0007)\">ORAAL</span></div><div>Dosering: 1 STUK</div></td></tr></tbody></table></div>"
      ],
      "text/plain": [
       "<IPython.core.display.HTML object>"
      ]
     },
     "metadata": {},
     "output_type": "display_data"
    },
    {
     "data": {
      "text/html": [
       "<div xmlns=\"http://www.w3.org/1999/xhtml\"><table><caption>Medicatieafspraak. Subject: OG O.O. Persoon1. Id: 6b0bb28ffbde2a84675c26c270dab99b (urn:oid:2.16.528.1.1007.3.3.90000382.418.7), Categorie: <span title=\"Prescription (procedure) (16076005 - SNOMED CT)\">Prescription (procedure)</span>, <span style=\"display: block;\">Intentie: aanvraag</span><span style=\"display: block;\">Aangevraagd door: Marjo Oskam || Testpraktijk TransHis (&quot;de punisher&quot;)</span></caption><tbody><tr><th>Medicamenteuze behandel-id</th><td> ()</td></tr><tr><th>Context</th><td>Contact ID: dff79f8d4e35fd22c496f1b8a54fa75e 2.16.528.1.1007.3.3.90000382.418.4 (Id: dff79f8d4e35fd22c496f1b8a54fa75e (urn:oid:2.16.528.1.1007.3.3.90000382.418.4))</td></tr><tr><th>Medicatie</th><td>Influenzavaccin (niet gespecificeerd) wwsp 0,5ml</td></tr><tr><th>Gemaakt</th><td>00:00:00, 7 november 2020</td></tr><tr><th>Gebruiksduur</th><td>Vanaf 09:00:00, 7 november 2020</td></tr><tr><th>Doseerinstructie</th><td><div>Volgnummer: 1</div><div>Tekst: Influenzavaccin (niet gespecificeerd) wwsp 0,5ml ,  aan de huisarts afgeven (IMM)</div></td></tr></tbody></table></div>"
      ],
      "text/plain": [
       "<IPython.core.display.HTML object>"
      ]
     },
     "metadata": {},
     "output_type": "display_data"
    },
    {
     "data": {
      "text/html": [
       "<h1>Patient ID: f15d2419-fbff-464a-826d-0afe8f095771</h1>"
      ],
      "text/plain": [
       "<IPython.core.display.HTML object>"
      ]
     },
     "metadata": {},
     "output_type": "display_data"
    },
    {
     "data": {
      "text/html": [
       "<div xmlns=\"http://www.w3.org/1999/xhtml\"><table class=\"hapiPropertyTable\"><caption>Allergies And Intolerances</caption><thead><tr><th>Allergen</th><th>Status</th><th>Category</th><th>Reaction</th><th>Severity</th><th>Comments</th><th>Onset</th></tr></thead><tbody><tr id=\"AllergiesAndIntolerances-e287952b-cbf1-43a3-a8dd-0bfc2a0ce833\"><td> No information about allergies </td><td> active </td><td/><td/><td/><td/><td/></tr></tbody></table></div>"
      ],
      "text/plain": [
       "<IPython.core.display.HTML object>"
      ]
     },
     "metadata": {},
     "output_type": "display_data"
    },
    {
     "data": {
      "text/html": [
       "<div xmlns=\"http://www.w3.org/1999/xhtml\"><table class=\"hapiPropertyTable\"><caption>Medication Summary: Medication Requests</caption><thead><tr><th>Medication</th><th>Status</th><th>Route</th><th>Sig</th><th>Comments</th><th>Authored Date</th></tr></thead><tbody/></table><table class=\"hapiPropertyTable\"><caption>Medication Summary: Medication Statements</caption><thead><tr><th>Medication</th><th>Status</th><th>Route</th><th>Sig</th><th>Date</th></tr></thead><tbody><tr id=\"MedicationSummary-1368a5ba-644d-44cd-8a5b-eae138d7047a\"><td> prednisone 1 mg tablet <br/> Product containing prednisone (medicinal product) </td><td>Active</td><td> Swallow, oral </td><td> Take 4mg daily for 1/12 then reduce by 1mg by 1 month </td><td> Fri Dec 17 00:00:00 UTC 2021 </td></tr><tr id=\"MedicationSummary-c8d965fb-209d-4f5b-b507-1066311e7846\"><td> cilazapril 500 microgram tablet, 90 <br/> Product containing cilazapril (medicinal product) </td><td>Active</td><td/><td> Take 1 daily </td><td> Fri Aug 26 00:00:00 UTC 2022 </td></tr></tbody></table></div>"
      ],
      "text/plain": [
       "<IPython.core.display.HTML object>"
      ]
     },
     "metadata": {},
     "output_type": "display_data"
    },
    {
     "data": {
      "text/html": [
       "<div xmlns=\"http://www.w3.org/1999/xhtml\"><table class=\"hapiPropertyTable\"><caption>Problem List</caption><thead><tr><th>Medical Problems</th><th>Status</th><th>Comments</th><th>Onset Date</th></tr></thead><tbody/></table></div>"
      ],
      "text/plain": [
       "<IPython.core.display.HTML object>"
      ]
     },
     "metadata": {},
     "output_type": "display_data"
    },
    {
     "data": {
      "text/html": [
       "<div xmlns=\"http://www.w3.org/1999/xhtml\"><table class=\"hapiPropertyTable\"><caption>Immunizations</caption><thead><tr><th>Immunization</th><th>Status</th><th>Dose Number</th><th>Manufacturer</th><th>Lot Number</th><th>Comments</th><th>Date</th></tr></thead><tbody><tr id=\"Immunizations-97fd2b09-19c6-4004-8f2d-0f74c7a61dd9\"><td> Influenza, seasonal, injectable </td><td>COMPLETED</td><td/><td/><td>P100320654</td><td/><td> Mon May 31 00:00:00 UTC 2021 </td></tr><tr id=\"Immunizations-87b42853-8718-4196-9e0f-5d63cde0d7d4\"><td> SARS-COV-2 (COVID-19) vaccine, mRNA, spike protein, LNP, preservative free, 30 mcg/0.3mL dose </td><td>COMPLETED</td><td/><td/><td>FF8871-001</td><td/><td> Thu Aug 05 00:00:00 UTC 2021 </td></tr><tr id=\"Immunizations-a3b8980f-9cb3-462a-a06c-a6e0c18e3577\"><td> SARS-COV-2 (COVID-19) vaccine, mRNA, spike protein, LNP, preservative free, 30 mcg/0.3mL dose </td><td>COMPLETED</td><td/><td/><td>FE8163-007</td><td/><td> Fri Aug 27 00:00:00 UTC 2021 </td></tr><tr id=\"Immunizations-39f6ff12-55fb-42ff-9125-b1e4a80f64f3\"><td> SARS-COV-2 (COVID-19) vaccine, mRNA, spike protein, LNP, preservative free, 30 mcg/0.3mL dose </td><td>COMPLETED</td><td/><td/><td>FL1072-025</td><td/><td> Thu Jan 13 00:00:00 UTC 2022 </td></tr><tr id=\"Immunizations-d5f36923-cb1f-4688-8de8-cb6477fd53d4\"><td> Influenza, seasonal, injectable </td><td>COMPLETED</td><td/><td/><td>P100421221</td><td/><td> Wed Jun 01 00:00:00 UTC 2022 </td></tr><tr id=\"Immunizations-07665a98-7573-4a63-8533-e61267c9640f\"><td> zoster vaccine, live </td><td>COMPLETED</td><td/><td/><td>U021248</td><td/><td> Wed Jul 13 00:00:00 UTC 2022 </td></tr><tr id=\"Immunizations-b0b87d8a-ddc8-4e6c-b189-cadb432e9cb1\"><td> SARS-COV-2 (COVID-19) vaccine, mRNA, spike protein, LNP, preservative free, 30 mcg/0.3mL dose </td><td>COMPLETED</td><td/><td/><td>PCB0008-07</td><td/><td> Mon Aug 01 00:00:00 UTC 2022 </td></tr></tbody></table></div>"
      ],
      "text/plain": [
       "<IPython.core.display.HTML object>"
      ]
     },
     "metadata": {},
     "output_type": "display_data"
    },
    {
     "data": {
      "text/html": [
       "<div xmlns=\"http://www.w3.org/1999/xhtml\"><table class=\"hapiPropertyTable\"><caption>Diagnostic Results: Observations</caption><thead><tr><th>Code</th><th>Result</th><th>Unit</th><th>Interpretation</th><th>Reference Range</th><th>Comments</th><th>Date</th></tr></thead><tbody><tr id=\"DiagnosticResults-8527ff60-c278-4e2a-8572-1a6d23a5bf23\"><td> SCL-70 extractable nuclear Ab [Presence] in Serum </td><td> Negative </td><td/><td/><td> NA </td><td/><td> Mon Jul 19 15:35:00 UTC 2021 </td></tr><tr id=\"DiagnosticResults-41cf6482-49e0-4eb7-875b-1e164347a73e\"><td> Ribonucleoprotein extractable nuclear Ab [Presence] in Serum </td><td> Negative </td><td/><td/><td> NA </td><td/><td> Mon Jul 19 15:35:00 UTC 2021 </td></tr><tr id=\"DiagnosticResults-a58fbaa0-5f41-4e9f-af6c-e3b22a1f0e49\"><td> Smith extractable nuclear Ab [Presence] in Serum </td><td> Negative </td><td/><td/><td> NA </td><td/><td> Mon Jul 19 15:35:00 UTC 2021 </td></tr><tr id=\"DiagnosticResults-c23260ef-d28d-45a1-83c7-98ff59421236\"><td> Sjogrens syndrome-A extractable nuclear Ab [Presence] in Serum </td><td> Negative </td><td/><td/><td> NA </td><td/><td> Mon Jul 19 15:35:00 UTC 2021 </td></tr><tr id=\"DiagnosticResults-5e98208d-69e1-45c7-b624-49bdf3400741\"><td> Jo-1 extractable nuclear Ab [Presence] in Serum </td><td> Negative </td><td/><td/><td> NA </td><td/><td> Mon Jul 19 15:35:00 UTC 2021 </td></tr><tr id=\"DiagnosticResults-b65b8641-2259-495a-9f0c-557507c72679\"><td> Sjogrens syndrome-B extractable nuclear Ab [Presence] in Serum </td><td> Negative </td><td/><td/><td> NA </td><td/><td> Mon Jul 19 15:35:00 UTC 2021 </td></tr><tr id=\"DiagnosticResults-fb5a3512-7c75-4f0c-8f4f-151270c1c84c\"><td> 5250 (Tissue Autoantibody Screen) </td><td> Gastric Parietal Cell Not detectedbr Mitochondrial Not detected 20br Smooth Muscle Not detected 20 </td><td/><td/><td> NA </td><td/><td> Mon Jul 12 15:05:00 UTC 2021 </td></tr><tr id=\"DiagnosticResults-b9250bbb-aa3b-4bb5-9165-b06462772da1\"><td> C reactive protein [Mass/volume] in Serum or Plasma </td><td> 2.8 </td><td> mg/L </td><td/><td> 0-8 </td><td/><td> Fri Jul 09 19:06:00 UTC 2021 </td></tr><tr id=\"DiagnosticResults-260240a6-b754-4976-8af5-7552621a48d4\"><td> 3712 (Screening FIT) </td><td> Negative </td><td/><td/><td> NA </td><td> This is a result from the National Bowel Screening Programme. <br/> L </td><td> Fri Dec 10 21:00:00 UTC 2021 </td></tr><tr id=\"DiagnosticResults-d4000d8c-7c09-4dff-937f-51de8e66ddeb\"><td> Hematocrit [Volume Fraction] of Blood </td><td> 0.4 </td><td> L/L </td><td/><td> 0.40-0.52 </td><td/><td> Mon Jan 10 16:05:00 UTC 2022 </td></tr><tr id=\"DiagnosticResults-bb072250-d66c-4223-a0d6-c05b683b62f0\"><td> Platelets [#/volume] in Blood </td><td> 214 </td><td> 10*9/L </td><td/><td> 150-400 </td><td/><td> Mon Jan 10 16:05:00 UTC 2022 </td></tr><tr id=\"DiagnosticResults-9567b2ee-7fcb-4061-a1af-a56635ea1e48\"><td> Hemoglobin [Mass/volume] in Blood </td><td> 137 </td><td> g/L </td><td/><td> 130-175 </td><td/><td> Mon Jan 10 16:05:00 UTC 2022 </td></tr><tr id=\"DiagnosticResults-7857e6be-6f6c-4868-b426-7f8fa10af987\"><td> Basophils [#/volume] in Blood </td><td> 0.1 </td><td> 10*9/L </td><td/><td> 0-0.2 </td><td/><td> Mon Jan 10 16:05:00 UTC 2022 </td></tr><tr id=\"DiagnosticResults-c76734fe-d253-46f0-9065-37069d1ac2af\"><td> Leukocytes [#/volume] in Blood </td><td> 7.9 </td><td> 10*9/L </td><td/><td> 4.0-11.0 </td><td/><td> Mon Jan 10 16:05:00 UTC 2022 </td></tr><tr id=\"DiagnosticResults-10085b4e-70dc-466b-a06e-292c34c18809\"><td> Lymphocytes [#/volume] in Blood </td><td> 1.1 </td><td> 10*9/L </td><td/><td> 1.0-4.0 </td><td/><td> Mon Jan 10 16:05:00 UTC 2022 </td></tr><tr id=\"DiagnosticResults-fe325ea0-ff1d-4e28-a7a4-49fdbca8d43b\"><td> MCV [Entitic volume] </td><td> 91 </td><td> fL </td><td/><td> 80-99 </td><td/><td> Mon Jan 10 16:05:00 UTC 2022 </td></tr><tr id=\"DiagnosticResults-c677c2ac-b49a-4ae0-a8d2-8daa525adc78\"><td> MCH [Entitic mass] </td><td> 31 </td><td> pg </td><td/><td> 27-33 </td><td/><td> Mon Jan 10 16:05:00 UTC 2022 </td></tr><tr id=\"DiagnosticResults-14fa14cc-cda9-4156-937f-a65f21237c19\"><td> Neutrophils.hypersegmented [#/volume] in Blood </td><td> 6.3 </td><td> 10*9/L </td><td/><td> 1.9-7.5 </td><td/><td> Mon Jan 10 16:05:00 UTC 2022 </td></tr><tr id=\"DiagnosticResults-68f3d5b4-a96b-4cf8-921a-3e72e851c0e4\"><td> Eosinophils [#/volume] in Blood </td><td> 0.1 </td><td> 10*9/L </td><td/><td> 0.0-0.5 </td><td/><td> Mon Jan 10 16:05:00 UTC 2022 </td></tr><tr id=\"DiagnosticResults-1d2d074a-236a-4440-bd92-3cec51e1553e\"><td> Monocytes [#/volume] in Blood </td><td> 0.4 </td><td> 10*9/L </td><td/><td> 0.2-1.0 </td><td/><td> Mon Jan 10 16:05:00 UTC 2022 </td></tr><tr id=\"DiagnosticResults-fcf4456b-9fb9-4855-9de1-5ec7e46d3818\"><td> 4070 (ESR) </td><td> 10 </td><td> mm/h </td><td/><td> 0-15 </td><td/><td> Mon Jan 10 16:05:00 UTC 2022 </td></tr><tr id=\"DiagnosticResults-5b2fa42d-6249-4d72-b159-8b1983555272\"><td> Creatine kinase [Enzymatic activity/volume] in Serum or Plasma </td><td> 37 </td><td> U/L </td><td/><td> 0-220 </td><td/><td> Fri Jul 09 19:06:00 UTC 2021 </td></tr><tr id=\"DiagnosticResults-68b2b9e6-f17d-443f-84b8-9c379489f862\"><td> Urate [Moles/volume] in Serum or Plasma </td><td> 0.39 </td><td> mmol/L </td><td/><td> 0.23-0.42 </td><td> The urate target level for gout management is &lt;0.36 mmol/L <br/> L </td><td> Tue Dec 21 18:06:00 UTC 2021 </td></tr><tr id=\"DiagnosticResults-524cfa36-6836-4636-a9b9-52c39bd2b5f8\"><td> Hematocrit [Volume Fraction] of Blood </td><td> 0.42 </td><td> L/L </td><td/><td> 0.40-0.52 </td><td/><td> Fri Jul 09 19:06:00 UTC 2021 </td></tr><tr id=\"DiagnosticResults-ead938fd-6d66-42bb-ad07-0c7746539c1d\"><td> Hemoglobin [Mass/volume] in Blood </td><td> 142 </td><td> g/L </td><td/><td> 130-175 </td><td/><td> Fri Jul 09 19:06:00 UTC 2021 </td></tr><tr id=\"DiagnosticResults-f96ea5ae-c352-4f95-af35-e05401a9609d\"><td> Neutrophils.hypersegmented [#/volume] in Blood </td><td> 8.6 </td><td> 10*9/L </td><td> High </td><td> 1.9-7.5 </td><td/><td> Fri Jul 09 19:06:00 UTC 2021 </td></tr><tr id=\"DiagnosticResults-70d81147-e56d-4d04-bd16-23d182b19a9c\"><td> 4070 (ESR) </td><td> 22 </td><td> mm/h </td><td> High </td><td> 0-15 </td><td/><td> Fri Jul 09 19:06:00 UTC 2021 </td></tr><tr id=\"DiagnosticResults-5105719f-faf9-4d24-a316-d2b07cfb0c3a\"><td> MCH [Entitic mass] </td><td> 31 </td><td> pg </td><td/><td> 27-33 </td><td/><td> Fri Jul 09 19:06:00 UTC 2021 </td></tr><tr id=\"DiagnosticResults-a1c8cfdb-833d-48c3-b5b0-626e9ed60788\"><td> Basophils [#/volume] in Blood </td><td> 0.1 </td><td> 10*9/L </td><td/><td> 0-0.2 </td><td/><td> Fri Jul 09 19:06:00 UTC 2021 </td></tr><tr id=\"DiagnosticResults-2b327d60-a6ea-4444-b2a0-8d95bd7c72af\"><td> Monocytes [#/volume] in Blood </td><td> 0.3 </td><td> 10*9/L </td><td/><td> 0.2-1.0 </td><td/><td> Fri Jul 09 19:06:00 UTC 2021 </td></tr><tr id=\"DiagnosticResults-eebf7882-8255-4639-91df-6c597b519a70\"><td> Platelets [#/volume] in Blood </td><td> 240 </td><td> 10*9/L </td><td/><td> 150-400 </td><td/><td> Fri Jul 09 19:06:00 UTC 2021 </td></tr><tr id=\"DiagnosticResults-9ada9330-1547-46d3-8d04-5daf81963929\"><td> Lymphocytes [#/volume] in Blood </td><td> 0.9 </td><td> 10*9/L </td><td> Low </td><td> 1.0-4.0 </td><td/><td> Fri Jul 09 19:06:00 UTC 2021 </td></tr><tr id=\"DiagnosticResults-f4e07397-c03d-4069-984b-992b2e24bb05\"><td> Eosinophils [#/volume] in Blood </td><td> 0.1 </td><td> 10*9/L </td><td/><td> 0.0-0.5 </td><td/><td> Fri Jul 09 19:06:00 UTC 2021 </td></tr><tr id=\"DiagnosticResults-fb42d91d-219d-45c6-ba68-2c02837b6655\"><td> MCV [Entitic volume] </td><td> 91 </td><td> fL </td><td/><td> 80-99 </td><td/><td> Fri Jul 09 19:06:00 UTC 2021 </td></tr><tr id=\"DiagnosticResults-fbf52f98-72b3-4e4f-b425-19948b01958c\"><td> Leukocytes [#/volume] in Blood </td><td> 9.9 </td><td> 10*9/L </td><td/><td> 4.0-11.0 </td><td/><td> Fri Jul 09 19:06:00 UTC 2021 </td></tr><tr id=\"DiagnosticResults-62c5742b-ddfe-430c-a3b3-9f49eca6c2dc\"><td> Sodium [Moles/volume] in Serum or Plasma </td><td> 140 </td><td> mmol/L </td><td/><td> 135-145 </td><td/><td> Fri Jul 09 19:06:00 UTC 2021 </td></tr><tr id=\"DiagnosticResults-8d4abbab-ee55-4004-994e-cecb00624be5\"><td> Glomerular filtration rate/1.73 sq M.predicted [Volume Rate/Area] in Serum, Plasma or Blood by Creatinine-based formula (CKD-EPI) </td><td> 90 </td><td> mL/min </td><td/><td> &gt;60 </td><td/><td> Fri Jul 09 19:06:00 UTC 2021 </td></tr><tr id=\"DiagnosticResults-60e52764-49ae-454e-84a8-480e171c5cf4\"><td> Potassium [Moles/volume] in Serum or Plasma </td><td> 4.5 </td><td> mmol/L </td><td/><td> 3.5-5.2 </td><td/><td> Fri Jul 09 19:06:00 UTC 2021 </td></tr><tr id=\"DiagnosticResults-080806f2-a4c4-47bb-9871-df38dee2f3df\"><td> Urate [Moles/volume] in Serum or Plasma </td><td> 0.41 </td><td> mmol/L </td><td/><td> 0.23-0.42 </td><td/><td> Fri Jul 09 19:06:00 UTC 2021 </td></tr><tr id=\"DiagnosticResults-80b2838a-4057-4fd1-a25a-b5230d445790\"><td> Creatinine [Moles/volume] in Serum or Plasma </td><td> 77 </td><td> umol/L </td><td/><td> 60-105 </td><td/><td> Fri Jul 09 19:06:00 UTC 2021 </td></tr><tr id=\"DiagnosticResults-522f8427-6d91-4bb4-be75-fbd79402e69b\"><td> C reactive protein [Mass/volume] in Serum or Plasma </td><td> 0.6 </td><td> mg/L </td><td/><td> 0-8 </td><td/><td> Mon Dec 06 16:06:00 UTC 2021 </td></tr><tr id=\"DiagnosticResults-63311efa-020e-4759-b6a8-14a669d6cf7e\"><td> 5796 (ANA COMMENT) </td><td> SPECKLED This pattern may be associated with connective tissue disease but also other non-specific chronic inflammatory conditions. Recommend interpretation in conjunction with ENA and dsDNA. This comment was added by TH (BMLS). </td><td/><td/><td> NA </td><td/><td> Tue Jul 13 15:05:00 UTC 2021 </td></tr><tr id=\"DiagnosticResults-5eb0c3cb-6b4c-4ad4-9fd4-a110e7e5705c\"><td> Nuclear Ab [Titer] in Serum </td><td> Staining patternbr Speckled 1 in 320 </td><td/><td/><td> NA </td><td/><td> Tue Jul 13 15:05:00 UTC 2021 </td></tr><tr id=\"DiagnosticResults-22da9738-0abc-4736-8c1b-8b42c325bf8c\"><td> Nuclear Ab [Presence] in Serum </td><td> Positive </td><td/><td/><td> NA </td><td/><td> Tue Jul 13 15:05:00 UTC 2021 </td></tr><tr id=\"DiagnosticResults-c7f388c6-4b7b-4520-9272-3365c48f6290\"><td> Urate [Moles/volume] in Serum or Plasma </td><td> 0.47 </td><td> mmol/L </td><td> High </td><td> 0.23-0.42 </td><td> The urate target level for gout management is &lt;0.36 mmol/L <br/> L </td><td> Mon Dec 06 16:06:00 UTC 2021 </td></tr><tr id=\"DiagnosticResults-1f22f339-f87e-4654-8eef-a264c7609a1c\"><td> C reactive protein [Mass/volume] in Serum or Plasma </td><td> 0.3 </td><td> mg/L </td><td/><td> 0-8 </td><td/><td> Tue Dec 21 18:06:00 UTC 2021 </td></tr><tr id=\"DiagnosticResults-ff5beb44-95df-4a60-84fe-d3c48eea5811\"><td> Platelets [#/volume] in Blood </td><td> 209 </td><td> 10*9/L </td><td/><td> 150-400 </td><td/><td> Tue Dec 21 19:06:00 UTC 2021 </td></tr><tr id=\"DiagnosticResults-6892eef3-e54c-40d9-9c34-19432d24bedd\"><td> Leukocytes [#/volume] in Blood </td><td> 8.5 </td><td> 10*9/L </td><td/><td> 4.0-11.0 </td><td/><td> Tue Dec 21 19:06:00 UTC 2021 </td></tr><tr id=\"DiagnosticResults-d0099d09-f869-4e18-b3c6-c6b12d722304\"><td> Eosinophils [#/volume] in Blood </td><td> 0.1 </td><td> 10*9/L </td><td/><td> 0.0-0.5 </td><td/><td> Tue Dec 21 19:06:00 UTC 2021 </td></tr><tr id=\"DiagnosticResults-79b4f543-9ac1-4ae9-b6e5-9e3f0c8e677a\"><td> Hematocrit [Volume Fraction] of Blood </td><td> 0.42 </td><td> L/L </td><td/><td> 0.40-0.52 </td><td/><td> Tue Dec 21 19:06:00 UTC 2021 </td></tr><tr id=\"DiagnosticResults-4916e97a-5718-4f9c-b857-1f8900a26226\"><td> 4070 (ESR) </td><td> 7 </td><td> mm/h </td><td/><td> 0-15 </td><td/><td> Tue Dec 21 19:06:00 UTC 2021 </td></tr><tr id=\"DiagnosticResults-863c789c-d902-41f9-be50-021a67096e7c\"><td> Monocytes [#/volume] in Blood </td><td> 0.3 </td><td> 10*9/L </td><td/><td> 0.2-1.0 </td><td/><td> Tue Dec 21 19:06:00 UTC 2021 </td></tr><tr id=\"DiagnosticResults-6af95cb3-5100-461a-8a49-a1e9e3696e8e\"><td> Basophils [#/volume] in Blood </td><td> 0.1 </td><td> 10*9/L </td><td/><td> 0-0.2 </td><td/><td> Tue Dec 21 19:06:00 UTC 2021 </td></tr><tr id=\"DiagnosticResults-2535a81e-a70f-4b3c-ae64-06a45bb85f96\"><td> MCV [Entitic volume] </td><td> 92 </td><td> fL </td><td/><td> 80-99 </td><td/><td> Tue Dec 21 19:06:00 UTC 2021 </td></tr><tr id=\"DiagnosticResults-a20c656a-4db0-4a2c-8322-74fda0d014fc\"><td> Lymphocytes [#/volume] in Blood </td><td> 1.3 </td><td> 10*9/L </td><td/><td> 1.0-4.0 </td><td/><td> Tue Dec 21 19:06:00 UTC 2021 </td></tr><tr id=\"DiagnosticResults-309f95d5-d3c3-4d5f-837f-7a02246c06f1\"><td> Neutrophils.hypersegmented [#/volume] in Blood </td><td> 6.8 </td><td> 10*9/L </td><td/><td> 1.9-7.5 </td><td/><td> Tue Dec 21 19:06:00 UTC 2021 </td></tr><tr id=\"DiagnosticResults-d3aae350-6699-4e9a-a954-ee2f4d69fcc1\"><td> Hemoglobin [Mass/volume] in Blood </td><td> 141 </td><td> g/L </td><td/><td> 130-175 </td><td/><td> Tue Dec 21 19:06:00 UTC 2021 </td></tr><tr id=\"DiagnosticResults-066974c4-4221-4608-9d3d-8aabb988fea8\"><td> MCH [Entitic mass] </td><td> 31 </td><td> pg </td><td/><td> 27-33 </td><td/><td> Tue Dec 21 19:06:00 UTC 2021 </td></tr><tr id=\"DiagnosticResults-dd1f7d36-7176-40ea-a461-658d61c38afb\"><td> DNA double strand Ab [Presence] in Serum </td><td> Negative </td><td/><td/><td> NA </td><td/><td> Mon Jul 19 13:35:00 UTC 2021 </td></tr><tr id=\"DiagnosticResults-9b077511-b8a0-48b5-9b6f-8d90f513b5db\"><td> DNA double strand Ab [Units/volume] in Serum by Immunoassay </td><td> 1 </td><td> m[IU]/mL </td><td/><td> &lt;10.0 </td><td/><td> Mon Jul 19 13:35:00 UTC 2021 </td></tr><tr id=\"DiagnosticResults-4386701a-18e3-40c1-9579-564981330b24\"><td> 5806 (ds-DNA Comment) </td><td> ds-DNA antibodies are specific for SLE but must be interpreted in conjunction with the clinical picture. Low level results (15) are less specific. </td><td/><td/><td> NA </td><td/><td> Mon Jul 19 13:35:00 UTC 2021 </td></tr><tr id=\"DiagnosticResults-84709870-dc96-433c-be6c-6bc3a933555a\"><td> Urate [Moles/volume] in Serum or Plasma </td><td> 0.39 </td><td> mmol/L </td><td/><td> 0.23-0.42 </td><td> The urate target level for gout management is &lt;0.36 mmol/L <br/> L </td><td> Mon Jan 10 15:36:00 UTC 2022 </td></tr><tr id=\"DiagnosticResults-2304123d-0651-421d-bce6-e78fa373b0b0\"><td> Leukocytes [#/volume] in Blood </td><td> 7.2 </td><td> 10*9/L </td><td/><td> 4.0-11.0 </td><td/><td> Mon Dec 06 16:35:00 UTC 2021 </td></tr><tr id=\"DiagnosticResults-e2019bc5-808b-4df4-8d86-32e090e05a78\"><td> MCH [Entitic mass] </td><td> 31 </td><td> pg </td><td/><td> 27-33 </td><td/><td> Mon Dec 06 16:35:00 UTC 2021 </td></tr><tr id=\"DiagnosticResults-06240c8b-2a90-4fb5-88a8-7ec447e67d8f\"><td> Platelets [#/volume] in Blood </td><td> 228 </td><td> 10*9/L </td><td/><td> 150-400 </td><td/><td> Mon Dec 06 16:35:00 UTC 2021 </td></tr><tr id=\"DiagnosticResults-437d675f-12a1-4531-8df2-ee346f2e60aa\"><td> MCV [Entitic volume] </td><td> 91 </td><td> fL </td><td/><td> 80-99 </td><td/><td> Mon Dec 06 16:35:00 UTC 2021 </td></tr><tr id=\"DiagnosticResults-1d79cc7b-df7e-4cfb-a2ab-d7a053ec245c\"><td> Neutrophils.hypersegmented [#/volume] in Blood </td><td> 5.5 </td><td> 10*9/L </td><td/><td> 1.9-7.5 </td><td/><td> Mon Dec 06 16:35:00 UTC 2021 </td></tr><tr id=\"DiagnosticResults-f8d56f70-8a40-4767-bbde-3456896ec8cb\"><td> Basophils [#/volume] in Blood </td><td> 0.1 </td><td> 10*9/L </td><td/><td> 0-0.2 </td><td/><td> Mon Dec 06 16:35:00 UTC 2021 </td></tr><tr id=\"DiagnosticResults-92231d6a-fad5-4e48-81d6-deab1772af4b\"><td> Monocytes [#/volume] in Blood </td><td> 0.4 </td><td> 10*9/L </td><td/><td> 0.2-1.0 </td><td/><td> Mon Dec 06 16:35:00 UTC 2021 </td></tr><tr id=\"DiagnosticResults-a976d048-d993-4ba8-a1e9-23b8de32ec66\"><td> 4070 (ESR) </td><td> 10 </td><td> mm/h </td><td/><td> 0-15 </td><td/><td> Mon Dec 06 16:35:00 UTC 2021 </td></tr><tr id=\"DiagnosticResults-8b0cc73a-f9b3-461a-b0be-499a419f6995\"><td> Hematocrit [Volume Fraction] of Blood </td><td> 0.41 </td><td> L/L </td><td/><td> 0.40-0.52 </td><td/><td> Mon Dec 06 16:35:00 UTC 2021 </td></tr><tr id=\"DiagnosticResults-90b6c318-b536-4aea-ae47-eed3ce78b02c\"><td> Lymphocytes [#/volume] in Blood </td><td> 1.3 </td><td> 10*9/L </td><td/><td> 1.0-4.0 </td><td/><td> Mon Dec 06 16:35:00 UTC 2021 </td></tr><tr id=\"DiagnosticResults-1e40491f-b4b0-48cf-8d9b-76e1aa553dd9\"><td> Hemoglobin [Mass/volume] in Blood </td><td> 139 </td><td> g/L </td><td/><td> 130-175 </td><td/><td> Mon Dec 06 16:35:00 UTC 2021 </td></tr><tr id=\"DiagnosticResults-5e21987a-eb48-46c1-a018-be78ec21a251\"><td> Eosinophils [#/volume] in Blood </td><td> 0.1 </td><td> 10*9/L </td><td/><td> 0.0-0.5 </td><td/><td> Mon Dec 06 16:35:00 UTC 2021 </td></tr><tr id=\"DiagnosticResults-554c0d99-8ee5-47ee-94e1-bde0cfe81a76\"><td> C reactive protein [Mass/volume] in Serum or Plasma </td><td> 0.4 </td><td> mg/L </td><td/><td> 0-8 </td><td/><td> Mon Jan 10 15:36:00 UTC 2022 </td></tr><tr id=\"DiagnosticResults-19b23db8-8723-4508-8975-e2f9e09fe833\"><td> SARS-CoV-2 (COVID-19) RNA [Presence] in Respiratory specimen by NAA with probe detection </td><td> Not detected </td><td/><td/><td> NA </td><td/><td> Sat Jul 24 14:12:00 UTC 2021 </td></tr><tr id=\"DiagnosticResults-6fa7b364-c090-4d4d-a805-0302b9463542\"><td> $MOLSPEC (Specimen type (ID molecular)) </td><td> Swab. Nasophar. </td><td/><td/><td> NA </td><td/><td> Sat Jul 24 14:12:00 UTC 2021 </td></tr><tr id=\"DiagnosticResults-9266adef-a533-4606-8b4e-f28bb6edf440\"><td> $SYMP (Symptomatic) </td><td> Symptomatic </td><td/><td/><td> NA </td><td/><td> Sat Jul 24 14:12:00 UTC 2021 </td></tr></tbody></table><table class=\"hapiPropertyTable\"><caption>Diagnostic Results: Diagnostic Reports</caption><thead><tr><th>Code</th><th>Date</th></tr></thead><tbody><tr id=\"DiagnosticResults-4bd9eefa-5eee-4b6b-86d2-15db09537b9b\"><td> 5329 (Extractable Nuclear Antibody) </td><td> Mon Jul 19 15:35:00 UTC 2021 </td></tr><tr id=\"DiagnosticResults-a2154246-b5ea-42fa-a388-4189cfc801aa\"><td> 5250 (Tissue Autoantibody Screen) </td><td> Mon Jul 12 15:05:00 UTC 2021 </td></tr><tr id=\"DiagnosticResults-c81c7b46-5f59-4b89-9560-6a1448de00c3\"><td> RADXR (Radiology X-RAY) </td><td> Mon Jul 26 14:32:00 UTC 2021 </td></tr><tr id=\"DiagnosticResults-45072ba5-49af-403b-9b3a-558bb4af1e64\"><td> 5780 (CRP) </td><td> Fri Jul 09 19:06:00 UTC 2021 </td></tr><tr id=\"DiagnosticResults-fd3c6ca9-ac83-4143-9eae-f6f7f08fb3f8\"><td> 3711 (Screening FIT) </td><td> Fri Dec 10 21:00:00 UTC 2021 </td></tr><tr id=\"DiagnosticResults-2e519aed-e089-4e10-8dc1-5362ef90570b\"><td> 4014 (CBC) </td><td> Mon Jan 10 16:05:00 UTC 2022 </td></tr><tr id=\"DiagnosticResults-5047877c-b029-4dc0-bbb0-1ce07570d297\"><td> 1630 (Cardiac Enzymes) </td><td> Fri Jul 09 19:06:00 UTC 2021 </td></tr><tr id=\"DiagnosticResults-4ba794a0-a1fe-42c2-add3-8752db888f08\"><td> 0055 (GENERAL CHEM....) </td><td> Tue Dec 21 18:06:00 UTC 2021 </td></tr><tr id=\"DiagnosticResults-a9611be1-a0a2-4941-addd-4f2b1c5f47f4\"><td> 4014 (CBC) </td><td> Fri Jul 09 19:06:00 UTC 2021 </td></tr><tr id=\"DiagnosticResults-d0cf4649-3067-4e03-b9ff-fbb36244da00\"><td> 0055 (GENERAL CHEM....) </td><td> Fri Jul 09 19:06:00 UTC 2021 </td></tr><tr id=\"DiagnosticResults-888a0d8f-3491-4907-8a6e-cb95bb9d1830\"><td> 5780 (CRP) </td><td> Mon Dec 06 16:06:00 UTC 2021 </td></tr><tr id=\"DiagnosticResults-c7e7932f-22f0-4286-a70c-f7dfd38dd461\"><td> 5789 (ANA GROUP) </td><td> Tue Jul 13 15:05:00 UTC 2021 </td></tr><tr id=\"DiagnosticResults-43982c06-3a81-4447-a3a1-f419b7716c8e\"><td> 0055 (GENERAL CHEM....) </td><td> Mon Dec 06 16:06:00 UTC 2021 </td></tr><tr id=\"DiagnosticResults-43a65ef2-887a-40cd-ba78-98e60a771a19\"><td> 5780 (CRP) </td><td> Tue Dec 21 18:06:00 UTC 2021 </td></tr><tr id=\"DiagnosticResults-a8d5f749-097b-491f-b941-220355aa7d8d\"><td> 4014 (CBC) </td><td> Tue Dec 21 19:06:00 UTC 2021 </td></tr><tr id=\"DiagnosticResults-94947458-dbbe-4a56-9538-93f79ec5b63e\"><td> 5803 (ds-DNA Ab Group) </td><td> Mon Jul 19 13:35:00 UTC 2021 </td></tr><tr id=\"DiagnosticResults-39828724-95fd-41b3-a83e-12023ccee184\"><td> RADXR (Radiology X-RAY) </td><td> Wed Dec 29 12:37:00 UTC 2021 </td></tr><tr id=\"DiagnosticResults-21bde69b-3581-4c62-a8f2-fab7d21c20e2\"><td> 0055 (GENERAL CHEM....) </td><td> Mon Jan 10 15:36:00 UTC 2022 </td></tr><tr id=\"DiagnosticResults-74c86554-3296-4441-a1e6-3e846d7f1ae4\"><td> 4014 (CBC) </td><td> Mon Dec 06 16:35:00 UTC 2021 </td></tr><tr id=\"DiagnosticResults-b75c77dc-dc73-4a8e-bed6-fd1afe09c376\"><td> 5780 (CRP) </td><td> Mon Jan 10 15:36:00 UTC 2022 </td></tr><tr id=\"DiagnosticResults-a5a08139-8165-4da5-8ec7-a2efc0706a01\"><td> $INFMO (I.D.: Molecular biology) </td><td> Sat Jul 24 14:12:00 UTC 2021 </td></tr></tbody></table></div>"
      ],
      "text/plain": [
       "<IPython.core.display.HTML object>"
      ]
     },
     "metadata": {},
     "output_type": "display_data"
    },
    {
     "data": {
      "text/html": [
       "<div xml:lang=\"en-NZ\" xmlns=\"http://www.w3.org/1999/xhtml\">Name: PETER KEITH JONES</div>"
      ],
      "text/plain": [
       "<IPython.core.display.HTML object>"
      ]
     },
     "metadata": {},
     "output_type": "display_data"
    },
    {
     "data": {
      "text/html": [
       "<div xmlns=\"http://www.w3.org/1999/xhtml\"><div class=\"hapiHeaderText\"> 5329 (Extractable Nuclear Antibody) </div><table class=\"hapiPropertyTable\"><tbody><tr><td>Status</td><td>FINAL</td></tr></tbody></table></div>"
      ],
      "text/plain": [
       "<IPython.core.display.HTML object>"
      ]
     },
     "metadata": {},
     "output_type": "display_data"
    },
    {
     "data": {
      "text/html": [
       "<div xmlns=\"http://www.w3.org/1999/xhtml\"><div class=\"hapiHeaderText\"> 5250 (Tissue Autoantibody Screen) </div><table class=\"hapiPropertyTable\"><tbody><tr><td>Status</td><td>FINAL</td></tr></tbody></table></div>"
      ],
      "text/plain": [
       "<IPython.core.display.HTML object>"
      ]
     },
     "metadata": {},
     "output_type": "display_data"
    },
    {
     "data": {
      "text/html": [
       "<div xmlns=\"http://www.w3.org/1999/xhtml\"><div class=\"hapiHeaderText\"> RADXR (Radiology X-RAY) </div><table class=\"hapiPropertyTable\"><tbody><tr><td>Status</td><td>FINAL</td></tr></tbody></table></div>"
      ],
      "text/plain": [
       "<IPython.core.display.HTML object>"
      ]
     },
     "metadata": {},
     "output_type": "display_data"
    },
    {
     "data": {
      "text/html": [
       "<div xmlns=\"http://www.w3.org/1999/xhtml\"><div class=\"hapiHeaderText\"> 5780 (CRP) </div><table class=\"hapiPropertyTable\"><tbody><tr><td>Status</td><td>FINAL</td></tr></tbody></table></div>"
      ],
      "text/plain": [
       "<IPython.core.display.HTML object>"
      ]
     },
     "metadata": {},
     "output_type": "display_data"
    },
    {
     "data": {
      "text/html": [
       "<div xmlns=\"http://www.w3.org/1999/xhtml\"><div class=\"hapiHeaderText\"> 3711 (Screening FIT) </div><table class=\"hapiPropertyTable\"><tbody><tr><td>Status</td><td>FINAL</td></tr></tbody></table></div>"
      ],
      "text/plain": [
       "<IPython.core.display.HTML object>"
      ]
     },
     "metadata": {},
     "output_type": "display_data"
    },
    {
     "data": {
      "text/html": [
       "<div xmlns=\"http://www.w3.org/1999/xhtml\"><div class=\"hapiHeaderText\"> 4014 (CBC) </div><table class=\"hapiPropertyTable\"><tbody><tr><td>Status</td><td>FINAL</td></tr></tbody></table></div>"
      ],
      "text/plain": [
       "<IPython.core.display.HTML object>"
      ]
     },
     "metadata": {},
     "output_type": "display_data"
    },
    {
     "data": {
      "text/html": [
       "<div xmlns=\"http://www.w3.org/1999/xhtml\"><div class=\"hapiHeaderText\"> 1630 (Cardiac Enzymes) </div><table class=\"hapiPropertyTable\"><tbody><tr><td>Status</td><td>FINAL</td></tr></tbody></table></div>"
      ],
      "text/plain": [
       "<IPython.core.display.HTML object>"
      ]
     },
     "metadata": {},
     "output_type": "display_data"
    },
    {
     "data": {
      "text/html": [
       "<div xmlns=\"http://www.w3.org/1999/xhtml\"><div class=\"hapiHeaderText\"> 0055 (GENERAL CHEM....) </div><table class=\"hapiPropertyTable\"><tbody><tr><td>Status</td><td>FINAL</td></tr></tbody></table></div>"
      ],
      "text/plain": [
       "<IPython.core.display.HTML object>"
      ]
     },
     "metadata": {},
     "output_type": "display_data"
    },
    {
     "data": {
      "text/html": [
       "<div xmlns=\"http://www.w3.org/1999/xhtml\"><div class=\"hapiHeaderText\"> 4014 (CBC) </div><table class=\"hapiPropertyTable\"><tbody><tr><td>Status</td><td>FINAL</td></tr></tbody></table></div>"
      ],
      "text/plain": [
       "<IPython.core.display.HTML object>"
      ]
     },
     "metadata": {},
     "output_type": "display_data"
    },
    {
     "data": {
      "text/html": [
       "<div xmlns=\"http://www.w3.org/1999/xhtml\"><div class=\"hapiHeaderText\"> 0055 (GENERAL CHEM....) </div><table class=\"hapiPropertyTable\"><tbody><tr><td>Status</td><td>FINAL</td></tr></tbody></table></div>"
      ],
      "text/plain": [
       "<IPython.core.display.HTML object>"
      ]
     },
     "metadata": {},
     "output_type": "display_data"
    },
    {
     "data": {
      "text/html": [
       "<div xmlns=\"http://www.w3.org/1999/xhtml\"><div class=\"hapiHeaderText\"> 5780 (CRP) </div><table class=\"hapiPropertyTable\"><tbody><tr><td>Status</td><td>FINAL</td></tr></tbody></table></div>"
      ],
      "text/plain": [
       "<IPython.core.display.HTML object>"
      ]
     },
     "metadata": {},
     "output_type": "display_data"
    },
    {
     "data": {
      "text/html": [
       "<div xmlns=\"http://www.w3.org/1999/xhtml\"><div class=\"hapiHeaderText\"> 5789 (ANA GROUP) </div><table class=\"hapiPropertyTable\"><tbody><tr><td>Status</td><td>FINAL</td></tr></tbody></table></div>"
      ],
      "text/plain": [
       "<IPython.core.display.HTML object>"
      ]
     },
     "metadata": {},
     "output_type": "display_data"
    },
    {
     "data": {
      "text/html": [
       "<div xmlns=\"http://www.w3.org/1999/xhtml\"><div class=\"hapiHeaderText\"> 0055 (GENERAL CHEM....) </div><table class=\"hapiPropertyTable\"><tbody><tr><td>Status</td><td>FINAL</td></tr></tbody></table></div>"
      ],
      "text/plain": [
       "<IPython.core.display.HTML object>"
      ]
     },
     "metadata": {},
     "output_type": "display_data"
    },
    {
     "data": {
      "text/html": [
       "<div xmlns=\"http://www.w3.org/1999/xhtml\"><div class=\"hapiHeaderText\"> 5780 (CRP) </div><table class=\"hapiPropertyTable\"><tbody><tr><td>Status</td><td>FINAL</td></tr></tbody></table></div>"
      ],
      "text/plain": [
       "<IPython.core.display.HTML object>"
      ]
     },
     "metadata": {},
     "output_type": "display_data"
    },
    {
     "data": {
      "text/html": [
       "<div xmlns=\"http://www.w3.org/1999/xhtml\"><div class=\"hapiHeaderText\"> 4014 (CBC) </div><table class=\"hapiPropertyTable\"><tbody><tr><td>Status</td><td>FINAL</td></tr></tbody></table></div>"
      ],
      "text/plain": [
       "<IPython.core.display.HTML object>"
      ]
     },
     "metadata": {},
     "output_type": "display_data"
    },
    {
     "data": {
      "text/html": [
       "<div xmlns=\"http://www.w3.org/1999/xhtml\"><div class=\"hapiHeaderText\"> 5803 (ds-DNA Ab Group) </div><table class=\"hapiPropertyTable\"><tbody><tr><td>Status</td><td>FINAL</td></tr></tbody></table></div>"
      ],
      "text/plain": [
       "<IPython.core.display.HTML object>"
      ]
     },
     "metadata": {},
     "output_type": "display_data"
    },
    {
     "data": {
      "text/html": [
       "<div xmlns=\"http://www.w3.org/1999/xhtml\"><div class=\"hapiHeaderText\"> RADXR (Radiology X-RAY) </div><table class=\"hapiPropertyTable\"><tbody><tr><td>Status</td><td>FINAL</td></tr></tbody></table></div>"
      ],
      "text/plain": [
       "<IPython.core.display.HTML object>"
      ]
     },
     "metadata": {},
     "output_type": "display_data"
    },
    {
     "data": {
      "text/html": [
       "<div xmlns=\"http://www.w3.org/1999/xhtml\"><div class=\"hapiHeaderText\"> 0055 (GENERAL CHEM....) </div><table class=\"hapiPropertyTable\"><tbody><tr><td>Status</td><td>FINAL</td></tr></tbody></table></div>"
      ],
      "text/plain": [
       "<IPython.core.display.HTML object>"
      ]
     },
     "metadata": {},
     "output_type": "display_data"
    },
    {
     "data": {
      "text/html": [
       "<div xmlns=\"http://www.w3.org/1999/xhtml\"><div class=\"hapiHeaderText\"> 4014 (CBC) </div><table class=\"hapiPropertyTable\"><tbody><tr><td>Status</td><td>FINAL</td></tr></tbody></table></div>"
      ],
      "text/plain": [
       "<IPython.core.display.HTML object>"
      ]
     },
     "metadata": {},
     "output_type": "display_data"
    },
    {
     "data": {
      "text/html": [
       "<div xmlns=\"http://www.w3.org/1999/xhtml\"><div class=\"hapiHeaderText\"> 5780 (CRP) </div><table class=\"hapiPropertyTable\"><tbody><tr><td>Status</td><td>FINAL</td></tr></tbody></table></div>"
      ],
      "text/plain": [
       "<IPython.core.display.HTML object>"
      ]
     },
     "metadata": {},
     "output_type": "display_data"
    },
    {
     "data": {
      "text/html": [
       "<div xmlns=\"http://www.w3.org/1999/xhtml\"><div class=\"hapiHeaderText\"> $INFMO (I.D.: Molecular biology) </div><table class=\"hapiPropertyTable\"><tbody><tr><td>Status</td><td>FINAL</td></tr></tbody></table></div>"
      ],
      "text/plain": [
       "<IPython.core.display.HTML object>"
      ]
     },
     "metadata": {},
     "output_type": "display_data"
    },
    {
     "data": {
      "text/html": [
       "<div xmlns=\"http://www.w3.org/1999/xhtml\"><div class=\"hapiHeaderText\"> prednisone 1 mg tablet </div></div>"
      ],
      "text/plain": [
       "<IPython.core.display.HTML object>"
      ]
     },
     "metadata": {},
     "output_type": "display_data"
    },
    {
     "data": {
      "text/html": [
       "<div xmlns=\"http://www.w3.org/1999/xhtml\"><div class=\"hapiHeaderText\"> cilazapril 500 microgram tablet, 90 </div></div>"
      ],
      "text/plain": [
       "<IPython.core.display.HTML object>"
      ]
     },
     "metadata": {},
     "output_type": "display_data"
    },
    {
     "data": {
      "text/html": [
       "<h1>Patient ID: 1b509aba-6d71-47b5-bb5d-bd38786a3163</h1>"
      ],
      "text/plain": [
       "<IPython.core.display.HTML object>"
      ]
     },
     "metadata": {},
     "output_type": "display_data"
    },
    {
     "data": {
      "text/html": [
       "<div xmlns=\"http://www.w3.org/1999/xhtml\"><table class=\"hapiPropertyTable\"><caption>Allergies And Intolerances</caption><thead><tr><th>Allergen</th><th>Status</th><th>Category</th><th>Reaction</th><th>Severity</th><th>Comments</th><th>Onset</th></tr></thead><tbody><tr id=\"AllergiesAndIntolerances-urn:uuid:a112ad55-d1e3-41c2-be51-24f2f6db299e\"><td> No information about allergies </td><td> active </td><td/><td/><td/><td/><td/></tr></tbody></table></div>"
      ],
      "text/plain": [
       "<IPython.core.display.HTML object>"
      ]
     },
     "metadata": {},
     "output_type": "display_data"
    },
    {
     "data": {
      "text/html": [
       "<div xmlns=\"http://www.w3.org/1999/xhtml\"><table class=\"hapiPropertyTable\"><caption>Medication Summary: Medication Requests</caption><thead><tr><th>Medication</th><th>Status</th><th>Route</th><th>Sig</th><th>Comments</th><th>Authored Date</th></tr></thead><tbody/></table><table class=\"hapiPropertyTable\"><caption>Medication Summary: Medication Statements</caption><thead><tr><th>Medication</th><th>Status</th><th>Route</th><th>Sig</th><th>Date</th></tr></thead><tbody><tr id=\"MedicationSummary-urn:uuid:276927b7-ea1c-443b-aa2c-1212b3c50325\"><td> No information about medications </td><td>Unknown</td><td/><td/><td/></tr></tbody></table></div>"
      ],
      "text/plain": [
       "<IPython.core.display.HTML object>"
      ]
     },
     "metadata": {},
     "output_type": "display_data"
    },
    {
     "data": {
      "text/html": [
       "<div xmlns=\"http://www.w3.org/1999/xhtml\"><table class=\"hapiPropertyTable\"><caption>Problem List</caption><thead><tr><th>Medical Problems</th><th>Status</th><th>Comments</th><th>Onset Date</th></tr></thead><tbody/></table></div>"
      ],
      "text/plain": [
       "<IPython.core.display.HTML object>"
      ]
     },
     "metadata": {},
     "output_type": "display_data"
    },
    {
     "data": {
      "text/html": [
       "<div xmlns=\"http://www.w3.org/1999/xhtml\"><p><b>Generated Narrative</b></p><p><b>identifier</b>: id: 310942728</p><p><b>name</b>: çŽ‹å¤§æ˜Ž(OFFICIAL)</p><p><b>gender</b>: male</p><p><b>birthDate</b>: 1990-01-01</p></div>"
      ],
      "text/plain": [
       "<IPython.core.display.HTML object>"
      ]
     },
     "metadata": {},
     "output_type": "display_data"
    },
    {
     "data": {
      "text/html": [
       "<h1>Patient ID: d58dd75b-cf09-4a1c-b913-c9e867f27616</h1>"
      ],
      "text/plain": [
       "<IPython.core.display.HTML object>"
      ]
     },
     "metadata": {},
     "output_type": "display_data"
    },
    {
     "data": {
      "text/html": [
       "<div xmlns=\"http://www.w3.org/1999/xhtml\"><table class=\"hapiPropertyTable\"><caption>Allergies And Intolerances</caption><thead><tr><th>Allergen</th><th>Status</th><th>Category</th><th>Reaction</th><th>Severity</th><th>Comments</th><th>Onset</th></tr></thead><tbody><tr id=\"AllergiesAndIntolerances-534922e6-1e05-4b08-b0b3-068773c12658\"><td> Sesame oil (substance) </td><td> active </td><td> ENVIRONMENT </td><td> Difficulty breathing </td><td> severe </td><td/><td>Sat Jul 27 11:00:00 UTC 1963</td></tr></tbody></table></div>"
      ],
      "text/plain": [
       "<IPython.core.display.HTML object>"
      ]
     },
     "metadata": {},
     "output_type": "display_data"
    },
    {
     "data": {
      "text/html": [
       "<div xmlns=\"http://www.w3.org/1999/xhtml\"><table class=\"hapiPropertyTable\"><caption>Medication Summary: Medication Requests</caption><thead><tr><th>Medication</th><th>Status</th><th>Route</th><th>Sig</th><th>Comments</th><th>Authored Date</th></tr></thead><tbody><tr id=\"MedicationSummary-afeae3fd-7b0b-4d51-a683-d4668cf9d9fa\"><td> Sertraline 100mg tablets <br/> Sertraline 100mg tablets </td><td>Active</td><td/><td> 1 tablet once a day </td><td/><td>Fri Nov 10 00:00:00 UTC 2017</td></tr><tr id=\"MedicationSummary-c3cdb0dd-9b20-4a14-82bc-3facb3da18f7\"><td> Metformin 2G Modified-Release tablets <br/> Metformin 1g modified release tablets </td><td>Active</td><td/><td> 2 tablets a day </td><td/><td>Wed Nov 22 00:00:00 UTC 2017</td></tr></tbody></table><table class=\"hapiPropertyTable\"><caption>Medication Summary: Medication Statements</caption><thead><tr><th>Medication</th><th>Status</th><th>Route</th><th>Sig</th><th>Date</th></tr></thead><tbody><tr id=\"MedicationSummary-8d46812c-4345-45ca-b9ff-ec325816c416\"><td> Metformin 2G Modified-Release tablets <br/> Metformin 1g modified release tablets </td><td>Active</td><td/><td> 2 tablets a day </td><td> Wed Nov 22 00:00:00 UTC 2017 </td></tr><tr id=\"MedicationSummary-8f588cd6-6c17-4ad6-9255-106ccba45b53\"><td> Sertraline 100mg tablets <br/> Sertraline 100mg tablets </td><td>Active</td><td/><td> 1 tablet once a day </td><td> Fri Nov 10 00:00:00 UTC 2017 </td></tr></tbody></table></div>"
      ],
      "text/plain": [
       "<IPython.core.display.HTML object>"
      ]
     },
     "metadata": {},
     "output_type": "display_data"
    },
    {
     "data": {
      "text/html": [
       "<div xmlns=\"http://www.w3.org/1999/xhtml\"><table class=\"hapiPropertyTable\"><caption>Problem List</caption><thead><tr><th>Medical Problems</th><th>Status</th><th>Comments</th><th>Onset Date</th></tr></thead><tbody/></table></div>"
      ],
      "text/plain": [
       "<IPython.core.display.HTML object>"
      ]
     },
     "metadata": {},
     "output_type": "display_data"
    },
    {
     "data": {
      "text/html": [
       "<div xmlns=\"http://www.w3.org/1999/xhtml\"><div class=\"hapiHeaderText\">MR Horace <b>SKELLY </b></div><table class=\"hapiPropertyTable\"><tbody><tr><td>Identifier</td><td>9690937286</td></tr><tr><td>Address</td><td><span>3 BOWESFIELD CRESCENT </span><br/><span>STOCKTON-ON-TEES </span></td></tr><tr><td>Date of birth</td><td><span>21 April 1925</span></td></tr></tbody></table></div>"
      ],
      "text/plain": [
       "<IPython.core.display.HTML object>"
      ]
     },
     "metadata": {},
     "output_type": "display_data"
    },
    {
     "data": {
      "text/html": [
       "<div xmlns=\"http://www.w3.org/1999/xhtml\"><div class=\"hapiHeaderText\"> Metformin 2G Modified-Release tablets </div></div>"
      ],
      "text/plain": [
       "<IPython.core.display.HTML object>"
      ]
     },
     "metadata": {},
     "output_type": "display_data"
    },
    {
     "data": {
      "text/html": [
       "<div xmlns=\"http://www.w3.org/1999/xhtml\"><div class=\"hapiHeaderText\"> Sertraline 100mg tablets </div></div>"
      ],
      "text/plain": [
       "<IPython.core.display.HTML object>"
      ]
     },
     "metadata": {},
     "output_type": "display_data"
    },
    {
     "data": {
      "text/html": [
       "<h1>Patient ID: 46cbbd6a-0b2d-4be1-bdab-d9fda1a0d3e7</h1>"
      ],
      "text/plain": [
       "<IPython.core.display.HTML object>"
      ]
     },
     "metadata": {},
     "output_type": "display_data"
    },
    {
     "data": {
      "text/html": [
       "<div xmlns=\"http://www.w3.org/1999/xhtml\"><table class=\"hapiPropertyTable\"><caption>Allergies And Intolerances</caption><thead><tr><th>Allergen</th><th>Status</th><th>Category</th><th>Reaction</th><th>Severity</th><th>Comments</th><th>Onset</th></tr></thead><tbody><tr id=\"AllergiesAndIntolerances-urn:uuid:5a959389-f802-45df-b842-c7dfb3d80cd3\"><td> No information about allergies </td><td> active </td><td/><td/><td/><td/><td/></tr></tbody></table></div>"
      ],
      "text/plain": [
       "<IPython.core.display.HTML object>"
      ]
     },
     "metadata": {},
     "output_type": "display_data"
    },
    {
     "data": {
      "text/html": [
       "<div xmlns=\"http://www.w3.org/1999/xhtml\"><table class=\"hapiPropertyTable\"><caption>Problem List</caption><thead><tr><th>Medical Problems</th><th>Status</th><th>Comments</th><th>Onset Date</th></tr></thead><tbody/></table></div>"
      ],
      "text/plain": [
       "<IPython.core.display.HTML object>"
      ]
     },
     "metadata": {},
     "output_type": "display_data"
    },
    {
     "data": {
      "text/html": [
       "<div xmlns=\"http://www.w3.org/1999/xhtml\"><table class=\"hapiPropertyTable\"><caption>History Of Procedures</caption><thead><tr><th>Procedure</th><th>Comments</th><th>Date</th></tr></thead><tbody><tr id=\"HistoryOfProcedures-ba3e448e-9ab8-4274-8128-917d51581b1b\"><td> Medication Reconciliation (procedure) </td><td/><td> Thu Jul 18 22:56:16 UTC 2019-Thu Jul 18 23:11:16 UTC 2019 </td></tr></tbody></table></div>"
      ],
      "text/plain": [
       "<IPython.core.display.HTML object>"
      ]
     },
     "metadata": {},
     "output_type": "display_data"
    },
    {
     "data": {
      "text/html": [
       "<div xmlns=\"http://www.w3.org/1999/xhtml\"><table class=\"hapiPropertyTable\"><caption>Diagnostic Results: Observations</caption><thead><tr><th>Code</th><th>Result</th><th>Unit</th><th>Interpretation</th><th>Reference Range</th><th>Comments</th><th>Date</th></tr></thead><tbody><tr id=\"DiagnosticResults-a37ffce9-68e1-41a6-8225-5a2146ee511e\"><td> Platelet mean volume [Entitic volume] in Blood by Automated count </td><td> 10.348446013679476 </td><td> fL </td><td/><td/><td/><td> Thu Jul 18 22:56:16 UTC 2019 </td></tr><tr id=\"DiagnosticResults-9b149358-a4c7-4e55-b151-10247f7d6780\"><td> Platelet distribution width [Entitic volume] in Blood by Automated count </td><td> 334.3211195095123 </td><td> fL </td><td/><td/><td/><td> Thu Jul 18 22:56:16 UTC 2019 </td></tr><tr id=\"DiagnosticResults-8a405567-b147-4027-8009-dee0b20d4008\"><td> Platelets [#/volume] in Blood by Automated count </td><td> 294.1232955490042 </td><td> 10*3/uL </td><td/><td/><td/><td> Thu Jul 18 22:56:16 UTC 2019 </td></tr><tr id=\"DiagnosticResults-e9b61315-123d-4b7c-8f71-228b326e7284\"><td> Erythrocyte distribution width [Entitic volume] by Automated count </td><td> 40.82547230044765 </td><td> fL </td><td/><td/><td/><td> Thu Jul 18 22:56:16 UTC 2019 </td></tr><tr id=\"DiagnosticResults-48845364-20df-4a3a-9042-91fad6d8bed7\"><td> MCHC [Mass/volume] by Automated count </td><td> 33.43788680960731 </td><td> g/dL </td><td/><td/><td/><td> Thu Jul 18 22:56:16 UTC 2019 </td></tr><tr id=\"DiagnosticResults-e9befcb1-799d-4431-ab0a-3e1ff03fcb5c\"><td> MCH [Entitic mass] by Automated count </td><td> 32.70014146644685 </td><td> pg </td><td/><td/><td/><td> Thu Jul 18 22:56:16 UTC 2019 </td></tr><tr id=\"DiagnosticResults-6b4020ad-e400-4a8c-85ff-523da3f3bbde\"><td> MCV [Entitic volume] by Automated count </td><td> 94.37057401846272 </td><td> fL </td><td/><td/><td/><td> Thu Jul 18 22:56:16 UTC 2019 </td></tr><tr id=\"DiagnosticResults-a741de92-6c32-43b4-a08c-c2051af87310\"><td> Hematocrit [Volume Fraction] of Blood by Automated count </td><td> 39.067094925099525 </td><td> % </td><td/><td/><td/><td> Thu Jul 18 22:56:16 UTC 2019 </td></tr><tr id=\"DiagnosticResults-ca9f7341-d95b-4ee3-937c-3fa4fdc39bf4\"><td> Hemoglobin [Mass/volume] in Blood </td><td> 13.161888532087584 </td><td> g/dL </td><td/><td/><td/><td> Thu Jul 18 22:56:16 UTC 2019 </td></tr><tr id=\"DiagnosticResults-3fcc7735-2813-4ebe-a3c9-f3dd4a0ca515\"><td> Erythrocytes [#/volume] in Blood by Automated count </td><td> 3.931849666172433 </td><td> 10*6/uL </td><td/><td/><td/><td> Thu Jul 18 22:56:16 UTC 2019 </td></tr><tr id=\"DiagnosticResults-195cdbae-1946-46e1-af61-09dd72b57b82\"><td> Leukocytes [#/volume] in Blood by Automated count </td><td> 9.405819588426798 </td><td> 10*3/uL </td><td/><td/><td/><td> Thu Jul 18 22:56:16 UTC 2019 </td></tr></tbody></table><table class=\"hapiPropertyTable\"><caption>Diagnostic Results: Diagnostic Reports</caption><thead><tr><th>Code</th><th>Date</th></tr></thead><tbody><tr id=\"DiagnosticResults-4821df4f-89c1-47fb-b421-0defeabbd72b\"><td> Complete blood count (hemogram) panel - Blood by Automated count </td><td> Thu Jul 18 22:56:16 UTC 2019 </td></tr></tbody></table></div>"
      ],
      "text/plain": [
       "<IPython.core.display.HTML object>"
      ]
     },
     "metadata": {},
     "output_type": "display_data"
    },
    {
     "data": {
      "text/html": [
       "<div xmlns=\"http://www.w3.org/1999/xhtml\"><table class=\"hapiPropertyTable\"><caption>Vital Signs</caption><thead><tr><th>Code</th><th>Result</th><th>Unit</th><th>Interpretation</th><th>Comments</th><th>Date</th></tr></thead><tbody><tr id=\"VitalSigns-f77aa1df-d70a-4010-8474-ba005def09d1\"><td> Blood Pressure </td><td/><td/><td/><td> Thu Aug 22 22:56:16 UTC 2019 </td></tr><tr id=\"VitalSigns-0112e983-99bf-4888-be8e-2729a3f49c2b\"><td> Weight-for-length Per age and sex </td><td> 0.00009670339341855026 </td><td> % </td><td/><td> Thu Aug 22 22:56:16 UTC 2019 </td></tr><tr id=\"VitalSigns-aa6a4600-edf9-40ef-901b-20fd4b47a670\"><td> Body Weight </td><td> 3.8716454824715187 </td><td> kg </td><td/><td> Thu Aug 22 22:56:16 UTC 2019 </td></tr><tr id=\"VitalSigns-fa20e298-6bd0-4534-a1cd-e60fabe80c71\"><td> Pain severity - 0-10 verbal numeric rating [Score] - Reported </td><td> 0.1712335111552692 </td><td> {score} </td><td/><td> Thu Aug 22 22:56:16 UTC 2019 </td></tr><tr id=\"VitalSigns-f5ade1ad-484c-4768-a938-77a4c38ef452\"><td> Body Height </td><td> 58.020989382643194 </td><td> cm </td><td/><td> Thu Aug 22 22:56:16 UTC 2019 </td></tr><tr id=\"VitalSigns-5f273e11-c344-4141-bdf3-4216cd923c5b\"><td> Blood Pressure </td><td/><td/><td/><td> Thu Jul 18 22:56:16 UTC 2019 </td></tr><tr id=\"VitalSigns-5880bb42-2b5f-4229-b1a7-dabe8204341b\"><td> Weight-for-length Per age and sex </td><td> 0.000033443904426062964 </td><td> % </td><td/><td> Thu Jul 18 22:56:16 UTC 2019 </td></tr><tr id=\"VitalSigns-a6bbc06d-b8f0-4aeb-a028-4aaac80ecba3\"><td> Body Weight </td><td> 3.195095357322083 </td><td> kg </td><td/><td> Thu Jul 18 22:56:16 UTC 2019 </td></tr><tr id=\"VitalSigns-8fe927e4-c534-4401-afbd-b38572f0c551\"><td> Pain severity - 0-10 verbal numeric rating [Score] - Reported </td><td> 1.9510783933211284 </td><td> {score} </td><td/><td> Thu Jul 18 22:56:16 UTC 2019 </td></tr><tr id=\"VitalSigns-3dd12548-e568-48c7-a13e-866eb9303aba\"><td> Body Height </td><td> 54.50182523559347 </td><td> cm </td><td/><td> Thu Jul 18 22:56:16 UTC 2019 </td></tr></tbody></table></div>"
      ],
      "text/plain": [
       "<IPython.core.display.HTML object>"
      ]
     },
     "metadata": {},
     "output_type": "display_data"
    },
    {
     "data": {
      "text/html": [
       "<div xmlns=\"http://www.w3.org/1999/xhtml\">Generated by <a href=\"https://github.com/synthetichealth/synthea\">Synthea</a>.Version identifier: v2.4.0-404-ge7ce2295\n",
       " .   Person seed: -2951090371395693972  Population seed: 0</div>"
      ],
      "text/plain": [
       "<IPython.core.display.HTML object>"
      ]
     },
     "metadata": {},
     "output_type": "display_data"
    },
    {
     "data": {
      "text/html": [
       "<div xmlns=\"http://www.w3.org/1999/xhtml\"><div class=\"hapiHeaderText\"> Complete blood count (hemogram) panel - Blood by Automated count </div><table class=\"hapiPropertyTable\"><tbody><tr><td>Status</td><td>FINAL</td></tr><tr><td>Issued</td><td> 18 July 2019 22:56:16</td></tr></tbody></table></div>"
      ],
      "text/plain": [
       "<IPython.core.display.HTML object>"
      ]
     },
     "metadata": {},
     "output_type": "display_data"
    },
    {
     "data": {
      "text/html": [
       "<h1>Patient ID: 11f4887b-41a0-41d1-b04c-90fcdaf1203d</h1>"
      ],
      "text/plain": [
       "<IPython.core.display.HTML object>"
      ]
     },
     "metadata": {},
     "output_type": "display_data"
    },
    {
     "data": {
      "text/html": [
       "<div xmlns=\"http://www.w3.org/1999/xhtml\"><table class=\"hapiPropertyTable\"><caption>Allergies And Intolerances</caption><thead><tr><th>Allergen</th><th>Status</th><th>Category</th><th>Reaction</th><th>Severity</th><th>Comments</th><th>Onset</th></tr></thead><tbody><tr id=\"AllergiesAndIntolerances-urn:uuid:d8fe2362-fa14-4a59-8941-2fb91d73ddf1\"><td> No information about allergies </td><td> active </td><td/><td/><td/><td/><td/></tr></tbody></table></div>"
      ],
      "text/plain": [
       "<IPython.core.display.HTML object>"
      ]
     },
     "metadata": {},
     "output_type": "display_data"
    },
    {
     "data": {
      "text/html": [
       "<div xmlns=\"http://www.w3.org/1999/xhtml\"><table class=\"hapiPropertyTable\"><caption>Medication Summary: Medication Requests</caption><thead><tr><th>Medication</th><th>Status</th><th>Route</th><th>Sig</th><th>Comments</th><th>Authored Date</th></tr></thead><tbody><tr id=\"MedicationSummary-e56f6a90-eb8d-4d91-8549-d9d4d9bf8a14\"><td> Amlodipine 5 MG Oral Tablet </td><td>Active</td><td/><td/><td/><td>Sun Apr 18 07:16:14 UTC 2004</td></tr><tr id=\"MedicationSummary-e7b4788d-860c-41d6-88c9-d38237a2f264\"><td> Simvastatin 20 MG Oral Tablet </td><td>Active</td><td/><td/><td/><td>Sun Apr 18 07:16:14 UTC 2004</td></tr></tbody></table><table class=\"hapiPropertyTable\"><caption>Medication Summary: Medication Statements</caption><thead><tr><th>Medication</th><th>Status</th><th>Route</th><th>Sig</th><th>Date</th></tr></thead><tbody/></table></div>"
      ],
      "text/plain": [
       "<IPython.core.display.HTML object>"
      ]
     },
     "metadata": {},
     "output_type": "display_data"
    },
    {
     "data": {
      "text/html": [
       "<div xmlns=\"http://www.w3.org/1999/xhtml\"><table class=\"hapiPropertyTable\"><caption>Problem List</caption><thead><tr><th>Medical Problems</th><th>Status</th><th>Comments</th><th>Onset Date</th></tr></thead><tbody/></table></div>"
      ],
      "text/plain": [
       "<IPython.core.display.HTML object>"
      ]
     },
     "metadata": {},
     "output_type": "display_data"
    },
    {
     "data": {
      "text/html": [
       "<div xmlns=\"http://www.w3.org/1999/xhtml\"><table class=\"hapiPropertyTable\"><caption>History Of Procedures</caption><thead><tr><th>Procedure</th><th>Comments</th><th>Date</th></tr></thead><tbody><tr id=\"HistoryOfProcedures-34b832ad-50f7-4124-ab19-010b42b529d7\"><td> Coronary artery bypass grafting </td><td/><td> Sun Oct 09 07:16:14 UTC 2011-Sun Oct 09 07:31:14 UTC 2011 </td></tr><tr id=\"HistoryOfProcedures-0284fd3e-a135-4bdf-9e8a-7b61c5d6c007\"><td> Percutaneous coronary intervention </td><td/><td> Sun Oct 09 07:16:14 UTC 2011-Sun Oct 09 07:31:14 UTC 2011 </td></tr><tr id=\"HistoryOfProcedures-9013fdee-05c3-41bc-9032-125e6ad73c19\"><td> Echocardiography (procedure) </td><td/><td> Sun Oct 09 07:16:14 UTC 2011-Sun Oct 09 07:31:14 UTC 2011 </td></tr><tr id=\"HistoryOfProcedures-e13a593c-66b2-48f1-a5d0-1540000814dc\"><td> Medication Reconciliation (procedure) </td><td/><td> Sun May 29 07:16:14 UTC 2011-Sun May 29 07:31:14 UTC 2011 </td></tr><tr id=\"HistoryOfProcedures-822f3bbb-7adc-4a01-8b74-4ad4dd0ea80c\"><td> Medication Reconciliation (procedure) </td><td/><td> Sun May 11 07:16:14 UTC 2008-Sun May 11 07:31:14 UTC 2008 </td></tr><tr id=\"HistoryOfProcedures-0f1297fe-aa32-4860-92ee-6faf6621c1ac\"><td> Colonoscopy </td><td/><td> Thu Dec 13 07:16:14 UTC 2007-Thu Dec 13 07:45:14 UTC 2007 </td></tr><tr id=\"HistoryOfProcedures-d7a5a8ec-6bf1-4472-82b9-4c668689a188\"><td> Suture open wound </td><td/><td> Thu Aug 25 07:16:14 UTC 2005-Thu Aug 25 07:27:14 UTC 2005 </td></tr><tr id=\"HistoryOfProcedures-ec02e206-2689-4bdc-8762-28982447d56f\"><td> Colonoscopy </td><td/><td> Sat Dec 14 07:16:14 UTC 2002-Sat Dec 14 07:54:14 UTC 2002 </td></tr><tr id=\"HistoryOfProcedures-9994dad5-0120-4026-878f-f0318a05df35\"><td> Medication Reconciliation (procedure) </td><td/><td> Sun Apr 07 07:16:14 UTC 2002-Sun Apr 07 07:31:14 UTC 2002 </td></tr></tbody></table></div>"
      ],
      "text/plain": [
       "<IPython.core.display.HTML object>"
      ]
     },
     "metadata": {},
     "output_type": "display_data"
    },
    {
     "data": {
      "text/html": [
       "<div xmlns=\"http://www.w3.org/1999/xhtml\"><table class=\"hapiPropertyTable\"><caption>Diagnostic Results: Observations</caption><thead><tr><th>Code</th><th>Result</th><th>Unit</th><th>Interpretation</th><th>Reference Range</th><th>Comments</th><th>Date</th></tr></thead><tbody><tr id=\"DiagnosticResults-5f0880a5-6bb3-4588-b5c0-f61c88071af7\"><td> Hemoglobin A1c/Hemoglobin.total in Blood </td><td> 5.842306832044162 </td><td> % </td><td/><td/><td/><td> Sun May 29 07:16:14 UTC 2011 </td></tr><tr id=\"DiagnosticResults-48df2cbc-04d8-44b9-8279-6ad6f455e149\"><td> Carbon Dioxide </td><td> 20.948336249690158 </td><td> mmol/L </td><td/><td/><td/><td> Sun May 29 07:16:14 UTC 2011 </td></tr><tr id=\"DiagnosticResults-f5b440ce-5e77-4c66-9a2d-47349257290c\"><td> Chloride </td><td> 106.04262968599615 </td><td> mmol/L </td><td/><td/><td/><td> Sun May 29 07:16:14 UTC 2011 </td></tr><tr id=\"DiagnosticResults-8a4f5436-69b0-4007-9fc3-582aa08c72c3\"><td> Potassium </td><td> 5.146929497749497 </td><td> mmol/L </td><td/><td/><td/><td> Sun May 29 07:16:14 UTC 2011 </td></tr><tr id=\"DiagnosticResults-2d6ccc50-bd95-4191-b3af-697ed260cce5\"><td> Sodium </td><td> 140.5606890250211 </td><td> mmol/L </td><td/><td/><td/><td> Sun May 29 07:16:14 UTC 2011 </td></tr><tr id=\"DiagnosticResults-8601f931-2343-4b4e-b21f-7f35b7da55fe\"><td> Calcium </td><td> 8.985210686906777 </td><td> mg/dL </td><td/><td/><td/><td> Sun May 29 07:16:14 UTC 2011 </td></tr><tr id=\"DiagnosticResults-4253cede-20f3-4a4b-bee4-20bb4b7086d6\"><td> Creatinine </td><td> 0.6896322986504897 </td><td> mg/dL </td><td/><td/><td/><td> Sun May 29 07:16:14 UTC 2011 </td></tr><tr id=\"DiagnosticResults-a58fe8ab-2d2a-4797-8080-b81dd6353966\"><td> Urea Nitrogen </td><td> 9.208084311681361 </td><td> mg/dL </td><td/><td/><td/><td> Sun May 29 07:16:14 UTC 2011 </td></tr><tr id=\"DiagnosticResults-1c247798-8daf-4b20-8fe8-ab126f36633a\"><td> Glucose </td><td> 91.24900629122273 </td><td> mg/dL </td><td/><td/><td/><td> Sun May 29 07:16:14 UTC 2011 </td></tr><tr id=\"DiagnosticResults-f8b0c4a0-4b3f-487e-a9a3-27943368ce38\"><td> Hemoglobin A1c/Hemoglobin.total in Blood </td><td> 6.293613655046236 </td><td> % </td><td/><td/><td/><td> Sun May 23 07:16:14 UTC 2010 </td></tr><tr id=\"DiagnosticResults-d894d475-ab60-42ca-b864-0308df798845\"><td> Platelet mean volume [Entitic volume] in Blood by Automated count </td><td> 10.792563338989716 </td><td> fL </td><td/><td/><td/><td> Sun May 23 07:16:14 UTC 2010 </td></tr><tr id=\"DiagnosticResults-f33cc821-2a77-4004-beb7-6b53c2fa8567\"><td> Platelet distribution width [Entitic volume] in Blood by Automated count </td><td> 428.9957896347441 </td><td> fL </td><td/><td/><td/><td> Sun May 23 07:16:14 UTC 2010 </td></tr><tr id=\"DiagnosticResults-2b4d49bd-df96-4f5c-9b9b-993722a6ab7d\"><td> Platelets [#/volume] in Blood by Automated count </td><td> 238.95460531704865 </td><td> 10*3/uL </td><td/><td/><td/><td> Sun May 23 07:16:14 UTC 2010 </td></tr><tr id=\"DiagnosticResults-a262f12f-bd76-4764-b758-37ce3da50b86\"><td> Erythrocyte distribution width [Entitic volume] by Automated count </td><td> 42.088960267311336 </td><td> fL </td><td/><td/><td/><td> Sun May 23 07:16:14 UTC 2010 </td></tr><tr id=\"DiagnosticResults-77a50d2a-f336-43c0-8755-766cecc490e5\"><td> MCHC [Mass/volume] by Automated count </td><td> 33.75517375288439 </td><td> g/dL </td><td/><td/><td/><td> Sun May 23 07:16:14 UTC 2010 </td></tr><tr id=\"DiagnosticResults-66a132f8-50ec-48a8-b374-77f747fd9395\"><td> MCH [Entitic mass] by Automated count </td><td> 27.484161372698598 </td><td> pg </td><td/><td/><td/><td> Sun May 23 07:16:14 UTC 2010 </td></tr><tr id=\"DiagnosticResults-bb0a3ae0-6630-4b32-a845-abaca43aa46e\"><td> MCV [Entitic volume] by Automated count </td><td> 84.37808796900475 </td><td> fL </td><td/><td/><td/><td> Sun May 23 07:16:14 UTC 2010 </td></tr><tr id=\"DiagnosticResults-f8813607-da70-4cf6-b1d2-5eacbe2cbe64\"><td> Hematocrit [Volume Fraction] of Blood by Automated count </td><td> 46.68954109584977 </td><td> % </td><td/><td/><td/><td> Sun May 23 07:16:14 UTC 2010 </td></tr><tr id=\"DiagnosticResults-25bec372-887f-400e-82f5-e039f0e2f8ec\"><td> Hemoglobin [Mass/volume] in Blood </td><td> 14.143747790026328 </td><td> g/dL </td><td/><td/><td/><td> Sun May 23 07:16:14 UTC 2010 </td></tr><tr id=\"DiagnosticResults-7ab8af83-f24f-459f-8c1c-e6b2cb05204a\"><td> Erythrocytes [#/volume] in Blood by Automated count </td><td> 4.342051150548913 </td><td> 10*6/uL </td><td/><td/><td/><td> Sun May 23 07:16:14 UTC 2010 </td></tr><tr id=\"DiagnosticResults-e8511932-1b53-4cf8-b222-9ef27ecf3d7d\"><td> Leukocytes [#/volume] in Blood by Automated count </td><td> 8.120110090945023 </td><td> 10*3/uL </td><td/><td/><td/><td> Sun May 23 07:16:14 UTC 2010 </td></tr><tr id=\"DiagnosticResults-e5be6d40-5a34-4d84-bb17-9a86d9b4576d\"><td> High Density Lipoprotein Cholesterol </td><td> 75.98446775454418 </td><td> mg/dL </td><td/><td/><td/><td> Sun May 23 07:16:14 UTC 2010 </td></tr><tr id=\"DiagnosticResults-8a08257e-cd3a-43a9-a877-c2ee1af8b020\"><td> Low Density Lipoprotein Cholesterol </td><td> 83.27486462917155 </td><td> mg/dL </td><td/><td/><td/><td> Sun May 23 07:16:14 UTC 2010 </td></tr><tr id=\"DiagnosticResults-d0be0680-7009-4f30-a4a8-a8684188d0a7\"><td> Triglycerides </td><td> 132.81552368803773 </td><td> mg/dL </td><td/><td/><td/><td> Sun May 23 07:16:14 UTC 2010 </td></tr><tr id=\"DiagnosticResults-ecdebc1e-87fa-4895-af9e-0a1a167fd257\"><td> Total Cholesterol </td><td> 185.82243712132328 </td><td> mg/dL </td><td/><td/><td/><td> Sun May 23 07:16:14 UTC 2010 </td></tr><tr id=\"DiagnosticResults-e6fde97f-ef01-45d0-b2ca-73cd89991ee8\"><td> Carbon Dioxide </td><td> 25.667770324117093 </td><td> mmol/L </td><td/><td/><td/><td> Sun May 23 07:16:14 UTC 2010 </td></tr><tr id=\"DiagnosticResults-fee85dba-4e2a-4a76-b83a-5d15d50832b5\"><td> Chloride </td><td> 107.77017484759368 </td><td> mmol/L </td><td/><td/><td/><td> Sun May 23 07:16:14 UTC 2010 </td></tr><tr id=\"DiagnosticResults-f7720d18-2f8b-4808-986a-6f5ebd0c603b\"><td> Potassium </td><td> 4.828423142993962 </td><td> mmol/L </td><td/><td/><td/><td> Sun May 23 07:16:14 UTC 2010 </td></tr><tr id=\"DiagnosticResults-c6c652a6-c116-420c-b0a0-5f8c434cfa3a\"><td> Sodium </td><td> 143.79000032298467 </td><td> mmol/L </td><td/><td/><td/><td> Sun May 23 07:16:14 UTC 2010 </td></tr><tr id=\"DiagnosticResults-8c53bd79-29a7-4231-95e4-24ae65496e10\"><td> Calcium </td><td> 9.073838912443355 </td><td> mg/dL </td><td/><td/><td/><td> Sun May 23 07:16:14 UTC 2010 </td></tr><tr id=\"DiagnosticResults-0c69348e-8fc7-4c76-b51b-16aec84eed33\"><td> Creatinine </td><td> 0.8833702732992776 </td><td> mg/dL </td><td/><td/><td/><td> Sun May 23 07:16:14 UTC 2010 </td></tr><tr id=\"DiagnosticResults-5acb467c-7e8b-4d81-8dc4-32fd9ce4e0e7\"><td> Urea Nitrogen </td><td> 17.78518161005323 </td><td> mg/dL </td><td/><td/><td/><td> Sun May 23 07:16:14 UTC 2010 </td></tr><tr id=\"DiagnosticResults-f72e1941-2176-44e4-880e-2432d59871e1\"><td> Glucose </td><td> 73.13712092832911 </td><td> mg/dL </td><td/><td/><td/><td> Sun May 23 07:16:14 UTC 2010 </td></tr><tr id=\"DiagnosticResults-5c2ae745-8182-4a5b-8374-9fccce708c21\"><td> Hemoglobin A1c/Hemoglobin.total in Blood </td><td> 6.248405765008626 </td><td> % </td><td/><td/><td/><td> Sun May 17 07:16:14 UTC 2009 </td></tr><tr id=\"DiagnosticResults-018211df-3195-4cd4-84ff-bd560fb89dac\"><td> Carbon Dioxide </td><td> 24.807263206618806 </td><td> mmol/L </td><td/><td/><td/><td> Sun May 17 07:16:14 UTC 2009 </td></tr><tr id=\"DiagnosticResults-7c073ef1-2d69-4a30-a87e-f102767e5c0f\"><td> Chloride </td><td> 106.1906445797038 </td><td> mmol/L </td><td/><td/><td/><td> Sun May 17 07:16:14 UTC 2009 </td></tr><tr id=\"DiagnosticResults-f0b90133-842d-46a6-b32a-d5c6422c46e0\"><td> Potassium </td><td> 4.027820668357606 </td><td> mmol/L </td><td/><td/><td/><td> Sun May 17 07:16:14 UTC 2009 </td></tr><tr id=\"DiagnosticResults-46682f98-d46f-495d-a7d9-1cbe88bd32e7\"><td> Sodium </td><td> 139.16219394799154 </td><td> mmol/L </td><td/><td/><td/><td> Sun May 17 07:16:14 UTC 2009 </td></tr><tr id=\"DiagnosticResults-97f04174-5ddf-40d2-8237-76eaf7a33b5c\"><td> Calcium </td><td> 8.943842487886808 </td><td> mg/dL </td><td/><td/><td/><td> Sun May 17 07:16:14 UTC 2009 </td></tr><tr id=\"DiagnosticResults-8591b4e5-6a4a-4c1e-b856-2c88b2d38921\"><td> Creatinine </td><td> 0.675365845279131 </td><td> mg/dL </td><td/><td/><td/><td> Sun May 17 07:16:14 UTC 2009 </td></tr><tr id=\"DiagnosticResults-60c09bf2-d6a4-4f9c-a9bf-6cda71eaca5c\"><td> Urea Nitrogen </td><td> 9.496172011081768 </td><td> mg/dL </td><td/><td/><td/><td> Sun May 17 07:16:14 UTC 2009 </td></tr><tr id=\"DiagnosticResults-e0799501-a138-4881-9255-67ec11470864\"><td> Glucose </td><td> 82.57620750176356 </td><td> mg/dL </td><td/><td/><td/><td> Sun May 17 07:16:14 UTC 2009 </td></tr><tr id=\"DiagnosticResults-21e8aef0-1b35-4fd3-94cf-af666ed025ca\"><td> Hemoglobin A1c/Hemoglobin.total in Blood </td><td> 6.359802533508584 </td><td> % </td><td/><td/><td/><td> Sun May 11 07:16:14 UTC 2008 </td></tr><tr id=\"DiagnosticResults-d5e2523b-78ba-4b2c-abab-71dca5a1d256\"><td> Carbon Dioxide </td><td> 22.27625143370237 </td><td> mmol/L </td><td/><td/><td/><td> Sun May 11 07:16:14 UTC 2008 </td></tr><tr id=\"DiagnosticResults-67cb37dd-bcb7-4402-8925-f0a9025b37ea\"><td> Chloride </td><td> 107.65503174579604 </td><td> mmol/L </td><td/><td/><td/><td> Sun May 11 07:16:14 UTC 2008 </td></tr><tr id=\"DiagnosticResults-fc0af4a5-b953-4bc4-bb8b-4244de51cbe3\"><td> Potassium </td><td> 3.8403744256004977 </td><td> mmol/L </td><td/><td/><td/><td> Sun May 11 07:16:14 UTC 2008 </td></tr><tr id=\"DiagnosticResults-849c265e-e5f7-4b1c-bdc2-8b3e568b44c8\"><td> Sodium </td><td> 137.09028889754833 </td><td> mmol/L </td><td/><td/><td/><td> Sun May 11 07:16:14 UTC 2008 </td></tr><tr id=\"DiagnosticResults-b7d56baf-48cf-45e3-884a-bf153662ab94\"><td> Calcium </td><td> 9.023361583982378 </td><td> mg/dL </td><td/><td/><td/><td> Sun May 11 07:16:14 UTC 2008 </td></tr><tr id=\"DiagnosticResults-74fb04a7-fff5-42ef-8e44-bd01a2246540\"><td> Creatinine </td><td> 0.9292927691112256 </td><td> mg/dL </td><td/><td/><td/><td> Sun May 11 07:16:14 UTC 2008 </td></tr><tr id=\"DiagnosticResults-9ca01217-3dc5-4d2f-a35d-cb6b0fff6806\"><td> Urea Nitrogen </td><td> 14.014116415380034 </td><td> mg/dL </td><td/><td/><td/><td> Sun May 11 07:16:14 UTC 2008 </td></tr><tr id=\"DiagnosticResults-26e3eea5-47ca-430b-b5b3-771cb5c9073c\"><td> Glucose </td><td> 93.86793061177079 </td><td> mg/dL </td><td/><td/><td/><td> Sun May 11 07:16:14 UTC 2008 </td></tr><tr id=\"DiagnosticResults-e0b69127-0edd-460b-8e0c-f73bab23fb4b\"><td> Hemoglobin A1c/Hemoglobin.total in Blood </td><td> 5.862689210261345 </td><td> % </td><td/><td/><td/><td> Sun May 06 07:16:14 UTC 2007 </td></tr><tr id=\"DiagnosticResults-47f34c03-a74a-4c8d-8d89-238e7fa8179c\"><td> High Density Lipoprotein Cholesterol </td><td> 59.829195963901114 </td><td> mg/dL </td><td/><td/><td/><td> Sun May 06 07:16:14 UTC 2007 </td></tr><tr id=\"DiagnosticResults-ffa3c18e-25ba-4547-8951-27c3a59e1669\"><td> Low Density Lipoprotein Cholesterol </td><td> 91.3003374076665 </td><td> mg/dL </td><td/><td/><td/><td> Sun May 06 07:16:14 UTC 2007 </td></tr><tr id=\"DiagnosticResults-59bd62a8-2ee6-4e7e-b085-c09f064ed25e\"><td> Triglycerides </td><td> 121.79623241161933 </td><td> mg/dL </td><td/><td/><td/><td> Sun May 06 07:16:14 UTC 2007 </td></tr><tr id=\"DiagnosticResults-47aa0d7b-f338-4971-b783-ea998676a6a6\"><td> Total Cholesterol </td><td> 175.4887798538915 </td><td> mg/dL </td><td/><td/><td/><td> Sun May 06 07:16:14 UTC 2007 </td></tr><tr id=\"DiagnosticResults-38d76481-a728-4567-93b3-9f0e7d011cff\"><td> Carbon Dioxide </td><td> 26.2203656384848 </td><td> mmol/L </td><td/><td/><td/><td> Sun May 06 07:16:14 UTC 2007 </td></tr><tr id=\"DiagnosticResults-2d780c92-68d9-4da5-b632-6754fc872dc1\"><td> Chloride </td><td> 103.16330014601164 </td><td> mmol/L </td><td/><td/><td/><td> Sun May 06 07:16:14 UTC 2007 </td></tr><tr id=\"DiagnosticResults-8f522c28-9126-4981-b482-d52f3e0b5a49\"><td> Potassium </td><td> 4.652461493884165 </td><td> mmol/L </td><td/><td/><td/><td> Sun May 06 07:16:14 UTC 2007 </td></tr><tr id=\"DiagnosticResults-2d723530-f89a-4c4f-9bb5-36ca14bcfdc5\"><td> Sodium </td><td> 139.2861972479796 </td><td> mmol/L </td><td/><td/><td/><td> Sun May 06 07:16:14 UTC 2007 </td></tr><tr id=\"DiagnosticResults-821a17f3-15d0-4d9b-899f-29a0fa9162c3\"><td> Calcium </td><td> 9.034859324607348 </td><td> mg/dL </td><td/><td/><td/><td> Sun May 06 07:16:14 UTC 2007 </td></tr><tr id=\"DiagnosticResults-0c657f86-84e3-4aa2-972c-2c6d2aa2b323\"><td> Creatinine </td><td> 0.7674142092718194 </td><td> mg/dL </td><td/><td/><td/><td> Sun May 06 07:16:14 UTC 2007 </td></tr><tr id=\"DiagnosticResults-54e64033-a4a7-4410-b005-9506749e4204\"><td> Urea Nitrogen </td><td> 12.788385793729258 </td><td> mg/dL </td><td/><td/><td/><td> Sun May 06 07:16:14 UTC 2007 </td></tr><tr id=\"DiagnosticResults-539cf37f-1668-41a9-8399-dc79d72d832c\"><td> Glucose </td><td> 80.47697552073345 </td><td> mg/dL </td><td/><td/><td/><td> Sun May 06 07:16:14 UTC 2007 </td></tr><tr id=\"DiagnosticResults-5ebe6554-55d3-4408-beee-c2a4fb66922e\"><td> Hemoglobin A1c/Hemoglobin.total in Blood </td><td> 6.0967154874320135 </td><td> % </td><td/><td/><td/><td> Sun Apr 30 07:16:14 UTC 2006 </td></tr><tr id=\"DiagnosticResults-023ea8b6-4269-4e72-8390-fbf40ad4d5a3\"><td> Carbon Dioxide </td><td> 28.036916006251587 </td><td> mmol/L </td><td/><td/><td/><td> Sun Apr 30 07:16:14 UTC 2006 </td></tr><tr id=\"DiagnosticResults-92abf39b-b38b-4f26-8211-627d5445ee98\"><td> Chloride </td><td> 102.58172710007503 </td><td> mmol/L </td><td/><td/><td/><td> Sun Apr 30 07:16:14 UTC 2006 </td></tr><tr id=\"DiagnosticResults-2181cea6-8ab2-4f40-adea-c8c707bbae04\"><td> Potassium </td><td> 3.7160479275047784 </td><td> mmol/L </td><td/><td/><td/><td> Sun Apr 30 07:16:14 UTC 2006 </td></tr><tr id=\"DiagnosticResults-e33443bb-339f-45cd-9586-44549b172d94\"><td> Sodium </td><td> 143.05166515057616 </td><td> mmol/L </td><td/><td/><td/><td> Sun Apr 30 07:16:14 UTC 2006 </td></tr><tr id=\"DiagnosticResults-788299f9-fbf8-4045-b42b-e4e6037bacf8\"><td> Calcium </td><td> 10.17747368285116 </td><td> mg/dL </td><td/><td/><td/><td> Sun Apr 30 07:16:14 UTC 2006 </td></tr><tr id=\"DiagnosticResults-b4a19f8f-0574-4cde-87bf-b73f44305a0b\"><td> Creatinine </td><td> 0.7790416972910893 </td><td> mg/dL </td><td/><td/><td/><td> Sun Apr 30 07:16:14 UTC 2006 </td></tr><tr id=\"DiagnosticResults-6802222d-887d-464f-ac3c-cefee18d4700\"><td> Urea Nitrogen </td><td> 7.826269528218065 </td><td> mg/dL </td><td/><td/><td/><td> Sun Apr 30 07:16:14 UTC 2006 </td></tr><tr id=\"DiagnosticResults-702f31c0-7dd2-4972-a80e-a6b6e2aee243\"><td> Glucose </td><td> 76.38022182548089 </td><td> mg/dL </td><td/><td/><td/><td> Sun Apr 30 07:16:14 UTC 2006 </td></tr><tr id=\"DiagnosticResults-bf46d263-fb64-43dd-9b89-602d78a9ba35\"><td> Hemoglobin A1c/Hemoglobin.total in Blood </td><td> 6.336478162286603 </td><td> % </td><td/><td/><td/><td> Sun May 08 07:16:14 UTC 2005 </td></tr><tr id=\"DiagnosticResults-60b38bd9-3e48-41d6-ab1f-020d2db9b800\"><td> Carbon Dioxide </td><td> 24.91098067665279 </td><td> mmol/L </td><td/><td/><td/><td> Sun May 08 07:16:14 UTC 2005 </td></tr><tr id=\"DiagnosticResults-07f5f890-4198-41d6-a10e-cde39e7496a7\"><td> Chloride </td><td> 104.93948486411206 </td><td> mmol/L </td><td/><td/><td/><td> Sun May 08 07:16:14 UTC 2005 </td></tr><tr id=\"DiagnosticResults-fc5d12f0-c661-4f5b-a9dd-2711c0815a54\"><td> Potassium </td><td> 5.0991556305682355 </td><td> mmol/L </td><td/><td/><td/><td> Sun May 08 07:16:14 UTC 2005 </td></tr><tr id=\"DiagnosticResults-b947e28a-7399-4a40-9ce5-bbe6f2d3a94f\"><td> Sodium </td><td> 136.51422864445925 </td><td> mmol/L </td><td/><td/><td/><td> Sun May 08 07:16:14 UTC 2005 </td></tr><tr id=\"DiagnosticResults-89763ed5-96d8-40ad-a22d-de310e478ad1\"><td> Calcium </td><td> 9.521180976660922 </td><td> mg/dL </td><td/><td/><td/><td> Sun May 08 07:16:14 UTC 2005 </td></tr><tr id=\"DiagnosticResults-e15ec3e4-7ab3-4d0e-a65c-313f1063d863\"><td> Creatinine </td><td> 0.7906691853103593 </td><td> mg/dL </td><td/><td/><td/><td> Sun May 08 07:16:14 UTC 2005 </td></tr><tr id=\"DiagnosticResults-ecd30f65-36d0-4e02-9619-a698a06c9281\"><td> Urea Nitrogen </td><td> 17.652383493109575 </td><td> mg/dL </td><td/><td/><td/><td> Sun May 08 07:16:14 UTC 2005 </td></tr><tr id=\"DiagnosticResults-209cc39f-aa4d-4101-a98e-9ea516b44f81\"><td> Glucose </td><td> 73.5141074663203 </td><td> mg/dL </td><td/><td/><td/><td> Sun May 08 07:16:14 UTC 2005 </td></tr><tr id=\"DiagnosticResults-9c451230-d32a-4e9f-96af-7962f28daf70\"><td> Hemoglobin A1c/Hemoglobin.total in Blood </td><td> 6.0275369245677926 </td><td> % </td><td/><td/><td/><td> Sun Apr 24 07:16:14 UTC 2005 </td></tr><tr id=\"DiagnosticResults-3685b771-439c-4bf4-a7e2-cd8ae948edee\"><td> Platelet mean volume [Entitic volume] in Blood by Automated count </td><td> 11.362594775085103 </td><td> fL </td><td/><td/><td/><td> Sun Apr 24 07:16:14 UTC 2005 </td></tr><tr id=\"DiagnosticResults-e516a185-8d3c-4f27-aafb-e8634cdccc4c\"><td> Platelet distribution width [Entitic volume] in Blood by Automated count </td><td> 370.8145081896588 </td><td> fL </td><td/><td/><td/><td> Sun Apr 24 07:16:14 UTC 2005 </td></tr><tr id=\"DiagnosticResults-e0f6915c-6ea9-4aae-a4ef-5277f9e7be03\"><td> Platelets [#/volume] in Blood by Automated count </td><td> 308.0302344410235 </td><td> 10*3/uL </td><td/><td/><td/><td> Sun Apr 24 07:16:14 UTC 2005 </td></tr><tr id=\"DiagnosticResults-1eb1a806-b3b2-420b-b503-7c48eb6e82a5\"><td> Erythrocyte distribution width [Entitic volume] by Automated count </td><td> 45.89723961445393 </td><td> fL </td><td/><td/><td/><td> Sun Apr 24 07:16:14 UTC 2005 </td></tr><tr id=\"DiagnosticResults-c7bdeaa7-fd3f-4719-9e06-9ebd636b57fe\"><td> MCHC [Mass/volume] by Automated count </td><td> 35.88825486942532 </td><td> g/dL </td><td/><td/><td/><td> Sun Apr 24 07:16:14 UTC 2005 </td></tr><tr id=\"DiagnosticResults-bc4c1afc-ce3c-4889-b899-4737b68c8e1a\"><td> MCH [Entitic mass] by Automated count </td><td> 32.28155839776092 </td><td> pg </td><td/><td/><td/><td> Sun Apr 24 07:16:14 UTC 2005 </td></tr><tr id=\"DiagnosticResults-9320f684-c070-4f90-ab68-285272531ba9\"><td> MCV [Entitic volume] by Automated count </td><td> 80.00278340707611 </td><td> fL </td><td/><td/><td/><td> Sun Apr 24 07:16:14 UTC 2005 </td></tr><tr id=\"DiagnosticResults-0fe4893b-fa9f-4e6f-8b69-abea72f74f84\"><td> Hematocrit [Volume Fraction] of Blood by Automated count </td><td> 36.89329706046552 </td><td> % </td><td/><td/><td/><td> Sun Apr 24 07:16:14 UTC 2005 </td></tr><tr id=\"DiagnosticResults-aad66734-efdc-4a2c-b1c8-309ede08e83b\"><td> Hemoglobin [Mass/volume] in Blood </td><td> 14.170508005358554 </td><td> g/dL </td><td/><td/><td/><td> Sun Apr 24 07:16:14 UTC 2005 </td></tr><tr id=\"DiagnosticResults-55ae1d75-7245-44f4-afd2-00b1fc1433fb\"><td> Erythrocytes [#/volume] in Blood by Automated count </td><td> 5.433112309589718 </td><td> 10*6/uL </td><td/><td/><td/><td> Sun Apr 24 07:16:14 UTC 2005 </td></tr><tr id=\"DiagnosticResults-1ccf8b7f-97e2-49a1-9847-b8828be06f8f\"><td> Leukocytes [#/volume] in Blood by Automated count </td><td> 4.666693374538534 </td><td> 10*3/uL </td><td/><td/><td/><td> Sun Apr 24 07:16:14 UTC 2005 </td></tr><tr id=\"DiagnosticResults-0e6b8ec6-894d-40e8-bc7d-c48cbf107ff0\"><td> Carbon Dioxide </td><td> 28.182232967673386 </td><td> mmol/L </td><td/><td/><td/><td> Sun Apr 24 07:16:14 UTC 2005 </td></tr><tr id=\"DiagnosticResults-83238c58-923a-4fce-86e9-c681d134619f\"><td> Chloride </td><td> 101.06086473060749 </td><td> mmol/L </td><td/><td/><td/><td> Sun Apr 24 07:16:14 UTC 2005 </td></tr><tr id=\"DiagnosticResults-5991f160-2dba-4c72-94f6-e64c4922a1e5\"><td> Potassium </td><td> 4.7289008754061745 </td><td> mmol/L </td><td/><td/><td/><td> Sun Apr 24 07:16:14 UTC 2005 </td></tr><tr id=\"DiagnosticResults-3ee041f0-7cee-4387-83a8-04c9fab2efcb\"><td> Sodium </td><td> 138.81134335421044 </td><td> mmol/L </td><td/><td/><td/><td> Sun Apr 24 07:16:14 UTC 2005 </td></tr><tr id=\"DiagnosticResults-3af32ad2-a096-4a3b-bc99-44021a1104df\"><td> Calcium </td><td> 9.112640694074509 </td><td> mg/dL </td><td/><td/><td/><td> Sun Apr 24 07:16:14 UTC 2005 </td></tr><tr id=\"DiagnosticResults-d592e7f0-3826-4f89-a4da-8392d517eb61\"><td> Creatinine </td><td> 0.7906691853103593 </td><td> mg/dL </td><td/><td/><td/><td> Sun Apr 24 07:16:14 UTC 2005 </td></tr><tr id=\"DiagnosticResults-74b2f591-f2b2-4290-ac98-cd92338abf86\"><td> Urea Nitrogen </td><td> 11.523986361565305 </td><td> mg/dL </td><td/><td/><td/><td> Sun Apr 24 07:16:14 UTC 2005 </td></tr><tr id=\"DiagnosticResults-3fa53c75-f6fc-42c9-9f4b-833b450c53d9\"><td> Glucose </td><td> 76.33871956029532 </td><td> mg/dL </td><td/><td/><td/><td> Sun Apr 24 07:16:14 UTC 2005 </td></tr><tr id=\"DiagnosticResults-931dbba6-5123-4598-826d-22259d837423\"><td> Hemoglobin A1c/Hemoglobin.total in Blood </td><td> 6.09568119751714 </td><td> % </td><td/><td/><td/><td> Sun Apr 18 07:16:14 UTC 2004 </td></tr><tr id=\"DiagnosticResults-b2eb0d8d-0424-49d3-9e00-b76c254e4478\"><td> High Density Lipoprotein Cholesterol </td><td> 65.01796028724283 </td><td> mg/dL </td><td/><td/><td/><td> Sun Apr 18 07:16:14 UTC 2004 </td></tr><tr id=\"DiagnosticResults-e92cfcfc-db01-4417-9e4c-9a20a4dae905\"><td> Low Density Lipoprotein Cholesterol </td><td> 70.56977031954393 </td><td> mg/dL </td><td/><td/><td/><td> Sun Apr 18 07:16:14 UTC 2004 </td></tr><tr id=\"DiagnosticResults-540c0650-d285-42fb-a500-808eb7ad914b\"><td> Triglycerides </td><td> 141.14233621904398 </td><td> mg/dL </td><td/><td/><td/><td> Sun Apr 18 07:16:14 UTC 2004 </td></tr><tr id=\"DiagnosticResults-24ef36e1-25ef-4288-8b83-06a5378c0617\"><td> Total Cholesterol </td><td> 163.81619785059556 </td><td> mg/dL </td><td/><td/><td/><td> Sun Apr 18 07:16:14 UTC 2004 </td></tr><tr id=\"DiagnosticResults-fcdaabfa-dc8f-4426-a685-6a7bd640eb3a\"><td> Carbon Dioxide </td><td> 21.134250107421014 </td><td> mmol/L </td><td/><td/><td/><td> Sun Apr 18 07:16:14 UTC 2004 </td></tr><tr id=\"DiagnosticResults-cf230e6b-a570-4d0d-ba4b-9339a2aea2d0\"><td> Chloride </td><td> 101.26780142700156 </td><td> mmol/L </td><td/><td/><td/><td> Sun Apr 18 07:16:14 UTC 2004 </td></tr><tr id=\"DiagnosticResults-443078ae-c9f5-408f-9d8b-23b0304b4ade\"><td> Potassium </td><td> 4.516695113671046 </td><td> mmol/L </td><td/><td/><td/><td> Sun Apr 18 07:16:14 UTC 2004 </td></tr><tr id=\"DiagnosticResults-3aeac4d6-d0a7-4bf7-987f-d8320eed717f\"><td> Sodium </td><td> 137.83297160531376 </td><td> mmol/L </td><td/><td/><td/><td> Sun Apr 18 07:16:14 UTC 2004 </td></tr><tr id=\"DiagnosticResults-f90025d9-258e-4298-9ab4-6d3f25602437\"><td> Calcium </td><td> 9.89916675208425 </td><td> mg/dL </td><td/><td/><td/><td> Sun Apr 18 07:16:14 UTC 2004 </td></tr><tr id=\"DiagnosticResults-a7bc6509-9f5d-43d3-9489-b1e0d302a2a2\"><td> Creatinine </td><td> 0.8022966733296293 </td><td> mg/dL </td><td/><td/><td/><td> Sun Apr 18 07:16:14 UTC 2004 </td></tr><tr id=\"DiagnosticResults-5b16a230-f2fe-4f1b-9a90-184d104491a9\"><td> Urea Nitrogen </td><td> 11.027340654579216 </td><td> mg/dL </td><td/><td/><td/><td> Sun Apr 18 07:16:14 UTC 2004 </td></tr><tr id=\"DiagnosticResults-f5d93a5b-054c-4516-b484-9cefe2281136\"><td> Glucose </td><td> 98.20625463005413 </td><td> mg/dL </td><td/><td/><td/><td> Sun Apr 18 07:16:14 UTC 2004 </td></tr><tr id=\"DiagnosticResults-1b605ea3-694f-454e-b9bc-4cb1686104fa\"><td> Hemoglobin A1c/Hemoglobin.total in Blood </td><td> 5.996880335702819 </td><td> % </td><td/><td/><td/><td> Sun Apr 13 07:16:14 UTC 2003 </td></tr><tr id=\"DiagnosticResults-95c677fd-5717-453c-967d-9aa17b48a1fd\"><td> Carbon Dioxide </td><td> 22.364711013893242 </td><td> mmol/L </td><td/><td/><td/><td> Sun Apr 13 07:16:14 UTC 2003 </td></tr><tr id=\"DiagnosticResults-1af277ce-ee37-438d-845c-b10a668bc7ed\"><td> Chloride </td><td> 105.23998300532995 </td><td> mmol/L </td><td/><td/><td/><td> Sun Apr 13 07:16:14 UTC 2003 </td></tr><tr id=\"DiagnosticResults-2b737b05-4a55-430d-80c3-95df64741323\"><td> Potassium </td><td> 4.415167065714233 </td><td> mmol/L </td><td/><td/><td/><td> Sun Apr 13 07:16:14 UTC 2003 </td></tr><tr id=\"DiagnosticResults-4c8bdf3e-bcd5-4bd3-86c6-c9216a33d4ef\"><td> Sodium </td><td> 142.72011793202216 </td><td> mmol/L </td><td/><td/><td/><td> Sun Apr 13 07:16:14 UTC 2003 </td></tr><tr id=\"DiagnosticResults-07993fb7-12b9-48aa-a7be-5a36eb05df04\"><td> Calcium </td><td> 8.606874626801241 </td><td> mg/dL </td><td/><td/><td/><td> Sun Apr 13 07:16:14 UTC 2003 </td></tr><tr id=\"DiagnosticResults-e9ba3a91-70bb-4aaf-98c9-d34d5ba69b51\"><td> Creatinine </td><td> 0.8139241613488993 </td><td> mg/dL </td><td/><td/><td/><td> Sun Apr 13 07:16:14 UTC 2003 </td></tr><tr id=\"DiagnosticResults-fe81296c-ab61-4a5d-b230-c2355c7b2253\"><td> Urea Nitrogen </td><td> 15.540329986202956 </td><td> mg/dL </td><td/><td/><td/><td> Sun Apr 13 07:16:14 UTC 2003 </td></tr><tr id=\"DiagnosticResults-dfc49c7c-a4cf-4a89-8948-26f0bbfe1927\"><td> Glucose </td><td> 83.7542860955095 </td><td> mg/dL </td><td/><td/><td/><td> Sun Apr 13 07:16:14 UTC 2003 </td></tr><tr id=\"DiagnosticResults-2c077fd0-c1f8-4121-bd43-c663a1063f60\"><td> Hemoglobin A1c/Hemoglobin.total in Blood </td><td> 6.028344421021409 </td><td> % </td><td/><td/><td/><td> Sun Apr 07 07:16:14 UTC 2002 </td></tr><tr id=\"DiagnosticResults-b8cc88e5-07ea-4819-91df-f1b13975c0bd\"><td> Carbon Dioxide </td><td> 26.37694805487493 </td><td> mmol/L </td><td/><td/><td/><td> Sun Apr 07 07:16:14 UTC 2002 </td></tr><tr id=\"DiagnosticResults-c9c6e2af-4f42-4259-9db8-bcf68cd62b63\"><td> Chloride </td><td> 109.70959186179438 </td><td> mmol/L </td><td/><td/><td/><td> Sun Apr 07 07:16:14 UTC 2002 </td></tr><tr id=\"DiagnosticResults-32ae12e1-47e4-44fd-b6b9-c1fc05e917b3\"><td> Potassium </td><td> 4.5953838121794135 </td><td> mmol/L </td><td/><td/><td/><td> Sun Apr 07 07:16:14 UTC 2002 </td></tr><tr id=\"DiagnosticResults-b7d74880-a406-44d8-b02a-806be3705f9f\"><td> Sodium </td><td> 143.6735844211955 </td><td> mmol/L </td><td/><td/><td/><td> Sun Apr 07 07:16:14 UTC 2002 </td></tr><tr id=\"DiagnosticResults-b0631cd9-4217-4453-8577-04cd7dd32d22\"><td> Calcium </td><td> 9.12229787587733 </td><td> mg/dL </td><td/><td/><td/><td> Sun Apr 07 07:16:14 UTC 2002 </td></tr><tr id=\"DiagnosticResults-ce0ea2f6-ea8d-455a-8e8a-0b1b52cb9474\"><td> Creatinine </td><td> 0.8255516493681694 </td><td> mg/dL </td><td/><td/><td/><td> Sun Apr 07 07:16:14 UTC 2002 </td></tr><tr id=\"DiagnosticResults-8b10da6a-dc95-4d66-9b8d-2b48b11059ff\"><td> Urea Nitrogen </td><td> 7.136030701422752 </td><td> mg/dL </td><td/><td/><td/><td> Sun Apr 07 07:16:14 UTC 2002 </td></tr><tr id=\"DiagnosticResults-17c5a5ce-c053-4bd9-b622-8823727c7a90\"><td> Glucose </td><td> 84.3564562158927 </td><td> mg/dL </td><td/><td/><td/><td> Sun Apr 07 07:16:14 UTC 2002 </td></tr></tbody></table><table class=\"hapiPropertyTable\"><caption>Diagnostic Results: Diagnostic Reports</caption><thead><tr><th>Code</th><th>Date</th></tr></thead><tbody><tr id=\"DiagnosticResults-2abe8b80-47e9-4f3c-bfe2-9b98ccf8104d\"><td> Basic Metabolic Panel </td><td> Sun Apr 30 07:16:14 UTC 2006 </td></tr><tr id=\"DiagnosticResults-07cd45a9-89e3-4350-a88b-4aa3dc510abc\"><td> Basic Metabolic Panel </td><td> Sun May 29 07:16:14 UTC 2011 </td></tr><tr id=\"DiagnosticResults-129bd9ff-c9dd-4e4e-8a9f-3540a3a11884\"><td> Complete blood count (hemogram) panel - Blood by Automated count </td><td> Sun May 23 07:16:14 UTC 2010 </td></tr><tr id=\"DiagnosticResults-d9dd46b2-9b46-4c97-a5d8-400f0dc61339\"><td> Lipid Panel </td><td> Sun May 23 07:16:14 UTC 2010 </td></tr><tr id=\"DiagnosticResults-8aa32e1c-cd81-47b1-b0e6-bed31cd99474\"><td> Basic Metabolic Panel </td><td> Sun May 23 07:16:14 UTC 2010 </td></tr><tr id=\"DiagnosticResults-8e664c95-cf4d-40c5-bdb6-dd76afd4c44e\"><td> Basic Metabolic Panel </td><td> Sun May 17 07:16:14 UTC 2009 </td></tr><tr id=\"DiagnosticResults-5bd97b05-54cc-41e2-a6d9-9340e2b769c4\"><td> Basic Metabolic Panel </td><td> Sun May 11 07:16:14 UTC 2008 </td></tr><tr id=\"DiagnosticResults-21da1810-8e09-46e7-b0b4-79891b1cd723\"><td> Lipid Panel </td><td> Sun May 06 07:16:14 UTC 2007 </td></tr><tr id=\"DiagnosticResults-d06d5a38-a624-4897-9f36-1066294bf208\"><td> Basic Metabolic Panel </td><td> Sun May 06 07:16:14 UTC 2007 </td></tr><tr id=\"DiagnosticResults-fcaa77f0-2eff-4e39-b210-5090ae4e6244\"><td> Basic Metabolic Panel </td><td> Sun May 08 07:16:14 UTC 2005 </td></tr><tr id=\"DiagnosticResults-3487dd1d-3bdf-4895-ac56-748be8d0d76b\"><td> Complete blood count (hemogram) panel - Blood by Automated count </td><td> Sun Apr 24 07:16:14 UTC 2005 </td></tr><tr id=\"DiagnosticResults-280f9a7a-2d65-4cbd-83bf-e414eb95e996\"><td> Basic Metabolic Panel </td><td> Sun Apr 24 07:16:14 UTC 2005 </td></tr><tr id=\"DiagnosticResults-55252768-3d07-47d2-b475-38e7cfd7a5b1\"><td> Lipid Panel </td><td> Sun Apr 18 07:16:14 UTC 2004 </td></tr><tr id=\"DiagnosticResults-2d810577-b6f9-4a8a-9423-8f364e0e79e0\"><td> Basic Metabolic Panel </td><td> Sun Apr 18 07:16:14 UTC 2004 </td></tr><tr id=\"DiagnosticResults-465e2848-961a-421d-9616-75e7ca960bbf\"><td> Basic Metabolic Panel </td><td> Sun Apr 13 07:16:14 UTC 2003 </td></tr><tr id=\"DiagnosticResults-69b2ac53-3e87-47d6-b413-c263845f0938\"><td> Basic Metabolic Panel </td><td> Sun Apr 07 07:16:14 UTC 2002 </td></tr></tbody></table></div>"
      ],
      "text/plain": [
       "<IPython.core.display.HTML object>"
      ]
     },
     "metadata": {},
     "output_type": "display_data"
    },
    {
     "data": {
      "text/html": [
       "<div xmlns=\"http://www.w3.org/1999/xhtml\"><table class=\"hapiPropertyTable\"><caption>Vital Signs</caption><thead><tr><th>Code</th><th>Result</th><th>Unit</th><th>Interpretation</th><th>Comments</th><th>Date</th></tr></thead><tbody><tr id=\"VitalSigns-87f833dc-5de8-4564-a12f-b577c1f34341\"><td> Blood Pressure </td><td/><td/><td/><td> Sun May 29 07:16:14 UTC 2011 </td></tr><tr id=\"VitalSigns-e95afcd6-daf0-4530-a70e-0d477f5ace01\"><td> Body Mass Index </td><td> 29.150830583756573 </td><td> kg/m2 </td><td/><td> Sun May 29 07:16:14 UTC 2011 </td></tr><tr id=\"VitalSigns-82b5fe14-e313-45f1-aeff-48fb825d5915\"><td> Body Weight </td><td> 80.12508309639611 </td><td> kg </td><td/><td> Sun May 29 07:16:14 UTC 2011 </td></tr><tr id=\"VitalSigns-9deee61f-ceb1-4ab1-814a-9b1c335a4559\"><td> Pain severity - 0-10 verbal numeric rating [Score] - Reported </td><td> 2.929483973434904 </td><td> {score} </td><td/><td> Sun May 29 07:16:14 UTC 2011 </td></tr><tr id=\"VitalSigns-ce0aec60-b125-4404-8a1e-3abde3f3a44f\"><td> Body Height </td><td> 165.7901710927433 </td><td> cm </td><td/><td> Sun May 29 07:16:14 UTC 2011 </td></tr><tr id=\"VitalSigns-e7f9dc02-379e-4d9d-9f76-6f209b4cca48\"><td> Blood Pressure </td><td/><td/><td/><td> Sun May 23 07:16:14 UTC 2010 </td></tr><tr id=\"VitalSigns-a0bc72e8-6846-4871-bd5b-e46f84b1c0e8\"><td> Body Mass Index </td><td> 28.40361073558058 </td><td> kg/m2 </td><td/><td> Sun May 23 07:16:14 UTC 2010 </td></tr><tr id=\"VitalSigns-4a3ffbf0-5486-46ac-b693-4aa67d041936\"><td> Body Weight </td><td> 78.07124616525428 </td><td> kg </td><td/><td> Sun May 23 07:16:14 UTC 2010 </td></tr><tr id=\"VitalSigns-af8e77fa-1fd6-45ac-a28a-7e650af09061\"><td> Pain severity - 0-10 verbal numeric rating [Score] - Reported </td><td> 0.40410335917498097 </td><td> {score} </td><td/><td> Sun May 23 07:16:14 UTC 2010 </td></tr><tr id=\"VitalSigns-fdc3431d-782c-400a-89df-fc3a65382c76\"><td> Body Height </td><td> 165.7901710927433 </td><td> cm </td><td/><td> Sun May 23 07:16:14 UTC 2010 </td></tr><tr id=\"VitalSigns-07cb27c9-a690-4136-af81-db2d7be4ecb2\"><td> Blood Pressure </td><td/><td/><td/><td> Sun May 17 07:16:14 UTC 2009 </td></tr><tr id=\"VitalSigns-62312fc4-e03e-40e3-9157-c3d315da8294\"><td> Body Mass Index </td><td> 27.656390887404587 </td><td> kg/m2 </td><td/><td> Sun May 17 07:16:14 UTC 2009 </td></tr><tr id=\"VitalSigns-454d629a-fb4b-4b16-b3da-de1e33f6812d\"><td> Body Weight </td><td> 76.01740923411246 </td><td> kg </td><td/><td> Sun May 17 07:16:14 UTC 2009 </td></tr><tr id=\"VitalSigns-18742e4d-9fae-45d7-9878-2280a679d348\"><td> Pain severity - 0-10 verbal numeric rating [Score] - Reported </td><td> 3.6176839146524684 </td><td> {score} </td><td/><td> Sun May 17 07:16:14 UTC 2009 </td></tr><tr id=\"VitalSigns-d2cf5abc-1676-492f-a2fe-509cf3e08b1e\"><td> Body Height </td><td> 165.7901710927433 </td><td> cm </td><td/><td> Sun May 17 07:16:14 UTC 2009 </td></tr><tr id=\"VitalSigns-58652db6-58ce-45af-aa03-8edeccf71136\"><td> Blood Pressure </td><td/><td/><td/><td> Sun May 11 07:16:14 UTC 2008 </td></tr><tr id=\"VitalSigns-8a50e065-33da-4788-a925-405829e56d33\"><td> Body Mass Index </td><td> 29.950416243395033 </td><td> kg/m2 </td><td/><td> Sun May 11 07:16:14 UTC 2008 </td></tr><tr id=\"VitalSigns-9f0c70c4-105d-4b9b-9d1a-3a8b72b78c33\"><td> Body Weight </td><td> 82.3228546911759 </td><td> kg </td><td/><td> Sun May 11 07:16:14 UTC 2008 </td></tr><tr id=\"VitalSigns-736a0f67-544f-43fc-be58-0dd24b424e07\"><td> Pain severity - 0-10 verbal numeric rating [Score] - Reported </td><td> 2.4386518519437406 </td><td> {score} </td><td/><td> Sun May 11 07:16:14 UTC 2008 </td></tr><tr id=\"VitalSigns-df44f5aa-f1fd-4b52-bd83-38fb5a9260c6\"><td> Body Height </td><td> 165.7901710927433 </td><td> cm </td><td/><td> Sun May 11 07:16:14 UTC 2008 </td></tr><tr id=\"VitalSigns-e8cc39bc-c39f-432a-abe6-2303f4fa9ed3\"><td> Blood Pressure </td><td/><td/><td/><td> Sun May 06 07:16:14 UTC 2007 </td></tr><tr id=\"VitalSigns-da1d773c-c92c-4fe6-8ead-01771b35ab8b\"><td> Body Mass Index </td><td> 30.457961800646647 </td><td> kg/m2 </td><td/><td> Sun May 06 07:16:14 UTC 2007 </td></tr><tr id=\"VitalSigns-99126519-d3a0-48b6-86b9-0d7a0b4fa9ac\"><td> Body Weight </td><td> 83.71791373874393 </td><td> kg </td><td/><td> Sun May 06 07:16:14 UTC 2007 </td></tr><tr id=\"VitalSigns-6a4c6f25-fbf1-4c69-80bc-89ff5b535486\"><td> Pain severity - 0-10 verbal numeric rating [Score] - Reported </td><td> 3.8061882137717116 </td><td> {score} </td><td/><td> Sun May 06 07:16:14 UTC 2007 </td></tr><tr id=\"VitalSigns-94bc3a74-bc8d-4acc-b723-3ba1ed010a6e\"><td> Body Height </td><td> 165.7901710927433 </td><td> cm </td><td/><td> Sun May 06 07:16:14 UTC 2007 </td></tr><tr id=\"VitalSigns-d6eb8e81-72f8-4fbc-9253-cc8679f9c48b\"><td> Blood Pressure </td><td/><td/><td/><td> Sun Apr 30 07:16:14 UTC 2006 </td></tr><tr id=\"VitalSigns-4b165570-48fe-4efa-bd72-56f722019d79\"><td> Body Mass Index </td><td> 30.457961800646647 </td><td> kg/m2 </td><td/><td> Sun Apr 30 07:16:14 UTC 2006 </td></tr><tr id=\"VitalSigns-2d7fea8e-dfa0-4bcd-8ea9-38685f68d636\"><td> Body Weight </td><td> 83.71791373874393 </td><td> kg </td><td/><td> Sun Apr 30 07:16:14 UTC 2006 </td></tr><tr id=\"VitalSigns-cf6eb489-64bc-4f31-8d1e-bc034833c386\"><td> Pain severity - 0-10 verbal numeric rating [Score] - Reported </td><td> 0.14714026293424975 </td><td> {score} </td><td/><td> Sun Apr 30 07:16:14 UTC 2006 </td></tr><tr id=\"VitalSigns-efd9c1f5-c8d8-4730-9365-59326e4c0974\"><td> Body Height </td><td> 165.7901710927433 </td><td> cm </td><td/><td> Sun Apr 30 07:16:14 UTC 2006 </td></tr><tr id=\"VitalSigns-fc529159-f208-4970-b66a-82e48f9c9572\"><td> Blood Pressure </td><td/><td/><td/><td> Sun May 08 07:16:14 UTC 2005 </td></tr><tr id=\"VitalSigns-1f1f6ee2-c1c2-4f7c-877a-d8e911308129\"><td> Body Mass Index </td><td> 30.457961800646647 </td><td> kg/m2 </td><td/><td> Sun May 08 07:16:14 UTC 2005 </td></tr><tr id=\"VitalSigns-cec6e062-0456-4d18-90a1-a53a3ed0296c\"><td> Body Weight </td><td> 83.71791373874393 </td><td> kg </td><td/><td> Sun May 08 07:16:14 UTC 2005 </td></tr><tr id=\"VitalSigns-7f4023e7-4ef8-400f-9c44-9fd78021e049\"><td> Pain severity - 0-10 verbal numeric rating [Score] - Reported </td><td> 1.7777703462478014 </td><td> {score} </td><td/><td> Sun May 08 07:16:14 UTC 2005 </td></tr><tr id=\"VitalSigns-ffd3785a-f77b-427c-8bf3-0d3668d56fb4\"><td> Body Height </td><td> 165.7901710927433 </td><td> cm </td><td/><td> Sun May 08 07:16:14 UTC 2005 </td></tr><tr id=\"VitalSigns-251f7766-283c-4365-bb28-6d7c9cf4b4b1\"><td> Blood Pressure </td><td/><td/><td/><td> Sun Apr 24 07:16:14 UTC 2005 </td></tr><tr id=\"VitalSigns-15d69d0e-84e7-4f64-9a52-42f5c7c7ef15\"><td> Body Mass Index </td><td> 30.457961800646647 </td><td> kg/m2 </td><td/><td> Sun Apr 24 07:16:14 UTC 2005 </td></tr><tr id=\"VitalSigns-50beb9c5-311c-4456-a8ad-8b7302944684\"><td> Body Weight </td><td> 83.71791373874393 </td><td> kg </td><td/><td> Sun Apr 24 07:16:14 UTC 2005 </td></tr><tr id=\"VitalSigns-6fd761f7-a91f-4ae8-a5b7-f86f7908d0ed\"><td> Pain severity - 0-10 verbal numeric rating [Score] - Reported </td><td> 0.38272876342082496 </td><td> {score} </td><td/><td> Sun Apr 24 07:16:14 UTC 2005 </td></tr><tr id=\"VitalSigns-7c943852-186b-444c-b8e9-66c98181541c\"><td> Body Height </td><td> 165.7901710927433 </td><td> cm </td><td/><td> Sun Apr 24 07:16:14 UTC 2005 </td></tr><tr id=\"VitalSigns-70e11275-5619-4236-a987-fbf2d4047e48\"><td> Blood Pressure </td><td/><td/><td/><td> Sun Apr 18 07:16:14 UTC 2004 </td></tr><tr id=\"VitalSigns-170f601f-1887-4064-b08b-71bcdabbecab\"><td> Body Mass Index </td><td> 30.457961800646647 </td><td> kg/m2 </td><td/><td> Sun Apr 18 07:16:14 UTC 2004 </td></tr><tr id=\"VitalSigns-5bc50ac3-94fc-4d72-a1f1-ca31db6be178\"><td> Body Weight </td><td> 83.71791373874393 </td><td> kg </td><td/><td> Sun Apr 18 07:16:14 UTC 2004 </td></tr><tr id=\"VitalSigns-338e8575-32dc-48ba-b082-d65bb0953680\"><td> Pain severity - 0-10 verbal numeric rating [Score] - Reported </td><td> 2.318946691054088 </td><td> {score} </td><td/><td> Sun Apr 18 07:16:14 UTC 2004 </td></tr><tr id=\"VitalSigns-94e0cf61-5b4b-45ff-9caf-80b3da6156ec\"><td> Body Height </td><td> 165.7901710927433 </td><td> cm </td><td/><td> Sun Apr 18 07:16:14 UTC 2004 </td></tr><tr id=\"VitalSigns-af648f7b-ef18-4b95-8a3a-c7eecced1bef\"><td> Blood Pressure </td><td/><td/><td/><td> Sun Apr 13 07:16:14 UTC 2003 </td></tr><tr id=\"VitalSigns-654e7ff5-0092-4f81-b7a6-aae81f6976fa\"><td> Body Mass Index </td><td> 30.457961800646647 </td><td> kg/m2 </td><td/><td> Sun Apr 13 07:16:14 UTC 2003 </td></tr><tr id=\"VitalSigns-e5eca9e9-1021-44d7-9be9-88cbdfe63143\"><td> Body Weight </td><td> 83.71791373874393 </td><td> kg </td><td/><td> Sun Apr 13 07:16:14 UTC 2003 </td></tr><tr id=\"VitalSigns-a650c878-f772-4e8e-b3c9-c5f22fa236be\"><td> Pain severity - 0-10 verbal numeric rating [Score] - Reported </td><td> 1.0308408274938121 </td><td> {score} </td><td/><td> Sun Apr 13 07:16:14 UTC 2003 </td></tr><tr id=\"VitalSigns-c8ccf904-967e-4368-9d66-7e98ec1368f2\"><td> Body Height </td><td> 165.7901710927433 </td><td> cm </td><td/><td> Sun Apr 13 07:16:14 UTC 2003 </td></tr><tr id=\"VitalSigns-ef99c77a-395b-40c1-8518-d8c63a165e7e\"><td> Blood Pressure </td><td/><td/><td/><td> Sun Apr 07 07:16:14 UTC 2002 </td></tr><tr id=\"VitalSigns-4179f4ee-f058-4a63-9987-88fc70ec77f5\"><td> Body Mass Index </td><td> 30.457961800646647 </td><td> kg/m2 </td><td/><td> Sun Apr 07 07:16:14 UTC 2002 </td></tr><tr id=\"VitalSigns-0af82f4b-58c0-46b0-ae70-fe3932927c90\"><td> Body Weight </td><td> 83.71791373874393 </td><td> kg </td><td/><td> Sun Apr 07 07:16:14 UTC 2002 </td></tr><tr id=\"VitalSigns-150433ad-6653-41b4-89c5-f539d908708f\"><td> Pain severity - 0-10 verbal numeric rating [Score] - Reported </td><td> 0.364490037571112 </td><td> {score} </td><td/><td> Sun Apr 07 07:16:14 UTC 2002 </td></tr><tr id=\"VitalSigns-be376dd6-442c-4eb2-a2a8-004498094bcf\"><td> Body Height </td><td> 165.7901710927433 </td><td> cm </td><td/><td> Sun Apr 07 07:16:14 UTC 2002 </td></tr></tbody></table></div>"
      ],
      "text/plain": [
       "<IPython.core.display.HTML object>"
      ]
     },
     "metadata": {},
     "output_type": "display_data"
    },
    {
     "data": {
      "text/html": [
       "<div xmlns=\"http://www.w3.org/1999/xhtml\"><table class=\"hapiPropertyTable\"><caption>Past History of Illnesses</caption><thead><tr><th>Medical Problems</th><th>Status</th><th>Comments</th><th>Date</th></tr></thead><tbody><tr id=\"PastHistoryOfIllnesses-f03a5d0f-5d1a-436b-ad1f-daa4d37535b6\"><td> History of myocardial infarction (situation) </td><td> active </td><td/><td> Sun Oct 09 07:16:14 UTC 2011 </td></tr><tr id=\"PastHistoryOfIllnesses-b347c825-94d9-4fb6-a4b7-fb5ccf8b33c3\"><td> Myocardial Infarction </td><td> active </td><td/><td> Sun Oct 09 07:16:14 UTC 2011 </td></tr><tr id=\"PastHistoryOfIllnesses-f824cd59-08ae-4319-8e34-457006e62c4e\"><td> Viral sinusitis (disorder) </td><td> resolved </td><td/><td> Tue Sep 14 07:16:14 UTC 2010 </td></tr><tr id=\"PastHistoryOfIllnesses-f6e3a948-8227-4926-8fba-47392b20a1b8\"><td> Viral sinusitis (disorder) </td><td> resolved </td><td/><td> Sat Nov 18 07:16:14 UTC 2006 </td></tr><tr id=\"PastHistoryOfIllnesses-b7d4cd2e-19de-4ffd-aea9-a4d145ab4104\"><td> Laceration of forearm </td><td> resolved </td><td/><td> Thu Aug 25 07:16:14 UTC 2005 </td></tr><tr id=\"PastHistoryOfIllnesses-c1576413-edc7-414e-9514-e47ed057281f\"><td> Viral sinusitis (disorder) </td><td> resolved </td><td/><td> Wed May 04 07:16:14 UTC 2005 </td></tr><tr id=\"PastHistoryOfIllnesses-f1b80c54-c9f5-431e-a1ba-ac0aa922af49\"><td> Coronary Heart Disease </td><td> active </td><td/><td> Sun Apr 18 07:16:14 UTC 2004 </td></tr><tr id=\"PastHistoryOfIllnesses-45b8d52e-834f-4c9f-8e76-223059bee9f8\"><td> Stroke </td><td> active </td><td/><td> Sun Apr 23 07:16:14 UTC 1995 </td></tr><tr id=\"PastHistoryOfIllnesses-a5e27ea6-c219-4c45-bcbc-1ebf7a8d6b1b\"><td> Anemia (disorder) </td><td> active </td><td/><td> Sun Jan 02 07:16:14 UTC 1977 </td></tr><tr id=\"PastHistoryOfIllnesses-d68b1c35-0ae5-436c-9cae-f21977d800cd\"><td> Prediabetes </td><td> active </td><td/><td> Sun Dec 24 07:16:14 UTC 1972 </td></tr><tr id=\"PastHistoryOfIllnesses-344af40a-c315-4915-b20e-559eac65eb05\"><td> Chronic sinusitis (disorder) </td><td> active </td><td/><td> Fri Oct 30 07:16:14 UTC 1959 </td></tr></tbody></table></div>"
      ],
      "text/plain": [
       "<IPython.core.display.HTML object>"
      ]
     },
     "metadata": {},
     "output_type": "display_data"
    },
    {
     "data": {
      "text/html": [
       "<div xmlns=\"http://www.w3.org/1999/xhtml\"><table class=\"hapiPropertyTable\"><caption>Plan of Care</caption><thead><tr><th>Activity</th><th>Intent</th><th>Comments</th><th>Planned Start</th><th>Planned End</th></tr></thead><tbody><tr id=\"PlanOfCare-9906379c-acfa-4382-a3ca-7ff7eb9a3746\"><td/><td>order</td><td/><td>Sun Dec 24 07:16:14 UTC 1972</td><td/></tr></tbody></table></div>"
      ],
      "text/plain": [
       "<IPython.core.display.HTML object>"
      ]
     },
     "metadata": {},
     "output_type": "display_data"
    },
    {
     "data": {
      "text/html": [
       "<div xmlns=\"http://www.w3.org/1999/xhtml\">Generated by <a href=\"https://github.com/synthetichealth/synthea\">Synthea</a>.Version identifier: v2.4.0-404-ge7ce2295\n",
       " .   Person seed: 8709940641219397924  Population seed: 0</div>"
      ],
      "text/plain": [
       "<IPython.core.display.HTML object>"
      ]
     },
     "metadata": {},
     "output_type": "display_data"
    },
    {
     "data": {
      "text/html": [
       "<div xmlns=\"http://www.w3.org/1999/xhtml\">Care Plan for Diabetes self management plan.<br/>Activities: <ul><li>Diabetes self management plan</li><li>Diabetes self management plan</li></ul><br/>Care plan is meant to treat Prediabetes.</div>"
      ],
      "text/plain": [
       "<IPython.core.display.HTML object>"
      ]
     },
     "metadata": {},
     "output_type": "display_data"
    },
    {
     "data": {
      "text/html": [
       "<div xmlns=\"http://www.w3.org/1999/xhtml\"><div class=\"hapiHeaderText\"> Basic Metabolic Panel </div><table class=\"hapiPropertyTable\"><tbody><tr><td>Status</td><td>FINAL</td></tr><tr><td>Issued</td><td> 30 April 2006 07:16:14</td></tr></tbody></table></div>"
      ],
      "text/plain": [
       "<IPython.core.display.HTML object>"
      ]
     },
     "metadata": {},
     "output_type": "display_data"
    },
    {
     "data": {
      "text/html": [
       "<div xmlns=\"http://www.w3.org/1999/xhtml\"><div class=\"hapiHeaderText\"> Basic Metabolic Panel </div><table class=\"hapiPropertyTable\"><tbody><tr><td>Status</td><td>FINAL</td></tr><tr><td>Issued</td><td> 29 May 2011 07:16:14</td></tr></tbody></table></div>"
      ],
      "text/plain": [
       "<IPython.core.display.HTML object>"
      ]
     },
     "metadata": {},
     "output_type": "display_data"
    },
    {
     "data": {
      "text/html": [
       "<div xmlns=\"http://www.w3.org/1999/xhtml\"><div class=\"hapiHeaderText\"> Complete blood count (hemogram) panel - Blood by Automated count </div><table class=\"hapiPropertyTable\"><tbody><tr><td>Status</td><td>FINAL</td></tr><tr><td>Issued</td><td> 23 May 2010 07:16:14</td></tr></tbody></table></div>"
      ],
      "text/plain": [
       "<IPython.core.display.HTML object>"
      ]
     },
     "metadata": {},
     "output_type": "display_data"
    },
    {
     "data": {
      "text/html": [
       "<div xmlns=\"http://www.w3.org/1999/xhtml\"><div class=\"hapiHeaderText\"> Lipid Panel </div><table class=\"hapiPropertyTable\"><tbody><tr><td>Status</td><td>FINAL</td></tr><tr><td>Issued</td><td> 23 May 2010 07:16:14</td></tr></tbody></table></div>"
      ],
      "text/plain": [
       "<IPython.core.display.HTML object>"
      ]
     },
     "metadata": {},
     "output_type": "display_data"
    },
    {
     "data": {
      "text/html": [
       "<div xmlns=\"http://www.w3.org/1999/xhtml\"><div class=\"hapiHeaderText\"> Basic Metabolic Panel </div><table class=\"hapiPropertyTable\"><tbody><tr><td>Status</td><td>FINAL</td></tr><tr><td>Issued</td><td> 23 May 2010 07:16:14</td></tr></tbody></table></div>"
      ],
      "text/plain": [
       "<IPython.core.display.HTML object>"
      ]
     },
     "metadata": {},
     "output_type": "display_data"
    },
    {
     "data": {
      "text/html": [
       "<div xmlns=\"http://www.w3.org/1999/xhtml\"><div class=\"hapiHeaderText\"> Basic Metabolic Panel </div><table class=\"hapiPropertyTable\"><tbody><tr><td>Status</td><td>FINAL</td></tr><tr><td>Issued</td><td> 17 May 2009 07:16:14</td></tr></tbody></table></div>"
      ],
      "text/plain": [
       "<IPython.core.display.HTML object>"
      ]
     },
     "metadata": {},
     "output_type": "display_data"
    },
    {
     "data": {
      "text/html": [
       "<div xmlns=\"http://www.w3.org/1999/xhtml\"><div class=\"hapiHeaderText\"> Basic Metabolic Panel </div><table class=\"hapiPropertyTable\"><tbody><tr><td>Status</td><td>FINAL</td></tr><tr><td>Issued</td><td> 11 May 2008 07:16:14</td></tr></tbody></table></div>"
      ],
      "text/plain": [
       "<IPython.core.display.HTML object>"
      ]
     },
     "metadata": {},
     "output_type": "display_data"
    },
    {
     "data": {
      "text/html": [
       "<div xmlns=\"http://www.w3.org/1999/xhtml\"><div class=\"hapiHeaderText\"> Lipid Panel </div><table class=\"hapiPropertyTable\"><tbody><tr><td>Status</td><td>FINAL</td></tr><tr><td>Issued</td><td> 06 May 2007 07:16:14</td></tr></tbody></table></div>"
      ],
      "text/plain": [
       "<IPython.core.display.HTML object>"
      ]
     },
     "metadata": {},
     "output_type": "display_data"
    },
    {
     "data": {
      "text/html": [
       "<div xmlns=\"http://www.w3.org/1999/xhtml\"><div class=\"hapiHeaderText\"> Basic Metabolic Panel </div><table class=\"hapiPropertyTable\"><tbody><tr><td>Status</td><td>FINAL</td></tr><tr><td>Issued</td><td> 06 May 2007 07:16:14</td></tr></tbody></table></div>"
      ],
      "text/plain": [
       "<IPython.core.display.HTML object>"
      ]
     },
     "metadata": {},
     "output_type": "display_data"
    },
    {
     "data": {
      "text/html": [
       "<div xmlns=\"http://www.w3.org/1999/xhtml\"><div class=\"hapiHeaderText\"> Basic Metabolic Panel </div><table class=\"hapiPropertyTable\"><tbody><tr><td>Status</td><td>FINAL</td></tr><tr><td>Issued</td><td> 08 May 2005 07:16:14</td></tr></tbody></table></div>"
      ],
      "text/plain": [
       "<IPython.core.display.HTML object>"
      ]
     },
     "metadata": {},
     "output_type": "display_data"
    },
    {
     "data": {
      "text/html": [
       "<div xmlns=\"http://www.w3.org/1999/xhtml\"><div class=\"hapiHeaderText\"> Complete blood count (hemogram) panel - Blood by Automated count </div><table class=\"hapiPropertyTable\"><tbody><tr><td>Status</td><td>FINAL</td></tr><tr><td>Issued</td><td> 24 April 2005 07:16:14</td></tr></tbody></table></div>"
      ],
      "text/plain": [
       "<IPython.core.display.HTML object>"
      ]
     },
     "metadata": {},
     "output_type": "display_data"
    },
    {
     "data": {
      "text/html": [
       "<div xmlns=\"http://www.w3.org/1999/xhtml\"><div class=\"hapiHeaderText\"> Basic Metabolic Panel </div><table class=\"hapiPropertyTable\"><tbody><tr><td>Status</td><td>FINAL</td></tr><tr><td>Issued</td><td> 24 April 2005 07:16:14</td></tr></tbody></table></div>"
      ],
      "text/plain": [
       "<IPython.core.display.HTML object>"
      ]
     },
     "metadata": {},
     "output_type": "display_data"
    },
    {
     "data": {
      "text/html": [
       "<div xmlns=\"http://www.w3.org/1999/xhtml\"><div class=\"hapiHeaderText\"> Lipid Panel </div><table class=\"hapiPropertyTable\"><tbody><tr><td>Status</td><td>FINAL</td></tr><tr><td>Issued</td><td> 18 April 2004 07:16:14</td></tr></tbody></table></div>"
      ],
      "text/plain": [
       "<IPython.core.display.HTML object>"
      ]
     },
     "metadata": {},
     "output_type": "display_data"
    },
    {
     "data": {
      "text/html": [
       "<div xmlns=\"http://www.w3.org/1999/xhtml\"><div class=\"hapiHeaderText\"> Basic Metabolic Panel </div><table class=\"hapiPropertyTable\"><tbody><tr><td>Status</td><td>FINAL</td></tr><tr><td>Issued</td><td> 18 April 2004 07:16:14</td></tr></tbody></table></div>"
      ],
      "text/plain": [
       "<IPython.core.display.HTML object>"
      ]
     },
     "metadata": {},
     "output_type": "display_data"
    },
    {
     "data": {
      "text/html": [
       "<div xmlns=\"http://www.w3.org/1999/xhtml\"><div class=\"hapiHeaderText\"> Basic Metabolic Panel </div><table class=\"hapiPropertyTable\"><tbody><tr><td>Status</td><td>FINAL</td></tr><tr><td>Issued</td><td> 13 April 2003 07:16:14</td></tr></tbody></table></div>"
      ],
      "text/plain": [
       "<IPython.core.display.HTML object>"
      ]
     },
     "metadata": {},
     "output_type": "display_data"
    },
    {
     "data": {
      "text/html": [
       "<div xmlns=\"http://www.w3.org/1999/xhtml\"><div class=\"hapiHeaderText\"> Basic Metabolic Panel </div><table class=\"hapiPropertyTable\"><tbody><tr><td>Status</td><td>FINAL</td></tr><tr><td>Issued</td><td> 07 April 2002 07:16:14</td></tr></tbody></table></div>"
      ],
      "text/plain": [
       "<IPython.core.display.HTML object>"
      ]
     },
     "metadata": {},
     "output_type": "display_data"
    },
    {
     "data": {
      "text/html": [
       "<h1>Patient ID: 7c4d9b3b-8836-406a-8ef5-3cb1478b62be</h1>"
      ],
      "text/plain": [
       "<IPython.core.display.HTML object>"
      ]
     },
     "metadata": {},
     "output_type": "display_data"
    },
    {
     "data": {
      "text/html": [
       "<div xmlns=\"http://www.w3.org/1999/xhtml\"><table class=\"hapiPropertyTable\"><caption>Allergies And Intolerances</caption><thead><tr><th>Allergen</th><th>Status</th><th>Category</th><th>Reaction</th><th>Severity</th><th>Comments</th><th>Onset</th></tr></thead><tbody><tr id=\"AllergiesAndIntolerances-urn:uuid:a54d160c-f0a4-428d-94d8-8a9d581c58a7\"><td> No information about allergies </td><td> active </td><td/><td/><td/><td/><td/></tr></tbody></table></div>"
      ],
      "text/plain": [
       "<IPython.core.display.HTML object>"
      ]
     },
     "metadata": {},
     "output_type": "display_data"
    },
    {
     "data": {
      "text/html": [
       "<div xmlns=\"http://www.w3.org/1999/xhtml\"><table class=\"hapiPropertyTable\"><caption>Medication Summary: Medication Requests</caption><thead><tr><th>Medication</th><th>Status</th><th>Route</th><th>Sig</th><th>Comments</th><th>Authored Date</th></tr></thead><tbody><tr id=\"MedicationSummary-9b2e49b5-3f95-4dff-885c-01367f28d159\"><td> Atenolol 50 MG / Chlorthalidone 25 MG Oral Tablet </td><td>Active</td><td/><td/><td/><td>Thu Jun 14 04:41:13 UTC 1984</td></tr></tbody></table><table class=\"hapiPropertyTable\"><caption>Medication Summary: Medication Statements</caption><thead><tr><th>Medication</th><th>Status</th><th>Route</th><th>Sig</th><th>Date</th></tr></thead><tbody/></table></div>"
      ],
      "text/plain": [
       "<IPython.core.display.HTML object>"
      ]
     },
     "metadata": {},
     "output_type": "display_data"
    },
    {
     "data": {
      "text/html": [
       "<div xmlns=\"http://www.w3.org/1999/xhtml\"><table class=\"hapiPropertyTable\"><caption>Problem List</caption><thead><tr><th>Medical Problems</th><th>Status</th><th>Comments</th><th>Onset Date</th></tr></thead><tbody/></table></div>"
      ],
      "text/plain": [
       "<IPython.core.display.HTML object>"
      ]
     },
     "metadata": {},
     "output_type": "display_data"
    },
    {
     "data": {
      "text/html": [
       "<div xmlns=\"http://www.w3.org/1999/xhtml\"><table class=\"hapiPropertyTable\"><caption>History Of Procedures</caption><thead><tr><th>Procedure</th><th>Comments</th><th>Date</th></tr></thead><tbody><tr id=\"HistoryOfProcedures-81185f62-96db-4682-971d-23f28519771b\"><td> Suture open wound </td><td/><td> Mon Jan 28 04:41:13 UTC 2013-Mon Jan 28 05:00:13 UTC 2013 </td></tr><tr id=\"HistoryOfProcedures-2cdf6572-9064-4fe9-9740-f998d9e97d9e\"><td> Medication Reconciliation (procedure) </td><td/><td> Tue Jan 08 04:41:13 UTC 2019-Tue Jan 08 04:56:13 UTC 2019 </td></tr><tr id=\"HistoryOfProcedures-c9791889-0e6e-49a9-86cc-23443b7f7f85\"><td> Replacement of contraceptive intrauterine device </td><td/><td> Tue May 22 04:41:13 UTC 2018-Tue May 22 05:46:13 UTC 2018 </td></tr><tr id=\"HistoryOfProcedures-c9a2142f-c53c-49d8-a587-79189eec8be2\"><td> Medication Reconciliation (procedure) </td><td/><td> Tue Apr 03 04:41:13 UTC 2018-Tue Apr 03 04:56:13 UTC 2018 </td></tr><tr id=\"HistoryOfProcedures-96e141ee-319c-4b1f-9855-91332bbcff5a\"><td> Medication Reconciliation (procedure) </td><td/><td> Tue Mar 28 04:41:13 UTC 2017-Tue Mar 28 04:56:13 UTC 2017 </td></tr><tr id=\"HistoryOfProcedures-72f156a1-ceae-4e5f-b22c-c0cc792ee593\"><td> Medication Reconciliation (procedure) </td><td/><td> Tue Mar 22 04:41:13 UTC 2016-Tue Mar 22 04:56:13 UTC 2016 </td></tr><tr id=\"HistoryOfProcedures-9c96d69d-625d-429b-ab76-50780e90a198\"><td> Colonoscopy </td><td/><td> Tue Mar 22 04:41:13 UTC 2016-Tue Mar 22 05:16:13 UTC 2016 </td></tr><tr id=\"HistoryOfProcedures-138df503-c3ee-45af-8d2e-e0b00a12773a\"><td> Medication Reconciliation (procedure) </td><td/><td> Tue Apr 15 04:41:13 UTC 2014-Tue Apr 15 04:56:13 UTC 2014 </td></tr><tr id=\"HistoryOfProcedures-2f83bdff-2c08-4ab5-b2f7-13d70549d889\"><td> Replacement of contraceptive intrauterine device </td><td/><td> Tue May 21 04:41:13 UTC 2013-Tue May 21 05:32:13 UTC 2013 </td></tr></tbody></table></div>"
      ],
      "text/plain": [
       "<IPython.core.display.HTML object>"
      ]
     },
     "metadata": {},
     "output_type": "display_data"
    },
    {
     "data": {
      "text/html": [
       "<div xmlns=\"http://www.w3.org/1999/xhtml\"><table class=\"hapiPropertyTable\"><caption>Diagnostic Results: Observations</caption><thead><tr><th>Code</th><th>Result</th><th>Unit</th><th>Interpretation</th><th>Reference Range</th><th>Comments</th><th>Date</th></tr></thead><tbody><tr id=\"DiagnosticResults-bda014a3-c195-432e-9741-092d19bc7e6f\"><td> MCV [Entitic volume] by Automated count </td><td> 90.3900557688337 </td><td> fL </td><td/><td/><td/><td> Tue Apr 03 04:41:13 UTC 2018 </td></tr><tr id=\"DiagnosticResults-0aafe3fa-08a3-4301-81cd-c42e3d997326\"><td> Total Cholesterol </td><td> 171.88348948803983 </td><td> mg/dL </td><td/><td/><td/><td> Tue Apr 15 04:41:13 UTC 2014 </td></tr><tr id=\"DiagnosticResults-36ca0854-c074-47a8-8bf1-d88587c4542c\"><td> Erythrocyte distribution width [Entitic volume] by Automated count </td><td> 42.887810527171375 </td><td> fL </td><td/><td/><td/><td> Tue Apr 10 04:41:13 UTC 2012 </td></tr><tr id=\"DiagnosticResults-1271a3e8-4138-4eb5-baf0-9fe9f9c6b35b\"><td> Platelet mean volume [Entitic volume] in Blood by Automated count </td><td> 12.250345475322584 </td><td> fL </td><td/><td/><td/><td> Tue Apr 03 04:41:13 UTC 2018 </td></tr><tr id=\"DiagnosticResults-7a130f03-ab5e-4abb-98c0-415bf63afa4b\"><td> Platelet distribution width [Entitic volume] in Blood by Automated count </td><td> 200.1363925664775 </td><td> fL </td><td/><td/><td/><td> Tue Apr 03 04:41:13 UTC 2018 </td></tr><tr id=\"DiagnosticResults-ee4de194-7010-41b5-bc5b-1a0a07fc05f8\"><td> Platelets [#/volume] in Blood by Automated count </td><td> 320.4338267754488 </td><td> 10*3/uL </td><td/><td/><td/><td> Tue Apr 03 04:41:13 UTC 2018 </td></tr><tr id=\"DiagnosticResults-bc69cfb2-58bd-4712-89b6-3280257ac6a6\"><td> Erythrocyte distribution width [Entitic volume] by Automated count </td><td> 45.148548471877966 </td><td> fL </td><td/><td/><td/><td> Tue Apr 03 04:41:13 UTC 2018 </td></tr><tr id=\"DiagnosticResults-ea163f2f-f3ad-4ed7-8616-31784acc215e\"><td> MCHC [Mass/volume] by Automated count </td><td> 35.34697985406781 </td><td> g/dL </td><td/><td/><td/><td> Tue Apr 03 04:41:13 UTC 2018 </td></tr><tr id=\"DiagnosticResults-0585a681-6f1c-4c62-b453-c57908d926ff\"><td> MCH [Entitic mass] by Automated count </td><td> 30.099029367559964 </td><td> pg </td><td/><td/><td/><td> Tue Apr 03 04:41:13 UTC 2018 </td></tr><tr id=\"DiagnosticResults-46a5ab69-c796-4632-93f6-354d56890c2e\"><td> Hematocrit [Volume Fraction] of Blood by Automated count </td><td> 41.52743990557053 </td><td> % </td><td/><td/><td/><td> Tue Apr 03 04:41:13 UTC 2018 </td></tr><tr id=\"DiagnosticResults-fb39b056-9eae-4fe8-ac37-2920be0d85f9\"><td> Hemoglobin [Mass/volume] in Blood </td><td> 17.46325184333963 </td><td> g/dL </td><td/><td/><td/><td> Tue Apr 03 04:41:13 UTC 2018 </td></tr><tr id=\"DiagnosticResults-0c58beff-dc82-420b-b4f3-c461907b3714\"><td> Erythrocytes [#/volume] in Blood by Automated count </td><td> 5.2676204007938106 </td><td> 10*6/uL </td><td/><td/><td/><td> Tue Apr 03 04:41:13 UTC 2018 </td></tr><tr id=\"DiagnosticResults-76fdd264-6da6-4641-9654-cb6ce1d0dbf9\"><td> Leukocytes [#/volume] in Blood by Automated count </td><td> 8.07868783761629 </td><td> 10*3/uL </td><td/><td/><td/><td> Tue Apr 03 04:41:13 UTC 2018 </td></tr><tr id=\"DiagnosticResults-6b751eda-733f-461c-babc-59ec6b7f9db8\"><td> High Density Lipoprotein Cholesterol </td><td> 72.95001637726935 </td><td> mg/dL </td><td/><td/><td/><td> Tue Apr 03 04:41:13 UTC 2018 </td></tr><tr id=\"DiagnosticResults-1a367a2e-0437-4d9a-b5af-6b10dc9a6400\"><td> Low Density Lipoprotein Cholesterol </td><td> 102.26286003208413 </td><td> mg/dL </td><td/><td/><td/><td> Tue Apr 03 04:41:13 UTC 2018 </td></tr><tr id=\"DiagnosticResults-b69f915c-267e-4607-be18-cbc12d9bb434\"><td> Triglycerides </td><td> 114.54643820688936 </td><td> mg/dL </td><td/><td/><td/><td> Tue Apr 03 04:41:13 UTC 2018 </td></tr><tr id=\"DiagnosticResults-6d528f95-2971-409c-a035-5a700dbe048d\"><td> Total Cholesterol </td><td> 198.12216405073136 </td><td> mg/dL </td><td/><td/><td/><td> Tue Apr 03 04:41:13 UTC 2018 </td></tr><tr id=\"DiagnosticResults-2f013e42-323e-457c-b7d1-8e39d22762bd\"><td> High Density Lipoprotein Cholesterol </td><td> 69.23522748078612 </td><td> mg/dL </td><td/><td/><td/><td> Tue Apr 15 04:41:13 UTC 2014 </td></tr><tr id=\"DiagnosticResults-a4361042-4a18-4b78-b1fd-e84a85c2af62\"><td> Low Density Lipoprotein Cholesterol </td><td> 79.84229347370793 </td><td> mg/dL </td><td/><td/><td/><td> Tue Apr 15 04:41:13 UTC 2014 </td></tr><tr id=\"DiagnosticResults-67383399-d6d9-47dd-a48c-22c4ae54e1a0\"><td> Triglycerides </td><td> 114.02984266772891 </td><td> mg/dL </td><td/><td/><td/><td> Tue Apr 15 04:41:13 UTC 2014 </td></tr><tr id=\"DiagnosticResults-f3c4e8b3-61c3-4765-8029-12aac2814a13\"><td> Platelet mean volume [Entitic volume] in Blood by Automated count </td><td> 11.172146988892095 </td><td> fL </td><td/><td/><td/><td> Tue Apr 10 04:41:13 UTC 2012 </td></tr><tr id=\"DiagnosticResults-39b5fafa-17b4-4379-b473-1d39226ccc7f\"><td> Platelet distribution width [Entitic volume] in Blood by Automated count </td><td> 437.2806933004786 </td><td> fL </td><td/><td/><td/><td> Tue Apr 10 04:41:13 UTC 2012 </td></tr><tr id=\"DiagnosticResults-009afedd-299a-4d5f-940e-bd3ea208baaa\"><td> Platelets [#/volume] in Blood by Automated count </td><td> 366.8073866574331 </td><td> 10*3/uL </td><td/><td/><td/><td> Tue Apr 10 04:41:13 UTC 2012 </td></tr><tr id=\"DiagnosticResults-5348657b-881c-48d1-8172-df518381fe7b\"><td> MCHC [Mass/volume] by Automated count </td><td> 35.98841844591809 </td><td> g/dL </td><td/><td/><td/><td> Tue Apr 10 04:41:13 UTC 2012 </td></tr><tr id=\"DiagnosticResults-ddcfc806-ec71-4028-98ce-cd84339ce8e2\"><td> MCH [Entitic mass] by Automated count </td><td> 29.674205680465313 </td><td> pg </td><td/><td/><td/><td> Tue Apr 10 04:41:13 UTC 2012 </td></tr><tr id=\"DiagnosticResults-5b855db4-88ea-4f41-9505-0ecf879ca07e\"><td> MCV [Entitic volume] by Automated count </td><td> 92.93270305477539 </td><td> fL </td><td/><td/><td/><td> Tue Apr 10 04:41:13 UTC 2012 </td></tr><tr id=\"DiagnosticResults-83817cca-f767-427e-a49e-7da81e872abe\"><td> Hematocrit [Volume Fraction] of Blood by Automated count </td><td> 35.55575534759291 </td><td> % </td><td/><td/><td/><td> Tue Apr 10 04:41:13 UTC 2012 </td></tr><tr id=\"DiagnosticResults-d833c1f9-a7b4-4c3e-9284-1de85bc33f72\"><td> Hemoglobin [Mass/volume] in Blood </td><td> 12.809833336316348 </td><td> g/dL </td><td/><td/><td/><td> Tue Apr 10 04:41:13 UTC 2012 </td></tr><tr id=\"DiagnosticResults-ce6b80a8-f518-4989-af05-47c50869f7b6\"><td> Erythrocytes [#/volume] in Blood by Automated count </td><td> 4.813381656428851 </td><td> 10*6/uL </td><td/><td/><td/><td> Tue Apr 10 04:41:13 UTC 2012 </td></tr><tr id=\"DiagnosticResults-50580c10-c1af-48a2-aa20-786adf38b07b\"><td> Leukocytes [#/volume] in Blood by Automated count </td><td> 6.695824234225137 </td><td> 10*3/uL </td><td/><td/><td/><td> Tue Apr 10 04:41:13 UTC 2012 </td></tr><tr id=\"DiagnosticResults-8d4c7b62-0f3e-473c-b2de-9c00b378a30f\"><td> High Density Lipoprotein Cholesterol </td><td> 76.61403030461805 </td><td> mg/dL </td><td/><td/><td/><td> Tue Apr 06 04:41:13 UTC 2010 </td></tr><tr id=\"DiagnosticResults-9d688534-04ab-424b-88bf-d5efe003251e\"><td> Low Density Lipoprotein Cholesterol </td><td> 96.35338552054529 </td><td> mg/dL </td><td/><td/><td/><td> Tue Apr 06 04:41:13 UTC 2010 </td></tr><tr id=\"DiagnosticResults-eb7979f2-8e86-400b-955e-88752055acda\"><td> Triglycerides </td><td> 112.31486166177356 </td><td> mg/dL </td><td/><td/><td/><td> Tue Apr 06 04:41:13 UTC 2010 </td></tr><tr id=\"DiagnosticResults-1102862e-dd97-4bfd-8f71-84fa5393952b\"><td> Total Cholesterol </td><td> 195.43038815751805 </td><td> mg/dL </td><td/><td/><td/><td> Tue Apr 06 04:41:13 UTC 2010 </td></tr></tbody></table><table class=\"hapiPropertyTable\"><caption>Diagnostic Results: Diagnostic Reports</caption><thead><tr><th>Code</th><th>Date</th></tr></thead><tbody><tr id=\"DiagnosticResults-342aa34d-238c-40e7-b11c-d67697ba4c00\"><td> Complete blood count (hemogram) panel - Blood by Automated count </td><td> Tue Apr 03 04:41:13 UTC 2018 </td></tr><tr id=\"DiagnosticResults-93b3edc0-a901-49cc-ac03-4ecee7fe5f98\"><td> Lipid Panel </td><td> Tue Apr 03 04:41:13 UTC 2018 </td></tr><tr id=\"DiagnosticResults-a0de6826-7053-4913-8411-f5d721772680\"><td> Lipid Panel </td><td> Tue Apr 15 04:41:13 UTC 2014 </td></tr><tr id=\"DiagnosticResults-ab6f1195-d2fd-4d90-aeaa-7ef1cd289068\"><td> Complete blood count (hemogram) panel - Blood by Automated count </td><td> Tue Apr 10 04:41:13 UTC 2012 </td></tr><tr id=\"DiagnosticResults-ff51abeb-cdf3-4502-afd7-acdcf5c37217\"><td> Lipid Panel </td><td> Tue Apr 06 04:41:13 UTC 2010 </td></tr></tbody></table></div>"
      ],
      "text/plain": [
       "<IPython.core.display.HTML object>"
      ]
     },
     "metadata": {},
     "output_type": "display_data"
    },
    {
     "data": {
      "text/html": [
       "<div xmlns=\"http://www.w3.org/1999/xhtml\"><table class=\"hapiPropertyTable\"><caption>Vital Signs</caption><thead><tr><th>Code</th><th>Result</th><th>Unit</th><th>Interpretation</th><th>Comments</th><th>Date</th></tr></thead><tbody><tr id=\"VitalSigns-7d2774d1-eec1-4378-9b8d-49aa8a965675\"><td> Body Weight </td><td> 73.04408402768766 </td><td> kg </td><td/><td> Tue Jan 08 04:41:13 UTC 2019 </td></tr><tr id=\"VitalSigns-f7c49503-0c9b-4641-af1b-9fde185ae4ab\"><td> Body Mass Index </td><td> 27.505043801057962 </td><td> kg/m2 </td><td/><td> Tue Apr 03 04:41:13 UTC 2018 </td></tr><tr id=\"VitalSigns-5d09b458-4285-4f83-8f25-5d7022f98088\"><td> Body Weight </td><td> 73.33715662389491 </td><td> kg </td><td/><td> Tue Apr 10 04:41:13 UTC 2012 </td></tr><tr id=\"VitalSigns-71465bd3-3100-4e64-8b0b-1807ca024515\"><td> Body Weight </td><td> 78.87042162208125 </td><td> kg </td><td/><td> Tue Apr 06 04:41:13 UTC 2010 </td></tr><tr id=\"VitalSigns-8d3323b5-dc7b-433f-a95e-d07afbecac5c\"><td> Blood Pressure </td><td/><td/><td/><td> Tue Apr 09 04:41:13 UTC 2019 </td></tr><tr id=\"VitalSigns-f29e00d4-0e97-4b76-bf65-0b5ab2e27466\"><td> Body Mass Index </td><td> 27.505043801057962 </td><td> kg/m2 </td><td/><td> Tue Apr 09 04:41:13 UTC 2019 </td></tr><tr id=\"VitalSigns-e3efcd16-4881-45b0-87e9-445a10ca42ad\"><td> Body Weight </td><td> 73.04408402768766 </td><td> kg </td><td/><td> Tue Apr 09 04:41:13 UTC 2019 </td></tr><tr id=\"VitalSigns-dd916d91-faa3-4ed2-93ca-0d516b42cb6b\"><td> Pain severity - 0-10 verbal numeric rating [Score] - Reported </td><td> 0.015993536666104813 </td><td> {score} </td><td/><td> Tue Apr 09 04:41:13 UTC 2019 </td></tr><tr id=\"VitalSigns-5e3c7dd1-697b-4a86-a3fc-97ae0f72fcd2\"><td> Body Height </td><td> 162.96200270977138 </td><td> cm </td><td/><td> Tue Apr 09 04:41:13 UTC 2019 </td></tr><tr id=\"VitalSigns-60e36cc1-2b4c-4b65-af30-0fa6805c6211\"><td> Blood Pressure </td><td/><td/><td/><td> Tue Jan 08 04:41:13 UTC 2019 </td></tr><tr id=\"VitalSigns-67eba116-851d-4940-8fdc-a6ee78a9cba3\"><td> Body Mass Index </td><td> 27.505043801057962 </td><td> kg/m2 </td><td/><td> Tue Jan 08 04:41:13 UTC 2019 </td></tr><tr id=\"VitalSigns-f92a51a7-b9c9-4946-a9f0-9f41e4fd838b\"><td> Pain severity - 0-10 verbal numeric rating [Score] - Reported </td><td> 3.0418455179529125 </td><td> {score} </td><td/><td> Tue Jan 08 04:41:13 UTC 2019 </td></tr><tr id=\"VitalSigns-4c7c301e-653b-46e9-b28e-cac119284aa7\"><td> Body Height </td><td> 162.96200270977138 </td><td> cm </td><td/><td> Tue Jan 08 04:41:13 UTC 2019 </td></tr><tr id=\"VitalSigns-7804ad0f-d22e-4fe4-aa64-8f2d481ecaa7\"><td> Blood Pressure </td><td/><td/><td/><td> Tue Apr 03 04:41:13 UTC 2018 </td></tr><tr id=\"VitalSigns-8c6f5ba8-c277-4c27-844f-a5d4853da516\"><td> Body Weight </td><td> 73.04408402768766 </td><td> kg </td><td/><td> Tue Apr 03 04:41:13 UTC 2018 </td></tr><tr id=\"VitalSigns-9e6f4fcb-dab4-42be-9cfb-b32d0acd5452\"><td> Pain severity - 0-10 verbal numeric rating [Score] - Reported </td><td> 2.769217812067345 </td><td> {score} </td><td/><td> Tue Apr 03 04:41:13 UTC 2018 </td></tr><tr id=\"VitalSigns-c9960b7e-4eac-47b0-b8c1-f32ac3fc5907\"><td> Body Height </td><td> 162.96200270977138 </td><td> cm </td><td/><td> Tue Apr 03 04:41:13 UTC 2018 </td></tr><tr id=\"VitalSigns-c449a792-4560-465a-bee3-632b85d2234a\"><td> Blood Pressure </td><td/><td/><td/><td> Tue Mar 28 04:41:13 UTC 2017 </td></tr><tr id=\"VitalSigns-c55546a6-270d-4dae-9d49-961762920e35\"><td> Body Mass Index </td><td> 27.505043801057962 </td><td> kg/m2 </td><td/><td> Tue Mar 28 04:41:13 UTC 2017 </td></tr><tr id=\"VitalSigns-bd260ba4-aad3-4182-ba22-49cf30b7a386\"><td> Body Weight </td><td> 73.04408402768766 </td><td> kg </td><td/><td> Tue Mar 28 04:41:13 UTC 2017 </td></tr><tr id=\"VitalSigns-6bc32acf-345b-4c5b-ba5d-889de5851030\"><td> Pain severity - 0-10 verbal numeric rating [Score] - Reported </td><td> 1.0314534806384588 </td><td> {score} </td><td/><td> Tue Mar 28 04:41:13 UTC 2017 </td></tr><tr id=\"VitalSigns-e42d6e71-76dc-46b9-b7ad-d6eae45fed0f\"><td> Body Height </td><td> 162.96200270977138 </td><td> cm </td><td/><td> Tue Mar 28 04:41:13 UTC 2017 </td></tr><tr id=\"VitalSigns-2881a600-7be0-41d5-998f-ce501516366c\"><td> Blood Pressure </td><td/><td/><td/><td> Tue Mar 22 04:41:13 UTC 2016 </td></tr><tr id=\"VitalSigns-d600547e-ac2c-4fb6-b447-8be91f656cac\"><td> Body Mass Index </td><td> 27.505043801057962 </td><td> kg/m2 </td><td/><td> Tue Mar 22 04:41:13 UTC 2016 </td></tr><tr id=\"VitalSigns-de1a8279-e47d-42f0-841d-d89ca241878c\"><td> Body Weight </td><td> 73.04408402768766 </td><td> kg </td><td/><td> Tue Mar 22 04:41:13 UTC 2016 </td></tr><tr id=\"VitalSigns-a1dd3ece-0ea1-41cd-a47a-c8f095753361\"><td> Pain severity - 0-10 verbal numeric rating [Score] - Reported </td><td> 1.624199296801295 </td><td> {score} </td><td/><td> Tue Mar 22 04:41:13 UTC 2016 </td></tr><tr id=\"VitalSigns-cea5e632-c252-4d62-9ce1-d5d3867498a2\"><td> Body Height </td><td> 162.96200270977138 </td><td> cm </td><td/><td> Tue Mar 22 04:41:13 UTC 2016 </td></tr><tr id=\"VitalSigns-9d417de5-53c2-46a0-9647-c6c83467f115\"><td> Blood Pressure </td><td/><td/><td/><td> Tue Apr 15 04:41:13 UTC 2014 </td></tr><tr id=\"VitalSigns-c07d62e5-2a4f-4513-9ee4-444bbdd41682\"><td> Body Mass Index </td><td> 27.505043801057962 </td><td> kg/m2 </td><td/><td> Tue Apr 15 04:41:13 UTC 2014 </td></tr><tr id=\"VitalSigns-cece67fe-1540-4702-9321-b9fab7e733cb\"><td> Body Weight </td><td> 73.04408402768766 </td><td> kg </td><td/><td> Tue Apr 15 04:41:13 UTC 2014 </td></tr><tr id=\"VitalSigns-9aed4a6e-49b6-4740-9d92-ff330962c889\"><td> Pain severity - 0-10 verbal numeric rating [Score] - Reported </td><td> 0.9105151031524326 </td><td> {score} </td><td/><td> Tue Apr 15 04:41:13 UTC 2014 </td></tr><tr id=\"VitalSigns-1ec732a0-eadc-4cbc-8cf0-8bce95a21b0a\"><td> Body Height </td><td> 162.96200270977138 </td><td> cm </td><td/><td> Tue Apr 15 04:41:13 UTC 2014 </td></tr><tr id=\"VitalSigns-7bf58fc2-da20-4880-a971-020cac8823a3\"><td> Blood Pressure </td><td/><td/><td/><td> Tue Apr 10 04:41:13 UTC 2012 </td></tr><tr id=\"VitalSigns-57e0f986-54a3-4664-9201-8419c0fcb410\"><td> Body Mass Index </td><td> 27.615401466608464 </td><td> kg/m2 </td><td/><td> Tue Apr 10 04:41:13 UTC 2012 </td></tr><tr id=\"VitalSigns-6e76b741-4052-4f40-b4f8-a2a3ba0408bc\"><td> Pain severity - 0-10 verbal numeric rating [Score] - Reported </td><td> 1.2373271800609271 </td><td> {score} </td><td/><td> Tue Apr 10 04:41:13 UTC 2012 </td></tr><tr id=\"VitalSigns-2c04cf65-081a-4840-9be8-18aac04a1d70\"><td> Body Height </td><td> 162.96200270977138 </td><td> cm </td><td/><td> Tue Apr 10 04:41:13 UTC 2012 </td></tr><tr id=\"VitalSigns-7655e2ab-71c5-4da7-a372-8153fa76c28e\"><td> Blood Pressure </td><td/><td/><td/><td> Tue Apr 06 04:41:13 UTC 2010 </td></tr><tr id=\"VitalSigns-6157458e-266f-4a1a-821e-22fb00bb9aa5\"><td> Body Mass Index </td><td> 29.69897466988509 </td><td> kg/m2 </td><td/><td> Tue Apr 06 04:41:13 UTC 2010 </td></tr><tr id=\"VitalSigns-c437b01d-48e2-4172-8257-f8ec222c96b0\"><td> Pain severity - 0-10 verbal numeric rating [Score] - Reported </td><td> 1.6511334804234283 </td><td> {score} </td><td/><td> Tue Apr 06 04:41:13 UTC 2010 </td></tr><tr id=\"VitalSigns-f720eeb1-3892-462f-87c8-dd7ab72c6820\"><td> Body Height </td><td> 162.96200270977138 </td><td> cm </td><td/><td> Tue Apr 06 04:41:13 UTC 2010 </td></tr></tbody></table></div>"
      ],
      "text/plain": [
       "<IPython.core.display.HTML object>"
      ]
     },
     "metadata": {},
     "output_type": "display_data"
    },
    {
     "data": {
      "text/html": [
       "<div xmlns=\"http://www.w3.org/1999/xhtml\"><table class=\"hapiPropertyTable\"><caption>Past History of Illnesses</caption><thead><tr><th>Medical Problems</th><th>Status</th><th>Comments</th><th>Date</th></tr></thead><tbody><tr id=\"PastHistoryOfIllnesses-2e16a3cd-7205-4047-8ff4-8a0516e60695\"><td> Body mass index 30+ - obesity (finding) </td><td> active </td><td/><td> Tue Mar 28 04:41:13 UTC 2006 </td></tr><tr id=\"PastHistoryOfIllnesses-1c8ad302-9596-4c95-b15a-9984980080b1\"><td> Escherichia coli urinary tract infection </td><td> resolved </td><td/><td> Sat Mar 09 04:41:13 UTC 2019 </td></tr><tr id=\"PastHistoryOfIllnesses-a6df939f-9b78-4526-88f3-aae01f1e4a47\"><td> Viral sinusitis (disorder) </td><td> resolved </td><td/><td> Thu Jan 03 04:41:13 UTC 2019 </td></tr><tr id=\"PastHistoryOfIllnesses-f4459d9f-1156-4f62-a482-c1dce632aff0\"><td> Drug overdose </td><td> active </td><td/><td> Thu Nov 08 04:41:13 UTC 2018 </td></tr><tr id=\"PastHistoryOfIllnesses-662e7428-6fb7-4d3d-9e36-436226a88772\"><td> Viral sinusitis (disorder) </td><td> resolved </td><td/><td> Mon Jun 27 04:41:13 UTC 2016 </td></tr><tr id=\"PastHistoryOfIllnesses-9c40cddf-0919-4819-a12b-066e35bfa712\"><td> Viral sinusitis (disorder) </td><td> resolved </td><td/><td> Mon Oct 19 04:41:13 UTC 2015 </td></tr><tr id=\"PastHistoryOfIllnesses-470f0348-40f7-473d-bf25-ece1945944a2\"><td> Laceration of forearm </td><td> resolved </td><td/><td> Mon Jan 28 04:41:13 UTC 2013 </td></tr><tr id=\"PastHistoryOfIllnesses-396b46ef-dd35-4203-8b9b-7cbaf035afc9\"><td> Hypertension </td><td> active </td><td/><td> Tue May 15 04:41:13 UTC 1984 </td></tr></tbody></table></div>"
      ],
      "text/plain": [
       "<IPython.core.display.HTML object>"
      ]
     },
     "metadata": {},
     "output_type": "display_data"
    },
    {
     "data": {
      "text/html": [
       "<div xmlns=\"http://www.w3.org/1999/xhtml\"><table class=\"hapiPropertyTable\"><caption>Plan of Care</caption><thead><tr><th>Activity</th><th>Intent</th><th>Comments</th><th>Planned Start</th><th>Planned End</th></tr></thead><tbody><tr id=\"PlanOfCare-77b14c9c-153b-408c-b9e8-306e17ea7637\"><td/><td>order</td><td/><td>Thu Nov 08 04:41:13 UTC 2018</td><td/></tr><tr id=\"PlanOfCare-5a712cf9-0a8a-4efa-849e-0f25e7190ec0\"><td/><td>order</td><td/><td>Tue May 15 04:41:13 UTC 1984</td><td/></tr></tbody></table></div>"
      ],
      "text/plain": [
       "<IPython.core.display.HTML object>"
      ]
     },
     "metadata": {},
     "output_type": "display_data"
    },
    {
     "data": {
      "text/html": [
       "<div xmlns=\"http://www.w3.org/1999/xhtml\">Generated by <a href=\"https://github.com/synthetichealth/synthea\">Synthea</a>.Version identifier: v2.4.0-404-ge7ce2295\n",
       " .   Person seed: -2989691344935059183  Population seed: 0</div>"
      ],
      "text/plain": [
       "<IPython.core.display.HTML object>"
      ]
     },
     "metadata": {},
     "output_type": "display_data"
    },
    {
     "data": {
      "text/html": [
       "<div xmlns=\"http://www.w3.org/1999/xhtml\">Care Plan for Care plan (record artifact).<br/>Activities: <ul><li>Care plan (record artifact)</li><li>Care plan (record artifact)</li><li>Care plan (record artifact)</li></ul><br/>Care plan is meant to treat Drug overdose.</div>"
      ],
      "text/plain": [
       "<IPython.core.display.HTML object>"
      ]
     },
     "metadata": {},
     "output_type": "display_data"
    },
    {
     "data": {
      "text/html": [
       "<div xmlns=\"http://www.w3.org/1999/xhtml\">Care Plan for Lifestyle education regarding hypertension.<br/>Activities: <ul><li>Lifestyle education regarding hypertension</li><li>Lifestyle education regarding hypertension</li><li>Lifestyle education regarding hypertension</li><li>Lifestyle education regarding hypertension</li></ul><br/>Care plan is meant to treat Hypertension.</div>"
      ],
      "text/plain": [
       "<IPython.core.display.HTML object>"
      ]
     },
     "metadata": {},
     "output_type": "display_data"
    },
    {
     "data": {
      "text/html": [
       "<div xmlns=\"http://www.w3.org/1999/xhtml\"><div class=\"hapiHeaderText\"> Complete blood count (hemogram) panel - Blood by Automated count </div><table class=\"hapiPropertyTable\"><tbody><tr><td>Status</td><td>FINAL</td></tr><tr><td>Issued</td><td> 03 April 2018 04:41:13</td></tr></tbody></table></div>"
      ],
      "text/plain": [
       "<IPython.core.display.HTML object>"
      ]
     },
     "metadata": {},
     "output_type": "display_data"
    },
    {
     "data": {
      "text/html": [
       "<div xmlns=\"http://www.w3.org/1999/xhtml\"><div class=\"hapiHeaderText\"> Lipid Panel </div><table class=\"hapiPropertyTable\"><tbody><tr><td>Status</td><td>FINAL</td></tr><tr><td>Issued</td><td> 03 April 2018 04:41:13</td></tr></tbody></table></div>"
      ],
      "text/plain": [
       "<IPython.core.display.HTML object>"
      ]
     },
     "metadata": {},
     "output_type": "display_data"
    },
    {
     "data": {
      "text/html": [
       "<div xmlns=\"http://www.w3.org/1999/xhtml\"><div class=\"hapiHeaderText\"> Lipid Panel </div><table class=\"hapiPropertyTable\"><tbody><tr><td>Status</td><td>FINAL</td></tr><tr><td>Issued</td><td> 15 April 2014 04:41:13</td></tr></tbody></table></div>"
      ],
      "text/plain": [
       "<IPython.core.display.HTML object>"
      ]
     },
     "metadata": {},
     "output_type": "display_data"
    },
    {
     "data": {
      "text/html": [
       "<div xmlns=\"http://www.w3.org/1999/xhtml\"><div class=\"hapiHeaderText\"> Complete blood count (hemogram) panel - Blood by Automated count </div><table class=\"hapiPropertyTable\"><tbody><tr><td>Status</td><td>FINAL</td></tr><tr><td>Issued</td><td> 10 April 2012 04:41:13</td></tr></tbody></table></div>"
      ],
      "text/plain": [
       "<IPython.core.display.HTML object>"
      ]
     },
     "metadata": {},
     "output_type": "display_data"
    },
    {
     "data": {
      "text/html": [
       "<div xmlns=\"http://www.w3.org/1999/xhtml\"><div class=\"hapiHeaderText\"> Lipid Panel </div><table class=\"hapiPropertyTable\"><tbody><tr><td>Status</td><td>FINAL</td></tr><tr><td>Issued</td><td> 06 April 2010 04:41:13</td></tr></tbody></table></div>"
      ],
      "text/plain": [
       "<IPython.core.display.HTML object>"
      ]
     },
     "metadata": {},
     "output_type": "display_data"
    },
    {
     "data": {
      "text/html": [
       "<h1>Patient ID: 7be37ca3-bdba-4c0f-87bb-926102f65949</h1>"
      ],
      "text/plain": [
       "<IPython.core.display.HTML object>"
      ]
     },
     "metadata": {},
     "output_type": "display_data"
    },
    {
     "data": {
      "text/html": [
       "<div xmlns=\"http://www.w3.org/1999/xhtml\"><table class=\"hapiPropertyTable\"><caption>Allergies And Intolerances</caption><thead><tr><th>Allergen</th><th>Status</th><th>Category</th><th>Reaction</th><th>Severity</th><th>Comments</th><th>Onset</th></tr></thead><tbody><tr id=\"AllergiesAndIntolerances-urn:uuid:ac5fcb6c-0090-4237-8cee-ffc59cc325d1\"><td> No information about allergies </td><td> active </td><td/><td/><td/><td/><td/></tr></tbody></table></div>"
      ],
      "text/plain": [
       "<IPython.core.display.HTML object>"
      ]
     },
     "metadata": {},
     "output_type": "display_data"
    },
    {
     "data": {
      "text/html": [
       "<div xmlns=\"http://www.w3.org/1999/xhtml\"><table class=\"hapiPropertyTable\"><caption>Medication Summary: Medication Requests</caption><thead><tr><th>Medication</th><th>Status</th><th>Route</th><th>Sig</th><th>Comments</th><th>Authored Date</th></tr></thead><tbody><tr id=\"MedicationSummary-4c70ad2e-65e5-4aee-9820-e2bb6aefcdbd\"><td> Naproxen sodium 220 MG Oral Tablet </td><td>Active</td><td/><td/><td/><td>Fri Jun 01 00:20:27 UTC 2012</td></tr><tr id=\"MedicationSummary-2bb8c464-355c-45a6-9606-995b3a9026a9\"><td> Chlorpheniramine Maleate 2 MG/ML Oral Solution </td><td>Active</td><td/><td/><td/><td>Sat Jul 03 00:20:27 UTC 1971</td></tr><tr id=\"MedicationSummary-d2d349cf-e867-4666-aaf8-95cb25c848a3\"><td> 200 ACTUAT Albuterol 0.09 MG/ACTUAT Metered Dose Inhaler </td><td>Active</td><td/><td/><td/><td>Thu Jun 19 00:20:27 UTC 1969</td></tr><tr id=\"MedicationSummary-e0f35afd-0b74-4dcb-9a70-2e9d00459cae\"><td> 120 ACTUAT Fluticasone propionate 0.044 MG/ACTUAT Metered Dose Inhaler </td><td>Active</td><td/><td/><td/><td>Thu Jun 19 00:20:27 UTC 1969</td></tr></tbody></table><table class=\"hapiPropertyTable\"><caption>Medication Summary: Medication Statements</caption><thead><tr><th>Medication</th><th>Status</th><th>Route</th><th>Sig</th><th>Date</th></tr></thead><tbody/></table></div>"
      ],
      "text/plain": [
       "<IPython.core.display.HTML object>"
      ]
     },
     "metadata": {},
     "output_type": "display_data"
    },
    {
     "data": {
      "text/html": [
       "<div xmlns=\"http://www.w3.org/1999/xhtml\"><table class=\"hapiPropertyTable\"><caption>Problem List</caption><thead><tr><th>Medical Problems</th><th>Status</th><th>Comments</th><th>Onset Date</th></tr></thead><tbody/></table></div>"
      ],
      "text/plain": [
       "<IPython.core.display.HTML object>"
      ]
     },
     "metadata": {},
     "output_type": "display_data"
    },
    {
     "data": {
      "text/html": [
       "<div xmlns=\"http://www.w3.org/1999/xhtml\"><table class=\"hapiPropertyTable\"><caption>History Of Procedures</caption><thead><tr><th>Procedure</th><th>Comments</th><th>Date</th></tr></thead><tbody><tr id=\"HistoryOfProcedures-244c358a-1c20-4113-8ca7-d8837dc7fb30\"><td> Colonoscopy </td><td/><td> Mon Jun 13 00:20:27 UTC 2016-Mon Jun 13 00:58:27 UTC 2016 </td></tr><tr id=\"HistoryOfProcedures-9cbf4646-d602-4e8a-9652-446020b4c4b1\"><td> Brief general examination (procedure) </td><td/><td> Mon Jul 07 00:20:27 UTC 2014-Mon Jul 07 00:31:27 UTC 2014 </td></tr><tr id=\"HistoryOfProcedures-a7427d85-dcdb-4dd8-9ba5-f1d4cc8a22f8\"><td> Medication Reconciliation (procedure) </td><td/><td> Mon Jul 07 00:20:27 UTC 2014-Mon Jul 07 00:32:27 UTC 2014 </td></tr><tr id=\"HistoryOfProcedures-c35fd4c2-7457-4444-8ae4-89416ecb7ca5\"><td> Review of systems (procedure) </td><td/><td> Mon Jul 07 00:20:27 UTC 2014-Mon Jul 07 00:35:27 UTC 2014 </td></tr><tr id=\"HistoryOfProcedures-1b684364-331d-4a7f-919c-b1495df1b7d8\"><td> Peripheral blood smear interpretation </td><td/><td> Mon Jul 07 00:20:27 UTC 2014-Mon Jul 07 00:50:27 UTC 2014 </td></tr></tbody></table></div>"
      ],
      "text/plain": [
       "<IPython.core.display.HTML object>"
      ]
     },
     "metadata": {},
     "output_type": "display_data"
    },
    {
     "data": {
      "text/html": [
       "<div xmlns=\"http://www.w3.org/1999/xhtml\"><table class=\"hapiPropertyTable\"><caption>Diagnostic Results: Observations</caption><thead><tr><th>Code</th><th>Result</th><th>Unit</th><th>Interpretation</th><th>Reference Range</th><th>Comments</th><th>Date</th></tr></thead><tbody><tr id=\"DiagnosticResults-eabe3f43-6204-4491-8526-c91b3a954a91\"><td> Creatinine </td><td> 1.053984314127098 </td><td> mg/dL </td><td/><td/><td/><td> Mon Jul 01 00:20:27 UTC 2019 </td></tr><tr id=\"DiagnosticResults-6b581298-399b-4011-a5af-0627bbf6b947\"><td> MCHC [Mass/volume] by Automated count </td><td> 33.93203464178027 </td><td> g/dL </td><td/><td/><td/><td> Mon Jun 18 00:20:27 UTC 2018 </td></tr><tr id=\"DiagnosticResults-16da20ab-45c4-4ee1-bd28-9f96adb79a51\"><td> Sodium </td><td> 141.3095754878827 </td><td> mmol/L </td><td/><td/><td/><td> Mon Jun 18 00:20:27 UTC 2018 </td></tr><tr id=\"DiagnosticResults-5c057b71-55e8-41d0-8587-8ca0a9931175\"><td> Hemoglobin A1c/Hemoglobin.total in Blood </td><td> 6.35844649509711 </td><td> % </td><td/><td/><td/><td> Mon Jun 19 00:20:27 UTC 2017 </td></tr><tr id=\"DiagnosticResults-21267def-4058-4bdc-8535-1c7702600857\"><td> Glucose </td><td> 68.50404295979907 </td><td> mg/dL </td><td/><td/><td/><td> Mon Jun 19 00:20:27 UTC 2017 </td></tr><tr id=\"DiagnosticResults-d1396489-d985-4477-a80d-e90c8acc7e24\"><td> Hemoglobin A1c/Hemoglobin.total in Blood </td><td> 5.912239696844093 </td><td> % </td><td/><td/><td/><td> Mon Jun 13 00:20:27 UTC 2016 </td></tr><tr id=\"DiagnosticResults-80c7ceb9-d7ba-4f2f-ae36-d2b9615049cb\"><td> High Density Lipoprotein Cholesterol </td><td> 72.3933234168799 </td><td> mg/dL </td><td/><td/><td/><td> Mon Jun 13 00:20:27 UTC 2016 </td></tr><tr id=\"DiagnosticResults-f1b678b3-0661-4acc-8a32-b7b80b9d6cd3\"><td> Hemoglobin A1c/Hemoglobin.total in Blood </td><td> 6.231235620341415 </td><td> % </td><td/><td/><td/><td> Mon Jul 01 00:20:27 UTC 2019 </td></tr><tr id=\"DiagnosticResults-0db9fb25-8e35-492c-82c3-a38bf166d96e\"><td> High Density Lipoprotein Cholesterol </td><td> 74.16186468797666 </td><td> mg/dL </td><td/><td/><td/><td> Mon Jul 01 00:20:27 UTC 2019 </td></tr><tr id=\"DiagnosticResults-4048bf0f-e725-4618-83f5-00429d0e530f\"><td> Low Density Lipoprotein Cholesterol </td><td> 98.79484156105102 </td><td> mg/dL </td><td/><td/><td/><td> Mon Jul 01 00:20:27 UTC 2019 </td></tr><tr id=\"DiagnosticResults-63d2db2a-5b00-423d-960b-5837605034a5\"><td> Triglycerides </td><td> 103.87633271521074 </td><td> mg/dL </td><td/><td/><td/><td> Mon Jul 01 00:20:27 UTC 2019 </td></tr><tr id=\"DiagnosticResults-fa695e8f-019e-4c1e-850a-d85c02cb16c6\"><td> Total Cholesterol </td><td> 193.73197279206983 </td><td> mg/dL </td><td/><td/><td/><td> Mon Jul 01 00:20:27 UTC 2019 </td></tr><tr id=\"DiagnosticResults-c1018a51-cf17-4177-87f6-88e3827ed2e2\"><td> Carbon Dioxide </td><td> 23.317462589403114 </td><td> mmol/L </td><td/><td/><td/><td> Mon Jul 01 00:20:27 UTC 2019 </td></tr><tr id=\"DiagnosticResults-08ec7011-5dff-4f4f-8537-78f5f9706ebe\"><td> Chloride </td><td> 110.59038231792192 </td><td> mmol/L </td><td/><td/><td/><td> Mon Jul 01 00:20:27 UTC 2019 </td></tr><tr id=\"DiagnosticResults-029edc2c-5aa1-4153-be9c-27edc8faba07\"><td> Potassium </td><td> 4.081248297259994 </td><td> mmol/L </td><td/><td/><td/><td> Mon Jul 01 00:20:27 UTC 2019 </td></tr><tr id=\"DiagnosticResults-210b72f0-b5f1-48eb-b26c-4d500a1c8506\"><td> Sodium </td><td> 137.85413216446938 </td><td> mmol/L </td><td/><td/><td/><td> Mon Jul 01 00:20:27 UTC 2019 </td></tr><tr id=\"DiagnosticResults-03a28b47-df44-401e-8a29-812b041f0733\"><td> Calcium </td><td> 9.935292743598113 </td><td> mg/dL </td><td/><td/><td/><td> Mon Jul 01 00:20:27 UTC 2019 </td></tr><tr id=\"DiagnosticResults-10982acd-a618-4b55-a2e7-3dceae00899d\"><td> Urea Nitrogen </td><td> 10.59542044559225 </td><td> mg/dL </td><td/><td/><td/><td> Mon Jul 01 00:20:27 UTC 2019 </td></tr><tr id=\"DiagnosticResults-9ad9d384-1443-4b93-b305-367baef88127\"><td> Glucose </td><td> 72.50723305984017 </td><td> mg/dL </td><td/><td/><td/><td> Mon Jul 01 00:20:27 UTC 2019 </td></tr><tr id=\"DiagnosticResults-2ec1a71d-6236-42ae-a920-ed0de46b9b74\"><td> Hemoglobin A1c/Hemoglobin.total in Blood </td><td> 5.989956669043543 </td><td> % </td><td/><td/><td/><td> Mon Jun 25 00:20:27 UTC 2018 </td></tr><tr id=\"DiagnosticResults-5734befe-8008-4d3b-8526-bbc0367b650a\"><td> Carbon Dioxide </td><td> 24.546682624645243 </td><td> mmol/L </td><td/><td/><td/><td> Mon Jun 25 00:20:27 UTC 2018 </td></tr><tr id=\"DiagnosticResults-0ec1d040-9f82-474a-bffe-c6425913040d\"><td> Chloride </td><td> 102.10424446577694 </td><td> mmol/L </td><td/><td/><td/><td> Mon Jun 25 00:20:27 UTC 2018 </td></tr><tr id=\"DiagnosticResults-8b6d72b8-0eb2-410c-a851-8dd2bbb4d6f6\"><td> Potassium </td><td> 4.337153285628824 </td><td> mmol/L </td><td/><td/><td/><td> Mon Jun 25 00:20:27 UTC 2018 </td></tr><tr id=\"DiagnosticResults-e75fd720-285b-4eb3-bfe4-578988192e0f\"><td> Sodium </td><td> 140.86027926914687 </td><td> mmol/L </td><td/><td/><td/><td> Mon Jun 25 00:20:27 UTC 2018 </td></tr><tr id=\"DiagnosticResults-dc5116fb-bc42-49cf-961f-ba433f4cb8fa\"><td> Calcium </td><td> 8.630258704844339 </td><td> mg/dL </td><td/><td/><td/><td> Mon Jun 25 00:20:27 UTC 2018 </td></tr><tr id=\"DiagnosticResults-6d07dd2b-5706-4250-af7a-6f8ef7d20c6b\"><td> Creatinine </td><td> 1.0660990763584437 </td><td> mg/dL </td><td/><td/><td/><td> Mon Jun 25 00:20:27 UTC 2018 </td></tr><tr id=\"DiagnosticResults-1a52bb43-499d-4f9e-a7b4-4ce2dcf31204\"><td> Urea Nitrogen </td><td> 10.024280371609233 </td><td> mg/dL </td><td/><td/><td/><td> Mon Jun 25 00:20:27 UTC 2018 </td></tr><tr id=\"DiagnosticResults-e7fa1706-1848-479f-825b-44706ad04795\"><td> Glucose </td><td> 73.2193829973574 </td><td> mg/dL </td><td/><td/><td/><td> Mon Jun 25 00:20:27 UTC 2018 </td></tr><tr id=\"DiagnosticResults-7a2585e7-63a5-4f7c-b298-f9e020f5b1ac\"><td> Hemoglobin A1c/Hemoglobin.total in Blood </td><td> 5.8780965167197605 </td><td> % </td><td/><td/><td/><td> Mon Jun 18 00:20:27 UTC 2018 </td></tr><tr id=\"DiagnosticResults-7a12131e-1b15-421e-8cf8-72d69ad604d0\"><td> Platelet mean volume [Entitic volume] in Blood by Automated count </td><td> 11.376015968031435 </td><td> fL </td><td/><td/><td/><td> Mon Jun 18 00:20:27 UTC 2018 </td></tr><tr id=\"DiagnosticResults-157d051e-fdf6-4957-968e-cb647fce77ae\"><td> Platelet distribution width [Entitic volume] in Blood by Automated count </td><td> 154.38057638036156 </td><td> fL </td><td/><td/><td/><td> Mon Jun 18 00:20:27 UTC 2018 </td></tr><tr id=\"DiagnosticResults-5a69eef7-51f1-4ea7-b4b0-4538fdf9e167\"><td> Platelets [#/volume] in Blood by Automated count </td><td> 239.99493911105725 </td><td> 10*3/uL </td><td/><td/><td/><td> Mon Jun 18 00:20:27 UTC 2018 </td></tr><tr id=\"DiagnosticResults-426d4919-cfdd-4531-a0fd-55d6b1ed4134\"><td> Erythrocyte distribution width [Entitic volume] by Automated count </td><td> 44.72274819058425 </td><td> fL </td><td/><td/><td/><td> Mon Jun 18 00:20:27 UTC 2018 </td></tr><tr id=\"DiagnosticResults-85e99307-c4e7-4c72-9953-da49d322b20c\"><td> MCH [Entitic mass] by Automated count </td><td> 29.25456460636625 </td><td> pg </td><td/><td/><td/><td> Mon Jun 18 00:20:27 UTC 2018 </td></tr><tr id=\"DiagnosticResults-ea3a31ab-faed-4daf-ba2e-1ab1a8885528\"><td> MCV [Entitic volume] by Automated count </td><td> 82.22059106073847 </td><td> fL </td><td/><td/><td/><td> Mon Jun 18 00:20:27 UTC 2018 </td></tr><tr id=\"DiagnosticResults-64b0ea2d-f32b-4708-9bac-bde01ea2993e\"><td> Hematocrit [Volume Fraction] of Blood by Automated count </td><td> 40.05969507417474 </td><td> % </td><td/><td/><td/><td> Mon Jun 18 00:20:27 UTC 2018 </td></tr><tr id=\"DiagnosticResults-fc6a85e0-53a4-497d-9016-45b8b3fd5504\"><td> Hemoglobin [Mass/volume] in Blood </td><td> 16.893375574798746 </td><td> g/dL </td><td/><td/><td/><td> Mon Jun 18 00:20:27 UTC 2018 </td></tr><tr id=\"DiagnosticResults-9816a7df-c132-4702-ba9a-63a6c6c58932\"><td> Erythrocytes [#/volume] in Blood by Automated count </td><td> 4.003969583737672 </td><td> 10*6/uL </td><td/><td/><td/><td> Mon Jun 18 00:20:27 UTC 2018 </td></tr><tr id=\"DiagnosticResults-98f20bbd-b806-42cc-8789-25f2b85e602f\"><td> Leukocytes [#/volume] in Blood by Automated count </td><td> 10.442595795140656 </td><td> 10*3/uL </td><td/><td/><td/><td> Mon Jun 18 00:20:27 UTC 2018 </td></tr><tr id=\"DiagnosticResults-7d0af917-5923-4093-9925-e3155e06fa21\"><td> Carbon Dioxide </td><td> 24.612361413308513 </td><td> mmol/L </td><td/><td/><td/><td> Mon Jun 18 00:20:27 UTC 2018 </td></tr><tr id=\"DiagnosticResults-90809eac-2f78-4ef1-ac64-2bde192297ea\"><td> Chloride </td><td> 107.12337919170521 </td><td> mmol/L </td><td/><td/><td/><td> Mon Jun 18 00:20:27 UTC 2018 </td></tr><tr id=\"DiagnosticResults-e8001431-fad6-4457-9764-293cb421c59d\"><td> Potassium </td><td> 3.875357818673022 </td><td> mmol/L </td><td/><td/><td/><td> Mon Jun 18 00:20:27 UTC 2018 </td></tr><tr id=\"DiagnosticResults-fa7bad6f-5082-4f3d-950f-33d8076dd246\"><td> Calcium </td><td> 8.59456434422394 </td><td> mg/dL </td><td/><td/><td/><td> Mon Jun 18 00:20:27 UTC 2018 </td></tr><tr id=\"DiagnosticResults-c76ad5c1-d22e-4da1-b5ee-abd12b0a9dd0\"><td> Creatinine </td><td> 1.0660990763584437 </td><td> mg/dL </td><td/><td/><td/><td> Mon Jun 18 00:20:27 UTC 2018 </td></tr><tr id=\"DiagnosticResults-683ae26e-7eaa-4e22-8b9b-d867e3ead27d\"><td> Urea Nitrogen </td><td> 17.85966582466417 </td><td> mg/dL </td><td/><td/><td/><td> Mon Jun 18 00:20:27 UTC 2018 </td></tr><tr id=\"DiagnosticResults-2139596f-c71e-4013-918c-32a6b3f6ab4e\"><td> Glucose </td><td> 91.2399900473154 </td><td> mg/dL </td><td/><td/><td/><td> Mon Jun 18 00:20:27 UTC 2018 </td></tr><tr id=\"DiagnosticResults-f432fd37-3612-4510-a00f-60bd096b7f55\"><td> Carbon Dioxide </td><td> 25.372136974808612 </td><td> mmol/L </td><td/><td/><td/><td> Mon Jun 19 00:20:27 UTC 2017 </td></tr><tr id=\"DiagnosticResults-1a27a4ac-c725-4178-96d1-30c98fc9cf2b\"><td> Chloride </td><td> 107.97201705504892 </td><td> mmol/L </td><td/><td/><td/><td> Mon Jun 19 00:20:27 UTC 2017 </td></tr><tr id=\"DiagnosticResults-6bcf2a14-a7e7-435d-9bdc-0ef23bf6f130\"><td> Potassium </td><td> 3.8740150727039997 </td><td> mmol/L </td><td/><td/><td/><td> Mon Jun 19 00:20:27 UTC 2017 </td></tr><tr id=\"DiagnosticResults-f2da7a30-36cd-440a-a16e-1a099618cee0\"><td> Sodium </td><td> 142.85549428883073 </td><td> mmol/L </td><td/><td/><td/><td> Mon Jun 19 00:20:27 UTC 2017 </td></tr><tr id=\"DiagnosticResults-d4883ec5-dcb2-4e1d-bedc-3c31a8b0a730\"><td> Calcium </td><td> 9.498774440224198 </td><td> mg/dL </td><td/><td/><td/><td> Mon Jun 19 00:20:27 UTC 2017 </td></tr><tr id=\"DiagnosticResults-7ee68383-b775-48ac-978a-bdb131f23404\"><td> Creatinine </td><td> 1.0782138385897897 </td><td> mg/dL </td><td/><td/><td/><td> Mon Jun 19 00:20:27 UTC 2017 </td></tr><tr id=\"DiagnosticResults-febd6c94-1790-48db-9660-ae24bbac5513\"><td> Urea Nitrogen </td><td> 16.8823631688456 </td><td> mg/dL </td><td/><td/><td/><td> Mon Jun 19 00:20:27 UTC 2017 </td></tr><tr id=\"DiagnosticResults-b83e8a33-5d92-4548-bf80-ceb48911f0c9\"><td> Low Density Lipoprotein Cholesterol </td><td> 97.83947584251496 </td><td> mg/dL </td><td/><td/><td/><td> Mon Jun 13 00:20:27 UTC 2016 </td></tr><tr id=\"DiagnosticResults-b8daad20-50d6-4453-b222-47f087bad157\"><td> Triglycerides </td><td> 116.6856117534218 </td><td> mg/dL </td><td/><td/><td/><td> Mon Jun 13 00:20:27 UTC 2016 </td></tr><tr id=\"DiagnosticResults-f56dadbc-b2f6-4d12-968b-22fd1f5d175b\"><td> Total Cholesterol </td><td> 193.5699216100792 </td><td> mg/dL </td><td/><td/><td/><td> Mon Jun 13 00:20:27 UTC 2016 </td></tr><tr id=\"DiagnosticResults-8294484f-5081-4210-a9a0-fff9bc55582f\"><td> Carbon Dioxide </td><td> 20.500387037181767 </td><td> mmol/L </td><td/><td/><td/><td> Mon Jun 13 00:20:27 UTC 2016 </td></tr><tr id=\"DiagnosticResults-cb6e0b30-71f3-451b-8b2c-5c306b826e60\"><td> Chloride </td><td> 104.19662942675163 </td><td> mmol/L </td><td/><td/><td/><td> Mon Jun 13 00:20:27 UTC 2016 </td></tr><tr id=\"DiagnosticResults-4b370988-06ea-4498-9086-4b1f4e04e5b4\"><td> Potassium </td><td> 4.360805259246788 </td><td> mmol/L </td><td/><td/><td/><td> Mon Jun 13 00:20:27 UTC 2016 </td></tr><tr id=\"DiagnosticResults-56e0fa56-ee2c-4b19-8c2c-cd9245d7992a\"><td> Sodium </td><td> 142.16197207793454 </td><td> mmol/L </td><td/><td/><td/><td> Mon Jun 13 00:20:27 UTC 2016 </td></tr><tr id=\"DiagnosticResults-a088c688-ea43-43d6-bce5-31395e50c7e4\"><td> Calcium </td><td> 9.520696933981405 </td><td> mg/dL </td><td/><td/><td/><td> Mon Jun 13 00:20:27 UTC 2016 </td></tr><tr id=\"DiagnosticResults-f23058bd-8a43-4931-8b48-e7662941ff66\"><td> Creatinine </td><td> 1.0903286008211357 </td><td> mg/dL </td><td/><td/><td/><td> Mon Jun 13 00:20:27 UTC 2016 </td></tr><tr id=\"DiagnosticResults-6b7f9168-ca94-4233-9688-31e6f1555abb\"><td> Urea Nitrogen </td><td> 10.245702568444962 </td><td> mg/dL </td><td/><td/><td/><td> Mon Jun 13 00:20:27 UTC 2016 </td></tr><tr id=\"DiagnosticResults-e68d45a1-6674-4e5f-9d91-bef3fa3b94e3\"><td> Glucose </td><td> 74.16617879815716 </td><td> mg/dL </td><td/><td/><td/><td> Mon Jun 13 00:20:27 UTC 2016 </td></tr><tr id=\"DiagnosticResults-223491a6-2174-4f34-9472-8d0c63ed56ac\"><td> Platelet mean volume [Entitic volume] in Blood by Automated count </td><td> 10.189055046376126 </td><td> fL </td><td/><td/><td/><td> Mon Jul 07 00:20:27 UTC 2014 </td></tr><tr id=\"DiagnosticResults-877882af-8302-4cdd-9440-1e914d56dfce\"><td> Platelet distribution width [Entitic volume] in Blood by Automated count </td><td> 412.02729371282095 </td><td> fL </td><td/><td/><td/><td> Mon Jul 07 00:20:27 UTC 2014 </td></tr><tr id=\"DiagnosticResults-0d9add2b-389f-417c-861a-60746c8c48be\"><td> Platelets [#/volume] in Blood by Automated count </td><td> 283.4328114873722 </td><td> 10*3/uL </td><td/><td/><td/><td> Mon Jul 07 00:20:27 UTC 2014 </td></tr><tr id=\"DiagnosticResults-df848f38-3242-4e05-8f17-bf0b92c848f8\"><td> RDW - Erythrocyte distribution width Auto (RBC) [Entitic vol] </td><td> 45.15536568427726 </td><td> fL </td><td/><td/><td/><td> Mon Jul 07 00:20:27 UTC 2014 </td></tr><tr id=\"DiagnosticResults-8eb8d6bc-56a1-4dfe-a0d3-31eea654d9be\"><td> MCHC [Mass/volume] by Automated count </td><td> 34.34191710712749 </td><td> g/dL </td><td/><td/><td/><td> Mon Jul 07 00:20:27 UTC 2014 </td></tr><tr id=\"DiagnosticResults-246c0d71-d985-4929-bafb-3ae069d24b1d\"><td> MCH [Entitic mass] by Automated count </td><td> 29.362042073932983 </td><td> pg </td><td/><td/><td/><td> Mon Jul 07 00:20:27 UTC 2014 </td></tr><tr id=\"DiagnosticResults-1190548e-13c4-4f6a-abe6-fd1fb7b9ae10\"><td> RBC Auto (Bld) [#/Vol] </td><td> 5.246307024361194 </td><td> 10*6/uL </td><td/><td/><td/><td> Mon Jul 07 00:20:27 UTC 2014 </td></tr><tr id=\"DiagnosticResults-f10dfad3-e82f-4467-8dff-451f5ab25bff\"><td> WBC Auto (Bld) [#/Vol] </td><td> 8.233600330967098 </td><td> 10*3/uL </td><td/><td/><td/><td> Mon Jul 07 00:20:27 UTC 2014 </td></tr><tr id=\"DiagnosticResults-1522793b-0b49-4f68-86a0-846f27f487ef\"><td> Hematocrit [Volume Fraction] of Blood </td><td> 33.50177871840389 </td><td> % </td><td/><td/><td/><td> Mon Jul 07 00:20:27 UTC 2014 </td></tr><tr id=\"DiagnosticResults-dd7d3f71-174d-4f17-b7fc-221a5ea8e3b4\"><td> Hemoglobin [Mass/volume] in Blood </td><td> 11.48748659947773 </td><td> g/dL </td><td/><td/><td/><td> Mon Jul 07 00:20:27 UTC 2014 </td></tr><tr id=\"DiagnosticResults-0ba36987-4888-49fb-b645-01a92b935555\"><td> Hemoglobin A1c/Hemoglobin.total in Blood </td><td> 5.9907849226559575 </td><td> % </td><td/><td/><td/><td> Mon Jul 07 00:20:27 UTC 2014 </td></tr><tr id=\"DiagnosticResults-106aeda8-10ae-4d24-9e8c-5dda112bb70a\"><td> Platelet mean volume [Entitic volume] in Blood by Automated count </td><td> 11.69163429453124 </td><td> fL </td><td/><td/><td/><td> Mon Jul 02 00:20:27 UTC 2012 </td></tr><tr id=\"DiagnosticResults-2d9c2af0-5540-4a09-9dde-a0a787d4efbf\"><td> Platelet distribution width [Entitic volume] in Blood by Automated count </td><td> 156.98116375396907 </td><td> fL </td><td/><td/><td/><td> Mon Jul 02 00:20:27 UTC 2012 </td></tr><tr id=\"DiagnosticResults-bc6d8a3c-2fe4-416c-8491-f76fcd27df1a\"><td> Platelets [#/volume] in Blood by Automated count </td><td> 351.5599361534397 </td><td> 10*3/uL </td><td/><td/><td/><td> Mon Jul 02 00:20:27 UTC 2012 </td></tr><tr id=\"DiagnosticResults-880b2b65-c2ef-40a1-bbb8-61bfdb50c720\"><td> Erythrocyte distribution width [Entitic volume] by Automated count </td><td> 39.70255070089304 </td><td> fL </td><td/><td/><td/><td> Mon Jul 02 00:20:27 UTC 2012 </td></tr><tr id=\"DiagnosticResults-b54ce264-770d-4be5-8b98-be6df8335ee2\"><td> MCHC [Mass/volume] by Automated count </td><td> 35.975853058743816 </td><td> g/dL </td><td/><td/><td/><td> Mon Jul 02 00:20:27 UTC 2012 </td></tr><tr id=\"DiagnosticResults-1871e2a9-2538-43d1-9b43-0379f1ef3611\"><td> MCH [Entitic mass] by Automated count </td><td> 30.9423035098347 </td><td> pg </td><td/><td/><td/><td> Mon Jul 02 00:20:27 UTC 2012 </td></tr><tr id=\"DiagnosticResults-2f474f4e-a63c-4904-ad20-1851646fa01c\"><td> MCV [Entitic volume] by Automated count </td><td> 89.28125561525586 </td><td> fL </td><td/><td/><td/><td> Mon Jul 02 00:20:27 UTC 2012 </td></tr><tr id=\"DiagnosticResults-db13b000-c6e6-498c-8ce1-38f3dee064e5\"><td> Hemoglobin [Mass/volume] in Blood </td><td> 14.748479203388978 </td><td> g/dL </td><td/><td/><td/><td> Mon Jul 02 00:20:27 UTC 2012 </td></tr><tr id=\"DiagnosticResults-9035d1b5-43f4-4390-8475-2bf3e192d90f\"><td> Erythrocytes [#/volume] in Blood by Automated count </td><td> 4.959981208178913 </td><td> 10*6/uL </td><td/><td/><td/><td> Mon Jul 02 00:20:27 UTC 2012 </td></tr><tr id=\"DiagnosticResults-2d4fd509-8d98-4315-9075-5e16bb91df63\"><td> Leukocytes [#/volume] in Blood by Automated count </td><td> 6.73280472929574 </td><td> 10*3/uL </td><td/><td/><td/><td> Mon Jul 02 00:20:27 UTC 2012 </td></tr><tr id=\"DiagnosticResults-8fa5d2fc-c892-46fd-a813-ea0bd2782809\"><td> High Density Lipoprotein Cholesterol </td><td> 59.61560187630572 </td><td> mg/dL </td><td/><td/><td/><td> Mon Jul 02 00:20:27 UTC 2012 </td></tr><tr id=\"DiagnosticResults-3f5bea59-be86-48c3-bf8e-138e530b3a9a\"><td> Low Density Lipoprotein Cholesterol </td><td> 90.83040223693163 </td><td> mg/dL </td><td/><td/><td/><td> Mon Jul 02 00:20:27 UTC 2012 </td></tr><tr id=\"DiagnosticResults-40679a92-d0f5-4fb8-94a9-6e7d7e77efe1\"><td> MCV [Entitic volume] by Automated count </td><td> 91.22481135991404 </td><td> fL </td><td/><td/><td/><td> Mon Jul 07 00:20:27 UTC 2014 </td></tr><tr id=\"DiagnosticResults-7bb4e7a2-bad6-431a-a9b6-b5d20cca2677\"><td> Hematocrit [Volume Fraction] of Blood by Automated count </td><td> 40.52081584344142 </td><td> % </td><td/><td/><td/><td> Mon Jul 02 00:20:27 UTC 2012 </td></tr><tr id=\"DiagnosticResults-b60ec085-218d-4a00-ba6d-1611a5c796e0\"><td> Triglycerides </td><td> 123.38299860953373 </td><td> mg/dL </td><td/><td/><td/><td> Mon Jul 02 00:20:27 UTC 2012 </td></tr><tr id=\"DiagnosticResults-c62be794-93f7-4006-aef2-f60a4eb18f77\"><td> Total Cholesterol </td><td> 175.1226038351441 </td><td> mg/dL </td><td/><td/><td/><td> Mon Jul 02 00:20:27 UTC 2012 </td></tr></tbody></table><table class=\"hapiPropertyTable\"><caption>Diagnostic Results: Diagnostic Reports</caption><thead><tr><th>Code</th><th>Date</th></tr></thead><tbody><tr id=\"DiagnosticResults-d7f8c491-f083-45d7-bd93-76ebf88a4292\"><td> Lipid Panel </td><td> Mon Jul 01 00:20:27 UTC 2019 </td></tr><tr id=\"DiagnosticResults-6d819b18-086d-41d0-84ad-18393115d599\"><td> Lipid Panel </td><td> Mon Jul 02 00:20:27 UTC 2012 </td></tr><tr id=\"DiagnosticResults-aea691bd-3656-4e18-b475-3ec86f17edba\"><td> Basic Metabolic Panel </td><td> Mon Jul 01 00:20:27 UTC 2019 </td></tr><tr id=\"DiagnosticResults-469dfd34-a48b-4861-9dd7-6433cf537a3e\"><td> Basic Metabolic Panel </td><td> Mon Jun 25 00:20:27 UTC 2018 </td></tr><tr id=\"DiagnosticResults-646246cb-476c-4763-a3a4-0922a50d42a8\"><td> Complete blood count (hemogram) panel - Blood by Automated count </td><td> Mon Jun 18 00:20:27 UTC 2018 </td></tr><tr id=\"DiagnosticResults-fc191373-e1ec-4d5a-a28e-11bd69564ce4\"><td> Basic Metabolic Panel </td><td> Mon Jun 18 00:20:27 UTC 2018 </td></tr><tr id=\"DiagnosticResults-197b9cd3-3570-4e17-bfa8-1c5536e05569\"><td> Basic Metabolic Panel </td><td> Mon Jun 19 00:20:27 UTC 2017 </td></tr><tr id=\"DiagnosticResults-518c10f3-98c6-4e4a-bc17-18856bd16477\"><td> Lipid Panel </td><td> Mon Jun 13 00:20:27 UTC 2016 </td></tr><tr id=\"DiagnosticResults-cd69e24d-cf07-4d2b-b906-ed48ebddc6c5\"><td> Basic Metabolic Panel </td><td> Mon Jun 13 00:20:27 UTC 2016 </td></tr><tr id=\"DiagnosticResults-7527e625-c562-422d-bf95-0a3ed17d2981\"><td> Complete blood count (hemogram) panel - Blood by Automated count </td><td> Mon Jul 07 00:20:27 UTC 2014 </td></tr><tr id=\"DiagnosticResults-464fc1f4-8d50-4631-b7aa-b890ec758574\"><td> Complete blood count (hemogram) panel - Blood by Automated count </td><td> Mon Jul 02 00:20:27 UTC 2012 </td></tr></tbody></table></div>"
      ],
      "text/plain": [
       "<IPython.core.display.HTML object>"
      ]
     },
     "metadata": {},
     "output_type": "display_data"
    },
    {
     "data": {
      "text/html": [
       "<div xmlns=\"http://www.w3.org/1999/xhtml\"><table class=\"hapiPropertyTable\"><caption>Vital Signs</caption><thead><tr><th>Code</th><th>Result</th><th>Unit</th><th>Interpretation</th><th>Comments</th><th>Date</th></tr></thead><tbody><tr id=\"VitalSigns-97c9eb8e-e9b5-4da4-bd84-7583ce499aa7\"><td> Body Mass Index </td><td> 28.66554655821886 </td><td> kg/m2 </td><td/><td> Mon Jun 25 00:20:27 UTC 2018 </td></tr><tr id=\"VitalSigns-1af36e6b-0350-4377-a293-914114b46d92\"><td> Body Mass Index </td><td> 28.66554655821886 </td><td> kg/m2 </td><td/><td> Mon Jun 19 00:20:27 UTC 2017 </td></tr><tr id=\"VitalSigns-4f9ccd29-0d0b-4a4b-ae0a-b21bee09b70f\"><td> Body Weight </td><td> 87.22628806569085 </td><td> kg </td><td/><td> Mon Jun 19 00:20:27 UTC 2017 </td></tr><tr id=\"VitalSigns-8eb7efe1-b438-41c3-b7ed-7e89d557c624\"><td> Pain severity - 0-10 verbal numeric rating [Score] - Reported </td><td> 3.7049693787093987 </td><td> {score} </td><td/><td> Mon Jun 19 00:20:27 UTC 2017 </td></tr><tr id=\"VitalSigns-91e83c53-32a3-4871-b801-965f1b41e7ec\"><td> Body Height </td><td> 174.43899757305732 </td><td> cm </td><td/><td> Mon Jun 19 00:20:27 UTC 2017 </td></tr><tr id=\"VitalSigns-afd170d7-3864-47f1-8657-28fdc4f9226e\"><td> Blood Pressure </td><td/><td/><td/><td> Mon Jul 01 00:20:27 UTC 2019 </td></tr><tr id=\"VitalSigns-9b970a97-0253-4194-9889-e9623577dd65\"><td> Body Mass Index </td><td> 28.66554655821886 </td><td> kg/m2 </td><td/><td> Mon Jul 01 00:20:27 UTC 2019 </td></tr><tr id=\"VitalSigns-fa094d68-3494-422a-9a17-99082845149f\"><td> Body Weight </td><td> 87.22628806569085 </td><td> kg </td><td/><td> Mon Jul 01 00:20:27 UTC 2019 </td></tr><tr id=\"VitalSigns-1df3fd96-7078-47a5-91cd-17704363a4ac\"><td> Pain severity - 0-10 verbal numeric rating [Score] - Reported </td><td> 2.2589665386331 </td><td> {score} </td><td/><td> Mon Jul 01 00:20:27 UTC 2019 </td></tr><tr id=\"VitalSigns-fc274e39-6ee6-47a2-9d8a-1af02949fdcc\"><td> Body Height </td><td> 174.43899757305732 </td><td> cm </td><td/><td> Mon Jul 01 00:20:27 UTC 2019 </td></tr><tr id=\"VitalSigns-622f4fc6-283c-4ca3-b292-449967ce5ba1\"><td> Oral temperature </td><td> 37.059052768611615 </td><td> Cel </td><td/><td> Mon Jun 17 00:20:27 UTC 2019 </td></tr><tr id=\"VitalSigns-8d9ef154-0581-4957-bc72-956f8969198e\"><td> Blood Pressure </td><td/><td/><td/><td> Mon Jun 25 00:20:27 UTC 2018 </td></tr><tr id=\"VitalSigns-d7c6b4be-c445-4d5c-a1d4-3e070c44c8b1\"><td> Body Weight </td><td> 87.22628806569085 </td><td> kg </td><td/><td> Mon Jun 25 00:20:27 UTC 2018 </td></tr><tr id=\"VitalSigns-61ee44fa-c789-4d2e-a49f-d777034a5f10\"><td> Pain severity - 0-10 verbal numeric rating [Score] - Reported </td><td> 3.6704492687503514 </td><td> {score} </td><td/><td> Mon Jun 25 00:20:27 UTC 2018 </td></tr><tr id=\"VitalSigns-cbb94903-6071-452c-95e5-a6ee242f9156\"><td> Body Height </td><td> 174.43899757305732 </td><td> cm </td><td/><td> Mon Jun 25 00:20:27 UTC 2018 </td></tr><tr id=\"VitalSigns-3813c03b-9148-4ae9-ba56-b6fcb1d53dcb\"><td> Blood Pressure </td><td/><td/><td/><td> Mon Jun 18 00:20:27 UTC 2018 </td></tr><tr id=\"VitalSigns-2d929805-c9ab-4138-bc37-d3f45c27c752\"><td> Body Mass Index </td><td> 28.66554655821886 </td><td> kg/m2 </td><td/><td> Mon Jun 18 00:20:27 UTC 2018 </td></tr><tr id=\"VitalSigns-d2f46d35-b0ca-4563-a1ef-2ccf9e44c44f\"><td> Body Weight </td><td> 87.22628806569085 </td><td> kg </td><td/><td> Mon Jun 18 00:20:27 UTC 2018 </td></tr><tr id=\"VitalSigns-02245d8f-9183-4dd5-8346-173d4ccc82ab\"><td> Pain severity - 0-10 verbal numeric rating [Score] - Reported </td><td> 0.826586700600676 </td><td> {score} </td><td/><td> Mon Jun 18 00:20:27 UTC 2018 </td></tr><tr id=\"VitalSigns-495fefee-c956-431b-8872-8ea4c3896324\"><td> Body Height </td><td> 174.43899757305732 </td><td> cm </td><td/><td> Mon Jun 18 00:20:27 UTC 2018 </td></tr><tr id=\"VitalSigns-b3170b7b-f302-4a82-89eb-f6f1b46f80a3\"><td> Blood Pressure </td><td/><td/><td/><td> Mon Jun 19 00:20:27 UTC 2017 </td></tr><tr id=\"VitalSigns-8d1641f6-2b80-4683-a009-cbc25e36600c\"><td> Blood Pressure </td><td/><td/><td/><td> Mon Jun 13 00:20:27 UTC 2016 </td></tr><tr id=\"VitalSigns-bb52a172-093f-494d-8040-63ccc8898f74\"><td> Body Mass Index </td><td> 28.66554655821886 </td><td> kg/m2 </td><td/><td> Mon Jun 13 00:20:27 UTC 2016 </td></tr><tr id=\"VitalSigns-6b930398-6f98-46ef-8181-d67bad50864b\"><td> Body Weight </td><td> 87.22628806569085 </td><td> kg </td><td/><td> Mon Jun 13 00:20:27 UTC 2016 </td></tr><tr id=\"VitalSigns-96dedf9d-733f-4550-b2c7-ef6363b9c3b9\"><td> Pain severity - 0-10 verbal numeric rating [Score] - Reported </td><td> 1.4583605338963803 </td><td> {score} </td><td/><td> Mon Jun 13 00:20:27 UTC 2016 </td></tr><tr id=\"VitalSigns-796887bb-faec-474d-90be-80acb947a5f0\"><td> Body Height </td><td> 174.43899757305732 </td><td> cm </td><td/><td> Mon Jun 13 00:20:27 UTC 2016 </td></tr><tr id=\"VitalSigns-9b9e360d-c21f-49b5-bbb3-ba4a61e4e948\"><td> Blood Pressure </td><td/><td/><td/><td> Mon Jul 07 00:20:27 UTC 2014 </td></tr><tr id=\"VitalSigns-caccb707-7aaf-4a7c-b152-b98c3fe151c2\"><td> Body Mass Index </td><td> 28.66554655821886 </td><td> kg/m2 </td><td/><td> Mon Jul 07 00:20:27 UTC 2014 </td></tr><tr id=\"VitalSigns-6086d859-26b3-4780-8962-45576818486a\"><td> Body Weight </td><td> 87.22628806569085 </td><td> kg </td><td/><td> Mon Jul 07 00:20:27 UTC 2014 </td></tr><tr id=\"VitalSigns-daa0fa45-8b85-404c-8d54-fcea0e596893\"><td> Body Height </td><td> 174.43899757305732 </td><td> cm </td><td/><td> Mon Jul 07 00:20:27 UTC 2014 </td></tr><tr id=\"VitalSigns-dd44d7b5-b4e7-454b-9ee5-4d3508ada23e\"><td> Pain severity - 0-10 verbal numeric rating [Score] - Reported </td><td> 0.06339715846674521 </td><td> {score} </td><td/><td> Mon Jul 07 00:20:27 UTC 2014 </td></tr><tr id=\"VitalSigns-00590d23-c9c2-48c9-a5ad-500b6009d3b5\"><td> Body Weight </td><td> 87.22628806569085 </td><td> kg </td><td/><td> Mon Jul 02 00:20:27 UTC 2012 </td></tr><tr id=\"VitalSigns-b472e4b1-6aac-47f8-a205-c62ededde0ce\"><td> Blood Pressure </td><td/><td/><td/><td> Mon Jul 02 00:20:27 UTC 2012 </td></tr><tr id=\"VitalSigns-f2c447e5-8789-43a7-b2e6-5d07b90725c3\"><td> Body Mass Index </td><td> 28.66554655821886 </td><td> kg/m2 </td><td/><td> Mon Jul 02 00:20:27 UTC 2012 </td></tr><tr id=\"VitalSigns-a6224e47-1314-4ab8-8035-b08e5469df82\"><td> Pain severity - 0-10 verbal numeric rating [Score] - Reported </td><td> 3.457700986120413 </td><td> {score} </td><td/><td> Mon Jul 02 00:20:27 UTC 2012 </td></tr><tr id=\"VitalSigns-de6072c5-2d38-4017-8b92-a23ac7770d6e\"><td> Body Height </td><td> 174.43899757305732 </td><td> cm </td><td/><td> Mon Jul 02 00:20:27 UTC 2012 </td></tr><tr id=\"VitalSigns-599a2bff-056d-4601-a9be-e4d2633be71e\"><td> Pain severity - 0-10 verbal numeric rating [Score] - Reported </td><td> 6.481674749414877 </td><td> {score} </td><td/><td> Fri Jun 01 00:20:27 UTC 2012 </td></tr><tr id=\"VitalSigns-4b042699-13a7-4cfe-b54f-157ec4fe4ce0\"><td> Blood Pressure </td><td/><td/><td/><td> Mon Jun 28 00:20:27 UTC 2010 </td></tr><tr id=\"VitalSigns-51a6fa32-1792-4650-a537-f1b6fce49b89\"><td> Body Mass Index </td><td> 28.66554655821886 </td><td> kg/m2 </td><td/><td> Mon Jun 28 00:20:27 UTC 2010 </td></tr><tr id=\"VitalSigns-a997b955-722e-4e68-bf60-e82c3e4933bf\"><td> Body Weight </td><td> 87.22628806569085 </td><td> kg </td><td/><td> Mon Jun 28 00:20:27 UTC 2010 </td></tr><tr id=\"VitalSigns-490b2657-833b-47e7-bce8-1907d025695f\"><td> Pain severity - 0-10 verbal numeric rating [Score] - Reported </td><td> 1.4006224690470845 </td><td> {score} </td><td/><td> Mon Jun 28 00:20:27 UTC 2010 </td></tr><tr id=\"VitalSigns-9d24cd79-6730-42ff-b23c-833744b9f594\"><td> Body Height </td><td> 174.43899757305732 </td><td> cm </td><td/><td> Mon Jun 28 00:20:27 UTC 2010 </td></tr></tbody></table></div>"
      ],
      "text/plain": [
       "<IPython.core.display.HTML object>"
      ]
     },
     "metadata": {},
     "output_type": "display_data"
    },
    {
     "data": {
      "text/html": [
       "<div xmlns=\"http://www.w3.org/1999/xhtml\"><table class=\"hapiPropertyTable\"><caption>Past History of Illnesses</caption><thead><tr><th>Medical Problems</th><th>Status</th><th>Comments</th><th>Date</th></tr></thead><tbody><tr id=\"PastHistoryOfIllnesses-e34ceb45-b586-4310-a1a2-b17edd4ad1ec\"><td> Osteoarthritis of knee </td><td> active </td><td/><td> Fri Jun 01 00:20:27 UTC 2012 </td></tr><tr id=\"PastHistoryOfIllnesses-d89eed4a-f779-4e8c-9dba-37ed8c392585\"><td> Acute viral pharyngitis (disorder) </td><td> resolved </td><td/><td> Mon Jun 17 00:20:27 UTC 2019 </td></tr><tr id=\"PastHistoryOfIllnesses-085f907c-4c6f-4dc7-b740-ec3ac9c42835\"><td> Viral sinusitis (disorder) </td><td> resolved </td><td/><td> Sun Jun 17 00:20:27 UTC 2018 </td></tr><tr id=\"PastHistoryOfIllnesses-e219dfd7-b5d2-41c1-8c01-ccae34f89e07\"><td> Viral sinusitis (disorder) </td><td> resolved </td><td/><td> Fri Jul 29 00:20:27 UTC 2016 </td></tr><tr id=\"PastHistoryOfIllnesses-a1bed694-18c5-43d0-b7c8-dc93fa60d557\"><td> Acute bronchitis (disorder) </td><td> resolved </td><td/><td> Sun Apr 19 00:20:27 UTC 2015 </td></tr><tr id=\"PastHistoryOfIllnesses-dd135bda-74cd-485f-a232-3638c861d359\"><td> Anemia (disorder) </td><td> active </td><td/><td> Mon Jul 07 00:20:27 UTC 2014 </td></tr><tr id=\"PastHistoryOfIllnesses-f1d8efaa-1d21-45ca-b827-d9297b6d4be4\"><td> Prediabetes </td><td> active </td><td/><td> Mon Jul 07 00:20:27 UTC 2014 </td></tr><tr id=\"PastHistoryOfIllnesses-7279ea07-840c-4089-93ed-b180cebcaed8\"><td> Perennial allergic rhinitis </td><td> active </td><td/><td> Sat Jun 19 00:20:27 UTC 1971 </td></tr></tbody></table></div>"
      ],
      "text/plain": [
       "<IPython.core.display.HTML object>"
      ]
     },
     "metadata": {},
     "output_type": "display_data"
    },
    {
     "data": {
      "text/html": [
       "<div xmlns=\"http://www.w3.org/1999/xhtml\"><table class=\"hapiPropertyTable\"><caption>Plan of Care</caption><thead><tr><th>Activity</th><th>Intent</th><th>Comments</th><th>Planned Start</th><th>Planned End</th></tr></thead><tbody><tr id=\"PlanOfCare-63acecee-26b0-48d5-beff-b7af3eae86b4\"><td/><td>order</td><td/><td>Fri Jun 01 00:20:27 UTC 2012</td><td/></tr><tr id=\"PlanOfCare-a482cd64-b9fe-4441-af9a-2939107406bd\"><td/><td>order</td><td/><td>Mon Jul 07 00:20:27 UTC 2014</td><td/></tr><tr id=\"PlanOfCare-b59060e7-0c4a-47a3-a7aa-9bbecd4cac30\"><td/><td>order</td><td/><td>Thu Jun 19 00:20:27 UTC 1969</td><td/></tr><tr id=\"PlanOfCare-9f31788c-85ee-4fd0-9b22-e7a1740ab607\"><td/><td>order</td><td/><td>Mon Jun 12 00:20:27 UTC 1967</td><td/></tr></tbody></table></div>"
      ],
      "text/plain": [
       "<IPython.core.display.HTML object>"
      ]
     },
     "metadata": {},
     "output_type": "display_data"
    },
    {
     "data": {
      "text/html": [
       "<div xmlns=\"http://www.w3.org/1999/xhtml\">Generated by <a href=\"https://github.com/synthetichealth/synthea\">Synthea</a>.Version identifier: v2.4.0-404-ge7ce2295\n",
       " .   Person seed: -2761265137076421558  Population seed: 0</div>"
      ],
      "text/plain": [
       "<IPython.core.display.HTML object>"
      ]
     },
     "metadata": {},
     "output_type": "display_data"
    },
    {
     "data": {
      "text/html": [
       "<div xmlns=\"http://www.w3.org/1999/xhtml\">Care Plan for Musculoskeletal care.<br/>Activities: <ul><li>Musculoskeletal care</li><li>Musculoskeletal care</li></ul><br/>Care plan is meant to treat Osteoarthritis of knee.</div>"
      ],
      "text/plain": [
       "<IPython.core.display.HTML object>"
      ]
     },
     "metadata": {},
     "output_type": "display_data"
    },
    {
     "data": {
      "text/html": [
       "<div xmlns=\"http://www.w3.org/1999/xhtml\">Care Plan for Diabetes self management plan.<br/>Activities: <ul><li>Diabetes self management plan</li><li>Diabetes self management plan</li></ul><br/>Care plan is meant to treat Prediabetes.</div>"
      ],
      "text/plain": [
       "<IPython.core.display.HTML object>"
      ]
     },
     "metadata": {},
     "output_type": "display_data"
    },
    {
     "data": {
      "text/html": [
       "<div xmlns=\"http://www.w3.org/1999/xhtml\">Care Plan for Asthma self management.<br/>Activities: <ul><li>Asthma self management</li><li>Asthma self management</li><li>Asthma self management</li></ul><br/>Care plan is meant to treat Childhood asthma.</div>"
      ],
      "text/plain": [
       "<IPython.core.display.HTML object>"
      ]
     },
     "metadata": {},
     "output_type": "display_data"
    },
    {
     "data": {
      "text/html": [
       "<div xmlns=\"http://www.w3.org/1999/xhtml\">Care Plan for Self care.<br/>Activities: <ul><li>Self care</li><li>Self care</li><li>Self care</li></ul></div>"
      ],
      "text/plain": [
       "<IPython.core.display.HTML object>"
      ]
     },
     "metadata": {},
     "output_type": "display_data"
    },
    {
     "data": {
      "text/html": [
       "<div xmlns=\"http://www.w3.org/1999/xhtml\"><div class=\"hapiHeaderText\"> Lipid Panel </div><table class=\"hapiPropertyTable\"><tbody><tr><td>Status</td><td>FINAL</td></tr><tr><td>Issued</td><td> 01 July 2019 00:20:27</td></tr></tbody></table></div>"
      ],
      "text/plain": [
       "<IPython.core.display.HTML object>"
      ]
     },
     "metadata": {},
     "output_type": "display_data"
    },
    {
     "data": {
      "text/html": [
       "<div xmlns=\"http://www.w3.org/1999/xhtml\"><div class=\"hapiHeaderText\"> Lipid Panel </div><table class=\"hapiPropertyTable\"><tbody><tr><td>Status</td><td>FINAL</td></tr><tr><td>Issued</td><td> 02 July 2012 00:20:27</td></tr></tbody></table></div>"
      ],
      "text/plain": [
       "<IPython.core.display.HTML object>"
      ]
     },
     "metadata": {},
     "output_type": "display_data"
    },
    {
     "data": {
      "text/html": [
       "<div xmlns=\"http://www.w3.org/1999/xhtml\"><div class=\"hapiHeaderText\"> Basic Metabolic Panel </div><table class=\"hapiPropertyTable\"><tbody><tr><td>Status</td><td>FINAL</td></tr><tr><td>Issued</td><td> 01 July 2019 00:20:27</td></tr></tbody></table></div>"
      ],
      "text/plain": [
       "<IPython.core.display.HTML object>"
      ]
     },
     "metadata": {},
     "output_type": "display_data"
    },
    {
     "data": {
      "text/html": [
       "<div xmlns=\"http://www.w3.org/1999/xhtml\"><div class=\"hapiHeaderText\"> Basic Metabolic Panel </div><table class=\"hapiPropertyTable\"><tbody><tr><td>Status</td><td>FINAL</td></tr><tr><td>Issued</td><td> 25 June 2018 00:20:27</td></tr></tbody></table></div>"
      ],
      "text/plain": [
       "<IPython.core.display.HTML object>"
      ]
     },
     "metadata": {},
     "output_type": "display_data"
    },
    {
     "data": {
      "text/html": [
       "<div xmlns=\"http://www.w3.org/1999/xhtml\"><div class=\"hapiHeaderText\"> Complete blood count (hemogram) panel - Blood by Automated count </div><table class=\"hapiPropertyTable\"><tbody><tr><td>Status</td><td>FINAL</td></tr><tr><td>Issued</td><td> 18 June 2018 00:20:27</td></tr></tbody></table></div>"
      ],
      "text/plain": [
       "<IPython.core.display.HTML object>"
      ]
     },
     "metadata": {},
     "output_type": "display_data"
    },
    {
     "data": {
      "text/html": [
       "<div xmlns=\"http://www.w3.org/1999/xhtml\"><div class=\"hapiHeaderText\"> Basic Metabolic Panel </div><table class=\"hapiPropertyTable\"><tbody><tr><td>Status</td><td>FINAL</td></tr><tr><td>Issued</td><td> 18 June 2018 00:20:27</td></tr></tbody></table></div>"
      ],
      "text/plain": [
       "<IPython.core.display.HTML object>"
      ]
     },
     "metadata": {},
     "output_type": "display_data"
    },
    {
     "data": {
      "text/html": [
       "<div xmlns=\"http://www.w3.org/1999/xhtml\"><div class=\"hapiHeaderText\"> Basic Metabolic Panel </div><table class=\"hapiPropertyTable\"><tbody><tr><td>Status</td><td>FINAL</td></tr><tr><td>Issued</td><td> 19 June 2017 00:20:27</td></tr></tbody></table></div>"
      ],
      "text/plain": [
       "<IPython.core.display.HTML object>"
      ]
     },
     "metadata": {},
     "output_type": "display_data"
    },
    {
     "data": {
      "text/html": [
       "<div xmlns=\"http://www.w3.org/1999/xhtml\"><div class=\"hapiHeaderText\"> Lipid Panel </div><table class=\"hapiPropertyTable\"><tbody><tr><td>Status</td><td>FINAL</td></tr><tr><td>Issued</td><td> 13 June 2016 00:20:27</td></tr></tbody></table></div>"
      ],
      "text/plain": [
       "<IPython.core.display.HTML object>"
      ]
     },
     "metadata": {},
     "output_type": "display_data"
    },
    {
     "data": {
      "text/html": [
       "<div xmlns=\"http://www.w3.org/1999/xhtml\"><div class=\"hapiHeaderText\"> Basic Metabolic Panel </div><table class=\"hapiPropertyTable\"><tbody><tr><td>Status</td><td>FINAL</td></tr><tr><td>Issued</td><td> 13 June 2016 00:20:27</td></tr></tbody></table></div>"
      ],
      "text/plain": [
       "<IPython.core.display.HTML object>"
      ]
     },
     "metadata": {},
     "output_type": "display_data"
    },
    {
     "data": {
      "text/html": [
       "<div xmlns=\"http://www.w3.org/1999/xhtml\"><div class=\"hapiHeaderText\"> Complete blood count (hemogram) panel - Blood by Automated count </div><table class=\"hapiPropertyTable\"><tbody><tr><td>Status</td><td>FINAL</td></tr><tr><td>Issued</td><td> 07 July 2014 00:20:27</td></tr></tbody></table></div>"
      ],
      "text/plain": [
       "<IPython.core.display.HTML object>"
      ]
     },
     "metadata": {},
     "output_type": "display_data"
    },
    {
     "data": {
      "text/html": [
       "<div xmlns=\"http://www.w3.org/1999/xhtml\"><div class=\"hapiHeaderText\"> Complete blood count (hemogram) panel - Blood by Automated count </div><table class=\"hapiPropertyTable\"><tbody><tr><td>Status</td><td>FINAL</td></tr><tr><td>Issued</td><td> 02 July 2012 00:20:27</td></tr></tbody></table></div>"
      ],
      "text/plain": [
       "<IPython.core.display.HTML object>"
      ]
     },
     "metadata": {},
     "output_type": "display_data"
    },
    {
     "data": {
      "text/html": [
       "<h1>Patient ID: example-r4</h1>"
      ],
      "text/plain": [
       "<IPython.core.display.HTML object>"
      ]
     },
     "metadata": {},
     "output_type": "display_data"
    },
    {
     "data": {
      "text/html": [
       "<div xmlns=\"http://www.w3.org/1999/xhtml\"><table class=\"hapiPropertyTable\"><caption>Allergies And Intolerances</caption><thead><tr><th>Allergen</th><th>Status</th><th>Category</th><th>Reaction</th><th>Severity</th><th>Comments</th><th>Onset</th></tr></thead><tbody><tr id=\"AllergiesAndIntolerances-urn:uuid:92baadaf-c5d2-4421-97ea-d5b4d7c170a2\"><td> No information about allergies </td><td> active </td><td/><td/><td/><td/><td/></tr></tbody></table></div>"
      ],
      "text/plain": [
       "<IPython.core.display.HTML object>"
      ]
     },
     "metadata": {},
     "output_type": "display_data"
    },
    {
     "data": {
      "text/html": [
       "<div xmlns=\"http://www.w3.org/1999/xhtml\"><table class=\"hapiPropertyTable\"><caption>Medication Summary: Medication Requests</caption><thead><tr><th>Medication</th><th>Status</th><th>Route</th><th>Sig</th><th>Comments</th><th>Authored Date</th></tr></thead><tbody/></table><table class=\"hapiPropertyTable\"><caption>Medication Summary: Medication Statements</caption><thead><tr><th>Medication</th><th>Status</th><th>Route</th><th>Sig</th><th>Date</th></tr></thead><tbody><tr id=\"MedicationSummary-urn:uuid:9300aec0-2f19-47c3-a982-bc6c7bd37172\"><td> No information about medications </td><td>Unknown</td><td/><td/><td/></tr></tbody></table></div>"
      ],
      "text/plain": [
       "<IPython.core.display.HTML object>"
      ]
     },
     "metadata": {},
     "output_type": "display_data"
    },
    {
     "data": {
      "text/html": [
       "<div xmlns=\"http://www.w3.org/1999/xhtml\"><table class=\"hapiPropertyTable\"><caption>Problem List</caption><thead><tr><th>Medical Problems</th><th>Status</th><th>Comments</th><th>Onset Date</th></tr></thead><tbody/></table></div>"
      ],
      "text/plain": [
       "<IPython.core.display.HTML object>"
      ]
     },
     "metadata": {},
     "output_type": "display_data"
    },
    {
     "data": {
      "text/html": [
       "<div xmlns=\"http://www.w3.org/1999/xhtml\">\n",
       "            <b>Patient:</b> Peter James CHALMERS, M, 25-Dec-1974, Cit.Id: 1033558899 Alpha Hospital Id: 283471838\n",
       "                <ul>\n",
       "                    <li>Prefers to be called: Jim CHALMERS</li>\n",
       "                    <li>Old name: Peter Jones </li>\n",
       "                    <li>Home address: 534 Erewhon St PeasantVille, Rainbow, Vic  3999</li>\n",
       "                    <li>Phone: (03) 5555 6473 (work), (03) 3410 5613 (mobile)</li>\n",
       "                    <li>Contact: Bï¿½nï¿½dicte DU MARCHï¿½, +33 (237) 998327</li>\n",
       "                </ul>\n",
       "        </div>"
      ],
      "text/plain": [
       "<IPython.core.display.HTML object>"
      ]
     },
     "metadata": {},
     "output_type": "display_data"
    }
   ],
   "source": [
    "for patient_id, patient_summary in patient_summaries.items():\n",
    "    display(HTML(f'<h1>Patient ID: {patient_id}</h1>'))\n",
    "    for div in find_by_key(patient_summary, 'div'):\n",
    "        display(HTML(div))"
   ]
  },
  {
   "cell_type": "code",
   "execution_count": null,
   "id": "b03aeebd",
   "metadata": {},
   "outputs": [],
   "source": []
  }
 ],
 "metadata": {
  "kernelspec": {
   "display_name": "Python 3 (ipykernel)",
   "language": "python",
   "name": "python3"
  }
 },
 "nbformat": 4,
 "nbformat_minor": 5
}
