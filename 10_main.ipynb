{
 "cells": [
  {
   "cell_type": "code",
   "execution_count": null,
   "id": "4431195c",
   "metadata": {},
   "outputs": [],
   "source": [
    "# default_exp main"
   ]
  },
  {
   "cell_type": "markdown",
   "id": "690f54fd",
   "metadata": {},
   "source": [
    "# Main\n",
    "\n",
    "> The main FastAPI app."
   ]
  },
  {
   "cell_type": "code",
   "execution_count": null,
   "id": "988efa77",
   "metadata": {},
   "outputs": [],
   "source": [
    "#export\n",
    "from fastapi import FastAPI, Header, HTTPException\n",
    "from fastapi.staticfiles import StaticFiles\n",
    "from pydantic import BaseModel\n",
    "from typing import List, Dict\n",
    "from datetime import datetime\n",
    "from ast import literal_eval\n",
    "from pathlib import Path\n",
    "import os, json"
   ]
  },
  {
   "cell_type": "code",
   "execution_count": null,
   "id": "68959d4b",
   "metadata": {},
   "outputs": [],
   "source": [
    "#export\n",
    "def get_valid_api_keys():\n",
    "    \"Return a list of keys that can be used to authorise users of this API\"\n",
    "    keys = os.environ.get('X_API_KEYS')\n",
    "    assert keys is not None, 'Environment variable X_API_KEYS not set'\n",
    "    return literal_eval(keys)"
   ]
  },
  {
   "cell_type": "code",
   "execution_count": null,
   "id": "25915022",
   "metadata": {},
   "outputs": [],
   "source": [
    "#export\n",
    "def api_key_check(x_api_key):\n",
    "    if x_api_key not in get_valid_api_keys():\n",
    "        raise HTTPException(status_code=401, detail='Invalid x-api-key')"
   ]
  },
  {
   "cell_type": "code",
   "execution_count": null,
   "id": "c94e5ef7",
   "metadata": {},
   "outputs": [],
   "source": [
    "#export\n",
    "class TranslatePayload(BaseModel):\n",
    "    source_language: str\n",
    "    target_language: str\n",
    "    source_texts: List[str]"
   ]
  },
  {
   "cell_type": "code",
   "execution_count": null,
   "id": "b6005cfc",
   "metadata": {},
   "outputs": [],
   "source": [
    "#export\n",
    "class Translator:\n",
    "    def translate(self, source_texts, source_language, target_language='en'):\n",
    "        print('TODO: remove old translation code')\n",
    "        return {}"
   ]
  },
  {
   "cell_type": "code",
   "execution_count": null,
   "id": "acf24525",
   "metadata": {},
   "outputs": [],
   "source": [
    "#export\n",
    "def create_app():\n",
    "    app = FastAPI()\n",
    "    app.mount('/static', StaticFiles(directory='static'), name='static')\n",
    "    translator = Translator()\n",
    "\n",
    "    @app.get('/api-key-check')\n",
    "    def _api_key_check(x_api_key: str = Header(None)):\n",
    "        \"Validates the `x-api-key` header parameter\"\n",
    "        api_key_check(x_api_key)\n",
    "        return {'x-api-key': x_api_key, 'result': 'OK'}\n",
    "    \n",
    "    @app.options('/translate/')\n",
    "    def _translate_options(x_api_key: str = Header(None)):\n",
    "        \"Validate endpoint before invoking the actual POST method\"\n",
    "#         api_key_check(x_api_key)\n",
    "\n",
    "    @app.post('/translate/', response_model=Dict[str, str])\n",
    "    def _translate(payload: TranslatePayload, x_api_key: str = Header(None)):\n",
    "        \"TODO\"\n",
    "#         api_key_check(x_api_key)\n",
    "        print('x_api_key', x_api_key)\n",
    "        print(payload)\n",
    "        # TODO: return probabilities + top n?\n",
    "        return translator.translate(payload.source_texts, payload.source_language, payload.target_language)\n",
    "        # TODO: use proper model to translate - no cache yet, just keep it simple\n",
    "#         return {k:fr_to_en.get(k, '') for k in payload.source_texts}\n",
    "    \n",
    "    return app"
   ]
  },
  {
   "cell_type": "code",
   "execution_count": null,
   "id": "5b29c303",
   "metadata": {},
   "outputs": [
    {
     "name": "stdout",
     "output_type": "stream",
     "text": [
      "Converted 10_main.ipynb.\n"
     ]
    }
   ],
   "source": [
    "#hide\n",
    "from nbdev.export import notebook2script\n",
    "notebook2script('10_main.ipynb')"
   ]
  }
 ],
 "metadata": {
  "kernelspec": {
   "display_name": "Python 3 (ipykernel)",
   "language": "python",
   "name": "python3"
  }
 },
 "nbformat": 4,
 "nbformat_minor": 5
}
