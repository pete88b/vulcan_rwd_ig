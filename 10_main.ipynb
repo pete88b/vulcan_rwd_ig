{
 "cells": [
  {
   "cell_type": "code",
   "execution_count": null,
   "id": "4431195c",
   "metadata": {},
   "outputs": [],
   "source": [
    "# default_exp main"
   ]
  },
  {
   "cell_type": "markdown",
   "id": "690f54fd",
   "metadata": {},
   "source": [
    "# Main\n",
    "\n",
    "> The main FastAPI app."
   ]
  },
  {
   "cell_type": "code",
   "execution_count": null,
   "id": "988efa77",
   "metadata": {},
   "outputs": [],
   "source": [
    "#export\n",
    "from vulcan_rwd_ig.core import *\n",
    "from fastapi import FastAPI, Header, HTTPException\n",
    "from fastapi.staticfiles import StaticFiles\n",
    "from pydantic import BaseModel\n",
    "from typing import List, Dict\n",
    "from datetime import datetime\n",
    "from ast import literal_eval\n",
    "from pathlib import Path\n",
    "import os, json"
   ]
  },
  {
   "cell_type": "code",
   "execution_count": null,
   "id": "68959d4b",
   "metadata": {},
   "outputs": [],
   "source": [
    "#export\n",
    "def get_valid_api_keys():\n",
    "    \"Return a list of keys that can be used to authorise users of this API\"\n",
    "    keys = os.environ.get('X_API_KEYS')\n",
    "    assert keys is not None, 'Environment variable X_API_KEYS not set'\n",
    "    return literal_eval(keys)"
   ]
  },
  {
   "cell_type": "code",
   "execution_count": null,
   "id": "25915022",
   "metadata": {},
   "outputs": [],
   "source": [
    "#export\n",
    "def api_key_check(x_api_key):\n",
    "    if x_api_key not in get_valid_api_keys():\n",
    "        raise HTTPException(status_code=401, detail='Invalid x-api-key')"
   ]
  },
  {
   "cell_type": "code",
   "execution_count": null,
   "id": "c94e5ef7",
   "metadata": {},
   "outputs": [],
   "source": [
    "#export\n",
    "class CohortBuilderSearchPayload(BaseModel):\n",
    "    fhir_base: str\n",
    "    age: int\n",
    "#     diagnosis_label: str\n",
    "    diagnosis_icd10: str\n",
    "#     diagnosis_icd10_label: str\n",
    "    medication_rxnorm: str\n",
    "#     medication_rxnorm_label: str"
   ]
  },
  {
   "cell_type": "code",
   "execution_count": null,
   "id": "b6005cfc",
   "metadata": {},
   "outputs": [],
   "source": [
    "#export\n",
    "class CohortBuilder:\n",
    "    def __init__(self, fhir_base):\n",
    "        self.client = FhirClient(fhir_base)\n",
    "        \n",
    "    def search(self, age, diagnosis_icd10, medication_rxnorm):\n",
    "        # TODO: use discharge date to calculate birthdate from age - for now we'll hard code\n",
    "        discharge_year = 2014\n",
    "        birth_year = discharge_year - age\n",
    "        patient_resources = self.client.get_all_resources('Patient', {\n",
    "            'birthdate': f'le{birth_year}-09-01', # 1996\n",
    "            'gender': 'male,female'\n",
    "        })\n",
    "        encounter_resources = self.client.get_all_resources('Encounter', {\n",
    "                'reason-code': diagnosis_icd10.replace(' ', ''), # TODO: not using below for now 'reason-code:below': 'I20,I21,I22,I23,I24,I25',\n",
    "                'date': [f'ge{discharge_year}-09-01', f'le{discharge_year + 1}-09-30'], # TODO: Not sure this is filtering as we want ...\n",
    "                'status': 'finished',\n",
    "        #         'dischargeDisposition:not':'exp' # TODO: Do this client side for now\n",
    "        })\n",
    "        medication_rxnorm = medication_rxnorm.replace(' ', '')\n",
    "        code = ','.join([f'http://www.nlm.nih.gov/research/umls/rxnorm|{n}' for n in medication_rxnorm.split(',')])\n",
    "        print('rxnorm code', code)\n",
    "        medication_administration_resources = self.client.get_all_resources('MedicationAdministration', {\n",
    "                'status': 'completed',\n",
    "        #         'effective-time': 'ge[Encounter-Start-Date]', # TODO: don't think this is possible via FHIR query\n",
    "                'code': code})\n",
    "        patient_ids = intersection_patient_ids(patient_resources, encounter_resources, medication_administration_resources)\n",
    "        return {\n",
    "            'fhir_base': self.client,\n",
    "            'echo': (age, diagnosis_icd10, medication_rxnorm),\n",
    "            'patient_ids': patient_ids\n",
    "        }"
   ]
  },
  {
   "cell_type": "code",
   "execution_count": null,
   "id": "acf24525",
   "metadata": {},
   "outputs": [],
   "source": [
    "#export\n",
    "def create_app():\n",
    "    app = FastAPI()\n",
    "    app.mount('/static', StaticFiles(directory='static'), name='static')\n",
    "    \n",
    "    @app.get('/api-key-check')\n",
    "    def _api_key_check(x_api_key: str = Header(None)):\n",
    "        \"Validates the `x-api-key` header parameter\"\n",
    "        api_key_check(x_api_key)\n",
    "        return {'x-api-key': x_api_key, 'result': 'OK'}\n",
    "    \n",
    "    @app.options('/cohort_building_search/')\n",
    "    def _translate_options(x_api_key: str = Header(None)):\n",
    "        \"Validate endpoint before invoking the actual POST method\"\n",
    "#         api_key_check(x_api_key)\n",
    "\n",
    "    @app.post('/cohort_building_search/') # , response_model=Dict[str, str]\n",
    "    def _cohort_building_search(payload: CohortBuilderSearchPayload, x_api_key: str=Header(None)):\n",
    "        \"TODO\"\n",
    "#         api_key_check(x_api_key)\n",
    "        print('x_api_key', x_api_key)\n",
    "        print(payload)\n",
    "        cohort_builder = CohortBuilder(payload.fhir_base)\n",
    "        return cohort_builder.search(payload.age, payload.diagnosis_icd10, payload.medication_rxnorm)\n",
    "        \n",
    "    return app"
   ]
  },
  {
   "cell_type": "code",
   "execution_count": null,
   "id": "0fa818a5",
   "metadata": {},
   "outputs": [
    {
     "data": {
      "text/plain": [
       "'{\"fhir_base\":{\"api_base\":\"https://fhir.ggyxlz8lbozu.workload-prod-fhiraas.isccloud.io\",\"use_local_cache\":true,\"request_headers\":{},\"default_params\":{}},\"echo\":[18,\"I20, I21, I22, I23, I24, I25\",\"1116632,613391,32968,687667,153658\"],\"patient_ids\":[\"Patient/a3f4f0ffc5c2fb1a4708452a485d1442\",\"Patient/1bbc2bc53ed277ac09507e6893743410\",\"Patient/00d7dde9ae58163184c3836f01deff61\",\"Patient/6863ac983b0b55455da78f1fdd1288ff\",\"Patient/ff7c22942a1e16167f1b9c44f12aae05\",\"Patient/897dfe86f0b710793927d8034e568ee4\",\"Patient/f7f2e775f7ae3f7a095146cb4deaa497\",\"Patient/51ff4d27ccf78c1d2ff6438175b541c7\",\"Patient/e4c9f85f8b2b9a85b32f7d9a67ea1046\",\"Patient/ceba63b6dcbda783668cf3efeea1d3dd\"]}'"
      ]
     },
     "execution_count": null,
     "metadata": {},
     "output_type": "execute_result"
    }
   ],
   "source": [
    "import requests\n",
    "data = {\n",
    "    'fhir_base': 'https://fhir.ggyxlz8lbozu.workload-prod-fhiraas.isccloud.io', \n",
    "    'age': 18, \n",
    "    'diagnosis_icd10': 'I20, I21, I22, I23, I24, I25', \n",
    "    'medication_rxnorm': '1116632, 613391, 32968, 687667, 153658'}\n",
    "headers = {'x-api-key': 'who-cares'}\n",
    "response = requests.post('http://127.0.0.1:8000/cohort_building_search', json.dumps(data), headers=headers)\n",
    "response.text"
   ]
  },
  {
   "cell_type": "code",
   "execution_count": null,
   "id": "5b29c303",
   "metadata": {},
   "outputs": [
    {
     "name": "stdout",
     "output_type": "stream",
     "text": [
      "Converted 10_main.ipynb.\n"
     ]
    }
   ],
   "source": [
    "#hide\n",
    "from nbdev.export import notebook2script\n",
    "notebook2script('10_main.ipynb')"
   ]
  }
 ],
 "metadata": {
  "kernelspec": {
   "display_name": "Python 3 (ipykernel)",
   "language": "python",
   "name": "python3"
  }
 },
 "nbformat": 4,
 "nbformat_minor": 5
}
